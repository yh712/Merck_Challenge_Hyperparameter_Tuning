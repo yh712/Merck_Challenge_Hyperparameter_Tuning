{
 "cells": [
  {
   "cell_type": "code",
   "execution_count": 99,
   "metadata": {},
   "outputs": [],
   "source": [
    "import pandas as pd\n",
    "import numpy as np\n",
    "import csv\n",
    "import os\n",
    "import xgboost as xgb\n",
    "from sklearn.ensemble import RandomForestRegressor\n",
    "from sklearn.model_selection import cross_val_score, KFold\n",
    "from sklearn.metrics import mean_squared_error\n",
    "import optuna\n",
    "from optuna.samplers import TPESampler, GridSampler, RandomSampler\n",
    "import math\n",
    "import timeit\n",
    "import matplotlib.pyplot as plt"
   ]
  },
  {
   "cell_type": "code",
   "execution_count": 2,
   "metadata": {},
   "outputs": [
    {
     "data": {
      "text/plain": [
       "'/Users/seanhong/Desktop/Curriculum/Merck Project/Code/qsar_results'"
      ]
     },
     "execution_count": 2,
     "metadata": {},
     "output_type": "execute_result"
    }
   ],
   "source": [
    "os.getcwd()"
   ]
  },
  {
   "cell_type": "markdown",
   "metadata": {},
   "source": [
    "# Import testing datasets"
   ]
  },
  {
   "cell_type": "code",
   "execution_count": 26,
   "metadata": {},
   "outputs": [],
   "source": [
    "train_list = []\n",
    "test_list = []\n",
    "# load both train and test datsets\n",
    "for n in range(1, 16):\n",
    "    tr_x_name = 'QSAR_{}_train_x'.format(n)\n",
    "    tr_y_name = 'QSAR_{}_train_y'.format(n)\n",
    "    ts_x_name = 'QSAR_{}_test_x'.format(n)\n",
    "    ts_y_name = 'QSAR_{}_test_y'.format(n)\n",
    "    tr_x = pd.read_csv(\"train_data/\"+tr_x_name+\".csv\")\n",
    "    tr_y = pd.read_csv(\"train_data/\"+tr_y_name+\".csv\")\n",
    "    ts_x = pd.read_csv(\"test_data/\"+ts_x_name+\".csv\")\n",
    "    ts_y = pd.read_csv(\"test_data/\"+ts_y_name+\".csv\")    \n",
    "    train_df = pd.concat([tr_y, tr_x], axis=1)\n",
    "    test_df = pd.concat([ts_y, ts_x], axis=1)\n",
    "    train_list.append(train_df)\n",
    "    test_list.append(test_df)"
   ]
  },
  {
   "cell_type": "code",
   "execution_count": 27,
   "metadata": {},
   "outputs": [
    {
     "name": "stdout",
     "output_type": "stream",
     "text": [
      "Number of training datasets: 15 \n",
      "\n",
      "Number of testing datasets: 15\n"
     ]
    }
   ],
   "source": [
    "num_datasets = len(train_list)\n",
    "print(\"Number of training datasets:\", num_datasets, \"\\n\")\n",
    "num_datasets = len(test_list)\n",
    "print(\"Number of testing datasets:\", num_datasets)"
   ]
  },
  {
   "cell_type": "code",
   "execution_count": 28,
   "metadata": {},
   "outputs": [
    {
     "data": {
      "text/plain": [
       "[(37241, 9178),\n",
       " (8716, 5556),\n",
       " (6148, 5026),\n",
       " (1815, 4187),\n",
       " (3212, 5752),\n",
       " (37388, 8624),\n",
       " (1569, 4373),\n",
       " (9965, 5593),\n",
       " (5351, 4602),\n",
       " (11151, 5463),\n",
       " (6399, 4732),\n",
       " (8651, 4992),\n",
       " (6105, 5526),\n",
       " (4165, 5713),\n",
       " (5059, 5283)]"
      ]
     },
     "execution_count": 28,
     "metadata": {},
     "output_type": "execute_result"
    }
   ],
   "source": [
    "size_list = []\n",
    "for i in range(num_datasets):\n",
    "    size_list.append(train_list[i].shape)\n",
    "size_list"
   ]
  },
  {
   "cell_type": "code",
   "execution_count": 29,
   "metadata": {},
   "outputs": [
    {
     "data": {
      "text/plain": [
       "[(12338, 9178),\n",
       " (2907, 5556),\n",
       " (2045, 5026),\n",
       " (598, 4187),\n",
       " (1072, 5752),\n",
       " (12406, 8624),\n",
       " (523, 4373),\n",
       " (3335, 5593),\n",
       " (1769, 4602),\n",
       " (3704, 5463),\n",
       " (2093, 4732),\n",
       " (2899, 4992),\n",
       " (1707, 5526),\n",
       " (1382, 5713),\n",
       " (1698, 5283)]"
      ]
     },
     "execution_count": 29,
     "metadata": {},
     "output_type": "execute_result"
    }
   ],
   "source": [
    "size_list = []\n",
    "for i in range(num_datasets):\n",
    "    size_list.append(test_list[i].shape)\n",
    "size_list"
   ]
  },
  {
   "cell_type": "markdown",
   "metadata": {},
   "source": [
    "# Import the results"
   ]
  },
  {
   "cell_type": "code",
   "execution_count": 125,
   "metadata": {},
   "outputs": [],
   "source": [
    "# Define the parameter search space\n",
    "dval = {\n",
    "    \"booster\": \"gbtree\",\n",
    "    \"lambda\": 1,\n",
    "    \"alpha\": 0,\n",
    "    \"eta\": 0.3,\n",
    "    \"subsample\": 1,\n",
    "    \"max_depth\": 6,\n",
    "    \"min_child_weight\": 1,\n",
    "    \"colsample_bytree\": 1,\n",
    "    \"colsample_bylevel\": 1\n",
    "}\n",
    "n_boost = 10\n",
    "# Fit the model to each dataset\n",
    "mlist = []\n",
    "for i in range(num_datasets):\n",
    "    bst = xgb.cv(dval, dmat_list[i], num_boost_round=n_boost, nfold=3, metrics='rmse', seed=123, shuffle=True)\n",
    "    mlist.append(bst.iloc[len(bst.index)-1, 2])\n",
    "def_result[\"xgb_rmse\"] = mlist"
   ]
  },
  {
   "cell_type": "code",
   "execution_count": 127,
   "metadata": {},
   "outputs": [
    {
     "data": {
      "text/plain": [
       "rf_rmse     1.965172\n",
       "xgb_rmse    2.156680\n",
       "dtype: float64"
      ]
     },
     "execution_count": 127,
     "metadata": {},
     "output_type": "execute_result"
    }
   ],
   "source": [
    "def_result.mean()"
   ]
  },
  {
   "cell_type": "code",
   "execution_count": 58,
   "metadata": {},
   "outputs": [],
   "source": [
    "# Default results\n",
    "def_result = pd.read_csv(\"def_result.csv\")\n",
    "# Random Forest\n",
    "rf_gs_result = pd.read_csv(\"rf_gs_result.csv\")\n",
    "rf_rs_result = pd.read_csv(\"rf_rs_result.csv\")\n",
    "rf_bo_result = pd.read_csv(\"rf_bo_result.csv\")\n",
    "rf_n_estimators = pd.read_csv(\"rf_n_estimators.csv\")\n",
    "rf_bootstrap = pd.read_csv(\"rf_bootstrap.csv\")\n",
    "rf_max_samples = pd.read_csv(\"rf_max_samples.csv\")\n",
    "rf_max_features = pd.read_csv(\"rf_max_features.csv\")\n",
    "rf_min_samples_leaf = pd.read_csv(\"rf_min_samples_leaf.csv\")\n",
    "# XGBoost\n",
    "xgb_gs_result = pd.read_csv(\"xgb_gs_result.csv\")\n",
    "xgb_rs_result = pd.read_csv(\"xgb_rs_result.csv\")\n",
    "xgb_bo_result = pd.read_csv(\"xgb_bo_result.csv\")\n",
    "xgb_num_boost_round = pd.read_csv(\"xgb_num_boost_round.csv\")\n",
    "xgb_eta = pd.read_csv(\"xgb_eta.csv\")\n",
    "xgb_alpha = pd.read_csv(\"xgb_alpha.csv\")\n",
    "xgb_lambda = pd.read_csv(\"xgb_lambda.csv\")\n",
    "xgb_max_depth = pd.read_csv(\"xgb_max_depth.csv\")\n",
    "xgb_subsample = pd.read_csv(\"xgb_subsample.csv\")\n",
    "xgb_min_child_weight = pd.read_csv(\"xgb_min_child_weight.csv\")\n",
    "xgb_colsample_bylevel = pd.read_csv(\"xgb_colsample_bylevel.csv\")\n",
    "xgb_colsample_bytree = pd.read_csv(\"xgb_colsample_bytree.csv\")"
   ]
  },
  {
   "cell_type": "code",
   "execution_count": 138,
   "metadata": {},
   "outputs": [
    {
     "data": {
      "text/html": [
       "<div>\n",
       "<style scoped>\n",
       "    .dataframe tbody tr th:only-of-type {\n",
       "        vertical-align: middle;\n",
       "    }\n",
       "\n",
       "    .dataframe tbody tr th {\n",
       "        vertical-align: top;\n",
       "    }\n",
       "\n",
       "    .dataframe thead th {\n",
       "        text-align: right;\n",
       "    }\n",
       "</style>\n",
       "<table border=\"1\" class=\"dataframe\">\n",
       "  <thead>\n",
       "    <tr style=\"text-align: right;\">\n",
       "      <th></th>\n",
       "      <th>number</th>\n",
       "      <th>value</th>\n",
       "      <th>datetime_start</th>\n",
       "      <th>datetime_complete</th>\n",
       "      <th>duration</th>\n",
       "      <th>params_bootstrap</th>\n",
       "      <th>params_max_features</th>\n",
       "      <th>params_max_samples</th>\n",
       "      <th>params_min_samples_leaf</th>\n",
       "      <th>params_n_estimators</th>\n",
       "      <th>state</th>\n",
       "    </tr>\n",
       "  </thead>\n",
       "  <tbody>\n",
       "    <tr>\n",
       "      <th>0</th>\n",
       "      <td>0</td>\n",
       "      <td>3.384412</td>\n",
       "      <td>2020-08-15 03:16:25.747238</td>\n",
       "      <td>2020-08-15 03:18:03.851910</td>\n",
       "      <td>0 days 00:01:38.104672000</td>\n",
       "      <td>True</td>\n",
       "      <td>0.3</td>\n",
       "      <td>0.4</td>\n",
       "      <td>0.2</td>\n",
       "      <td>200</td>\n",
       "      <td>COMPLETE</td>\n",
       "    </tr>\n",
       "    <tr>\n",
       "      <th>1</th>\n",
       "      <td>1</td>\n",
       "      <td>2.951360</td>\n",
       "      <td>2020-08-15 03:18:03.856212</td>\n",
       "      <td>2020-08-15 03:49:53.626464</td>\n",
       "      <td>0 days 00:31:49.770252000</td>\n",
       "      <td>False</td>\n",
       "      <td>auto</td>\n",
       "      <td>NaN</td>\n",
       "      <td>0.2</td>\n",
       "      <td>1000</td>\n",
       "      <td>COMPLETE</td>\n",
       "    </tr>\n",
       "    <tr>\n",
       "      <th>2</th>\n",
       "      <td>2</td>\n",
       "      <td>2.628981</td>\n",
       "      <td>2020-08-15 03:49:53.634339</td>\n",
       "      <td>2020-08-15 03:51:53.451311</td>\n",
       "      <td>0 days 00:01:59.816972000</td>\n",
       "      <td>False</td>\n",
       "      <td>auto</td>\n",
       "      <td>NaN</td>\n",
       "      <td>0.1</td>\n",
       "      <td>10</td>\n",
       "      <td>COMPLETE</td>\n",
       "    </tr>\n",
       "    <tr>\n",
       "      <th>3</th>\n",
       "      <td>3</td>\n",
       "      <td>3.112454</td>\n",
       "      <td>2020-08-15 03:51:53.455346</td>\n",
       "      <td>2020-08-15 03:53:47.279572</td>\n",
       "      <td>0 days 00:01:53.824226000</td>\n",
       "      <td>False</td>\n",
       "      <td>auto</td>\n",
       "      <td>NaN</td>\n",
       "      <td>0.4</td>\n",
       "      <td>10</td>\n",
       "      <td>COMPLETE</td>\n",
       "    </tr>\n",
       "    <tr>\n",
       "      <th>4</th>\n",
       "      <td>4</td>\n",
       "      <td>3.384159</td>\n",
       "      <td>2020-08-15 03:53:47.285120</td>\n",
       "      <td>2020-08-15 03:55:40.840200</td>\n",
       "      <td>0 days 00:01:53.555080000</td>\n",
       "      <td>True</td>\n",
       "      <td>0.1</td>\n",
       "      <td>0.2</td>\n",
       "      <td>0.5</td>\n",
       "      <td>400</td>\n",
       "      <td>COMPLETE</td>\n",
       "    </tr>\n",
       "    <tr>\n",
       "      <th>...</th>\n",
       "      <td>...</td>\n",
       "      <td>...</td>\n",
       "      <td>...</td>\n",
       "      <td>...</td>\n",
       "      <td>...</td>\n",
       "      <td>...</td>\n",
       "      <td>...</td>\n",
       "      <td>...</td>\n",
       "      <td>...</td>\n",
       "      <td>...</td>\n",
       "      <td>...</td>\n",
       "    </tr>\n",
       "    <tr>\n",
       "      <th>95</th>\n",
       "      <td>95</td>\n",
       "      <td>3.383807</td>\n",
       "      <td>2020-08-15 11:30:03.879336</td>\n",
       "      <td>2020-08-15 11:31:42.233224</td>\n",
       "      <td>0 days 00:01:38.353888000</td>\n",
       "      <td>True</td>\n",
       "      <td>0.8</td>\n",
       "      <td>0.2</td>\n",
       "      <td>0.4</td>\n",
       "      <td>200</td>\n",
       "      <td>COMPLETE</td>\n",
       "    </tr>\n",
       "    <tr>\n",
       "      <th>96</th>\n",
       "      <td>96</td>\n",
       "      <td>3.112454</td>\n",
       "      <td>2020-08-15 11:31:42.237246</td>\n",
       "      <td>2020-08-15 11:37:53.011664</td>\n",
       "      <td>0 days 00:06:10.774418000</td>\n",
       "      <td>False</td>\n",
       "      <td>auto</td>\n",
       "      <td>NaN</td>\n",
       "      <td>0.4</td>\n",
       "      <td>300</td>\n",
       "      <td>COMPLETE</td>\n",
       "    </tr>\n",
       "    <tr>\n",
       "      <th>97</th>\n",
       "      <td>97</td>\n",
       "      <td>3.384494</td>\n",
       "      <td>2020-08-15 11:37:53.018233</td>\n",
       "      <td>2020-08-15 11:39:47.425960</td>\n",
       "      <td>0 days 00:01:54.407727000</td>\n",
       "      <td>True</td>\n",
       "      <td>0.3</td>\n",
       "      <td>0.2</td>\n",
       "      <td>0.4</td>\n",
       "      <td>600</td>\n",
       "      <td>COMPLETE</td>\n",
       "    </tr>\n",
       "    <tr>\n",
       "      <th>98</th>\n",
       "      <td>98</td>\n",
       "      <td>2.579147</td>\n",
       "      <td>2020-08-15 11:39:47.432622</td>\n",
       "      <td>2020-08-15 12:25:36.738571</td>\n",
       "      <td>0 days 00:45:49.305949000</td>\n",
       "      <td>False</td>\n",
       "      <td>0.9</td>\n",
       "      <td>NaN</td>\n",
       "      <td>0.1</td>\n",
       "      <td>900</td>\n",
       "      <td>COMPLETE</td>\n",
       "    </tr>\n",
       "    <tr>\n",
       "      <th>99</th>\n",
       "      <td>99</td>\n",
       "      <td>3.047033</td>\n",
       "      <td>2020-08-15 12:25:36.744249</td>\n",
       "      <td>2020-08-15 12:30:27.540822</td>\n",
       "      <td>0 days 00:04:50.796573000</td>\n",
       "      <td>False</td>\n",
       "      <td>0.8</td>\n",
       "      <td>NaN</td>\n",
       "      <td>0.3</td>\n",
       "      <td>200</td>\n",
       "      <td>COMPLETE</td>\n",
       "    </tr>\n",
       "  </tbody>\n",
       "</table>\n",
       "<p>100 rows × 11 columns</p>\n",
       "</div>"
      ],
      "text/plain": [
       "    number     value              datetime_start           datetime_complete  \\\n",
       "0        0  3.384412  2020-08-15 03:16:25.747238  2020-08-15 03:18:03.851910   \n",
       "1        1  2.951360  2020-08-15 03:18:03.856212  2020-08-15 03:49:53.626464   \n",
       "2        2  2.628981  2020-08-15 03:49:53.634339  2020-08-15 03:51:53.451311   \n",
       "3        3  3.112454  2020-08-15 03:51:53.455346  2020-08-15 03:53:47.279572   \n",
       "4        4  3.384159  2020-08-15 03:53:47.285120  2020-08-15 03:55:40.840200   \n",
       "..     ...       ...                         ...                         ...   \n",
       "95      95  3.383807  2020-08-15 11:30:03.879336  2020-08-15 11:31:42.233224   \n",
       "96      96  3.112454  2020-08-15 11:31:42.237246  2020-08-15 11:37:53.011664   \n",
       "97      97  3.384494  2020-08-15 11:37:53.018233  2020-08-15 11:39:47.425960   \n",
       "98      98  2.579147  2020-08-15 11:39:47.432622  2020-08-15 12:25:36.738571   \n",
       "99      99  3.047033  2020-08-15 12:25:36.744249  2020-08-15 12:30:27.540822   \n",
       "\n",
       "                     duration  params_bootstrap params_max_features  \\\n",
       "0   0 days 00:01:38.104672000              True                 0.3   \n",
       "1   0 days 00:31:49.770252000             False                auto   \n",
       "2   0 days 00:01:59.816972000             False                auto   \n",
       "3   0 days 00:01:53.824226000             False                auto   \n",
       "4   0 days 00:01:53.555080000              True                 0.1   \n",
       "..                        ...               ...                 ...   \n",
       "95  0 days 00:01:38.353888000              True                 0.8   \n",
       "96  0 days 00:06:10.774418000             False                auto   \n",
       "97  0 days 00:01:54.407727000              True                 0.3   \n",
       "98  0 days 00:45:49.305949000             False                 0.9   \n",
       "99  0 days 00:04:50.796573000             False                 0.8   \n",
       "\n",
       "    params_max_samples  params_min_samples_leaf  params_n_estimators     state  \n",
       "0                  0.4                      0.2                  200  COMPLETE  \n",
       "1                  NaN                      0.2                 1000  COMPLETE  \n",
       "2                  NaN                      0.1                   10  COMPLETE  \n",
       "3                  NaN                      0.4                   10  COMPLETE  \n",
       "4                  0.2                      0.5                  400  COMPLETE  \n",
       "..                 ...                      ...                  ...       ...  \n",
       "95                 0.2                      0.4                  200  COMPLETE  \n",
       "96                 NaN                      0.4                  300  COMPLETE  \n",
       "97                 0.2                      0.4                  600  COMPLETE  \n",
       "98                 NaN                      0.1                  900  COMPLETE  \n",
       "99                 NaN                      0.3                  200  COMPLETE  \n",
       "\n",
       "[100 rows x 11 columns]"
      ]
     },
     "execution_count": 138,
     "metadata": {},
     "output_type": "execute_result"
    }
   ],
   "source": [
    "rf_rs_result"
   ]
  },
  {
   "cell_type": "code",
   "execution_count": 141,
   "metadata": {},
   "outputs": [],
   "source": [
    "# Select first half (50) of rows of rf_rs_result\n",
    "rf_rs_result = rf_rs_result.iloc[0:50,:]"
   ]
  },
  {
   "cell_type": "code",
   "execution_count": 134,
   "metadata": {},
   "outputs": [
    {
     "data": {
      "text/plain": [
       "number                                                                       8\n",
       "value                                                                  1.94421\n",
       "datetime_start                                      2020-08-10 21:17:40.298985\n",
       "datetime_complete                                   2020-08-10 22:29:22.517698\n",
       "duration                                             0 days 01:11:42.218713000\n",
       "params_num_boost_round                                                     100\n",
       "system_attrs_grid_id                                                        10\n",
       "system_attrs_search_space    OrderedDict([('num_boost_round', [1, 10, 20, 3...\n",
       "state                                                                 COMPLETE\n",
       "Name: 8, dtype: object"
      ]
     },
     "execution_count": 134,
     "metadata": {},
     "output_type": "execute_result"
    }
   ],
   "source": [
    "idx_min = xgb_num_boost_round[\"value\"].idxmin\n",
    "xgb_num_boost_round.iloc[idx_min,:]"
   ]
  },
  {
   "cell_type": "markdown",
   "metadata": {},
   "source": [
    "# Evaluation function"
   ]
  },
  {
   "cell_type": "code",
   "execution_count": 34,
   "metadata": {},
   "outputs": [],
   "source": [
    "def rmse_eval(mod):\n",
    "    rlist = []\n",
    "    for i in range(num_datasets):\n",
    "        num_col = train_list[i].shape[1]\n",
    "        x = train_list[i].iloc[:,1:num_col]\n",
    "        y = train_list[i].iloc[:,0:1].values.ravel()\n",
    "        xtest = test_list[i].iloc[:,1:num_col]\n",
    "        ytest = test_list[i].iloc[:,0:1].values.ravel()\n",
    "        mod.fit(x,y)\n",
    "        pred = mod.predict(xtest)\n",
    "        rmse = np.sqrt(mean_squared_error(ytest, pred))\n",
    "        rlist.append(rmse)\n",
    "    rmse_mean = sum(rlist)/len(rlist)\n",
    "    return rmse_mean"
   ]
  },
  {
   "cell_type": "markdown",
   "metadata": {},
   "source": [
    "# Default results"
   ]
  },
  {
   "cell_type": "markdown",
   "metadata": {},
   "source": [
    "## - Random Forest (min_samples_leaf = 0.1)"
   ]
  },
  {
   "cell_type": "code",
   "execution_count": 35,
   "metadata": {},
   "outputs": [
    {
     "name": "stdout",
     "output_type": "stream",
     "text": [
      "RMSE of Random Forest using default values:  3.2153414502944813\n"
     ]
    }
   ],
   "source": [
    "dval = {\n",
    "    'n_estimators': 100, # \"num.trees\": 500 / \"n_estimators\": 100\n",
    "    'criterion': 'mse',\n",
    "    'bootstrap': True, # replace\n",
    "    'max_samples': None, # sample.fraction\n",
    "    'max_features': 'sqrt', ### \"mtry\": \"sqrt\" / \"max_features\": \"auto\" ###\n",
    "    'min_samples_leaf': 0.1, # \"min.node.size\" default: 5 / \"min_samples_leaf\": 1\n",
    "    'n_jobs': -1}\n",
    "mod = RandomForestRegressor(**dval)\n",
    "rf_rmse_dval = rmse_eval(mod)\n",
    "print(\"RMSE of Random Forest using default values: \", rf_rmse_dval)"
   ]
  },
  {
   "cell_type": "markdown",
   "metadata": {},
   "source": [
    "## - XGBoost"
   ]
  },
  {
   "cell_type": "code",
   "execution_count": 36,
   "metadata": {},
   "outputs": [
    {
     "name": "stdout",
     "output_type": "stream",
     "text": [
      "RMSE of XGBoost using default values:  2.5955414367260357\n"
     ]
    }
   ],
   "source": [
    "dval = {\n",
    "    \"n_estimators\": 10,\n",
    "    \"booster\": \"gbtree\",\n",
    "    \"lambda\": 1,\n",
    "    \"alpha\": 0,\n",
    "    \"eta\": 0.3,\n",
    "    \"subsample\": 1,\n",
    "    \"max_depth\": 6,\n",
    "    \"min_child_weight\": 1,\n",
    "    \"colsample_bytree\": 1,\n",
    "    \"colsample_bylevel\": 1\n",
    "}\n",
    "mod = xgb.XGBRegressor(**dval)\n",
    "xgb_rmse_dval = rmse_eval(mod)\n",
    "print(\"RMSE of XGBoost using default values: \", xgb_rmse_dval)"
   ]
  },
  {
   "cell_type": "markdown",
   "metadata": {},
   "source": [
    "# Grid Search"
   ]
  },
  {
   "cell_type": "markdown",
   "metadata": {},
   "source": [
    "## GS - Random Forest"
   ]
  },
  {
   "cell_type": "code",
   "execution_count": 40,
   "metadata": {},
   "outputs": [
    {
     "data": {
      "text/plain": [
       "number                                                                      56\n",
       "value                                                                  2.57515\n",
       "datetime_start                                      2020-08-19 07:16:40.524520\n",
       "datetime_complete                                   2020-08-19 07:36:45.741477\n",
       "duration                                             0 days 00:20:05.216957000\n",
       "params_bootstrap                                                          True\n",
       "params_max_features                                                       auto\n",
       "params_max_samples                                                        0.99\n",
       "params_min_samples_leaf                                                    0.1\n",
       "params_n_estimators                                                        700\n",
       "system_attrs_grid_id                                                       148\n",
       "system_attrs_search_space    OrderedDict([('bootstrap', [False, True]), ('m...\n",
       "state                                                                 COMPLETE\n",
       "Name: 56, dtype: object"
      ]
     },
     "execution_count": 40,
     "metadata": {},
     "output_type": "execute_result"
    }
   ],
   "source": [
    "idx_min = rf_gs_result[\"value\"].idxmin\n",
    "rf_gs_result.iloc[idx_min,:]"
   ]
  },
  {
   "cell_type": "code",
   "execution_count": 37,
   "metadata": {},
   "outputs": [
    {
     "name": "stdout",
     "output_type": "stream",
     "text": [
      "RMSE of Random Forest using Grid Search:  2.9469948187159405\n"
     ]
    }
   ],
   "source": [
    "dval = {\n",
    "    'n_estimators': 700, # \"num.trees\": 500 / \"n_estimators\": 100\n",
    "    'criterion': 'mse',\n",
    "    'bootstrap': True, # replace\n",
    "    'max_samples': 0.99, # sample.fraction\n",
    "    'max_features': 'auto', ### \"mtry\": \"sqrt\" / \"max_features\": \"auto\" ###\n",
    "    'min_samples_leaf': 0.1, # \"min.node.size\" default: 5 / \"min_samples_leaf\": 1\n",
    "    'n_jobs': -1}\n",
    "mod = RandomForestRegressor(**dval)\n",
    "rf_rmse_gs = rmse_eval(mod)\n",
    "print(\"RMSE of Random Forest using Grid Search: \", rf_rmse_gs)"
   ]
  },
  {
   "cell_type": "markdown",
   "metadata": {},
   "source": [
    "## GS - XGBoost"
   ]
  },
  {
   "cell_type": "code",
   "execution_count": 41,
   "metadata": {},
   "outputs": [
    {
     "data": {
      "text/plain": [
       "number                                                                      62\n",
       "value                                                                  2.03679\n",
       "datetime_start                                      2020-08-20 05:10:58.278545\n",
       "datetime_complete                                   2020-08-20 05:19:38.329354\n",
       "duration                                             0 days 00:08:40.050809000\n",
       "params_eta                                                                 0.3\n",
       "params_max_depth                                                            15\n",
       "params_min_child_weight                                                     16\n",
       "system_attrs_grid_id                                                        33\n",
       "system_attrs_search_space    OrderedDict([('eta', [0.1, 0.2, 0.3, 0.4, 0.5,...\n",
       "state                                                                 COMPLETE\n",
       "Name: 62, dtype: object"
      ]
     },
     "execution_count": 41,
     "metadata": {},
     "output_type": "execute_result"
    }
   ],
   "source": [
    "idx_min = xgb_gs_result[\"value\"].idxmin\n",
    "xgb_gs_result.iloc[idx_min,:]"
   ]
  },
  {
   "cell_type": "code",
   "execution_count": 38,
   "metadata": {},
   "outputs": [
    {
     "name": "stdout",
     "output_type": "stream",
     "text": [
      "RMSE of XGBoost using Grid Search:  2.5526594652014514\n"
     ]
    }
   ],
   "source": [
    "dval = {\n",
    "    \"n_estimators\": 10,\n",
    "    \"booster\": \"gbtree\",\n",
    "    \"lambda\": 1,\n",
    "    \"alpha\": 0,\n",
    "    \"eta\": 0.3,\n",
    "    \"subsample\": 1,\n",
    "    \"max_depth\": 15,\n",
    "    \"min_child_weight\": 16,\n",
    "    \"colsample_bytree\": 1,\n",
    "    \"colsample_bylevel\": 1\n",
    "}\n",
    "mod = xgb.XGBRegressor(**dval)\n",
    "xgb_rmse_gs = rmse_eval(mod)\n",
    "print(\"RMSE of XGBoost using Grid Search: \", xgb_rmse_gs)"
   ]
  },
  {
   "cell_type": "markdown",
   "metadata": {},
   "source": [
    "# Random Search"
   ]
  },
  {
   "cell_type": "markdown",
   "metadata": {},
   "source": [
    "## RS - Random Forest"
   ]
  },
  {
   "cell_type": "code",
   "execution_count": 142,
   "metadata": {},
   "outputs": [
    {
     "data": {
      "text/plain": [
       "number                                             31\n",
       "value                                         2.52189\n",
       "datetime_start             2020-08-15 05:42:24.029562\n",
       "datetime_complete          2020-08-15 05:46:22.031993\n",
       "duration                    0 days 00:03:58.002431000\n",
       "params_bootstrap                                False\n",
       "params_max_features                               0.1\n",
       "params_max_samples                                NaN\n",
       "params_min_samples_leaf                           0.1\n",
       "params_n_estimators                               400\n",
       "state                                        COMPLETE\n",
       "Name: 31, dtype: object"
      ]
     },
     "execution_count": 142,
     "metadata": {},
     "output_type": "execute_result"
    }
   ],
   "source": [
    "idx_min = rf_rs_result[\"value\"].idxmin\n",
    "rf_rs_result.iloc[idx_min,:]"
   ]
  },
  {
   "cell_type": "code",
   "execution_count": 143,
   "metadata": {},
   "outputs": [
    {
     "name": "stdout",
     "output_type": "stream",
     "text": [
      "RMSE of Random Forest using Random Search:  2.8782441989530048\n"
     ]
    }
   ],
   "source": [
    "dval = {\n",
    "    'n_estimators': 400, # \"num.trees\": 500 / \"n_estimators\": 100\n",
    "    'criterion': 'mse',\n",
    "    'bootstrap': False, # replace\n",
    "    'max_features': 0.1, ### \"mtry\": \"sqrt\" / \"max_features\": \"auto\" ###\n",
    "    'min_samples_leaf': 0.1, # \"min.node.size\" default: 5 / \"min_samples_leaf\": 1\n",
    "    'n_jobs': -1}\n",
    "mod = RandomForestRegressor(**dval)\n",
    "rf_rmse_rs = rmse_eval(mod)\n",
    "print(\"RMSE of Random Forest using Random Search: \", rf_rmse_rs)"
   ]
  },
  {
   "cell_type": "markdown",
   "metadata": {},
   "source": [
    "## RS - XGBoost"
   ]
  },
  {
   "cell_type": "code",
   "execution_count": 43,
   "metadata": {},
   "outputs": [
    {
     "data": {
      "text/plain": [
       "number                                              22\n",
       "value                                          1.95176\n",
       "datetime_start              2020-08-18 16:29:44.287506\n",
       "datetime_complete           2020-08-18 16:53:03.435307\n",
       "duration                     0 days 00:23:19.147801000\n",
       "params_alpha                                  0.015625\n",
       "params_colsample_bylevel                           0.6\n",
       "params_colsample_bytree                            0.9\n",
       "params_eta                                         0.1\n",
       "params_lambda                               0.00195312\n",
       "params_max_depth                                     7\n",
       "params_min_child_weight                              8\n",
       "params_num_boost_round                              60\n",
       "params_subsample                                   0.7\n",
       "state                                         COMPLETE\n",
       "Name: 22, dtype: object"
      ]
     },
     "execution_count": 43,
     "metadata": {},
     "output_type": "execute_result"
    }
   ],
   "source": [
    "idx_min = xgb_rs_result[\"value\"].idxmin\n",
    "xgb_rs_result.iloc[idx_min,:]"
   ]
  },
  {
   "cell_type": "code",
   "execution_count": 47,
   "metadata": {},
   "outputs": [
    {
     "name": "stdout",
     "output_type": "stream",
     "text": [
      "RMSE of XGBoost using Random Search:  2.3937666366201777\n"
     ]
    }
   ],
   "source": [
    "dval = {\n",
    "    \"n_estimators\": 60,\n",
    "    \"booster\": \"gbtree\",\n",
    "    \"lambda\": 0.00195312,\n",
    "    \"alpha\": 0,\n",
    "    \"eta\": 0.1,\n",
    "    \"subsample\": 0.7,\n",
    "    \"max_depth\": 7,\n",
    "    \"min_child_weight\": 8,\n",
    "    \"colsample_bytree\": 0.9,\n",
    "    \"colsample_bylevel\": 0.6\n",
    "}\n",
    "mod = xgb.XGBRegressor(**dval)\n",
    "xgb_rmse_rs = rmse_eval(mod)\n",
    "print(\"RMSE of XGBoost using Random Search: \", xgb_rmse_rs)"
   ]
  },
  {
   "cell_type": "markdown",
   "metadata": {},
   "source": [
    "# Bayesian Optimization"
   ]
  },
  {
   "cell_type": "markdown",
   "metadata": {},
   "source": [
    "## BO - Random Forest"
   ]
  },
  {
   "cell_type": "code",
   "execution_count": 44,
   "metadata": {},
   "outputs": [
    {
     "data": {
      "text/plain": [
       "number                                             21\n",
       "value                                         2.48504\n",
       "datetime_start             2020-08-14 20:56:28.528580\n",
       "datetime_complete          2020-08-14 21:13:08.490926\n",
       "duration                    0 days 00:16:39.962346000\n",
       "params_bootstrap                                False\n",
       "params_max_features                               0.3\n",
       "params_max_samples                                NaN\n",
       "params_min_samples_leaf                           0.1\n",
       "params_n_estimators                               900\n",
       "state                                        COMPLETE\n",
       "Name: 21, dtype: object"
      ]
     },
     "execution_count": 44,
     "metadata": {},
     "output_type": "execute_result"
    }
   ],
   "source": [
    "idx_min = rf_bo_result[\"value\"].idxmin\n",
    "rf_bo_result.iloc[idx_min,:]"
   ]
  },
  {
   "cell_type": "code",
   "execution_count": 48,
   "metadata": {},
   "outputs": [
    {
     "name": "stdout",
     "output_type": "stream",
     "text": [
      "RMSE of Random Forest using Bayesian Optimization:  2.86651010002624\n"
     ]
    }
   ],
   "source": [
    "dval = {\n",
    "    'n_estimators': 900, # \"num.trees\": 500 / \"n_estimators\": 100\n",
    "    'criterion': 'mse',\n",
    "    'bootstrap': False, # replace\n",
    "    'max_features': 0.3, ### \"mtry\": \"sqrt\" / \"max_features\": \"auto\" ###\n",
    "    'min_samples_leaf': 0.1, # \"min.node.size\" default: 5 / \"min_samples_leaf\": 1\n",
    "    'n_jobs': -1}\n",
    "mod = RandomForestRegressor(**dval)\n",
    "rf_rmse_bo = rmse_eval(mod)\n",
    "print(\"RMSE of Random Forest using Bayesian Optimization: \", rf_rmse_bo)"
   ]
  },
  {
   "cell_type": "markdown",
   "metadata": {},
   "source": [
    "## BO - XGBoost"
   ]
  },
  {
   "cell_type": "code",
   "execution_count": 45,
   "metadata": {},
   "outputs": [
    {
     "data": {
      "text/plain": [
       "number                                              38\n",
       "value                                          1.90901\n",
       "datetime_start              2020-08-17 13:09:08.468815\n",
       "datetime_complete           2020-08-17 14:11:51.776328\n",
       "duration                     0 days 01:02:43.307513000\n",
       "params_alpha                                   0.03125\n",
       "params_colsample_bylevel                           0.8\n",
       "params_colsample_bytree                              1\n",
       "params_eta                                         0.1\n",
       "params_lambda                                       16\n",
       "params_max_depth                                    11\n",
       "params_min_child_weight                              4\n",
       "params_num_boost_round                              80\n",
       "params_subsample                                   0.7\n",
       "state                                         COMPLETE\n",
       "Name: 38, dtype: object"
      ]
     },
     "execution_count": 45,
     "metadata": {},
     "output_type": "execute_result"
    }
   ],
   "source": [
    "idx_min = xgb_bo_result[\"value\"].idxmin\n",
    "xgb_bo_result.iloc[idx_min,:]"
   ]
  },
  {
   "cell_type": "code",
   "execution_count": 49,
   "metadata": {},
   "outputs": [
    {
     "name": "stdout",
     "output_type": "stream",
     "text": [
      "RMSE of XGBoost using Bayesian Optimization:  2.4705470760797956\n"
     ]
    }
   ],
   "source": [
    "dval = {\n",
    "    \"n_estimators\": 80,\n",
    "    \"booster\": \"gbtree\",\n",
    "    \"lambda\": 16,\n",
    "    \"alpha\": 0.03125,\n",
    "    \"eta\": 0.1,\n",
    "    \"subsample\": 0.7,\n",
    "    \"max_depth\": 11,\n",
    "    \"min_child_weight\": 4,\n",
    "    \"colsample_bytree\": 1,\n",
    "    \"colsample_bylevel\": 0.8\n",
    "}\n",
    "mod = xgb.XGBRegressor(**dval)\n",
    "xgb_rmse_bo = rmse_eval(mod)\n",
    "print(\"RMSE of XGBoost using Bayesian Optimization: \", xgb_rmse_bo)"
   ]
  },
  {
   "cell_type": "markdown",
   "metadata": {},
   "source": [
    "## Improvement Rate"
   ]
  },
  {
   "cell_type": "code",
   "execution_count": 144,
   "metadata": {},
   "outputs": [
    {
     "name": "stdout",
     "output_type": "stream",
     "text": [
      "0.08345820676493437 \n",
      "\n",
      "0.10484026550604851 \n",
      "\n",
      "0.10848967540797044 \n",
      "\n",
      "0.016521397392397153 \n",
      "\n",
      "0.07773900167834447 \n",
      "\n",
      "0.04815733583660503 \n",
      "\n"
     ]
    }
   ],
   "source": [
    "rfres = [rf_rmse_gs, rf_rmse_rs, rf_rmse_bo]\n",
    "xgbres = [xgb_rmse_gs, xgb_rmse_rs, xgb_rmse_bo]\n",
    "for res in rfres:\n",
    "    val = abs(res - rf_rmse_dval)/rf_rmse_dval\n",
    "    print(val, \"\\n\")\n",
    "for res in xgbres:\n",
    "    val = abs(res - xgb_rmse_dval)/xgb_rmse_dval\n",
    "    print(val, \"\\n\")"
   ]
  },
  {
   "cell_type": "markdown",
   "metadata": {},
   "source": [
    "# Tune One"
   ]
  },
  {
   "cell_type": "markdown",
   "metadata": {},
   "source": [
    "## - Random Forest"
   ]
  },
  {
   "cell_type": "code",
   "execution_count": 59,
   "metadata": {},
   "outputs": [],
   "source": [
    "def tune_rf(param):\n",
    "    mlist = []\n",
    "    mod = RandomForestRegressor(**param)\n",
    "    for i in range(num_datasets):\n",
    "        num_col = train_list[i].shape[1]\n",
    "        yvec = train_list[i].iloc[:,0:1].values.ravel()\n",
    "        rmse = cross_val_score(mod, train_list[i].iloc[:,1:num_col], yvec, scoring=\"neg_root_mean_squared_error\", \n",
    "                               cv=KFold(n_splits=3, shuffle=True, random_state=123), n_jobs=-1)\n",
    "        mlist.append(abs(rmse).mean())\n",
    "    return mlist"
   ]
  },
  {
   "cell_type": "code",
   "execution_count": 60,
   "metadata": {},
   "outputs": [],
   "source": [
    "# n_estimators\n",
    "target = rf_n_estimators\n",
    "best = target[\"value\"].idxmin()\n",
    "param = {'n_estimators': target.iloc[best,:][5],\n",
    "         'criterion': 'mse',\n",
    "         'bootstrap': True,\n",
    "         'max_samples': None,\n",
    "         'max_features': 'sqrt',\n",
    "         'min_samples_leaf': 1}\n",
    "rf_tune_one = pd.DataFrame(columns=['n_estimators'])\n",
    "rf_tune_one['n_estimators'] = tune_rf(param)"
   ]
  },
  {
   "cell_type": "code",
   "execution_count": 66,
   "metadata": {},
   "outputs": [],
   "source": [
    "# bootstrap\n",
    "target = rf_bootstrap\n",
    "best = target[\"value\"].idxmin()\n",
    "val = target.iloc[best,:][5]\n",
    "param = {'n_estimators': 100,\n",
    "         'criterion': 'mse',\n",
    "         'bootstrap': val,\n",
    "         'max_samples': None,\n",
    "         'max_features': 'sqrt',\n",
    "         'min_samples_leaf': 1}\n",
    "rf_tune_one['bootstrap'] = tune_rf(param)"
   ]
  },
  {
   "cell_type": "code",
   "execution_count": 69,
   "metadata": {},
   "outputs": [],
   "source": [
    "# max_samples\n",
    "target = rf_max_samples\n",
    "best = target[\"value\"].idxmin()\n",
    "val = target.iloc[best,:][5]\n",
    "param = {'n_estimators': 100,\n",
    "         'criterion': 'mse',\n",
    "         'bootstrap': True,\n",
    "         'max_samples': val,\n",
    "         'max_features': 'sqrt',\n",
    "         'min_samples_leaf': 1}\n",
    "rf_tune_one['max_samples'] = tune_rf(param)"
   ]
  },
  {
   "cell_type": "code",
   "execution_count": 77,
   "metadata": {},
   "outputs": [],
   "source": [
    "# max_features\n",
    "target = rf_max_features\n",
    "best = target[\"value\"].idxmin()\n",
    "val = float(target.iloc[best,:][5])\n",
    "param = {'n_estimators': 100,\n",
    "         'criterion': 'mse',\n",
    "         'bootstrap': True,\n",
    "         'max_samples': None,\n",
    "         'max_features': val,\n",
    "         'min_samples_leaf': 1}\n",
    "rf_tune_one['max_features'] = tune_rf(param)"
   ]
  },
  {
   "cell_type": "code",
   "execution_count": 71,
   "metadata": {},
   "outputs": [],
   "source": [
    "# min_samples_leaf\n",
    "target = rf_min_samples_leaf\n",
    "best = target[\"value\"].idxmin()\n",
    "val = target.iloc[best,:][5]\n",
    "param = {'n_estimators': 100,\n",
    "         'criterion': 'mse',\n",
    "         'bootstrap': True,\n",
    "         'max_samples': None,\n",
    "         'max_features': 'sqrt',\n",
    "         'min_samples_leaf': int(val)}\n",
    "rf_tune_one['min_samples_leaf'] = tune_rf(param)"
   ]
  },
  {
   "cell_type": "code",
   "execution_count": 73,
   "metadata": {},
   "outputs": [],
   "source": [
    "rf_tune_one.insert(0, column='default', value=def_result.iloc[:,0])"
   ]
  },
  {
   "cell_type": "code",
   "execution_count": 78,
   "metadata": {},
   "outputs": [
    {
     "data": {
      "text/html": [
       "<div>\n",
       "<style scoped>\n",
       "    .dataframe tbody tr th:only-of-type {\n",
       "        vertical-align: middle;\n",
       "    }\n",
       "\n",
       "    .dataframe tbody tr th {\n",
       "        vertical-align: top;\n",
       "    }\n",
       "\n",
       "    .dataframe thead th {\n",
       "        text-align: right;\n",
       "    }\n",
       "</style>\n",
       "<table border=\"1\" class=\"dataframe\">\n",
       "  <thead>\n",
       "    <tr style=\"text-align: right;\">\n",
       "      <th></th>\n",
       "      <th>default</th>\n",
       "      <th>n_estimators</th>\n",
       "      <th>bootstrap</th>\n",
       "      <th>max_samples</th>\n",
       "      <th>max_features</th>\n",
       "      <th>min_samples_leaf</th>\n",
       "    </tr>\n",
       "  </thead>\n",
       "  <tbody>\n",
       "    <tr>\n",
       "      <th>0</th>\n",
       "      <td>0.390391</td>\n",
       "      <td>0.387224</td>\n",
       "      <td>0.380723</td>\n",
       "      <td>0.389568</td>\n",
       "      <td>0.373538</td>\n",
       "      <td>0.389131</td>\n",
       "    </tr>\n",
       "    <tr>\n",
       "      <th>1</th>\n",
       "      <td>0.678829</td>\n",
       "      <td>0.675154</td>\n",
       "      <td>0.700690</td>\n",
       "      <td>0.680418</td>\n",
       "      <td>0.680104</td>\n",
       "      <td>0.678945</td>\n",
       "    </tr>\n",
       "    <tr>\n",
       "      <th>2</th>\n",
       "      <td>0.721050</td>\n",
       "      <td>0.715378</td>\n",
       "      <td>0.745299</td>\n",
       "      <td>0.721745</td>\n",
       "      <td>0.704912</td>\n",
       "      <td>0.718545</td>\n",
       "    </tr>\n",
       "    <tr>\n",
       "      <th>3</th>\n",
       "      <td>0.349083</td>\n",
       "      <td>0.345848</td>\n",
       "      <td>0.348100</td>\n",
       "      <td>0.347393</td>\n",
       "      <td>0.348896</td>\n",
       "      <td>0.346357</td>\n",
       "    </tr>\n",
       "    <tr>\n",
       "      <th>4</th>\n",
       "      <td>0.909799</td>\n",
       "      <td>0.906786</td>\n",
       "      <td>0.928372</td>\n",
       "      <td>0.910100</td>\n",
       "      <td>0.907064</td>\n",
       "      <td>0.912639</td>\n",
       "    </tr>\n",
       "    <tr>\n",
       "      <th>5</th>\n",
       "      <td>0.642994</td>\n",
       "      <td>0.636517</td>\n",
       "      <td>0.614889</td>\n",
       "      <td>0.642455</td>\n",
       "      <td>0.589625</td>\n",
       "      <td>0.643310</td>\n",
       "    </tr>\n",
       "    <tr>\n",
       "      <th>6</th>\n",
       "      <td>21.283284</td>\n",
       "      <td>21.155461</td>\n",
       "      <td>20.606792</td>\n",
       "      <td>21.109528</td>\n",
       "      <td>20.867315</td>\n",
       "      <td>21.261020</td>\n",
       "    </tr>\n",
       "    <tr>\n",
       "      <th>7</th>\n",
       "      <td>0.664494</td>\n",
       "      <td>0.660023</td>\n",
       "      <td>0.678933</td>\n",
       "      <td>0.662573</td>\n",
       "      <td>0.663837</td>\n",
       "      <td>0.663805</td>\n",
       "    </tr>\n",
       "    <tr>\n",
       "      <th>8</th>\n",
       "      <td>0.611572</td>\n",
       "      <td>0.608104</td>\n",
       "      <td>0.605842</td>\n",
       "      <td>0.611818</td>\n",
       "      <td>0.611526</td>\n",
       "      <td>0.612798</td>\n",
       "    </tr>\n",
       "    <tr>\n",
       "      <th>9</th>\n",
       "      <td>0.733696</td>\n",
       "      <td>0.728855</td>\n",
       "      <td>0.718850</td>\n",
       "      <td>0.733239</td>\n",
       "      <td>0.729696</td>\n",
       "      <td>0.734603</td>\n",
       "    </tr>\n",
       "    <tr>\n",
       "      <th>10</th>\n",
       "      <td>0.337309</td>\n",
       "      <td>0.334874</td>\n",
       "      <td>0.330867</td>\n",
       "      <td>0.336563</td>\n",
       "      <td>0.329105</td>\n",
       "      <td>0.337763</td>\n",
       "    </tr>\n",
       "    <tr>\n",
       "      <th>11</th>\n",
       "      <td>0.444959</td>\n",
       "      <td>0.443772</td>\n",
       "      <td>0.436625</td>\n",
       "      <td>0.446649</td>\n",
       "      <td>0.434187</td>\n",
       "      <td>0.446306</td>\n",
       "    </tr>\n",
       "    <tr>\n",
       "      <th>12</th>\n",
       "      <td>0.418156</td>\n",
       "      <td>0.415803</td>\n",
       "      <td>0.416686</td>\n",
       "      <td>0.417968</td>\n",
       "      <td>0.415763</td>\n",
       "      <td>0.417705</td>\n",
       "    </tr>\n",
       "    <tr>\n",
       "      <th>13</th>\n",
       "      <td>0.350304</td>\n",
       "      <td>0.349229</td>\n",
       "      <td>0.346488</td>\n",
       "      <td>0.351561</td>\n",
       "      <td>0.344720</td>\n",
       "      <td>0.351694</td>\n",
       "    </tr>\n",
       "    <tr>\n",
       "      <th>14</th>\n",
       "      <td>0.941653</td>\n",
       "      <td>0.933988</td>\n",
       "      <td>0.918060</td>\n",
       "      <td>0.939198</td>\n",
       "      <td>0.924166</td>\n",
       "      <td>0.937325</td>\n",
       "    </tr>\n",
       "  </tbody>\n",
       "</table>\n",
       "</div>"
      ],
      "text/plain": [
       "      default  n_estimators  bootstrap  max_samples  max_features  \\\n",
       "0    0.390391      0.387224   0.380723     0.389568      0.373538   \n",
       "1    0.678829      0.675154   0.700690     0.680418      0.680104   \n",
       "2    0.721050      0.715378   0.745299     0.721745      0.704912   \n",
       "3    0.349083      0.345848   0.348100     0.347393      0.348896   \n",
       "4    0.909799      0.906786   0.928372     0.910100      0.907064   \n",
       "5    0.642994      0.636517   0.614889     0.642455      0.589625   \n",
       "6   21.283284     21.155461  20.606792    21.109528     20.867315   \n",
       "7    0.664494      0.660023   0.678933     0.662573      0.663837   \n",
       "8    0.611572      0.608104   0.605842     0.611818      0.611526   \n",
       "9    0.733696      0.728855   0.718850     0.733239      0.729696   \n",
       "10   0.337309      0.334874   0.330867     0.336563      0.329105   \n",
       "11   0.444959      0.443772   0.436625     0.446649      0.434187   \n",
       "12   0.418156      0.415803   0.416686     0.417968      0.415763   \n",
       "13   0.350304      0.349229   0.346488     0.351561      0.344720   \n",
       "14   0.941653      0.933988   0.918060     0.939198      0.924166   \n",
       "\n",
       "    min_samples_leaf  \n",
       "0           0.389131  \n",
       "1           0.678945  \n",
       "2           0.718545  \n",
       "3           0.346357  \n",
       "4           0.912639  \n",
       "5           0.643310  \n",
       "6          21.261020  \n",
       "7           0.663805  \n",
       "8           0.612798  \n",
       "9           0.734603  \n",
       "10          0.337763  \n",
       "11          0.446306  \n",
       "12          0.417705  \n",
       "13          0.351694  \n",
       "14          0.937325  "
      ]
     },
     "execution_count": 78,
     "metadata": {},
     "output_type": "execute_result"
    }
   ],
   "source": [
    "rf_tune_one"
   ]
  },
  {
   "cell_type": "code",
   "execution_count": 93,
   "metadata": {},
   "outputs": [],
   "source": [
    "rf_tune_one.to_csv(\"rf_tune_one.csv\", index=False)"
   ]
  },
  {
   "cell_type": "code",
   "execution_count": 115,
   "metadata": {},
   "outputs": [
    {
     "name": "stdout",
     "output_type": "stream",
     "text": [
      "Mean of rmse:\n",
      " default             1.965172\n",
      "n_estimators        1.953134\n",
      "bootstrap           1.918481\n",
      "max_samples         1.953385\n",
      "max_features        1.928297\n",
      "min_samples_leaf    1.963463\n",
      "dtype: float64 \n",
      "\n",
      "Std of rmse: \n",
      " default             5.347868\n",
      "n_estimators        5.315812\n",
      "bootstrap           5.173871\n",
      "max_samples         5.303085\n",
      "max_features        5.243028\n",
      "min_samples_leaf    5.342180\n",
      "dtype: float64\n"
     ]
    }
   ],
   "source": [
    "print(\"Mean of rmse:\\n\", rf_tune_one.mean(), \"\\n\")\n",
    "print(\"Std of rmse: \\n\", rf_tune_one.std())"
   ]
  },
  {
   "cell_type": "code",
   "execution_count": 123,
   "metadata": {},
   "outputs": [
    {
     "data": {
      "text/plain": [
       "(0, 1)"
      ]
     },
     "execution_count": 123,
     "metadata": {},
     "output_type": "execute_result"
    },
    {
     "data": {
      "image/png": "[encoded data removed]",
      "text/plain": [
       "<Figure size 1440x720 with 1 Axes>"
      ]
     },
     "metadata": {
      "needs_background": "light"
     },
     "output_type": "display_data"
    }
   ],
   "source": [
    "axes = rf_tune_one.boxplot(figsize=(20,10))\n",
    "axes.set_ylim(0,1)"
   ]
  },
  {
   "cell_type": "markdown",
   "metadata": {},
   "source": [
    "## - XGBoost"
   ]
  },
  {
   "cell_type": "code",
   "execution_count": 80,
   "metadata": {},
   "outputs": [],
   "source": [
    "def tune_xgb(param):\n",
    "    mlist = []\n",
    "    for i in range(num_datasets):\n",
    "        bst = xgb.cv(param, dmat_list[i], num_boost_round=n_boost, nfold=3, metrics='rmse', seed=123, shuffle=True)\n",
    "        mlist.append(bst.iloc[len(bst.index)-1, 2])\n",
    "    return mlist"
   ]
  },
  {
   "cell_type": "code",
   "execution_count": 129,
   "metadata": {},
   "outputs": [],
   "source": [
    "xgb_tune_one['default'] = def_result['xgb_rmse']"
   ]
  },
  {
   "cell_type": "code",
   "execution_count": 82,
   "metadata": {},
   "outputs": [],
   "source": [
    "xgb_tune_one = pd.DataFrame(data=def_result.iloc[:,1].values.ravel(), columns=['default'])\n",
    "# num_boost_round\n",
    "target = xgb_num_boost_round\n",
    "best = target[\"value\"].idxmin()\n",
    "val = target.iloc[best,:][5]\n",
    "param = {\n",
    "    \"booster\": \"gbtree\",\n",
    "    \"lambda\": 1,\n",
    "    \"alpha\": 0,\n",
    "    \"eta\": 0.3,\n",
    "    \"subsample\": 1,\n",
    "    \"max_depth\": 6,\n",
    "    \"min_child_weight\": 1,\n",
    "    \"colsample_bytree\": 1,\n",
    "    \"colsample_bylevel\": 1\n",
    "}\n",
    "n_boost = val\n",
    "xgb_tune_one[\"num_boost_round\"] = tune_xgb(param)"
   ]
  },
  {
   "cell_type": "code",
   "execution_count": 132,
   "metadata": {},
   "outputs": [],
   "source": [
    "# lambda\n",
    "target = xgb_lambda\n",
    "best = target[\"value\"].idxmin()\n",
    "val = target.iloc[best,:][5]\n",
    "param = {\n",
    "    \"booster\": \"gbtree\",\n",
    "    \"lambda\": val,\n",
    "    \"alpha\": 0,\n",
    "    \"eta\": 0.3,\n",
    "    \"subsample\": 1,\n",
    "    \"max_depth\": 6,\n",
    "    \"min_child_weight\": 1,\n",
    "    \"colsample_bytree\": 1,\n",
    "    \"colsample_bylevel\": 1\n",
    "}\n",
    "n_boost = 10\n",
    "xgb_tune_one[\"lambda\"] = tune_xgb(param)"
   ]
  },
  {
   "cell_type": "code",
   "execution_count": 85,
   "metadata": {},
   "outputs": [],
   "source": [
    "# alpha\n",
    "target = xgb_alpha\n",
    "# Best hyperparameter\n",
    "best = target[\"value\"].idxmin()\n",
    "val = target.iloc[best,:][5]\n",
    "param = {\n",
    "    \"booster\": \"gbtree\",\n",
    "    \"lambda\": 1,\n",
    "    \"alpha\": val,\n",
    "    \"eta\": 0.3,\n",
    "    \"subsample\": 1,\n",
    "    \"max_depth\": 6,\n",
    "    \"min_child_weight\": 1,\n",
    "    \"colsample_bytree\": 1,\n",
    "    \"colsample_bylevel\": 1\n",
    "}\n",
    "n_boost = 10\n",
    "xgb_tune_one[\"alpha\"] = tune_xgb(param)"
   ]
  },
  {
   "cell_type": "code",
   "execution_count": 86,
   "metadata": {},
   "outputs": [],
   "source": [
    "# eta\n",
    "target = xgb_eta\n",
    "best = target[\"value\"].idxmin()\n",
    "val = target.iloc[best,:][5]\n",
    "param = {\n",
    "    \"booster\": \"gbtree\",\n",
    "    \"lambda\": 1,\n",
    "    \"alpha\": 0,\n",
    "    \"eta\": val,\n",
    "    \"subsample\": 1,\n",
    "    \"max_depth\": 6,\n",
    "    \"min_child_weight\": 1,\n",
    "    \"colsample_bytree\": 1,\n",
    "    \"colsample_bylevel\": 1\n",
    "}\n",
    "n_boost = 10\n",
    "xgb_tune_one[\"eta\"] = tune_xgb(param)"
   ]
  },
  {
   "cell_type": "code",
   "execution_count": 87,
   "metadata": {},
   "outputs": [],
   "source": [
    "# subsample\n",
    "target = xgb_subsample\n",
    "best = target[\"value\"].idxmin()\n",
    "val = target.iloc[best,:][5]\n",
    "param = {\n",
    "    \"booster\": \"gbtree\",\n",
    "    \"lambda\": 1,\n",
    "    \"alpha\": 0,\n",
    "    \"eta\": 0.3,\n",
    "    \"subsample\": val,\n",
    "    \"max_depth\": 6,\n",
    "    \"min_child_weight\": 1,\n",
    "    \"colsample_bytree\": 1,\n",
    "    \"colsample_bylevel\": 1\n",
    "}\n",
    "n_boost = 10\n",
    "xgb_tune_one[\"subsample\"] = tune_xgb(param)"
   ]
  },
  {
   "cell_type": "code",
   "execution_count": 88,
   "metadata": {},
   "outputs": [],
   "source": [
    "# max_depth\n",
    "target = xgb_max_depth\n",
    "best = target[\"value\"].idxmin()\n",
    "val = target.iloc[best,:][5]\n",
    "param = {\n",
    "    \"booster\": \"gbtree\",\n",
    "    \"lambda\": 1,\n",
    "    \"alpha\": 0,\n",
    "    \"eta\": 0.3,\n",
    "    \"subsample\": 1,\n",
    "    \"max_depth\": int(val),\n",
    "    \"min_child_weight\": 1,\n",
    "    \"colsample_bytree\": 1,\n",
    "    \"colsample_bylevel\": 1\n",
    "}\n",
    "n_boost = 10\n",
    "xgb_tune_one[\"max_depth\"] = tune_xgb(param)"
   ]
  },
  {
   "cell_type": "code",
   "execution_count": 89,
   "metadata": {},
   "outputs": [],
   "source": [
    "# min_child_weight\n",
    "target = xgb_min_child_weight\n",
    "best = target[\"value\"].idxmin()\n",
    "val = target.iloc[best,:][5]\n",
    "param = {\n",
    "    \"booster\": \"gbtree\",\n",
    "    \"lambda\": 1,\n",
    "    \"alpha\": 0,\n",
    "    \"eta\": 0.3,\n",
    "    \"subsample\": 1,\n",
    "    \"max_depth\": 6,\n",
    "    \"min_child_weight\": int(val),\n",
    "    \"colsample_bytree\": 1,\n",
    "    \"colsample_bylevel\": 1\n",
    "}\n",
    "n_boost = 10\n",
    "xgb_tune_one[\"min_child_weight\"] = tune_xgb(param)"
   ]
  },
  {
   "cell_type": "code",
   "execution_count": 90,
   "metadata": {},
   "outputs": [],
   "source": [
    "# colsample_bytree\n",
    "target = xgb_colsample_bytree\n",
    "best = target[\"value\"].idxmin()\n",
    "val = target.iloc[best,:][5]\n",
    "param = {\n",
    "    \"booster\": \"gbtree\",\n",
    "    \"lambda\": 1,\n",
    "    \"alpha\": 0,\n",
    "    \"eta\": 0.3,\n",
    "    \"subsample\": 1,\n",
    "    \"max_depth\": 6,\n",
    "    \"min_child_weight\": 1,\n",
    "    \"colsample_bytree\": val,\n",
    "    \"colsample_bylevel\": 1\n",
    "}\n",
    "n_boost = 10\n",
    "xgb_tune_one[\"colsample_bytree\"] = tune_xgb(param)"
   ]
  },
  {
   "cell_type": "code",
   "execution_count": 91,
   "metadata": {},
   "outputs": [],
   "source": [
    "# colsample_bylevel\n",
    "target = xgb_colsample_bylevel\n",
    "best = target[\"value\"].idxmin()\n",
    "val = target.iloc[best,:][5]\n",
    "param = {\n",
    "    \"booster\": \"gbtree\",\n",
    "    \"lambda\": 1,\n",
    "    \"alpha\": 0,\n",
    "    \"eta\": 0.3,\n",
    "    \"subsample\": 1,\n",
    "    \"max_depth\": 6,\n",
    "    \"min_child_weight\": 1,\n",
    "    \"colsample_bytree\": 1,\n",
    "    \"colsample_bylevel\": val\n",
    "}\n",
    "n_boost = 10\n",
    "xgb_tune_one[\"colsample_bylevel\"] = tune_xgb(param)"
   ]
  },
  {
   "cell_type": "code",
   "execution_count": 119,
   "metadata": {},
   "outputs": [
    {
     "data": {
      "text/html": [
       "<div>\n",
       "<style scoped>\n",
       "    .dataframe tbody tr th:only-of-type {\n",
       "        vertical-align: middle;\n",
       "    }\n",
       "\n",
       "    .dataframe tbody tr th {\n",
       "        vertical-align: top;\n",
       "    }\n",
       "\n",
       "    .dataframe thead th {\n",
       "        text-align: right;\n",
       "    }\n",
       "</style>\n",
       "<table border=\"1\" class=\"dataframe\">\n",
       "  <thead>\n",
       "    <tr style=\"text-align: right;\">\n",
       "      <th></th>\n",
       "      <th>default</th>\n",
       "      <th>num_boost_round</th>\n",
       "      <th>lambda</th>\n",
       "      <th>alpha</th>\n",
       "      <th>eta</th>\n",
       "      <th>subsample</th>\n",
       "      <th>max_depth</th>\n",
       "      <th>min_child_weight</th>\n",
       "      <th>colsample_bytree</th>\n",
       "      <th>colsample_bylevel</th>\n",
       "    </tr>\n",
       "  </thead>\n",
       "  <tbody>\n",
       "    <tr>\n",
       "      <th>0</th>\n",
       "      <td>0.445107</td>\n",
       "      <td>0.430040</td>\n",
       "      <td>0.473409</td>\n",
       "      <td>0.473043</td>\n",
       "      <td>0.455970</td>\n",
       "      <td>0.472036</td>\n",
       "      <td>0.464503</td>\n",
       "      <td>0.469295</td>\n",
       "      <td>0.471033</td>\n",
       "      <td>0.473575</td>\n",
       "    </tr>\n",
       "    <tr>\n",
       "      <th>1</th>\n",
       "      <td>0.733330</td>\n",
       "      <td>0.981058</td>\n",
       "      <td>1.013939</td>\n",
       "      <td>0.992216</td>\n",
       "      <td>0.976953</td>\n",
       "      <td>0.997857</td>\n",
       "      <td>1.003823</td>\n",
       "      <td>0.990195</td>\n",
       "      <td>0.999110</td>\n",
       "      <td>0.997757</td>\n",
       "    </tr>\n",
       "    <tr>\n",
       "      <th>2</th>\n",
       "      <td>0.759668</td>\n",
       "      <td>1.279002</td>\n",
       "      <td>1.125388</td>\n",
       "      <td>1.126801</td>\n",
       "      <td>1.122140</td>\n",
       "      <td>1.123314</td>\n",
       "      <td>1.151364</td>\n",
       "      <td>1.103066</td>\n",
       "      <td>1.130890</td>\n",
       "      <td>1.119233</td>\n",
       "    </tr>\n",
       "    <tr>\n",
       "      <th>3</th>\n",
       "      <td>0.414424</td>\n",
       "      <td>0.403094</td>\n",
       "      <td>0.415597</td>\n",
       "      <td>0.441580</td>\n",
       "      <td>0.397436</td>\n",
       "      <td>0.421728</td>\n",
       "      <td>0.425346</td>\n",
       "      <td>0.424719</td>\n",
       "      <td>0.420205</td>\n",
       "      <td>0.418641</td>\n",
       "    </tr>\n",
       "    <tr>\n",
       "      <th>4</th>\n",
       "      <td>0.969474</td>\n",
       "      <td>0.648134</td>\n",
       "      <td>0.689122</td>\n",
       "      <td>0.724302</td>\n",
       "      <td>0.657846</td>\n",
       "      <td>0.700831</td>\n",
       "      <td>0.708442</td>\n",
       "      <td>0.694454</td>\n",
       "      <td>0.679343</td>\n",
       "      <td>0.688503</td>\n",
       "    </tr>\n",
       "    <tr>\n",
       "      <th>5</th>\n",
       "      <td>0.697357</td>\n",
       "      <td>0.540286</td>\n",
       "      <td>0.680779</td>\n",
       "      <td>0.674644</td>\n",
       "      <td>0.657507</td>\n",
       "      <td>0.681280</td>\n",
       "      <td>0.654358</td>\n",
       "      <td>0.683602</td>\n",
       "      <td>0.679576</td>\n",
       "      <td>0.681430</td>\n",
       "    </tr>\n",
       "    <tr>\n",
       "      <th>6</th>\n",
       "      <td>22.101774</td>\n",
       "      <td>23.132306</td>\n",
       "      <td>23.671825</td>\n",
       "      <td>22.729399</td>\n",
       "      <td>23.160726</td>\n",
       "      <td>23.209665</td>\n",
       "      <td>22.242375</td>\n",
       "      <td>23.319669</td>\n",
       "      <td>22.317278</td>\n",
       "      <td>23.759221</td>\n",
       "    </tr>\n",
       "    <tr>\n",
       "      <th>7</th>\n",
       "      <td>0.743745</td>\n",
       "      <td>0.585058</td>\n",
       "      <td>0.632683</td>\n",
       "      <td>0.639024</td>\n",
       "      <td>0.584449</td>\n",
       "      <td>0.640367</td>\n",
       "      <td>0.631050</td>\n",
       "      <td>0.633649</td>\n",
       "      <td>0.640054</td>\n",
       "      <td>0.632844</td>\n",
       "    </tr>\n",
       "    <tr>\n",
       "      <th>8</th>\n",
       "      <td>0.678416</td>\n",
       "      <td>0.641888</td>\n",
       "      <td>0.699898</td>\n",
       "      <td>0.692209</td>\n",
       "      <td>0.675371</td>\n",
       "      <td>0.691265</td>\n",
       "      <td>0.691086</td>\n",
       "      <td>0.702606</td>\n",
       "      <td>0.702813</td>\n",
       "      <td>0.697568</td>\n",
       "    </tr>\n",
       "    <tr>\n",
       "      <th>9</th>\n",
       "      <td>0.866240</td>\n",
       "      <td>0.603998</td>\n",
       "      <td>0.681932</td>\n",
       "      <td>0.699953</td>\n",
       "      <td>0.657842</td>\n",
       "      <td>0.680646</td>\n",
       "      <td>0.678664</td>\n",
       "      <td>0.686793</td>\n",
       "      <td>0.683827</td>\n",
       "      <td>0.680355</td>\n",
       "    </tr>\n",
       "    <tr>\n",
       "      <th>10</th>\n",
       "      <td>0.361394</td>\n",
       "      <td>0.323759</td>\n",
       "      <td>0.345540</td>\n",
       "      <td>0.340539</td>\n",
       "      <td>0.350488</td>\n",
       "      <td>0.342839</td>\n",
       "      <td>0.342576</td>\n",
       "      <td>0.346599</td>\n",
       "      <td>0.340597</td>\n",
       "      <td>0.343287</td>\n",
       "    </tr>\n",
       "    <tr>\n",
       "      <th>11</th>\n",
       "      <td>0.485313</td>\n",
       "      <td>0.478762</td>\n",
       "      <td>0.522811</td>\n",
       "      <td>0.525335</td>\n",
       "      <td>0.524520</td>\n",
       "      <td>0.522793</td>\n",
       "      <td>0.511399</td>\n",
       "      <td>0.518386</td>\n",
       "      <td>0.517838</td>\n",
       "      <td>0.522230</td>\n",
       "    </tr>\n",
       "    <tr>\n",
       "      <th>12</th>\n",
       "      <td>0.442479</td>\n",
       "      <td>0.435829</td>\n",
       "      <td>0.438319</td>\n",
       "      <td>0.430607</td>\n",
       "      <td>0.441457</td>\n",
       "      <td>0.430174</td>\n",
       "      <td>0.431656</td>\n",
       "      <td>0.432630</td>\n",
       "      <td>0.434598</td>\n",
       "      <td>0.441126</td>\n",
       "    </tr>\n",
       "    <tr>\n",
       "      <th>13</th>\n",
       "      <td>0.372058</td>\n",
       "      <td>0.338442</td>\n",
       "      <td>0.344227</td>\n",
       "      <td>0.339065</td>\n",
       "      <td>0.346276</td>\n",
       "      <td>0.343578</td>\n",
       "      <td>0.347946</td>\n",
       "      <td>0.350228</td>\n",
       "      <td>0.342089</td>\n",
       "      <td>0.343652</td>\n",
       "    </tr>\n",
       "    <tr>\n",
       "      <th>14</th>\n",
       "      <td>1.036571</td>\n",
       "      <td>1.052702</td>\n",
       "      <td>1.051758</td>\n",
       "      <td>1.121709</td>\n",
       "      <td>1.076617</td>\n",
       "      <td>1.091821</td>\n",
       "      <td>1.101582</td>\n",
       "      <td>1.076802</td>\n",
       "      <td>1.095762</td>\n",
       "      <td>1.080690</td>\n",
       "    </tr>\n",
       "  </tbody>\n",
       "</table>\n",
       "</div>"
      ],
      "text/plain": [
       "      default  num_boost_round     lambda      alpha        eta  subsample  \\\n",
       "0    0.445107         0.430040   0.473409   0.473043   0.455970   0.472036   \n",
       "1    0.733330         0.981058   1.013939   0.992216   0.976953   0.997857   \n",
       "2    0.759668         1.279002   1.125388   1.126801   1.122140   1.123314   \n",
       "3    0.414424         0.403094   0.415597   0.441580   0.397436   0.421728   \n",
       "4    0.969474         0.648134   0.689122   0.724302   0.657846   0.700831   \n",
       "5    0.697357         0.540286   0.680779   0.674644   0.657507   0.681280   \n",
       "6   22.101774        23.132306  23.671825  22.729399  23.160726  23.209665   \n",
       "7    0.743745         0.585058   0.632683   0.639024   0.584449   0.640367   \n",
       "8    0.678416         0.641888   0.699898   0.692209   0.675371   0.691265   \n",
       "9    0.866240         0.603998   0.681932   0.699953   0.657842   0.680646   \n",
       "10   0.361394         0.323759   0.345540   0.340539   0.350488   0.342839   \n",
       "11   0.485313         0.478762   0.522811   0.525335   0.524520   0.522793   \n",
       "12   0.442479         0.435829   0.438319   0.430607   0.441457   0.430174   \n",
       "13   0.372058         0.338442   0.344227   0.339065   0.346276   0.343578   \n",
       "14   1.036571         1.052702   1.051758   1.121709   1.076617   1.091821   \n",
       "\n",
       "    max_depth  min_child_weight  colsample_bytree  colsample_bylevel  \n",
       "0    0.464503          0.469295          0.471033           0.473575  \n",
       "1    1.003823          0.990195          0.999110           0.997757  \n",
       "2    1.151364          1.103066          1.130890           1.119233  \n",
       "3    0.425346          0.424719          0.420205           0.418641  \n",
       "4    0.708442          0.694454          0.679343           0.688503  \n",
       "5    0.654358          0.683602          0.679576           0.681430  \n",
       "6   22.242375         23.319669         22.317278          23.759221  \n",
       "7    0.631050          0.633649          0.640054           0.632844  \n",
       "8    0.691086          0.702606          0.702813           0.697568  \n",
       "9    0.678664          0.686793          0.683827           0.680355  \n",
       "10   0.342576          0.346599          0.340597           0.343287  \n",
       "11   0.511399          0.518386          0.517838           0.522230  \n",
       "12   0.431656          0.432630          0.434598           0.441126  \n",
       "13   0.347946          0.350228          0.342089           0.343652  \n",
       "14   1.101582          1.076802          1.095762           1.080690  "
      ]
     },
     "execution_count": 119,
     "metadata": {},
     "output_type": "execute_result"
    }
   ],
   "source": [
    "xgb_tune_one"
   ]
  },
  {
   "cell_type": "code",
   "execution_count": 94,
   "metadata": {},
   "outputs": [],
   "source": [
    "xgb_tune_one.to_csv(\"xgb_tune_one.csv\", index=False)"
   ]
  },
  {
   "cell_type": "code",
   "execution_count": 133,
   "metadata": {},
   "outputs": [
    {
     "name": "stdout",
     "output_type": "stream",
     "text": [
      "Mean of rmse:\n",
      " default              2.156680\n",
      "num_boost_round      2.124957\n",
      "lambda               2.185815\n",
      "alpha                2.130028\n",
      "eta                  2.139040\n",
      "subsample            2.156680\n",
      "max_depth            2.092411\n",
      "min_child_weight     2.162180\n",
      "colsample_bytree     2.097001\n",
      "colsample_bylevel    2.192007\n",
      "dtype: float64 \n",
      "\n",
      "Std of rmse: \n",
      " default              5.829545\n",
      "num_boost_round      5.818048\n",
      "lambda               5.949087\n",
      "alpha                5.704328\n",
      "eta                  5.820737\n",
      "subsample            5.829545\n",
      "max_depth            5.580237\n",
      "min_child_weight     5.858170\n",
      "colsample_bytree     5.599494\n",
      "colsample_bylevel    5.971566\n",
      "dtype: float64\n"
     ]
    }
   ],
   "source": [
    "print(\"Mean of rmse:\\n\", xgb_tune_one.mean(), \"\\n\")\n",
    "print(\"Std of rmse: \\n\", xgb_tune_one.std())"
   ]
  },
  {
   "cell_type": "code",
   "execution_count": 131,
   "metadata": {},
   "outputs": [
    {
     "data": {
      "text/plain": [
       "(0, 1.4)"
      ]
     },
     "execution_count": 131,
     "metadata": {},
     "output_type": "execute_result"
    },
    {
     "data": {
      "image/png": "[encoded data removed]",
      "text/plain": [
       "<Figure size 1440x720 with 1 Axes>"
      ]
     },
     "metadata": {
      "needs_background": "light"
     },
     "output_type": "display_data"
    }
   ],
   "source": [
    "axes = xgb_tune_one.boxplot(figsize=(20,10))\n",
    "axes.set_ylim(0,1.4)"
   ]
  },
  {
   "cell_type": "code",
   "execution_count": null,
   "metadata": {},
   "outputs": [],
   "source": []
  }
 ],
 "metadata": {
  "kernelspec": {
   "display_name": "Python 3",
   "language": "python",
   "name": "python3"
  },
  "language_info": {
   "codemirror_mode": {
    "name": "ipython",
    "version": 3
   },
   "file_extension": ".py",
   "mimetype": "text/x-python",
   "name": "python",
   "nbconvert_exporter": "python",
   "pygments_lexer": "ipython3",
   "version": "3.7.9"
  }
 },
 "nbformat": 4,
 "nbformat_minor": 4
}

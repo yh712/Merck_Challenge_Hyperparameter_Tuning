{
 "cells": [
  {
   "cell_type": "markdown",
   "metadata": {},
   "source": [
    "# Import the datasets"
   ]
  },
  {
   "cell_type": "code",
   "execution_count": 1,
   "metadata": {},
   "outputs": [],
   "source": [
    "import pandas as pd\n",
    "import numpy as np\n",
    "import csv\n",
    "import os\n",
    "import xgboost as xgb\n",
    "from sklearn.ensemble import RandomForestRegressor\n",
    "from sklearn.model_selection import cross_val_score, KFold\n",
    "from sklearn.metrics import mean_squared_error\n",
    "import optuna\n",
    "from optuna.samplers import TPESampler, GridSampler, RandomSampler\n",
    "import math\n",
    "import timeit"
   ]
  },
  {
   "cell_type": "code",
   "execution_count": 2,
   "metadata": {},
   "outputs": [
    {
     "data": {
      "text/plain": [
       "'/Users/seanhong/Desktop/Curriculum/Merck Project/Code'"
      ]
     },
     "execution_count": 2,
     "metadata": {},
     "output_type": "execute_result"
    }
   ],
   "source": [
    "os.getcwd()"
   ]
  },
  {
   "cell_type": "code",
   "execution_count": 3,
   "metadata": {},
   "outputs": [],
   "source": [
    "df_list = []\n",
    "dmat_list = []\n",
    "# load training datsets\n",
    "for n in range(1, 16):\n",
    "    x_name = 'QSAR_{}_train_x'.format(n)\n",
    "    y_name = 'QSAR_{}_train_y'.format(n)\n",
    "    x = pd.read_csv(\"Data/qsar_train/\"+x_name+\".csv\")\n",
    "    y = pd.read_csv(\"Data/qsar_train/\"+y_name+\".csv\")\n",
    "    df = pd.concat([y, x], axis=1)\n",
    "    df_list.append(df)\n",
    "    # DMatrix\n",
    "    dmat = xgb.DMatrix(x, label=y)\n",
    "    dmat_list.append(dmat)"
   ]
  },
  {
   "cell_type": "code",
   "execution_count": 4,
   "metadata": {},
   "outputs": [
    {
     "name": "stdout",
     "output_type": "stream",
     "text": [
      "Number of datasets: 15\n"
     ]
    }
   ],
   "source": [
    "num_datasets = len(df_list)\n",
    "print(\"Number of datasets:\", num_datasets)"
   ]
  },
  {
   "cell_type": "code",
   "execution_count": 5,
   "metadata": {},
   "outputs": [
    {
     "data": {
      "text/plain": [
       "[(37241, 9178),\n",
       " (8716, 5556),\n",
       " (6148, 5026),\n",
       " (1815, 4187),\n",
       " (3212, 5752),\n",
       " (37388, 8624),\n",
       " (1569, 4373),\n",
       " (9965, 5593),\n",
       " (5351, 4602),\n",
       " (11151, 5463),\n",
       " (6399, 4732),\n",
       " (8651, 4992),\n",
       " (6105, 5526),\n",
       " (4165, 5713),\n",
       " (5059, 5283)]"
      ]
     },
     "execution_count": 5,
     "metadata": {},
     "output_type": "execute_result"
    }
   ],
   "source": [
    "size_list = []\n",
    "for i in range(num_datasets):\n",
    "    size_list.append(df_list[i].shape)\n",
    "size_list"
   ]
  },
  {
   "cell_type": "markdown",
   "metadata": {},
   "source": [
    "# Random Forest (default)"
   ]
  },
  {
   "cell_type": "code",
   "execution_count": 40,
   "metadata": {},
   "outputs": [],
   "source": [
    "# Define the parameter search space\n",
    "dval = {\n",
    "    'n_estimators': 100, # \"num.trees\": 500 / \"n_estimators\": 100\n",
    "    'criterion': 'mse',\n",
    "    'bootstrap': True, # replace\n",
    "    'max_samples': None, # sample.fraction\n",
    "    'max_features': 'sqrt', ### \"mtry\": \"sqrt\" / \"max_features\": \"auto\" ###\n",
    "    'min_samples_leaf': 1, # \"min.node.size\" default: 5 / \"min_samples_leaf\": 1\n",
    "    'n_jobs': -1}\n",
    "# Fit the model to each dataset\n",
    "def_result = pd.DataFrame(columns=['rf_rmse'])\n",
    "mlist = []\n",
    "mod = RandomForestRegressor(**dval)\n",
    "for i in range(num_datasets):\n",
    "    num_col = df_list[i].shape[1]\n",
    "    yvec = df_list[i].iloc[:,0:1].values.ravel()\n",
    "    rmse = cross_val_score(mod, df_list[i].iloc[:,1:num_col], yvec, scoring=\"neg_root_mean_squared_error\", \n",
    "                           cv=KFold(n_splits=3, shuffle=True, random_state=123), n_jobs=-1)\n",
    "    mlist.append(abs(rmse).mean())\n",
    "def_result['rf_rmse'] = mlist"
   ]
  },
  {
   "cell_type": "code",
   "execution_count": 41,
   "metadata": {},
   "outputs": [
    {
     "data": {
      "text/html": [
       "<div>\n",
       "<style scoped>\n",
       "    .dataframe tbody tr th:only-of-type {\n",
       "        vertical-align: middle;\n",
       "    }\n",
       "\n",
       "    .dataframe tbody tr th {\n",
       "        vertical-align: top;\n",
       "    }\n",
       "\n",
       "    .dataframe thead th {\n",
       "        text-align: right;\n",
       "    }\n",
       "</style>\n",
       "<table border=\"1\" class=\"dataframe\">\n",
       "  <thead>\n",
       "    <tr style=\"text-align: right;\">\n",
       "      <th></th>\n",
       "      <th>rf_rmse</th>\n",
       "    </tr>\n",
       "  </thead>\n",
       "  <tbody>\n",
       "    <tr>\n",
       "      <th>0</th>\n",
       "      <td>0.390391</td>\n",
       "    </tr>\n",
       "    <tr>\n",
       "      <th>1</th>\n",
       "      <td>0.678829</td>\n",
       "    </tr>\n",
       "    <tr>\n",
       "      <th>2</th>\n",
       "      <td>0.721050</td>\n",
       "    </tr>\n",
       "    <tr>\n",
       "      <th>3</th>\n",
       "      <td>0.349083</td>\n",
       "    </tr>\n",
       "    <tr>\n",
       "      <th>4</th>\n",
       "      <td>0.909799</td>\n",
       "    </tr>\n",
       "    <tr>\n",
       "      <th>5</th>\n",
       "      <td>0.642994</td>\n",
       "    </tr>\n",
       "    <tr>\n",
       "      <th>6</th>\n",
       "      <td>21.283284</td>\n",
       "    </tr>\n",
       "    <tr>\n",
       "      <th>7</th>\n",
       "      <td>0.664494</td>\n",
       "    </tr>\n",
       "    <tr>\n",
       "      <th>8</th>\n",
       "      <td>0.611572</td>\n",
       "    </tr>\n",
       "    <tr>\n",
       "      <th>9</th>\n",
       "      <td>0.733696</td>\n",
       "    </tr>\n",
       "    <tr>\n",
       "      <th>10</th>\n",
       "      <td>0.337309</td>\n",
       "    </tr>\n",
       "    <tr>\n",
       "      <th>11</th>\n",
       "      <td>0.444959</td>\n",
       "    </tr>\n",
       "    <tr>\n",
       "      <th>12</th>\n",
       "      <td>0.418156</td>\n",
       "    </tr>\n",
       "    <tr>\n",
       "      <th>13</th>\n",
       "      <td>0.350304</td>\n",
       "    </tr>\n",
       "    <tr>\n",
       "      <th>14</th>\n",
       "      <td>0.941653</td>\n",
       "    </tr>\n",
       "  </tbody>\n",
       "</table>\n",
       "</div>"
      ],
      "text/plain": [
       "      rf_rmse\n",
       "0    0.390391\n",
       "1    0.678829\n",
       "2    0.721050\n",
       "3    0.349083\n",
       "4    0.909799\n",
       "5    0.642994\n",
       "6   21.283284\n",
       "7    0.664494\n",
       "8    0.611572\n",
       "9    0.733696\n",
       "10   0.337309\n",
       "11   0.444959\n",
       "12   0.418156\n",
       "13   0.350304\n",
       "14   0.941653"
      ]
     },
     "execution_count": 41,
     "metadata": {},
     "output_type": "execute_result"
    }
   ],
   "source": [
    "def_result"
   ]
  },
  {
   "cell_type": "code",
   "execution_count": 42,
   "metadata": {},
   "outputs": [
    {
     "data": {
      "text/plain": [
       "1.9651716576727236"
      ]
     },
     "execution_count": 42,
     "metadata": {},
     "output_type": "execute_result"
    }
   ],
   "source": [
    "def_result[\"rf_rmse\"].mean()"
   ]
  },
  {
   "cell_type": "code",
   "execution_count": 110,
   "metadata": {},
   "outputs": [
    {
     "name": "stdout",
     "output_type": "stream",
     "text": [
      "Mean of RMSE with min_samples_leaf = 0.1:  2.9241151756005825 \n",
      "\n",
      "Running Time:  103.33977243001573\n"
     ]
    }
   ],
   "source": [
    "# min_samples_leaf = 0.1\n",
    "start = timeit.default_timer()\n",
    "dval = {\n",
    "    'n_estimators': 100, # \"num.trees\": 500 / \"n_estimators\": 100\n",
    "    'criterion': 'mse',\n",
    "    'bootstrap': True, # replace\n",
    "    'max_samples': None, # sample.fraction\n",
    "    'max_features': 'sqrt', ### \"mtry\": \"sqrt\" / \"max_features\": \"auto\" ###\n",
    "    'min_samples_leaf': 0.1, # \"min.node.size\" default: 5 / \"min_samples_leaf\": 1\n",
    "    'n_jobs': -1}\n",
    "# Fit the model to each dataset\n",
    "mlist = []\n",
    "mod = RandomForestRegressor(**dval)\n",
    "for i in range(num_datasets):\n",
    "    num_col = df_list[i].shape[1]\n",
    "    yvec = df_list[i].iloc[:,0:1].values.ravel()\n",
    "    rmse = cross_val_score(mod, df_list[i].iloc[:,1:num_col], yvec, scoring=\"neg_root_mean_squared_error\", \n",
    "                           cv=KFold(n_splits=3, shuffle=True, random_state=123), n_jobs=-1)\n",
    "    mlist.append(abs(rmse).mean())\n",
    "sum(mlist)/len(mlist)\n",
    "stop = timeit.default_timer()\n",
    "print(\"Mean of RMSE with min_samples_leaf = 0.1: \", sum(mlist)/len(mlist), \"\\n\")\n",
    "print(\"Running Time: \", stop - start)"
   ]
  },
  {
   "cell_type": "markdown",
   "metadata": {},
   "source": [
    "# XGBoost (default)"
   ]
  },
  {
   "cell_type": "code",
   "execution_count": 54,
   "metadata": {},
   "outputs": [],
   "source": [
    "# Define the parameter search space\n",
    "dval = {\n",
    "    \"booster\": \"gbtree\",\n",
    "    \"lambda\": 1,\n",
    "    \"alpha\": 0,\n",
    "    \"eta\": 0.3,\n",
    "    \"subsample\": 1,\n",
    "    \"max_depth\": 6,\n",
    "    \"min_child_weight\": 1,\n",
    "    \"colsample_bytree\": 1,\n",
    "    \"colsample_bylevel\": 1\n",
    "}\n",
    "n_boost = 10\n",
    "# Fit the model to each dataset\n",
    "mlist = []\n",
    "for i in range(num_datasets):\n",
    "    bst = xgb.cv(dval, dmat_list[i], num_boost_round=n_boost, nfold=3, metrics='rmse', seed=123, shuffle=True)\n",
    "    mlist.append(bst.iloc[len(bst.index)-1, 2])\n",
    "def_result[\"xgb_rmse\"] = mlist"
   ]
  },
  {
   "cell_type": "code",
   "execution_count": 55,
   "metadata": {},
   "outputs": [
    {
     "data": {
      "text/html": [
       "<div>\n",
       "<style scoped>\n",
       "    .dataframe tbody tr th:only-of-type {\n",
       "        vertical-align: middle;\n",
       "    }\n",
       "\n",
       "    .dataframe tbody tr th {\n",
       "        vertical-align: top;\n",
       "    }\n",
       "\n",
       "    .dataframe thead th {\n",
       "        text-align: right;\n",
       "    }\n",
       "</style>\n",
       "<table border=\"1\" class=\"dataframe\">\n",
       "  <thead>\n",
       "    <tr style=\"text-align: right;\">\n",
       "      <th></th>\n",
       "      <th>rf_rmse</th>\n",
       "      <th>xgb_rmse</th>\n",
       "    </tr>\n",
       "  </thead>\n",
       "  <tbody>\n",
       "    <tr>\n",
       "      <th>0</th>\n",
       "      <td>0.390391</td>\n",
       "      <td>0.445107</td>\n",
       "    </tr>\n",
       "    <tr>\n",
       "      <th>1</th>\n",
       "      <td>0.678829</td>\n",
       "      <td>0.733330</td>\n",
       "    </tr>\n",
       "    <tr>\n",
       "      <th>2</th>\n",
       "      <td>0.721050</td>\n",
       "      <td>0.759668</td>\n",
       "    </tr>\n",
       "    <tr>\n",
       "      <th>3</th>\n",
       "      <td>0.349083</td>\n",
       "      <td>0.414424</td>\n",
       "    </tr>\n",
       "    <tr>\n",
       "      <th>4</th>\n",
       "      <td>0.909799</td>\n",
       "      <td>0.969474</td>\n",
       "    </tr>\n",
       "    <tr>\n",
       "      <th>5</th>\n",
       "      <td>0.642994</td>\n",
       "      <td>0.697357</td>\n",
       "    </tr>\n",
       "    <tr>\n",
       "      <th>6</th>\n",
       "      <td>21.283284</td>\n",
       "      <td>22.101774</td>\n",
       "    </tr>\n",
       "    <tr>\n",
       "      <th>7</th>\n",
       "      <td>0.664494</td>\n",
       "      <td>0.743745</td>\n",
       "    </tr>\n",
       "    <tr>\n",
       "      <th>8</th>\n",
       "      <td>0.611572</td>\n",
       "      <td>0.678416</td>\n",
       "    </tr>\n",
       "    <tr>\n",
       "      <th>9</th>\n",
       "      <td>0.733696</td>\n",
       "      <td>0.866240</td>\n",
       "    </tr>\n",
       "    <tr>\n",
       "      <th>10</th>\n",
       "      <td>0.337309</td>\n",
       "      <td>0.361394</td>\n",
       "    </tr>\n",
       "    <tr>\n",
       "      <th>11</th>\n",
       "      <td>0.444959</td>\n",
       "      <td>0.485313</td>\n",
       "    </tr>\n",
       "    <tr>\n",
       "      <th>12</th>\n",
       "      <td>0.418156</td>\n",
       "      <td>0.442479</td>\n",
       "    </tr>\n",
       "    <tr>\n",
       "      <th>13</th>\n",
       "      <td>0.350304</td>\n",
       "      <td>0.372058</td>\n",
       "    </tr>\n",
       "    <tr>\n",
       "      <th>14</th>\n",
       "      <td>0.941653</td>\n",
       "      <td>1.036571</td>\n",
       "    </tr>\n",
       "  </tbody>\n",
       "</table>\n",
       "</div>"
      ],
      "text/plain": [
       "      rf_rmse   xgb_rmse\n",
       "0    0.390391   0.445107\n",
       "1    0.678829   0.733330\n",
       "2    0.721050   0.759668\n",
       "3    0.349083   0.414424\n",
       "4    0.909799   0.969474\n",
       "5    0.642994   0.697357\n",
       "6   21.283284  22.101774\n",
       "7    0.664494   0.743745\n",
       "8    0.611572   0.678416\n",
       "9    0.733696   0.866240\n",
       "10   0.337309   0.361394\n",
       "11   0.444959   0.485313\n",
       "12   0.418156   0.442479\n",
       "13   0.350304   0.372058\n",
       "14   0.941653   1.036571"
      ]
     },
     "execution_count": 55,
     "metadata": {},
     "output_type": "execute_result"
    }
   ],
   "source": [
    "def_result"
   ]
  },
  {
   "cell_type": "code",
   "execution_count": 56,
   "metadata": {},
   "outputs": [
    {
     "data": {
      "text/plain": [
       "2.073823422222222"
      ]
     },
     "execution_count": 56,
     "metadata": {},
     "output_type": "execute_result"
    }
   ],
   "source": [
    "def_result['xgb_rmse'].mean()"
   ]
  },
  {
   "cell_type": "code",
   "execution_count": 57,
   "metadata": {},
   "outputs": [],
   "source": [
    "def_result.to_csv(\"qsar_results/def_result.csv\", index=False)"
   ]
  },
  {
   "cell_type": "markdown",
   "metadata": {},
   "source": [
    "# Tune One Hyperparameter"
   ]
  },
  {
   "cell_type": "markdown",
   "metadata": {},
   "source": [
    "## - Random Forest"
   ]
  },
  {
   "cell_type": "markdown",
   "metadata": {},
   "source": [
    "### 1. n_estimators (number of trees)"
   ]
  },
  {
   "cell_type": "code",
   "execution_count": 58,
   "metadata": {},
   "outputs": [
    {
     "name": "stdout",
     "output_type": "stream",
     "text": [
      "Number of points: 21\n"
     ]
    }
   ],
   "source": [
    "param_list = [1, *range(10,101,10), *range(100,1001,100)]\n",
    "def objective(trial):\n",
    "    mlist = []\n",
    "    param = {\n",
    "        \"n_estimators\": trial.suggest_categorical(\"n_estimators\", param_list),\n",
    "        'criterion': 'mse',\n",
    "        'bootstrap': True, # replace\n",
    "        'max_samples': None, # sample.fraction\n",
    "        'max_features': 'sqrt', ### \"mtry\": \"sqrt\" / \"max_features\": \"auto\" ###\n",
    "        'min_samples_leaf': 1, # \"min.node.size\" default: 5 / \"min_samples_leaf\": 1\n",
    "        'n_jobs': -1\n",
    "    }\n",
    "    # fit rf to each dataset    \n",
    "    for i in range(num_datasets):\n",
    "        ncol = df_list[i].shape[1]\n",
    "        yvec = df_list[i].iloc[:,0:1].values.ravel()\n",
    "        mod = RandomForestRegressor(**param)\n",
    "        rmse = cross_val_score(mod, df_list[i].iloc[:,1:ncol], yvec, \n",
    "                               scoring=\"neg_root_mean_squared_error\", \n",
    "                               cv=KFold(n_splits=3, shuffle=True, random_state=123),\n",
    "                               n_jobs=-1)\n",
    "        mlist.append(abs(rmse).mean())\n",
    "    rmse_mean = sum(mlist)/len(mlist)   \n",
    "    return rmse_mean\n",
    "# define grid points\n",
    "search_space = {'n_estimators': param_list}\n",
    "print(\"Number of points: {}\".format(len(param_list)))"
   ]
  },
  {
   "cell_type": "code",
   "execution_count": 59,
   "metadata": {},
   "outputs": [
    {
     "name": "stderr",
     "output_type": "stream",
     "text": [
      "/Users/seanhong/opt/anaconda3/lib/python3.7/site-packages/optuna/_experimental.py:83: ExperimentalWarning: GridSampler is experimental (supported from v1.2.0). The interface can change in the future.\n",
      "  ExperimentalWarning,\n",
      "[I 2020-08-11 18:51:20,282] Finished trial#0 with value: 1.9503143724498593 with parameters: {'n_estimators': 800}. Best is trial#0 with value: 1.9503143724498593.\n",
      "[I 2020-08-11 19:03:04,039] Finished trial#1 with value: 1.9547921185272101 with parameters: {'n_estimators': 500}. Best is trial#0 with value: 1.9503143724498593.\n",
      "[I 2020-08-11 19:05:41,197] Finished trial#2 with value: 1.9759510402587002 with parameters: {'n_estimators': 60}. Best is trial#0 with value: 1.9503143724498593.\n",
      "[I 2020-08-11 19:27:42,071] Finished trial#3 with value: 1.9545900552183393 with parameters: {'n_estimators': 1000}. Best is trial#0 with value: 1.9503143724498593.\n",
      "[I 2020-08-11 19:33:18,504] Finished trial#4 with value: 1.9557694073180076 with parameters: {'n_estimators': 200}. Best is trial#0 with value: 1.9503143724498593.\n",
      "[I 2020-08-11 19:41:01,334] Finished trial#5 with value: 1.9534099268653788 with parameters: {'n_estimators': 300}. Best is trial#0 with value: 1.9503143724498593.\n",
      "[I 2020-08-11 19:50:35,290] Finished trial#6 with value: 1.9542521377110107 with parameters: {'n_estimators': 400}. Best is trial#0 with value: 1.9503143724498593.\n",
      "[I 2020-08-11 19:52:56,888] Finished trial#7 with value: 1.9759859214443511 with parameters: {'n_estimators': 40}. Best is trial#0 with value: 1.9503143724498593.\n",
      "[I 2020-08-11 19:54:35,159] Finished trial#8 with value: 2.076617406785775 with parameters: {'n_estimators': 10}. Best is trial#0 with value: 1.9503143724498593.\n",
      "[I 2020-08-11 19:57:52,817] Finished trial#9 with value: 1.9690644311485965 with parameters: {'n_estimators': 80}. Best is trial#0 with value: 1.9503143724498593.\n",
      "[I 2020-08-11 20:01:27,402] Finished trial#10 with value: 1.9647756481202836 with parameters: {'n_estimators': 100}. Best is trial#0 with value: 1.9503143724498593.\n",
      "[I 2020-08-11 20:15:14,161] Finished trial#11 with value: 1.950513571694589 with parameters: {'n_estimators': 600}. Best is trial#0 with value: 1.9503143724498593.\n",
      "[I 2020-08-11 20:18:43,526] Finished trial#12 with value: 1.9577321799268674 with parameters: {'n_estimators': 100}. Best is trial#0 with value: 1.9503143724498593.\n",
      "[I 2020-08-11 20:21:10,755] Finished trial#13 with value: 1.9687677025825547 with parameters: {'n_estimators': 50}. Best is trial#0 with value: 1.9503143724498593.\n",
      "[I 2020-08-11 20:23:01,336] Finished trial#14 with value: 2.025687909616025 with parameters: {'n_estimators': 20}. Best is trial#0 with value: 1.9503143724498593.\n",
      "[I 2020-08-11 20:24:36,310] Finished trial#15 with value: 2.975509336709814 with parameters: {'n_estimators': 1}. Best is trial#0 with value: 1.9503143724498593.\n",
      "[I 2020-08-11 20:27:45,284] Finished trial#16 with value: 1.966465966767707 with parameters: {'n_estimators': 70}. Best is trial#0 with value: 1.9503143724498593.\n",
      "[I 2020-08-11 20:29:49,230] Finished trial#17 with value: 2.0078964665991204 with parameters: {'n_estimators': 30}. Best is trial#0 with value: 1.9503143724498593.\n",
      "[I 2020-08-11 20:49:40,071] Finished trial#18 with value: 1.9524970978963798 with parameters: {'n_estimators': 900}. Best is trial#0 with value: 1.9503143724498593.\n",
      "[I 2020-08-11 20:53:01,549] Finished trial#19 with value: 1.9568812938853095 with parameters: {'n_estimators': 90}. Best is trial#0 with value: 1.9503143724498593.\n",
      "[I 2020-08-11 21:08:42,553] Finished trial#20 with value: 1.9503937657512382 with parameters: {'n_estimators': 700}. Best is trial#0 with value: 1.9503143724498593.\n"
     ]
    }
   ],
   "source": [
    "study = optuna.create_study(direction='minimize', sampler=GridSampler(search_space))\n",
    "study.optimize(objective, n_trials=len(param_list))\n",
    "res1 = study.trials_dataframe()"
   ]
  },
  {
   "cell_type": "code",
   "execution_count": 60,
   "metadata": {},
   "outputs": [
    {
     "data": {
      "text/html": [
       "<div>\n",
       "<style scoped>\n",
       "    .dataframe tbody tr th:only-of-type {\n",
       "        vertical-align: middle;\n",
       "    }\n",
       "\n",
       "    .dataframe tbody tr th {\n",
       "        vertical-align: top;\n",
       "    }\n",
       "\n",
       "    .dataframe thead th {\n",
       "        text-align: right;\n",
       "    }\n",
       "</style>\n",
       "<table border=\"1\" class=\"dataframe\">\n",
       "  <thead>\n",
       "    <tr style=\"text-align: right;\">\n",
       "      <th></th>\n",
       "      <th>number</th>\n",
       "      <th>value</th>\n",
       "      <th>datetime_start</th>\n",
       "      <th>datetime_complete</th>\n",
       "      <th>duration</th>\n",
       "      <th>params_n_estimators</th>\n",
       "      <th>system_attrs_grid_id</th>\n",
       "      <th>system_attrs_search_space</th>\n",
       "      <th>state</th>\n",
       "    </tr>\n",
       "  </thead>\n",
       "  <tbody>\n",
       "    <tr>\n",
       "      <th>0</th>\n",
       "      <td>0</td>\n",
       "      <td>1.950314</td>\n",
       "      <td>2020-08-11 18:33:20.494682</td>\n",
       "      <td>2020-08-11 18:51:20.281746</td>\n",
       "      <td>00:17:59.787064</td>\n",
       "      <td>800</td>\n",
       "      <td>18</td>\n",
       "      <td>{'n_estimators': [1, 10, 20, 30, 40, 50, 60, 7...</td>\n",
       "      <td>COMPLETE</td>\n",
       "    </tr>\n",
       "    <tr>\n",
       "      <th>1</th>\n",
       "      <td>1</td>\n",
       "      <td>1.954792</td>\n",
       "      <td>2020-08-11 18:51:20.284709</td>\n",
       "      <td>2020-08-11 19:03:04.037341</td>\n",
       "      <td>00:11:43.752632</td>\n",
       "      <td>500</td>\n",
       "      <td>15</td>\n",
       "      <td>{'n_estimators': [1, 10, 20, 30, 40, 50, 60, 7...</td>\n",
       "      <td>COMPLETE</td>\n",
       "    </tr>\n",
       "    <tr>\n",
       "      <th>2</th>\n",
       "      <td>2</td>\n",
       "      <td>1.975951</td>\n",
       "      <td>2020-08-11 19:03:04.044936</td>\n",
       "      <td>2020-08-11 19:05:41.196917</td>\n",
       "      <td>00:02:37.151981</td>\n",
       "      <td>60</td>\n",
       "      <td>6</td>\n",
       "      <td>{'n_estimators': [1, 10, 20, 30, 40, 50, 60, 7...</td>\n",
       "      <td>COMPLETE</td>\n",
       "    </tr>\n",
       "    <tr>\n",
       "      <th>3</th>\n",
       "      <td>3</td>\n",
       "      <td>1.954590</td>\n",
       "      <td>2020-08-11 19:05:41.202983</td>\n",
       "      <td>2020-08-11 19:27:42.070493</td>\n",
       "      <td>00:22:00.867510</td>\n",
       "      <td>1000</td>\n",
       "      <td>20</td>\n",
       "      <td>{'n_estimators': [1, 10, 20, 30, 40, 50, 60, 7...</td>\n",
       "      <td>COMPLETE</td>\n",
       "    </tr>\n",
       "    <tr>\n",
       "      <th>4</th>\n",
       "      <td>4</td>\n",
       "      <td>1.955769</td>\n",
       "      <td>2020-08-11 19:27:42.074589</td>\n",
       "      <td>2020-08-11 19:33:18.504107</td>\n",
       "      <td>00:05:36.429518</td>\n",
       "      <td>200</td>\n",
       "      <td>12</td>\n",
       "      <td>{'n_estimators': [1, 10, 20, 30, 40, 50, 60, 7...</td>\n",
       "      <td>COMPLETE</td>\n",
       "    </tr>\n",
       "    <tr>\n",
       "      <th>5</th>\n",
       "      <td>5</td>\n",
       "      <td>1.953410</td>\n",
       "      <td>2020-08-11 19:33:18.509981</td>\n",
       "      <td>2020-08-11 19:41:01.333420</td>\n",
       "      <td>00:07:42.823439</td>\n",
       "      <td>300</td>\n",
       "      <td>13</td>\n",
       "      <td>{'n_estimators': [1, 10, 20, 30, 40, 50, 60, 7...</td>\n",
       "      <td>COMPLETE</td>\n",
       "    </tr>\n",
       "    <tr>\n",
       "      <th>6</th>\n",
       "      <td>6</td>\n",
       "      <td>1.954252</td>\n",
       "      <td>2020-08-11 19:41:01.338681</td>\n",
       "      <td>2020-08-11 19:50:35.290079</td>\n",
       "      <td>00:09:33.951398</td>\n",
       "      <td>400</td>\n",
       "      <td>14</td>\n",
       "      <td>{'n_estimators': [1, 10, 20, 30, 40, 50, 60, 7...</td>\n",
       "      <td>COMPLETE</td>\n",
       "    </tr>\n",
       "    <tr>\n",
       "      <th>7</th>\n",
       "      <td>7</td>\n",
       "      <td>1.975986</td>\n",
       "      <td>2020-08-11 19:50:35.295438</td>\n",
       "      <td>2020-08-11 19:52:56.887697</td>\n",
       "      <td>00:02:21.592259</td>\n",
       "      <td>40</td>\n",
       "      <td>4</td>\n",
       "      <td>{'n_estimators': [1, 10, 20, 30, 40, 50, 60, 7...</td>\n",
       "      <td>COMPLETE</td>\n",
       "    </tr>\n",
       "    <tr>\n",
       "      <th>8</th>\n",
       "      <td>8</td>\n",
       "      <td>2.076617</td>\n",
       "      <td>2020-08-11 19:52:56.895917</td>\n",
       "      <td>2020-08-11 19:54:35.158264</td>\n",
       "      <td>00:01:38.262347</td>\n",
       "      <td>10</td>\n",
       "      <td>1</td>\n",
       "      <td>{'n_estimators': [1, 10, 20, 30, 40, 50, 60, 7...</td>\n",
       "      <td>COMPLETE</td>\n",
       "    </tr>\n",
       "    <tr>\n",
       "      <th>9</th>\n",
       "      <td>9</td>\n",
       "      <td>1.969064</td>\n",
       "      <td>2020-08-11 19:54:35.164077</td>\n",
       "      <td>2020-08-11 19:57:52.816557</td>\n",
       "      <td>00:03:17.652480</td>\n",
       "      <td>80</td>\n",
       "      <td>8</td>\n",
       "      <td>{'n_estimators': [1, 10, 20, 30, 40, 50, 60, 7...</td>\n",
       "      <td>COMPLETE</td>\n",
       "    </tr>\n",
       "    <tr>\n",
       "      <th>10</th>\n",
       "      <td>10</td>\n",
       "      <td>1.964776</td>\n",
       "      <td>2020-08-11 19:57:52.822142</td>\n",
       "      <td>2020-08-11 20:01:27.401747</td>\n",
       "      <td>00:03:34.579605</td>\n",
       "      <td>100</td>\n",
       "      <td>10</td>\n",
       "      <td>{'n_estimators': [1, 10, 20, 30, 40, 50, 60, 7...</td>\n",
       "      <td>COMPLETE</td>\n",
       "    </tr>\n",
       "    <tr>\n",
       "      <th>11</th>\n",
       "      <td>11</td>\n",
       "      <td>1.950514</td>\n",
       "      <td>2020-08-11 20:01:27.409539</td>\n",
       "      <td>2020-08-11 20:15:14.160495</td>\n",
       "      <td>00:13:46.750956</td>\n",
       "      <td>600</td>\n",
       "      <td>16</td>\n",
       "      <td>{'n_estimators': [1, 10, 20, 30, 40, 50, 60, 7...</td>\n",
       "      <td>COMPLETE</td>\n",
       "    </tr>\n",
       "    <tr>\n",
       "      <th>12</th>\n",
       "      <td>12</td>\n",
       "      <td>1.957732</td>\n",
       "      <td>2020-08-11 20:15:14.164524</td>\n",
       "      <td>2020-08-11 20:18:43.525388</td>\n",
       "      <td>00:03:29.360864</td>\n",
       "      <td>100</td>\n",
       "      <td>11</td>\n",
       "      <td>{'n_estimators': [1, 10, 20, 30, 40, 50, 60, 7...</td>\n",
       "      <td>COMPLETE</td>\n",
       "    </tr>\n",
       "    <tr>\n",
       "      <th>13</th>\n",
       "      <td>13</td>\n",
       "      <td>1.968768</td>\n",
       "      <td>2020-08-11 20:18:43.530156</td>\n",
       "      <td>2020-08-11 20:21:10.754379</td>\n",
       "      <td>00:02:27.224223</td>\n",
       "      <td>50</td>\n",
       "      <td>5</td>\n",
       "      <td>{'n_estimators': [1, 10, 20, 30, 40, 50, 60, 7...</td>\n",
       "      <td>COMPLETE</td>\n",
       "    </tr>\n",
       "    <tr>\n",
       "      <th>14</th>\n",
       "      <td>14</td>\n",
       "      <td>2.025688</td>\n",
       "      <td>2020-08-11 20:21:10.761454</td>\n",
       "      <td>2020-08-11 20:23:01.336153</td>\n",
       "      <td>00:01:50.574699</td>\n",
       "      <td>20</td>\n",
       "      <td>2</td>\n",
       "      <td>{'n_estimators': [1, 10, 20, 30, 40, 50, 60, 7...</td>\n",
       "      <td>COMPLETE</td>\n",
       "    </tr>\n",
       "    <tr>\n",
       "      <th>15</th>\n",
       "      <td>15</td>\n",
       "      <td>2.975509</td>\n",
       "      <td>2020-08-11 20:23:01.340982</td>\n",
       "      <td>2020-08-11 20:24:36.309531</td>\n",
       "      <td>00:01:34.968549</td>\n",
       "      <td>1</td>\n",
       "      <td>0</td>\n",
       "      <td>{'n_estimators': [1, 10, 20, 30, 40, 50, 60, 7...</td>\n",
       "      <td>COMPLETE</td>\n",
       "    </tr>\n",
       "    <tr>\n",
       "      <th>16</th>\n",
       "      <td>16</td>\n",
       "      <td>1.966466</td>\n",
       "      <td>2020-08-11 20:24:36.314498</td>\n",
       "      <td>2020-08-11 20:27:45.284118</td>\n",
       "      <td>00:03:08.969620</td>\n",
       "      <td>70</td>\n",
       "      <td>7</td>\n",
       "      <td>{'n_estimators': [1, 10, 20, 30, 40, 50, 60, 7...</td>\n",
       "      <td>COMPLETE</td>\n",
       "    </tr>\n",
       "    <tr>\n",
       "      <th>17</th>\n",
       "      <td>17</td>\n",
       "      <td>2.007896</td>\n",
       "      <td>2020-08-11 20:27:45.291956</td>\n",
       "      <td>2020-08-11 20:29:49.229463</td>\n",
       "      <td>00:02:03.937507</td>\n",
       "      <td>30</td>\n",
       "      <td>3</td>\n",
       "      <td>{'n_estimators': [1, 10, 20, 30, 40, 50, 60, 7...</td>\n",
       "      <td>COMPLETE</td>\n",
       "    </tr>\n",
       "    <tr>\n",
       "      <th>18</th>\n",
       "      <td>18</td>\n",
       "      <td>1.952497</td>\n",
       "      <td>2020-08-11 20:29:49.235542</td>\n",
       "      <td>2020-08-11 20:49:40.071111</td>\n",
       "      <td>00:19:50.835569</td>\n",
       "      <td>900</td>\n",
       "      <td>19</td>\n",
       "      <td>{'n_estimators': [1, 10, 20, 30, 40, 50, 60, 7...</td>\n",
       "      <td>COMPLETE</td>\n",
       "    </tr>\n",
       "    <tr>\n",
       "      <th>19</th>\n",
       "      <td>19</td>\n",
       "      <td>1.956881</td>\n",
       "      <td>2020-08-11 20:49:40.077326</td>\n",
       "      <td>2020-08-11 20:53:01.549226</td>\n",
       "      <td>00:03:21.471900</td>\n",
       "      <td>90</td>\n",
       "      <td>9</td>\n",
       "      <td>{'n_estimators': [1, 10, 20, 30, 40, 50, 60, 7...</td>\n",
       "      <td>COMPLETE</td>\n",
       "    </tr>\n",
       "    <tr>\n",
       "      <th>20</th>\n",
       "      <td>20</td>\n",
       "      <td>1.950394</td>\n",
       "      <td>2020-08-11 20:53:01.556266</td>\n",
       "      <td>2020-08-11 21:08:42.552311</td>\n",
       "      <td>00:15:40.996045</td>\n",
       "      <td>700</td>\n",
       "      <td>17</td>\n",
       "      <td>{'n_estimators': [1, 10, 20, 30, 40, 50, 60, 7...</td>\n",
       "      <td>COMPLETE</td>\n",
       "    </tr>\n",
       "  </tbody>\n",
       "</table>\n",
       "</div>"
      ],
      "text/plain": [
       "    number     value             datetime_start          datetime_complete  \\\n",
       "0        0  1.950314 2020-08-11 18:33:20.494682 2020-08-11 18:51:20.281746   \n",
       "1        1  1.954792 2020-08-11 18:51:20.284709 2020-08-11 19:03:04.037341   \n",
       "2        2  1.975951 2020-08-11 19:03:04.044936 2020-08-11 19:05:41.196917   \n",
       "3        3  1.954590 2020-08-11 19:05:41.202983 2020-08-11 19:27:42.070493   \n",
       "4        4  1.955769 2020-08-11 19:27:42.074589 2020-08-11 19:33:18.504107   \n",
       "5        5  1.953410 2020-08-11 19:33:18.509981 2020-08-11 19:41:01.333420   \n",
       "6        6  1.954252 2020-08-11 19:41:01.338681 2020-08-11 19:50:35.290079   \n",
       "7        7  1.975986 2020-08-11 19:50:35.295438 2020-08-11 19:52:56.887697   \n",
       "8        8  2.076617 2020-08-11 19:52:56.895917 2020-08-11 19:54:35.158264   \n",
       "9        9  1.969064 2020-08-11 19:54:35.164077 2020-08-11 19:57:52.816557   \n",
       "10      10  1.964776 2020-08-11 19:57:52.822142 2020-08-11 20:01:27.401747   \n",
       "11      11  1.950514 2020-08-11 20:01:27.409539 2020-08-11 20:15:14.160495   \n",
       "12      12  1.957732 2020-08-11 20:15:14.164524 2020-08-11 20:18:43.525388   \n",
       "13      13  1.968768 2020-08-11 20:18:43.530156 2020-08-11 20:21:10.754379   \n",
       "14      14  2.025688 2020-08-11 20:21:10.761454 2020-08-11 20:23:01.336153   \n",
       "15      15  2.975509 2020-08-11 20:23:01.340982 2020-08-11 20:24:36.309531   \n",
       "16      16  1.966466 2020-08-11 20:24:36.314498 2020-08-11 20:27:45.284118   \n",
       "17      17  2.007896 2020-08-11 20:27:45.291956 2020-08-11 20:29:49.229463   \n",
       "18      18  1.952497 2020-08-11 20:29:49.235542 2020-08-11 20:49:40.071111   \n",
       "19      19  1.956881 2020-08-11 20:49:40.077326 2020-08-11 20:53:01.549226   \n",
       "20      20  1.950394 2020-08-11 20:53:01.556266 2020-08-11 21:08:42.552311   \n",
       "\n",
       "          duration  params_n_estimators  system_attrs_grid_id  \\\n",
       "0  00:17:59.787064                  800                    18   \n",
       "1  00:11:43.752632                  500                    15   \n",
       "2  00:02:37.151981                   60                     6   \n",
       "3  00:22:00.867510                 1000                    20   \n",
       "4  00:05:36.429518                  200                    12   \n",
       "5  00:07:42.823439                  300                    13   \n",
       "6  00:09:33.951398                  400                    14   \n",
       "7  00:02:21.592259                   40                     4   \n",
       "8  00:01:38.262347                   10                     1   \n",
       "9  00:03:17.652480                   80                     8   \n",
       "10 00:03:34.579605                  100                    10   \n",
       "11 00:13:46.750956                  600                    16   \n",
       "12 00:03:29.360864                  100                    11   \n",
       "13 00:02:27.224223                   50                     5   \n",
       "14 00:01:50.574699                   20                     2   \n",
       "15 00:01:34.968549                    1                     0   \n",
       "16 00:03:08.969620                   70                     7   \n",
       "17 00:02:03.937507                   30                     3   \n",
       "18 00:19:50.835569                  900                    19   \n",
       "19 00:03:21.471900                   90                     9   \n",
       "20 00:15:40.996045                  700                    17   \n",
       "\n",
       "                            system_attrs_search_space     state  \n",
       "0   {'n_estimators': [1, 10, 20, 30, 40, 50, 60, 7...  COMPLETE  \n",
       "1   {'n_estimators': [1, 10, 20, 30, 40, 50, 60, 7...  COMPLETE  \n",
       "2   {'n_estimators': [1, 10, 20, 30, 40, 50, 60, 7...  COMPLETE  \n",
       "3   {'n_estimators': [1, 10, 20, 30, 40, 50, 60, 7...  COMPLETE  \n",
       "4   {'n_estimators': [1, 10, 20, 30, 40, 50, 60, 7...  COMPLETE  \n",
       "5   {'n_estimators': [1, 10, 20, 30, 40, 50, 60, 7...  COMPLETE  \n",
       "6   {'n_estimators': [1, 10, 20, 30, 40, 50, 60, 7...  COMPLETE  \n",
       "7   {'n_estimators': [1, 10, 20, 30, 40, 50, 60, 7...  COMPLETE  \n",
       "8   {'n_estimators': [1, 10, 20, 30, 40, 50, 60, 7...  COMPLETE  \n",
       "9   {'n_estimators': [1, 10, 20, 30, 40, 50, 60, 7...  COMPLETE  \n",
       "10  {'n_estimators': [1, 10, 20, 30, 40, 50, 60, 7...  COMPLETE  \n",
       "11  {'n_estimators': [1, 10, 20, 30, 40, 50, 60, 7...  COMPLETE  \n",
       "12  {'n_estimators': [1, 10, 20, 30, 40, 50, 60, 7...  COMPLETE  \n",
       "13  {'n_estimators': [1, 10, 20, 30, 40, 50, 60, 7...  COMPLETE  \n",
       "14  {'n_estimators': [1, 10, 20, 30, 40, 50, 60, 7...  COMPLETE  \n",
       "15  {'n_estimators': [1, 10, 20, 30, 40, 50, 60, 7...  COMPLETE  \n",
       "16  {'n_estimators': [1, 10, 20, 30, 40, 50, 60, 7...  COMPLETE  \n",
       "17  {'n_estimators': [1, 10, 20, 30, 40, 50, 60, 7...  COMPLETE  \n",
       "18  {'n_estimators': [1, 10, 20, 30, 40, 50, 60, 7...  COMPLETE  \n",
       "19  {'n_estimators': [1, 10, 20, 30, 40, 50, 60, 7...  COMPLETE  \n",
       "20  {'n_estimators': [1, 10, 20, 30, 40, 50, 60, 7...  COMPLETE  "
      ]
     },
     "execution_count": 60,
     "metadata": {},
     "output_type": "execute_result"
    }
   ],
   "source": [
    "res1"
   ]
  },
  {
   "cell_type": "code",
   "execution_count": 61,
   "metadata": {},
   "outputs": [
    {
     "data": {
      "text/plain": [
       "number                                                                       0\n",
       "value                                                                  1.95031\n",
       "datetime_start                                      2020-08-11 18:33:20.494682\n",
       "datetime_complete                                   2020-08-11 18:51:20.281746\n",
       "duration                                                0 days 00:17:59.787064\n",
       "params_n_estimators                                                        800\n",
       "system_attrs_grid_id                                                        18\n",
       "system_attrs_search_space    {'n_estimators': [1, 10, 20, 30, 40, 50, 60, 7...\n",
       "state                                                                 COMPLETE\n",
       "Name: 0, dtype: object"
      ]
     },
     "execution_count": 61,
     "metadata": {},
     "output_type": "execute_result"
    }
   ],
   "source": [
    "idx_min = res1[\"value\"].idxmin\n",
    "res1.iloc[idx_min,:]"
   ]
  },
  {
   "cell_type": "code",
   "execution_count": 62,
   "metadata": {},
   "outputs": [],
   "source": [
    "# Save the result\n",
    "res1.to_csv(\"qsar_results/rf_n_estimators.csv\", index=False)"
   ]
  },
  {
   "cell_type": "markdown",
   "metadata": {},
   "source": [
    "### 2. bootstrap"
   ]
  },
  {
   "cell_type": "code",
   "execution_count": 63,
   "metadata": {},
   "outputs": [
    {
     "name": "stdout",
     "output_type": "stream",
     "text": [
      "Number of points: 2\n"
     ]
    }
   ],
   "source": [
    "param_list = [True, False]\n",
    "def objective(trial):\n",
    "    mlist = []\n",
    "    param = {\n",
    "        \"n_estimators\": 100,\n",
    "        'criterion': 'mse',\n",
    "        'bootstrap': trial.suggest_categorical('bootstrap', param_list), # replace\n",
    "        'max_features': 'sqrt', ### \"mtry\": \"sqrt\" / \"max_features\": \"auto\" ###\n",
    "        'min_samples_leaf': 1, # \"min.node.size\" default: 5 / \"min_samples_leaf\": 1\n",
    "        'n_jobs': -1\n",
    "    }\n",
    "    if param[\"bootstrap\"] == True:\n",
    "        param[\"max_samples\"] = None\n",
    "    # fit rf to each dataset    \n",
    "    for i in range(num_datasets):\n",
    "        ncol = df_list[i].shape[1]\n",
    "        yvec = df_list[i].iloc[:,0:1].values.ravel()\n",
    "        mod = RandomForestRegressor(**param)\n",
    "        rmse = cross_val_score(mod, df_list[i].iloc[:,1:ncol], yvec, \n",
    "                               scoring=\"neg_root_mean_squared_error\", \n",
    "                               cv=KFold(n_splits=3, shuffle=True, random_state=123),\n",
    "                               n_jobs=-1)\n",
    "        mlist.append(abs(rmse).mean())\n",
    "    rmse_mean = sum(mlist)/len(mlist)   \n",
    "    return rmse_mean\n",
    "# calculate grid points\n",
    "search_space = {'bootstrap': param_list}\n",
    "print(\"Number of points: {}\".format(len(param_list)))"
   ]
  },
  {
   "cell_type": "code",
   "execution_count": 64,
   "metadata": {},
   "outputs": [
    {
     "name": "stderr",
     "output_type": "stream",
     "text": [
      "/Users/seanhong/opt/anaconda3/lib/python3.7/site-packages/optuna/_experimental.py:83: ExperimentalWarning: GridSampler is experimental (supported from v1.2.0). The interface can change in the future.\n",
      "  ExperimentalWarning,\n",
      "[I 2020-08-11 21:12:05,198] Finished trial#0 with value: 1.9694209049027698 with parameters: {'bootstrap': True}. Best is trial#0 with value: 1.9694209049027698.\n",
      "[I 2020-08-11 21:16:56,459] Finished trial#1 with value: 1.918351706415024 with parameters: {'bootstrap': False}. Best is trial#1 with value: 1.918351706415024.\n"
     ]
    }
   ],
   "source": [
    "study = optuna.create_study(direction='minimize', sampler=GridSampler(search_space))\n",
    "study.optimize(objective, n_trials=len(param_list))\n",
    "res2 = study.trials_dataframe()"
   ]
  },
  {
   "cell_type": "code",
   "execution_count": 65,
   "metadata": {},
   "outputs": [],
   "source": [
    "# Save the result\n",
    "res2.to_csv(\"qsar_results/rf_bootstrap.csv\", index=False)"
   ]
  },
  {
   "cell_type": "markdown",
   "metadata": {},
   "source": [
    "### 3. max_samples"
   ]
  },
  {
   "cell_type": "code",
   "execution_count": 66,
   "metadata": {},
   "outputs": [
    {
     "name": "stdout",
     "output_type": "stream",
     "text": [
      "Number of points: 10\n"
     ]
    }
   ],
   "source": [
    "param_list = [i/10 for i in range(1,10)]\n",
    "param_list.append(0.99)\n",
    "def objective(trial):\n",
    "    mlist = []\n",
    "    param = {\n",
    "        \"n_estimators\": 100,\n",
    "        'criterion': 'mse',\n",
    "        'bootstrap': True, # replace\n",
    "        'max_samples': trial.suggest_categorical(\"max_samples\", param_list),\n",
    "        'max_features': \"sqrt\", ### \"mtry\": \"sqrt\" --better / \"max_features\": \"auto\" ###\n",
    "        'min_samples_leaf': 1, # \"min.node.size\" default: 5 / \"min_samples_leaf\": 1\n",
    "        'n_jobs': -1\n",
    "    }\n",
    "    # fit rf to each dataset    \n",
    "    for i in range(num_datasets):\n",
    "        ncol = df_list[i].shape[1]\n",
    "        yvec = df_list[i].iloc[:,0:1].values.ravel()\n",
    "        mod = RandomForestRegressor(**param)\n",
    "        rmse = cross_val_score(mod, df_list[i].iloc[:,1:ncol], yvec, \n",
    "                               scoring=\"neg_root_mean_squared_error\",\n",
    "                               cv=KFold(n_splits=3, shuffle=True, random_state=123),\n",
    "                               n_jobs=-1)\n",
    "        mlist.append(abs(rmse).mean())\n",
    "    rmse_mean = sum(mlist)/len(mlist)   \n",
    "    return rmse_mean\n",
    "# define grid points\n",
    "search_space = {'max_samples': param_list}\n",
    "print(\"Number of points: {}\".format(len(param_list)))"
   ]
  },
  {
   "cell_type": "code",
   "execution_count": 67,
   "metadata": {},
   "outputs": [
    {
     "name": "stderr",
     "output_type": "stream",
     "text": [
      "[I 2020-08-11 21:19:10,226] Finished trial#0 with value: 2.1120198174300224 with parameters: {'max_samples': 0.3}. Best is trial#0 with value: 2.1120198174300224.\n",
      "[I 2020-08-11 21:21:48,464] Finished trial#1 with value: 2.0401366045348284 with parameters: {'max_samples': 0.5}. Best is trial#1 with value: 2.0401366045348284.\n",
      "[I 2020-08-11 21:24:15,582] Finished trial#2 with value: 2.0740466315445754 with parameters: {'max_samples': 0.4}. Best is trial#1 with value: 2.0401366045348284.\n",
      "[I 2020-08-11 21:26:20,495] Finished trial#3 with value: 2.1938561724148244 with parameters: {'max_samples': 0.2}. Best is trial#1 with value: 2.0401366045348284.\n",
      "[I 2020-08-11 21:29:21,832] Finished trial#4 with value: 2.0203023447184956 with parameters: {'max_samples': 0.6}. Best is trial#4 with value: 2.0203023447184956.\n",
      "[I 2020-08-11 21:32:51,773] Finished trial#5 with value: 1.965659094132609 with parameters: {'max_samples': 0.99}. Best is trial#5 with value: 1.965659094132609.\n",
      "[I 2020-08-11 21:35:53,095] Finished trial#6 with value: 2.000060195108319 with parameters: {'max_samples': 0.7}. Best is trial#5 with value: 1.965659094132609.\n",
      "[I 2020-08-11 21:37:37,099] Finished trial#7 with value: 2.3480443099847337 with parameters: {'max_samples': 0.1}. Best is trial#5 with value: 1.965659094132609.\n",
      "[I 2020-08-11 21:40:47,377] Finished trial#8 with value: 1.989471951639305 with parameters: {'max_samples': 0.8}. Best is trial#5 with value: 1.965659094132609.\n",
      "[I 2020-08-11 21:44:14,973] Finished trial#9 with value: 1.9665817445040121 with parameters: {'max_samples': 0.9}. Best is trial#5 with value: 1.965659094132609.\n"
     ]
    }
   ],
   "source": [
    "study = optuna.create_study(direction='minimize', sampler=GridSampler(search_space))\n",
    "study.optimize(objective, n_trials=len(param_list))\n",
    "res3 = study.trials_dataframe()"
   ]
  },
  {
   "cell_type": "code",
   "execution_count": 68,
   "metadata": {},
   "outputs": [],
   "source": [
    "# Save the result\n",
    "res3.to_csv(\"qsar_results/rf_max_samples.csv\", index=False)"
   ]
  },
  {
   "cell_type": "markdown",
   "metadata": {},
   "source": [
    "### 4. max_features"
   ]
  },
  {
   "cell_type": "code",
   "execution_count": 104,
   "metadata": {},
   "outputs": [
    {
     "name": "stdout",
     "output_type": "stream",
     "text": [
      "Number of points: 4\n"
     ]
    }
   ],
   "source": [
    "### This is very time-consuming!!!!!!!!!!!!!\n",
    "param_list = [\"sqrt\", \"auto\", \"log2\"]\n",
    "def objective(trial):\n",
    "    mlist = []\n",
    "    param = {\n",
    "        \"n_estimators\": 100,\n",
    "        'criterion': 'mse',\n",
    "        'bootstrap': True, # replace\n",
    "        'max_samples': None,\n",
    "        'max_features': trial.suggest_categorical('max_features', [\"sqrt\", \"auto\", \"log2\"]), ### \"mtry\": \"sqrt\" --better / \"max_features\": \"auto\" ###\n",
    "        'min_samples_leaf': 1, # \"min.node.size\" default: 5 / \"min_samples_leaf\": 1\n",
    "        'n_jobs': -1\n",
    "    }\n",
    "    # fit rf to each dataset    \n",
    "    for i in range(num_datasets):\n",
    "        ncol = df_list[i].shape[1]\n",
    "        yvec = df_list[i].iloc[:,0:1].values.ravel()\n",
    "        mod = RandomForestRegressor(**param)\n",
    "        rmse = cross_val_score(mod, df_list[i].iloc[:,1:ncol], yvec, \n",
    "                               scoring=\"neg_root_mean_squared_error\",\n",
    "                               cv=KFold(n_splits=3, shuffle=True, random_state=123),\n",
    "                               n_jobs=-1)\n",
    "        mlist.append(abs(rmse).mean())\n",
    "    rmse_mean = sum(mlist)/len(mlist)   \n",
    "    return rmse_mean\n",
    "# define grid points\n",
    "search_space = {'max_features': param_list}\n",
    "print(\"Number of points: {}\".format(len(param_list)))"
   ]
  },
  {
   "cell_type": "code",
   "execution_count": 105,
   "metadata": {},
   "outputs": [
    {
     "name": "stderr",
     "output_type": "stream",
     "text": [
      "/Users/seanhong/opt/anaconda3/lib/python3.7/site-packages/optuna/_experimental.py:83: ExperimentalWarning: GridSampler is experimental (supported from v1.2.0). The interface can change in the future.\n",
      "  ExperimentalWarning,\n"
     ]
    },
    {
     "ename": "TypeError",
     "evalue": "'<' not supported between instances of 'float' and 'str'",
     "output_type": "error",
     "traceback": [
      "\u001b[0;31m---------------------------------------------------------------------------\u001b[0m",
      "\u001b[0;31mTypeError\u001b[0m                                 Traceback (most recent call last)",
      "\u001b[0;32m<ipython-input-105-b40fca583ed5>\u001b[0m in \u001b[0;36m<module>\u001b[0;34m\u001b[0m\n\u001b[0;32m----> 1\u001b[0;31m \u001b[0mstudy\u001b[0m \u001b[0;34m=\u001b[0m \u001b[0moptuna\u001b[0m\u001b[0;34m.\u001b[0m\u001b[0mcreate_study\u001b[0m\u001b[0;34m(\u001b[0m\u001b[0mdirection\u001b[0m\u001b[0;34m=\u001b[0m\u001b[0;34m'minimize'\u001b[0m\u001b[0;34m,\u001b[0m \u001b[0msampler\u001b[0m\u001b[0;34m=\u001b[0m\u001b[0mGridSampler\u001b[0m\u001b[0;34m(\u001b[0m\u001b[0msearch_space\u001b[0m\u001b[0;34m)\u001b[0m\u001b[0;34m)\u001b[0m\u001b[0;34m\u001b[0m\u001b[0;34m\u001b[0m\u001b[0m\n\u001b[0m\u001b[1;32m      2\u001b[0m \u001b[0mstudy\u001b[0m\u001b[0;34m.\u001b[0m\u001b[0moptimize\u001b[0m\u001b[0;34m(\u001b[0m\u001b[0mobjective\u001b[0m\u001b[0;34m,\u001b[0m \u001b[0mn_trials\u001b[0m\u001b[0;34m=\u001b[0m\u001b[0mlen\u001b[0m\u001b[0;34m(\u001b[0m\u001b[0mparam_list\u001b[0m\u001b[0;34m)\u001b[0m\u001b[0;34m)\u001b[0m\u001b[0;34m\u001b[0m\u001b[0;34m\u001b[0m\u001b[0m\n\u001b[1;32m      3\u001b[0m \u001b[0mres4\u001b[0m \u001b[0;34m=\u001b[0m \u001b[0mstudy\u001b[0m\u001b[0;34m.\u001b[0m\u001b[0mtrials_dataframe\u001b[0m\u001b[0;34m(\u001b[0m\u001b[0;34m)\u001b[0m\u001b[0;34m\u001b[0m\u001b[0;34m\u001b[0m\u001b[0m\n",
      "\u001b[0;32m~/opt/anaconda3/lib/python3.7/site-packages/optuna/_experimental.py\u001b[0m in \u001b[0;36mwrapped_init\u001b[0;34m(self, *args, **kwargs)\u001b[0m\n\u001b[1;32m     84\u001b[0m                 )\n\u001b[1;32m     85\u001b[0m \u001b[0;34m\u001b[0m\u001b[0m\n\u001b[0;32m---> 86\u001b[0;31m                 \u001b[0m_original_init\u001b[0m\u001b[0;34m(\u001b[0m\u001b[0mself\u001b[0m\u001b[0;34m,\u001b[0m \u001b[0;34m*\u001b[0m\u001b[0margs\u001b[0m\u001b[0;34m,\u001b[0m \u001b[0;34m**\u001b[0m\u001b[0mkwargs\u001b[0m\u001b[0;34m)\u001b[0m\u001b[0;34m\u001b[0m\u001b[0;34m\u001b[0m\u001b[0m\n\u001b[0m\u001b[1;32m     87\u001b[0m \u001b[0;34m\u001b[0m\u001b[0m\n\u001b[1;32m     88\u001b[0m             \u001b[0mcls\u001b[0m\u001b[0;34m.\u001b[0m\u001b[0m__init__\u001b[0m \u001b[0;34m=\u001b[0m \u001b[0mwrapped_init\u001b[0m\u001b[0;34m\u001b[0m\u001b[0;34m\u001b[0m\u001b[0m\n",
      "\u001b[0;32m~/opt/anaconda3/lib/python3.7/site-packages/optuna/samplers/grid.py\u001b[0m in \u001b[0;36m__init__\u001b[0;34m(self, search_space)\u001b[0m\n\u001b[1;32m     90\u001b[0m         \u001b[0mself\u001b[0m\u001b[0;34m.\u001b[0m\u001b[0m_search_space\u001b[0m \u001b[0;34m=\u001b[0m \u001b[0mcollections\u001b[0m\u001b[0;34m.\u001b[0m\u001b[0mOrderedDict\u001b[0m\u001b[0;34m(\u001b[0m\u001b[0;34m)\u001b[0m\u001b[0;34m\u001b[0m\u001b[0;34m\u001b[0m\u001b[0m\n\u001b[1;32m     91\u001b[0m         \u001b[0;32mfor\u001b[0m \u001b[0mparam_name\u001b[0m\u001b[0;34m,\u001b[0m \u001b[0mparam_values\u001b[0m \u001b[0;32min\u001b[0m \u001b[0msorted\u001b[0m\u001b[0;34m(\u001b[0m\u001b[0msearch_space\u001b[0m\u001b[0;34m.\u001b[0m\u001b[0mitems\u001b[0m\u001b[0;34m(\u001b[0m\u001b[0;34m)\u001b[0m\u001b[0;34m,\u001b[0m \u001b[0mkey\u001b[0m\u001b[0;34m=\u001b[0m\u001b[0;32mlambda\u001b[0m \u001b[0mx\u001b[0m\u001b[0;34m:\u001b[0m \u001b[0mx\u001b[0m\u001b[0;34m[\u001b[0m\u001b[0;36m0\u001b[0m\u001b[0;34m]\u001b[0m\u001b[0;34m)\u001b[0m\u001b[0;34m:\u001b[0m\u001b[0;34m\u001b[0m\u001b[0;34m\u001b[0m\u001b[0m\n\u001b[0;32m---> 92\u001b[0;31m             \u001b[0mself\u001b[0m\u001b[0;34m.\u001b[0m\u001b[0m_search_space\u001b[0m\u001b[0;34m[\u001b[0m\u001b[0mparam_name\u001b[0m\u001b[0;34m]\u001b[0m \u001b[0;34m=\u001b[0m \u001b[0msorted\u001b[0m\u001b[0;34m(\u001b[0m\u001b[0mparam_values\u001b[0m\u001b[0;34m)\u001b[0m\u001b[0;34m\u001b[0m\u001b[0;34m\u001b[0m\u001b[0m\n\u001b[0m\u001b[1;32m     93\u001b[0m \u001b[0;34m\u001b[0m\u001b[0m\n\u001b[1;32m     94\u001b[0m         \u001b[0mself\u001b[0m\u001b[0;34m.\u001b[0m\u001b[0m_all_grids\u001b[0m \u001b[0;34m=\u001b[0m \u001b[0mlist\u001b[0m\u001b[0;34m(\u001b[0m\u001b[0mitertools\u001b[0m\u001b[0;34m.\u001b[0m\u001b[0mproduct\u001b[0m\u001b[0;34m(\u001b[0m\u001b[0;34m*\u001b[0m\u001b[0mself\u001b[0m\u001b[0;34m.\u001b[0m\u001b[0m_search_space\u001b[0m\u001b[0;34m.\u001b[0m\u001b[0mvalues\u001b[0m\u001b[0;34m(\u001b[0m\u001b[0;34m)\u001b[0m\u001b[0;34m)\u001b[0m\u001b[0;34m)\u001b[0m\u001b[0;34m\u001b[0m\u001b[0;34m\u001b[0m\u001b[0m\n",
      "\u001b[0;31mTypeError\u001b[0m: '<' not supported between instances of 'float' and 'str'"
     ]
    }
   ],
   "source": [
    "study = optuna.create_study(direction='minimize', sampler=GridSampler(search_space))\n",
    "study.optimize(objective, n_trials=len(param_list))\n",
    "res4 = study.trials_dataframe()"
   ]
  },
  {
   "cell_type": "code",
   "execution_count": 71,
   "metadata": {},
   "outputs": [],
   "source": [
    "# Save the result\n",
    "res4.to_csv(\"qsar_results/rf_max_features.csv\", index=False)"
   ]
  },
  {
   "cell_type": "code",
   "execution_count": 107,
   "metadata": {},
   "outputs": [
    {
     "name": "stdout",
     "output_type": "stream",
     "text": [
      "Number of points: 9\n"
     ]
    }
   ],
   "source": [
    "### This is very time-consuming!!!!!!!!!!!!!\n",
    "param_list = [i/10 for i in range(1,10)]\n",
    "def objective(trial):\n",
    "    mlist = []\n",
    "    param = {\n",
    "        \"n_estimators\": 100,\n",
    "        'criterion': 'mse',\n",
    "        'bootstrap': True,\n",
    "        'max_samples': None,\n",
    "        'max_features': trial.suggest_discrete_uniform('max_features', 0.1, 0.9, 0.1),\n",
    "        'min_samples_leaf': 1,\n",
    "        'n_jobs': -1\n",
    "    }\n",
    "    # fit rf to each dataset    \n",
    "    for i in range(num_datasets):\n",
    "        ncol = df_list[i].shape[1]\n",
    "        yvec = df_list[i].iloc[:,0:1].values.ravel()\n",
    "        mod = RandomForestRegressor(**param)\n",
    "        rmse = cross_val_score(mod, df_list[i].iloc[:,1:ncol], yvec, \n",
    "                               scoring=\"neg_root_mean_squared_error\",\n",
    "                               cv=KFold(n_splits=3, shuffle=True, random_state=123),\n",
    "                               n_jobs=-1)\n",
    "        mlist.append(abs(rmse).mean())\n",
    "    rmse_mean = sum(mlist)/len(mlist)   \n",
    "    return rmse_mean\n",
    "# define grid points\n",
    "search_space = {'max_features': param_list}\n",
    "print(\"Number of points: {}\".format(len(param_list)))"
   ]
  },
  {
   "cell_type": "code",
   "execution_count": 108,
   "metadata": {},
   "outputs": [
    {
     "name": "stderr",
     "output_type": "stream",
     "text": [
      "/Users/seanhong/opt/anaconda3/lib/python3.7/site-packages/optuna/_experimental.py:83: ExperimentalWarning: GridSampler is experimental (supported from v1.2.0). The interface can change in the future.\n",
      "  ExperimentalWarning,\n",
      "[I 2020-08-21 19:41:18,309] Finished trial#0 with value: 1.9313815606895195 with parameters: {'max_features': 0.4}. Best is trial#0 with value: 1.9313815606895195.\n",
      "[I 2020-08-21 20:11:17,838] Finished trial#1 with value: 1.9288357582547493 with parameters: {'max_features': 0.5}. Best is trial#1 with value: 1.9288357582547493.\n",
      "[I 2020-08-21 20:55:14,528] Finished trial#2 with value: 1.941190273991497 with parameters: {'max_features': 0.8}. Best is trial#1 with value: 1.9288357582547493.\n",
      "[I 2020-08-21 21:15:17,556] Finished trial#3 with value: 1.9305536825453473 with parameters: {'max_features': 0.3}. Best is trial#1 with value: 1.9288357582547493.\n",
      "[I 2020-08-21 21:25:23,690] Finished trial#4 with value: 1.9329404304290554 with parameters: {'max_features': 0.1}. Best is trial#1 with value: 1.9288357582547493.\n",
      "[I 2020-08-21 21:40:42,162] Finished trial#5 with value: 1.9368850931587898 with parameters: {'max_features': 0.2}. Best is trial#1 with value: 1.9288357582547493.\n",
      "[I 2020-08-21 22:29:18,116] Finished trial#6 with value: 1.9392080404197136 with parameters: {'max_features': 0.9}. Best is trial#1 with value: 1.9288357582547493.\n",
      "[I 2020-08-21 23:08:28,363] Finished trial#7 with value: 1.933206861511836 with parameters: {'max_features': 0.7}. Best is trial#1 with value: 1.9288357582547493.\n",
      "[I 2020-08-21 23:43:05,847] Finished trial#8 with value: 1.9332717683437823 with parameters: {'max_features': 0.6}. Best is trial#1 with value: 1.9288357582547493.\n"
     ]
    }
   ],
   "source": [
    "study = optuna.create_study(direction='minimize', sampler=GridSampler(search_space))\n",
    "study.optimize(objective, n_trials=len(param_list))\n",
    "res4 = study.trials_dataframe()"
   ]
  },
  {
   "cell_type": "code",
   "execution_count": 109,
   "metadata": {},
   "outputs": [],
   "source": [
    "# Save the result\n",
    "res4.to_csv(\"qsar_results/rf_max_features123.csv\", index=False)"
   ]
  },
  {
   "cell_type": "markdown",
   "metadata": {},
   "source": [
    "### 5. min_samples_leaf"
   ]
  },
  {
   "cell_type": "code",
   "execution_count": 72,
   "metadata": {},
   "outputs": [
    {
     "name": "stdout",
     "output_type": "stream",
     "text": [
      "Number of points: 6\n"
     ]
    }
   ],
   "source": [
    "param_list = [i/10 for i in range(1, 6)]\n",
    "param_list.append(1)\n",
    "def objective(trial):\n",
    "    mlist = []\n",
    "    param = {\n",
    "        \"n_estimators\": 100,\n",
    "        'criterion': 'mse',\n",
    "        'bootstrap': True, # replace\n",
    "        'max_samples': None,\n",
    "        'max_features': \"sqrt\", ### \"mtry\": \"sqrt\" --better / \"max_features\": \"auto\" ###\n",
    "        'min_samples_leaf': trial.suggest_categorical(\"min_samples_leaf\", param_list), # \"min.node.size\" default: 5 / \"min_samples_leaf\": 1\n",
    "        'n_jobs': -1\n",
    "    }\n",
    "    # fit rf to each dataset    \n",
    "    for i in range(num_datasets):\n",
    "        ncol = df_list[i].shape[1]\n",
    "        yvec = df_list[i].iloc[:,0:1].values.ravel()\n",
    "        mod = RandomForestRegressor(**param)\n",
    "        rmse = cross_val_score(mod, df_list[i].iloc[:,1:ncol], yvec, \n",
    "                               scoring=\"neg_root_mean_squared_error\",\n",
    "                               cv=KFold(n_splits=3, shuffle=True, random_state=123),\n",
    "                               n_jobs=-1)\n",
    "        mlist.append(abs(rmse).mean())\n",
    "    rmse_mean = sum(mlist)/len(mlist)   \n",
    "    return rmse_mean\n",
    "# define grid points\n",
    "search_space = {'min_samples_leaf': param_list}\n",
    "print(\"Number of points: {}\".format(len(param_list)))"
   ]
  },
  {
   "cell_type": "code",
   "execution_count": 73,
   "metadata": {},
   "outputs": [
    {
     "name": "stderr",
     "output_type": "stream",
     "text": [
      "[I 2020-08-11 22:46:26,331] Finished trial#0 with value: 1.9635276150742966 with parameters: {'min_samples_leaf': 1}. Best is trial#0 with value: 1.9635276150742966.\n",
      "[I 2020-08-11 22:48:07,565] Finished trial#1 with value: 3.1798516707891533 with parameters: {'min_samples_leaf': 0.2}. Best is trial#0 with value: 1.9635276150742966.\n",
      "[I 2020-08-11 22:49:46,008] Finished trial#2 with value: 2.929823568260731 with parameters: {'min_samples_leaf': 0.1}. Best is trial#0 with value: 1.9635276150742966.\n",
      "[I 2020-08-11 22:51:27,397] Finished trial#3 with value: 3.3842635665485243 with parameters: {'min_samples_leaf': 0.4}. Best is trial#0 with value: 1.9635276150742966.\n",
      "[I 2020-08-11 22:53:14,798] Finished trial#4 with value: 3.2902037163262454 with parameters: {'min_samples_leaf': 0.3}. Best is trial#0 with value: 1.9635276150742966.\n",
      "[I 2020-08-11 22:54:45,742] Finished trial#5 with value: 3.3840314069266477 with parameters: {'min_samples_leaf': 0.5}. Best is trial#0 with value: 1.9635276150742966.\n"
     ]
    }
   ],
   "source": [
    "study = optuna.create_study(direction='minimize', sampler=GridSampler(search_space))\n",
    "study.optimize(objective, n_trials=len(param_list))\n",
    "res5 = study.trials_dataframe()"
   ]
  },
  {
   "cell_type": "code",
   "execution_count": 74,
   "metadata": {},
   "outputs": [],
   "source": [
    "# Save the result\n",
    "res5.to_csv(\"qsar_results/rf_min_samples_leaf.csv\", index=False)"
   ]
  },
  {
   "cell_type": "markdown",
   "metadata": {},
   "source": [
    "## - XGBoost"
   ]
  },
  {
   "cell_type": "markdown",
   "metadata": {},
   "source": [
    "### 1. num_boost_round"
   ]
  },
  {
   "cell_type": "code",
   "execution_count": 75,
   "metadata": {},
   "outputs": [
    {
     "name": "stdout",
     "output_type": "stream",
     "text": [
      "Number of points: 21\n"
     ]
    }
   ],
   "source": [
    "param_list = [1, *range(10,101,10), *range(100,1001,100)]\n",
    "def objective(trial):\n",
    "    mlist = []\n",
    "    param = {\n",
    "        \"booster\": \"gbtree\",\n",
    "        \"lambda\": 1,\n",
    "        \"alpha\": 0,\n",
    "        \"eta\": 0.3,\n",
    "        \"subsample\": 1,\n",
    "        \"max_depth\": 6,\n",
    "        \"min_child_weight\": 1,\n",
    "        \"colsample_bytree\": 1,\n",
    "        \"colsample_bylevel\": 1\n",
    "    }\n",
    "    n_boost = trial.suggest_categorical(\"num_boost_round\", param_list)\n",
    "    # run xgboost.cv for each dataset\n",
    "    for i in range(num_datasets):\n",
    "        bst = xgb.cv(param, dmat_list[i], num_boost_round=n_boost, nfold=3, metrics='rmse', seed=123, shuffle=True)\n",
    "        mlist.append(bst.iloc[len(bst.index)-1, 2])\n",
    "    rmse_mean = sum(mlist)/len(mlist)\n",
    "    return rmse_mean\n",
    "search_space = {\"num_boost_round\": param_list}\n",
    "print(\"Number of points: {}\".format(len(param_list)))"
   ]
  },
  {
   "cell_type": "code",
   "execution_count": 76,
   "metadata": {},
   "outputs": [
    {
     "name": "stderr",
     "output_type": "stream",
     "text": [
      "[I 2020-08-12 01:41:23,206] Finished trial#0 with value: 5.957756755555555 with parameters: {'num_boost_round': 1}. Best is trial#0 with value: 5.957756755555555.\n",
      "[I 2020-08-12 02:35:03,132] Finished trial#1 with value: 1.9467973111111114 with parameters: {'num_boost_round': 80}. Best is trial#1 with value: 1.9467973111111114.\n"
     ]
    },
    {
     "ename": "KeyboardInterrupt",
     "evalue": "",
     "output_type": "error",
     "traceback": [
      "\u001b[0;31m---------------------------------------------------------------------------\u001b[0m",
      "\u001b[0;31mKeyboardInterrupt\u001b[0m                         Traceback (most recent call last)",
      "\u001b[0;32m<ipython-input-76-659e497c63c2>\u001b[0m in \u001b[0;36m<module>\u001b[0;34m\u001b[0m\n\u001b[1;32m      1\u001b[0m \u001b[0mstudy\u001b[0m \u001b[0;34m=\u001b[0m \u001b[0moptuna\u001b[0m\u001b[0;34m.\u001b[0m\u001b[0mcreate_study\u001b[0m\u001b[0;34m(\u001b[0m\u001b[0mdirection\u001b[0m\u001b[0;34m=\u001b[0m\u001b[0;34m'minimize'\u001b[0m\u001b[0;34m,\u001b[0m \u001b[0msampler\u001b[0m\u001b[0;34m=\u001b[0m\u001b[0mGridSampler\u001b[0m\u001b[0;34m(\u001b[0m\u001b[0msearch_space\u001b[0m\u001b[0;34m)\u001b[0m\u001b[0;34m)\u001b[0m\u001b[0;34m\u001b[0m\u001b[0;34m\u001b[0m\u001b[0m\n\u001b[0;32m----> 2\u001b[0;31m \u001b[0mstudy\u001b[0m\u001b[0;34m.\u001b[0m\u001b[0moptimize\u001b[0m\u001b[0;34m(\u001b[0m\u001b[0mobjective\u001b[0m\u001b[0;34m,\u001b[0m \u001b[0mn_trials\u001b[0m\u001b[0;34m=\u001b[0m\u001b[0mlen\u001b[0m\u001b[0;34m(\u001b[0m\u001b[0mparam_list\u001b[0m\u001b[0;34m)\u001b[0m\u001b[0;34m)\u001b[0m\u001b[0;34m\u001b[0m\u001b[0;34m\u001b[0m\u001b[0m\n\u001b[0m\u001b[1;32m      3\u001b[0m \u001b[0mres1\u001b[0m \u001b[0;34m=\u001b[0m \u001b[0mstudy\u001b[0m\u001b[0;34m.\u001b[0m\u001b[0mtrials_dataframe\u001b[0m\u001b[0;34m(\u001b[0m\u001b[0;34m)\u001b[0m\u001b[0;34m\u001b[0m\u001b[0;34m\u001b[0m\u001b[0m\n",
      "\u001b[0;32m~/opt/anaconda3/lib/python3.7/site-packages/optuna/study.py\u001b[0m in \u001b[0;36moptimize\u001b[0;34m(self, func, n_trials, timeout, n_jobs, catch, callbacks, gc_after_trial, show_progress_bar)\u001b[0m\n\u001b[1;32m    337\u001b[0m             \u001b[0;32mif\u001b[0m \u001b[0mn_jobs\u001b[0m \u001b[0;34m==\u001b[0m \u001b[0;36m1\u001b[0m\u001b[0;34m:\u001b[0m\u001b[0;34m\u001b[0m\u001b[0;34m\u001b[0m\u001b[0m\n\u001b[1;32m    338\u001b[0m                 self._optimize_sequential(\n\u001b[0;32m--> 339\u001b[0;31m                     \u001b[0mfunc\u001b[0m\u001b[0;34m,\u001b[0m \u001b[0mn_trials\u001b[0m\u001b[0;34m,\u001b[0m \u001b[0mtimeout\u001b[0m\u001b[0;34m,\u001b[0m \u001b[0mcatch\u001b[0m\u001b[0;34m,\u001b[0m \u001b[0mcallbacks\u001b[0m\u001b[0;34m,\u001b[0m \u001b[0mgc_after_trial\u001b[0m\u001b[0;34m,\u001b[0m \u001b[0;32mNone\u001b[0m\u001b[0;34m\u001b[0m\u001b[0;34m\u001b[0m\u001b[0m\n\u001b[0m\u001b[1;32m    340\u001b[0m                 )\n\u001b[1;32m    341\u001b[0m             \u001b[0;32melse\u001b[0m\u001b[0;34m:\u001b[0m\u001b[0;34m\u001b[0m\u001b[0;34m\u001b[0m\u001b[0m\n",
      "\u001b[0;32m~/opt/anaconda3/lib/python3.7/site-packages/optuna/study.py\u001b[0m in \u001b[0;36m_optimize_sequential\u001b[0;34m(self, func, n_trials, timeout, catch, callbacks, gc_after_trial, time_start)\u001b[0m\n\u001b[1;32m    680\u001b[0m                     \u001b[0;32mbreak\u001b[0m\u001b[0;34m\u001b[0m\u001b[0;34m\u001b[0m\u001b[0m\n\u001b[1;32m    681\u001b[0m \u001b[0;34m\u001b[0m\u001b[0m\n\u001b[0;32m--> 682\u001b[0;31m             \u001b[0mself\u001b[0m\u001b[0;34m.\u001b[0m\u001b[0m_run_trial_and_callbacks\u001b[0m\u001b[0;34m(\u001b[0m\u001b[0mfunc\u001b[0m\u001b[0;34m,\u001b[0m \u001b[0mcatch\u001b[0m\u001b[0;34m,\u001b[0m \u001b[0mcallbacks\u001b[0m\u001b[0;34m,\u001b[0m \u001b[0mgc_after_trial\u001b[0m\u001b[0;34m)\u001b[0m\u001b[0;34m\u001b[0m\u001b[0;34m\u001b[0m\u001b[0m\n\u001b[0m\u001b[1;32m    683\u001b[0m \u001b[0;34m\u001b[0m\u001b[0m\n\u001b[1;32m    684\u001b[0m             \u001b[0mself\u001b[0m\u001b[0;34m.\u001b[0m\u001b[0m_progress_bar\u001b[0m\u001b[0;34m.\u001b[0m\u001b[0mupdate\u001b[0m\u001b[0;34m(\u001b[0m\u001b[0;34m(\u001b[0m\u001b[0mdatetime\u001b[0m\u001b[0;34m.\u001b[0m\u001b[0mdatetime\u001b[0m\u001b[0;34m.\u001b[0m\u001b[0mnow\u001b[0m\u001b[0;34m(\u001b[0m\u001b[0;34m)\u001b[0m \u001b[0;34m-\u001b[0m \u001b[0mtime_start\u001b[0m\u001b[0;34m)\u001b[0m\u001b[0;34m.\u001b[0m\u001b[0mtotal_seconds\u001b[0m\u001b[0;34m(\u001b[0m\u001b[0;34m)\u001b[0m\u001b[0;34m)\u001b[0m\u001b[0;34m\u001b[0m\u001b[0;34m\u001b[0m\u001b[0m\n",
      "\u001b[0;32m~/opt/anaconda3/lib/python3.7/site-packages/optuna/study.py\u001b[0m in \u001b[0;36m_run_trial_and_callbacks\u001b[0;34m(self, func, catch, callbacks, gc_after_trial)\u001b[0m\n\u001b[1;32m    711\u001b[0m         \u001b[0;31m# type: (...) -> None\u001b[0m\u001b[0;34m\u001b[0m\u001b[0;34m\u001b[0m\u001b[0;34m\u001b[0m\u001b[0m\n\u001b[1;32m    712\u001b[0m \u001b[0;34m\u001b[0m\u001b[0m\n\u001b[0;32m--> 713\u001b[0;31m         \u001b[0mtrial\u001b[0m \u001b[0;34m=\u001b[0m \u001b[0mself\u001b[0m\u001b[0;34m.\u001b[0m\u001b[0m_run_trial\u001b[0m\u001b[0;34m(\u001b[0m\u001b[0mfunc\u001b[0m\u001b[0;34m,\u001b[0m \u001b[0mcatch\u001b[0m\u001b[0;34m,\u001b[0m \u001b[0mgc_after_trial\u001b[0m\u001b[0;34m)\u001b[0m\u001b[0;34m\u001b[0m\u001b[0;34m\u001b[0m\u001b[0m\n\u001b[0m\u001b[1;32m    714\u001b[0m         \u001b[0;32mif\u001b[0m \u001b[0mcallbacks\u001b[0m \u001b[0;32mis\u001b[0m \u001b[0;32mnot\u001b[0m \u001b[0;32mNone\u001b[0m\u001b[0;34m:\u001b[0m\u001b[0;34m\u001b[0m\u001b[0;34m\u001b[0m\u001b[0m\n\u001b[1;32m    715\u001b[0m             \u001b[0mfrozen_trial\u001b[0m \u001b[0;34m=\u001b[0m \u001b[0mcopy\u001b[0m\u001b[0;34m.\u001b[0m\u001b[0mdeepcopy\u001b[0m\u001b[0;34m(\u001b[0m\u001b[0mself\u001b[0m\u001b[0;34m.\u001b[0m\u001b[0m_storage\u001b[0m\u001b[0;34m.\u001b[0m\u001b[0mget_trial\u001b[0m\u001b[0;34m(\u001b[0m\u001b[0mtrial\u001b[0m\u001b[0;34m.\u001b[0m\u001b[0m_trial_id\u001b[0m\u001b[0;34m)\u001b[0m\u001b[0;34m)\u001b[0m\u001b[0;34m\u001b[0m\u001b[0;34m\u001b[0m\u001b[0m\n",
      "\u001b[0;32m~/opt/anaconda3/lib/python3.7/site-packages/optuna/study.py\u001b[0m in \u001b[0;36m_run_trial\u001b[0;34m(self, func, catch, gc_after_trial)\u001b[0m\n\u001b[1;32m    732\u001b[0m \u001b[0;34m\u001b[0m\u001b[0m\n\u001b[1;32m    733\u001b[0m         \u001b[0;32mtry\u001b[0m\u001b[0;34m:\u001b[0m\u001b[0;34m\u001b[0m\u001b[0;34m\u001b[0m\u001b[0m\n\u001b[0;32m--> 734\u001b[0;31m             \u001b[0mresult\u001b[0m \u001b[0;34m=\u001b[0m \u001b[0mfunc\u001b[0m\u001b[0;34m(\u001b[0m\u001b[0mtrial\u001b[0m\u001b[0;34m)\u001b[0m\u001b[0;34m\u001b[0m\u001b[0;34m\u001b[0m\u001b[0m\n\u001b[0m\u001b[1;32m    735\u001b[0m         \u001b[0;32mexcept\u001b[0m \u001b[0mexceptions\u001b[0m\u001b[0;34m.\u001b[0m\u001b[0mTrialPruned\u001b[0m \u001b[0;32mas\u001b[0m \u001b[0me\u001b[0m\u001b[0;34m:\u001b[0m\u001b[0;34m\u001b[0m\u001b[0;34m\u001b[0m\u001b[0m\n\u001b[1;32m    736\u001b[0m             message = \"Setting status of trial#{} as {}. {}\".format(\n",
      "\u001b[0;32m<ipython-input-75-438f2e4a927e>\u001b[0m in \u001b[0;36mobjective\u001b[0;34m(trial)\u001b[0m\n\u001b[1;32m     16\u001b[0m     \u001b[0;31m# run xgboost.cv for each dataset\u001b[0m\u001b[0;34m\u001b[0m\u001b[0;34m\u001b[0m\u001b[0;34m\u001b[0m\u001b[0m\n\u001b[1;32m     17\u001b[0m     \u001b[0;32mfor\u001b[0m \u001b[0mi\u001b[0m \u001b[0;32min\u001b[0m \u001b[0mrange\u001b[0m\u001b[0;34m(\u001b[0m\u001b[0mnum_datasets\u001b[0m\u001b[0;34m)\u001b[0m\u001b[0;34m:\u001b[0m\u001b[0;34m\u001b[0m\u001b[0;34m\u001b[0m\u001b[0m\n\u001b[0;32m---> 18\u001b[0;31m         \u001b[0mbst\u001b[0m \u001b[0;34m=\u001b[0m \u001b[0mxgb\u001b[0m\u001b[0;34m.\u001b[0m\u001b[0mcv\u001b[0m\u001b[0;34m(\u001b[0m\u001b[0mparam\u001b[0m\u001b[0;34m,\u001b[0m \u001b[0mdmat_list\u001b[0m\u001b[0;34m[\u001b[0m\u001b[0mi\u001b[0m\u001b[0;34m]\u001b[0m\u001b[0;34m,\u001b[0m \u001b[0mnum_boost_round\u001b[0m\u001b[0;34m=\u001b[0m\u001b[0mn_boost\u001b[0m\u001b[0;34m,\u001b[0m \u001b[0mnfold\u001b[0m\u001b[0;34m=\u001b[0m\u001b[0;36m3\u001b[0m\u001b[0;34m,\u001b[0m \u001b[0mmetrics\u001b[0m\u001b[0;34m=\u001b[0m\u001b[0;34m'rmse'\u001b[0m\u001b[0;34m,\u001b[0m \u001b[0mseed\u001b[0m\u001b[0;34m=\u001b[0m\u001b[0;36m123\u001b[0m\u001b[0;34m,\u001b[0m \u001b[0mshuffle\u001b[0m\u001b[0;34m=\u001b[0m\u001b[0;32mTrue\u001b[0m\u001b[0;34m)\u001b[0m\u001b[0;34m\u001b[0m\u001b[0;34m\u001b[0m\u001b[0m\n\u001b[0m\u001b[1;32m     19\u001b[0m         \u001b[0mmlist\u001b[0m\u001b[0;34m.\u001b[0m\u001b[0mappend\u001b[0m\u001b[0;34m(\u001b[0m\u001b[0mbst\u001b[0m\u001b[0;34m.\u001b[0m\u001b[0miloc\u001b[0m\u001b[0;34m[\u001b[0m\u001b[0mlen\u001b[0m\u001b[0;34m(\u001b[0m\u001b[0mbst\u001b[0m\u001b[0;34m.\u001b[0m\u001b[0mindex\u001b[0m\u001b[0;34m)\u001b[0m\u001b[0;34m-\u001b[0m\u001b[0;36m1\u001b[0m\u001b[0;34m,\u001b[0m \u001b[0;36m2\u001b[0m\u001b[0;34m]\u001b[0m\u001b[0;34m)\u001b[0m\u001b[0;34m\u001b[0m\u001b[0;34m\u001b[0m\u001b[0m\n\u001b[1;32m     20\u001b[0m     \u001b[0mrmse_mean\u001b[0m \u001b[0;34m=\u001b[0m \u001b[0msum\u001b[0m\u001b[0;34m(\u001b[0m\u001b[0mmlist\u001b[0m\u001b[0;34m)\u001b[0m\u001b[0;34m/\u001b[0m\u001b[0mlen\u001b[0m\u001b[0;34m(\u001b[0m\u001b[0mmlist\u001b[0m\u001b[0;34m)\u001b[0m\u001b[0;34m\u001b[0m\u001b[0;34m\u001b[0m\u001b[0m\n",
      "\u001b[0;32m~/opt/anaconda3/lib/python3.7/site-packages/xgboost/training.py\u001b[0m in \u001b[0;36mcv\u001b[0;34m(params, dtrain, num_boost_round, nfold, stratified, folds, metrics, obj, feval, maximize, early_stopping_rounds, fpreproc, as_pandas, verbose_eval, show_stdv, seed, callbacks, shuffle)\u001b[0m\n\u001b[1;32m    496\u001b[0m                            evaluation_result_list=None))\n\u001b[1;32m    497\u001b[0m         \u001b[0;32mfor\u001b[0m \u001b[0mfold\u001b[0m \u001b[0;32min\u001b[0m \u001b[0mcvfolds\u001b[0m\u001b[0;34m:\u001b[0m\u001b[0;34m\u001b[0m\u001b[0;34m\u001b[0m\u001b[0m\n\u001b[0;32m--> 498\u001b[0;31m             \u001b[0mfold\u001b[0m\u001b[0;34m.\u001b[0m\u001b[0mupdate\u001b[0m\u001b[0;34m(\u001b[0m\u001b[0mi\u001b[0m\u001b[0;34m,\u001b[0m \u001b[0mobj\u001b[0m\u001b[0;34m)\u001b[0m\u001b[0;34m\u001b[0m\u001b[0;34m\u001b[0m\u001b[0m\n\u001b[0m\u001b[1;32m    499\u001b[0m         \u001b[0mres\u001b[0m \u001b[0;34m=\u001b[0m \u001b[0maggcv\u001b[0m\u001b[0;34m(\u001b[0m\u001b[0;34m[\u001b[0m\u001b[0mf\u001b[0m\u001b[0;34m.\u001b[0m\u001b[0meval\u001b[0m\u001b[0;34m(\u001b[0m\u001b[0mi\u001b[0m\u001b[0;34m,\u001b[0m \u001b[0mfeval\u001b[0m\u001b[0;34m)\u001b[0m \u001b[0;32mfor\u001b[0m \u001b[0mf\u001b[0m \u001b[0;32min\u001b[0m \u001b[0mcvfolds\u001b[0m\u001b[0;34m]\u001b[0m\u001b[0;34m)\u001b[0m\u001b[0;34m\u001b[0m\u001b[0;34m\u001b[0m\u001b[0m\n\u001b[1;32m    500\u001b[0m \u001b[0;34m\u001b[0m\u001b[0m\n",
      "\u001b[0;32m~/opt/anaconda3/lib/python3.7/site-packages/xgboost/training.py\u001b[0m in \u001b[0;36mupdate\u001b[0;34m(self, iteration, fobj)\u001b[0m\n\u001b[1;32m    224\u001b[0m     \u001b[0;32mdef\u001b[0m \u001b[0mupdate\u001b[0m\u001b[0;34m(\u001b[0m\u001b[0mself\u001b[0m\u001b[0;34m,\u001b[0m \u001b[0miteration\u001b[0m\u001b[0;34m,\u001b[0m \u001b[0mfobj\u001b[0m\u001b[0;34m)\u001b[0m\u001b[0;34m:\u001b[0m\u001b[0;34m\u001b[0m\u001b[0;34m\u001b[0m\u001b[0m\n\u001b[1;32m    225\u001b[0m         \u001b[0;34m\"\"\"\"Update the boosters for one iteration\"\"\"\u001b[0m\u001b[0;34m\u001b[0m\u001b[0;34m\u001b[0m\u001b[0m\n\u001b[0;32m--> 226\u001b[0;31m         \u001b[0mself\u001b[0m\u001b[0;34m.\u001b[0m\u001b[0mbst\u001b[0m\u001b[0;34m.\u001b[0m\u001b[0mupdate\u001b[0m\u001b[0;34m(\u001b[0m\u001b[0mself\u001b[0m\u001b[0;34m.\u001b[0m\u001b[0mdtrain\u001b[0m\u001b[0;34m,\u001b[0m \u001b[0miteration\u001b[0m\u001b[0;34m,\u001b[0m \u001b[0mfobj\u001b[0m\u001b[0;34m)\u001b[0m\u001b[0;34m\u001b[0m\u001b[0;34m\u001b[0m\u001b[0m\n\u001b[0m\u001b[1;32m    227\u001b[0m \u001b[0;34m\u001b[0m\u001b[0m\n\u001b[1;32m    228\u001b[0m     \u001b[0;32mdef\u001b[0m \u001b[0meval\u001b[0m\u001b[0;34m(\u001b[0m\u001b[0mself\u001b[0m\u001b[0;34m,\u001b[0m \u001b[0miteration\u001b[0m\u001b[0;34m,\u001b[0m \u001b[0mfeval\u001b[0m\u001b[0;34m)\u001b[0m\u001b[0;34m:\u001b[0m\u001b[0;34m\u001b[0m\u001b[0;34m\u001b[0m\u001b[0m\n",
      "\u001b[0;32m~/opt/anaconda3/lib/python3.7/site-packages/xgboost/core.py\u001b[0m in \u001b[0;36mupdate\u001b[0;34m(self, dtrain, iteration, fobj)\u001b[0m\n\u001b[1;32m   1367\u001b[0m             _check_call(_LIB.XGBoosterUpdateOneIter(self.handle,\n\u001b[1;32m   1368\u001b[0m                                                     \u001b[0mctypes\u001b[0m\u001b[0;34m.\u001b[0m\u001b[0mc_int\u001b[0m\u001b[0;34m(\u001b[0m\u001b[0miteration\u001b[0m\u001b[0;34m)\u001b[0m\u001b[0;34m,\u001b[0m\u001b[0;34m\u001b[0m\u001b[0;34m\u001b[0m\u001b[0m\n\u001b[0;32m-> 1369\u001b[0;31m                                                     dtrain.handle))\n\u001b[0m\u001b[1;32m   1370\u001b[0m         \u001b[0;32melse\u001b[0m\u001b[0;34m:\u001b[0m\u001b[0;34m\u001b[0m\u001b[0;34m\u001b[0m\u001b[0m\n\u001b[1;32m   1371\u001b[0m             \u001b[0mpred\u001b[0m \u001b[0;34m=\u001b[0m \u001b[0mself\u001b[0m\u001b[0;34m.\u001b[0m\u001b[0mpredict\u001b[0m\u001b[0;34m(\u001b[0m\u001b[0mdtrain\u001b[0m\u001b[0;34m,\u001b[0m \u001b[0moutput_margin\u001b[0m\u001b[0;34m=\u001b[0m\u001b[0;32mTrue\u001b[0m\u001b[0;34m,\u001b[0m \u001b[0mtraining\u001b[0m\u001b[0;34m=\u001b[0m\u001b[0;32mTrue\u001b[0m\u001b[0;34m)\u001b[0m\u001b[0;34m\u001b[0m\u001b[0;34m\u001b[0m\u001b[0m\n",
      "\u001b[0;31mKeyboardInterrupt\u001b[0m: "
     ]
    }
   ],
   "source": [
    "study = optuna.create_study(direction='minimize', sampler=GridSampler(search_space))\n",
    "study.optimize(objective, n_trials=len(param_list))\n",
    "res1 = study.trials_dataframe()"
   ]
  },
  {
   "cell_type": "code",
   "execution_count": null,
   "metadata": {},
   "outputs": [],
   "source": [
    "res1.to_csv(\"qsar_results/xgb_num_boost_round.csv\", index=False)"
   ]
  },
  {
   "cell_type": "markdown",
   "metadata": {},
   "source": [
    "### 2. lambda"
   ]
  },
  {
   "cell_type": "code",
   "execution_count": 17,
   "metadata": {},
   "outputs": [
    {
     "name": "stdout",
     "output_type": "stream",
     "text": [
      "Number of points: 21\n"
     ]
    }
   ],
   "source": [
    "param_list = [2**(-9) * 2 ** i for i in range(len(range(-9,11,1)))]\n",
    "param_list.append(0)\n",
    "def objective(trial):\n",
    "    mlist = []\n",
    "    param = {\n",
    "        \"booster\": \"gbtree\",\n",
    "        \"lambda\": trial.suggest_categorical(\"lambda\", param_list),\n",
    "        \"alpha\": 0,\n",
    "        \"eta\": 0.3,\n",
    "        \"subsample\": 1,\n",
    "        \"max_depth\": 6,\n",
    "        \"min_child_weight\": 1,\n",
    "        \"colsample_bytree\": 1,\n",
    "        \"colsample_bylevel\": 1\n",
    "    }\n",
    "    n_boost = 10\n",
    "    # run xgboost.cv for each dataset\n",
    "    for i in range(num_datasets):\n",
    "        bst = xgb.cv(param, dmat_list[i], num_boost_round=n_boost, nfold=3, metrics='rmse', seed=123, shuffle=True)\n",
    "        mlist.append(bst.iloc[len(bst.index)-1, 2])\n",
    "    rmse_mean = sum(mlist)/len(mlist)\n",
    "    return rmse_mean\n",
    "search_space = {\"lambda\": param_list}\n",
    "print(\"Number of points: {}\".format(len(param_list)))"
   ]
  },
  {
   "cell_type": "code",
   "execution_count": 18,
   "metadata": {},
   "outputs": [
    {
     "name": "stderr",
     "output_type": "stream",
     "text": [
      "/Users/seanhong/opt/anaconda3/lib/python3.7/site-packages/optuna/_experimental.py:83: ExperimentalWarning: GridSampler is experimental (supported from v1.2.0). The interface can change in the future.\n",
      "  ExperimentalWarning,\n",
      "[I 2020-08-11 01:58:25,865] Finished trial#0 with value: 2.099082177777778 with parameters: {'lambda': 4.0}. Best is trial#0 with value: 2.099082177777778.\n",
      "[I 2020-08-11 02:04:57,173] Finished trial#1 with value: 2.0886802666666666 with parameters: {'lambda': 0.00390625}. Best is trial#1 with value: 2.0886802666666666.\n",
      "[I 2020-08-11 02:11:31,294] Finished trial#2 with value: 2.0693317555555555 with parameters: {'lambda': 0.25}. Best is trial#2 with value: 2.0693317555555555.\n",
      "[I 2020-08-11 02:17:44,991] Finished trial#3 with value: 2.7531260222222214 with parameters: {'lambda': 512.0}. Best is trial#2 with value: 2.0693317555555555.\n",
      "[I 2020-08-11 02:24:01,918] Finished trial#4 with value: 2.190316088888889 with parameters: {'lambda': 32.0}. Best is trial#2 with value: 2.0693317555555555.\n",
      "[I 2020-08-11 02:30:32,419] Finished trial#5 with value: 2.0684098 with parameters: {'lambda': 0.125}. Best is trial#5 with value: 2.0684098.\n",
      "[I 2020-08-11 02:36:54,598] Finished trial#6 with value: 2.1561829999999995 with parameters: {'lambda': 16.0}. Best is trial#5 with value: 2.0684098.\n",
      "[I 2020-08-11 02:43:52,846] Finished trial#7 with value: 2.0838752 with parameters: {'lambda': 0.015625}. Best is trial#5 with value: 2.0684098.\n",
      "[I 2020-08-11 02:50:11,219] Finished trial#8 with value: 2.0788919999999997 with parameters: {'lambda': 2.0}. Best is trial#5 with value: 2.0684098.\n",
      "[I 2020-08-11 02:56:37,195] Finished trial#9 with value: 2.0741601333333333 with parameters: {'lambda': 0.5}. Best is trial#5 with value: 2.0684098.\n",
      "[I 2020-08-11 03:04:15,471] Finished trial#10 with value: 2.0867939555555552 with parameters: {'lambda': 0.001953125}. Best is trial#5 with value: 2.0684098.\n",
      "[I 2020-08-11 03:10:34,027] Finished trial#11 with value: 2.0736345111111114 with parameters: {'lambda': 0.03125}. Best is trial#5 with value: 2.0684098.\n",
      "[I 2020-08-11 03:16:50,337] Finished trial#12 with value: 2.1378917777777775 with parameters: {'lambda': 8.0}. Best is trial#5 with value: 2.0684098.\n",
      "[I 2020-08-11 03:22:24,819] Finished trial#13 with value: 2.0889176666666667 with parameters: {'lambda': 0.0078125}. Best is trial#5 with value: 2.0684098.\n",
      "[I 2020-08-11 03:28:18,492] Finished trial#14 with value: 2.238755311111111 with parameters: {'lambda': 64.0}. Best is trial#5 with value: 2.0684098.\n",
      "[I 2020-08-11 03:34:37,941] Finished trial#15 with value: 3.0413633333333334 with parameters: {'lambda': 1024.0}. Best is trial#5 with value: 2.0684098.\n",
      "[I 2020-08-11 03:40:56,007] Finished trial#16 with value: 2.073823422222222 with parameters: {'lambda': 1.0}. Best is trial#5 with value: 2.0684098.\n",
      "[I 2020-08-11 03:47:21,057] Finished trial#17 with value: 2.0853032888888885 with parameters: {'lambda': 0}. Best is trial#5 with value: 2.0684098.\n",
      "[I 2020-08-11 03:53:27,664] Finished trial#18 with value: 2.508455933333333 with parameters: {'lambda': 256.0}. Best is trial#5 with value: 2.0684098.\n",
      "[I 2020-08-11 03:59:33,632] Finished trial#19 with value: 2.353108066666667 with parameters: {'lambda': 128.0}. Best is trial#5 with value: 2.0684098.\n",
      "[I 2020-08-11 04:05:32,596] Finished trial#20 with value: 2.0815727111111113 with parameters: {'lambda': 0.0625}. Best is trial#5 with value: 2.0684098.\n"
     ]
    }
   ],
   "source": [
    "study = optuna.create_study(direction='minimize', sampler=GridSampler(search_space))\n",
    "study.optimize(objective, n_trials=len(param_list))\n",
    "res2 = study.trials_dataframe()"
   ]
  },
  {
   "cell_type": "code",
   "execution_count": 19,
   "metadata": {},
   "outputs": [],
   "source": [
    "res2.to_csv(\"qsar_results/xgb_lambda.csv\", index=False)"
   ]
  },
  {
   "cell_type": "markdown",
   "metadata": {},
   "source": [
    "### 3. alpha"
   ]
  },
  {
   "cell_type": "code",
   "execution_count": 20,
   "metadata": {},
   "outputs": [
    {
     "name": "stdout",
     "output_type": "stream",
     "text": [
      "Number of points: 21\n"
     ]
    }
   ],
   "source": [
    "param_list = [2**(-9) * 2 ** i for i in range(len(range(-9,11,1)))]\n",
    "param_list.append(0)\n",
    "def objective(trial):\n",
    "    mlist = []\n",
    "    param = {\n",
    "        \"booster\": \"gbtree\",\n",
    "        \"lambda\": 1,\n",
    "        \"alpha\": trial.suggest_categorical(\"alpha\", param_list),\n",
    "        \"eta\": 0.3,\n",
    "        \"subsample\": 1,\n",
    "        \"max_depth\": 6,\n",
    "        \"min_child_weight\": 1,\n",
    "        \"colsample_bytree\": 1,\n",
    "        \"colsample_bylevel\": 1\n",
    "    }\n",
    "    n_boost = 10\n",
    "    # run xgboost.cv for each dataset\n",
    "    for i in range(num_datasets):\n",
    "        bst = xgb.cv(param, dmat_list[i], num_boost_round=n_boost, nfold=3, metrics='rmse', seed=123, shuffle=True)\n",
    "        mlist.append(bst.iloc[len(bst.index)-1, 2])\n",
    "    rmse_mean = sum(mlist)/len(mlist)\n",
    "    return rmse_mean\n",
    "search_space = {\"alpha\": param_list}\n",
    "print(\"Number of points: {}\".format(len(param_list)))"
   ]
  },
  {
   "cell_type": "code",
   "execution_count": 21,
   "metadata": {},
   "outputs": [
    {
     "name": "stderr",
     "output_type": "stream",
     "text": [
      "[I 2020-08-11 04:11:17,194] Finished trial#0 with value: 2.178944466666666 with parameters: {'alpha': 64.0}. Best is trial#0 with value: 2.178944466666666.\n",
      "[I 2020-08-11 04:17:31,111] Finished trial#1 with value: 2.0648716 with parameters: {'alpha': 0.5}. Best is trial#1 with value: 2.0648716.\n",
      "[I 2020-08-11 04:23:21,542] Finished trial#2 with value: 2.0969006 with parameters: {'alpha': 8.0}. Best is trial#1 with value: 2.0648716.\n",
      "[I 2020-08-11 04:29:18,814] Finished trial#3 with value: 2.235954977777778 with parameters: {'alpha': 128.0}. Best is trial#1 with value: 2.0648716.\n",
      "[I 2020-08-11 04:35:00,374] Finished trial#4 with value: 2.074257 with parameters: {'alpha': 0.001953125}. Best is trial#1 with value: 2.0648716.\n",
      "[I 2020-08-11 04:40:56,961] Finished trial#5 with value: 2.075487088888889 with parameters: {'alpha': 0.03125}. Best is trial#1 with value: 2.0648716.\n",
      "[I 2020-08-11 04:46:44,781] Finished trial#6 with value: 2.400961555555555 with parameters: {'alpha': 512.0}. Best is trial#1 with value: 2.0648716.\n",
      "[I 2020-08-11 04:52:47,631] Finished trial#7 with value: 2.073823422222222 with parameters: {'alpha': 0}. Best is trial#1 with value: 2.0648716.\n",
      "[I 2020-08-11 04:58:23,173] Finished trial#8 with value: 2.544016933333333 with parameters: {'alpha': 1024.0}. Best is trial#1 with value: 2.0648716.\n",
      "[I 2020-08-11 05:03:56,766] Finished trial#9 with value: 2.074604688888889 with parameters: {'alpha': 0.0625}. Best is trial#1 with value: 2.0648716.\n",
      "[I 2020-08-11 05:09:07,738] Finished trial#10 with value: 2.1062130666666663 with parameters: {'alpha': 16.0}. Best is trial#1 with value: 2.0648716.\n",
      "[I 2020-08-11 05:14:46,203] Finished trial#11 with value: 2.283479711111111 with parameters: {'alpha': 256.0}. Best is trial#1 with value: 2.0648716.\n",
      "[I 2020-08-11 05:20:45,159] Finished trial#12 with value: 2.0741987111111113 with parameters: {'alpha': 0.0078125}. Best is trial#1 with value: 2.0648716.\n",
      "[I 2020-08-11 05:26:17,384] Finished trial#13 with value: 2.137015 with parameters: {'alpha': 32.0}. Best is trial#1 with value: 2.0648716.\n",
      "[I 2020-08-11 05:32:33,256] Finished trial#14 with value: 2.073953622222222 with parameters: {'alpha': 0.125}. Best is trial#1 with value: 2.0648716.\n",
      "[I 2020-08-11 05:38:38,950] Finished trial#15 with value: 2.084167688888889 with parameters: {'alpha': 4.0}. Best is trial#1 with value: 2.0648716.\n",
      "[I 2020-08-11 05:45:29,636] Finished trial#16 with value: 2.0740019111111114 with parameters: {'alpha': 0.00390625}. Best is trial#1 with value: 2.0648716.\n",
      "[I 2020-08-11 05:51:29,471] Finished trial#17 with value: 2.0739640888888884 with parameters: {'alpha': 0.25}. Best is trial#1 with value: 2.0648716.\n",
      "[I 2020-08-11 05:57:58,120] Finished trial#18 with value: 2.076772 with parameters: {'alpha': 2.0}. Best is trial#1 with value: 2.0648716.\n",
      "[I 2020-08-11 06:04:50,798] Finished trial#19 with value: 2.0759236000000003 with parameters: {'alpha': 0.015625}. Best is trial#1 with value: 2.0648716.\n",
      "[I 2020-08-11 06:11:38,801] Finished trial#20 with value: 2.0574094888888887 with parameters: {'alpha': 1.0}. Best is trial#20 with value: 2.0574094888888887.\n"
     ]
    }
   ],
   "source": [
    "study = optuna.create_study(direction='minimize', sampler=GridSampler(search_space))\n",
    "study.optimize(objective, n_trials=len(param_list))\n",
    "res3 = study.trials_dataframe()"
   ]
  },
  {
   "cell_type": "code",
   "execution_count": 22,
   "metadata": {},
   "outputs": [],
   "source": [
    "res3.to_csv(\"qsar_results/xgb_alpha.csv\", index=False)"
   ]
  },
  {
   "cell_type": "markdown",
   "metadata": {},
   "source": [
    "### 4. eta"
   ]
  },
  {
   "cell_type": "code",
   "execution_count": 23,
   "metadata": {},
   "outputs": [
    {
     "name": "stdout",
     "output_type": "stream",
     "text": [
      "Number of points: 11\n"
     ]
    }
   ],
   "source": [
    "param_list = [i/10 for i in range(0,11)]\n",
    "def objective(trial):\n",
    "    mlist = []\n",
    "    param = {\n",
    "        \"booster\": \"gbtree\",\n",
    "        \"lambda\": 1,\n",
    "        \"alpha\": 0,\n",
    "        \"eta\": trial.suggest_categorical(\"eta\", param_list),\n",
    "        \"subsample\": 1,\n",
    "        \"max_depth\": 6,\n",
    "        \"min_child_weight\": 1,\n",
    "        \"colsample_bytree\": 1,\n",
    "        \"colsample_bylevel\": 1\n",
    "    }\n",
    "    n_boost = 10\n",
    "    # run xgboost.cv for each dataset\n",
    "    for i in range(num_datasets):\n",
    "        bst = xgb.cv(param, dmat_list[i], num_boost_round=n_boost, nfold=3, metrics='rmse', seed=123, shuffle=True)\n",
    "        mlist.append(bst.iloc[len(bst.index)-1, 2])\n",
    "    rmse_mean = sum(mlist)/len(mlist)\n",
    "    return rmse_mean\n",
    "search_space = {\"eta\": param_list}\n",
    "print(\"Number of points: {}\".format(len(param_list)))"
   ]
  },
  {
   "cell_type": "code",
   "execution_count": 24,
   "metadata": {},
   "outputs": [
    {
     "name": "stderr",
     "output_type": "stream",
     "text": [
      "[I 2020-08-11 06:17:41,239] Finished trial#0 with value: 2.191839355555555 with parameters: {'eta': 0.7}. Best is trial#0 with value: 2.191839355555555.\n",
      "[I 2020-08-11 06:23:33,656] Finished trial#1 with value: 3.609728866666667 with parameters: {'eta': 0.1}. Best is trial#0 with value: 2.191839355555555.\n",
      "[I 2020-08-11 06:29:30,338] Finished trial#2 with value: 2.0866513111111114 with parameters: {'eta': 0.6}. Best is trial#2 with value: 2.0866513111111114.\n",
      "[I 2020-08-11 06:35:28,826] Finished trial#3 with value: 2.416866711111111 with parameters: {'eta': 1.0}. Best is trial#2 with value: 2.0866513111111114.\n",
      "[I 2020-08-11 06:41:23,002] Finished trial#4 with value: 8.066236022222222 with parameters: {'eta': 0.0}. Best is trial#2 with value: 2.0866513111111114.\n",
      "[I 2020-08-11 06:48:16,338] Finished trial#5 with value: 2.3170490222222226 with parameters: {'eta': 0.9}. Best is trial#2 with value: 2.0866513111111114.\n",
      "[I 2020-08-11 06:54:17,484] Finished trial#6 with value: 2.261756288888889 with parameters: {'eta': 0.8}. Best is trial#2 with value: 2.0866513111111114.\n",
      "[I 2020-08-11 07:00:10,572] Finished trial#7 with value: 2.073823422222222 with parameters: {'eta': 0.3}. Best is trial#7 with value: 2.073823422222222.\n",
      "[I 2020-08-11 07:06:12,575] Finished trial#8 with value: 2.3061481111111113 with parameters: {'eta': 0.2}. Best is trial#7 with value: 2.073823422222222.\n",
      "[I 2020-08-11 07:12:16,068] Finished trial#9 with value: 2.051998355555556 with parameters: {'eta': 0.4}. Best is trial#9 with value: 2.051998355555556.\n",
      "[I 2020-08-11 07:18:11,762] Finished trial#10 with value: 2.0952612000000004 with parameters: {'eta': 0.5}. Best is trial#9 with value: 2.051998355555556.\n"
     ]
    }
   ],
   "source": [
    "study = optuna.create_study(direction='minimize', sampler=GridSampler(search_space))\n",
    "study.optimize(objective, n_trials=len(param_list))\n",
    "res4 = study.trials_dataframe()"
   ]
  },
  {
   "cell_type": "code",
   "execution_count": 25,
   "metadata": {},
   "outputs": [],
   "source": [
    "res4.to_csv(\"qsar_results/xgb_eta.csv\", index=False)"
   ]
  },
  {
   "cell_type": "markdown",
   "metadata": {},
   "source": [
    "### 5. subsample"
   ]
  },
  {
   "cell_type": "code",
   "execution_count": 26,
   "metadata": {},
   "outputs": [
    {
     "name": "stdout",
     "output_type": "stream",
     "text": [
      "Number of points: 10\n"
     ]
    }
   ],
   "source": [
    "param_list = [i/10 for i in range(1,11)]\n",
    "def objective(trial):\n",
    "    mlist = []\n",
    "    param = {\n",
    "        \"booster\": \"gbtree\",\n",
    "        \"lambda\": 1,\n",
    "        \"alpha\": 0,\n",
    "        \"eta\": 0.3,\n",
    "        \"subsample\": trial.suggest_categorical(\"subsample\", param_list),\n",
    "        \"max_depth\": 6,\n",
    "        \"min_child_weight\": 1,\n",
    "        \"colsample_bytree\": 1,\n",
    "        \"colsample_bylevel\": 1\n",
    "    }\n",
    "    n_boost = 10\n",
    "    # run xgboost.cv for each dataset\n",
    "    for i in range(num_datasets):\n",
    "        bst = xgb.cv(param, dmat_list[i], num_boost_round=n_boost, nfold=3, metrics='rmse', seed=123, shuffle=True)\n",
    "        mlist.append(bst.iloc[len(bst.index)-1, 2])\n",
    "    rmse_mean = sum(mlist)/len(mlist)\n",
    "    return rmse_mean\n",
    "search_space = {\"subsample\": param_list}\n",
    "print(\"Number of points: {}\".format(len(param_list)))"
   ]
  },
  {
   "cell_type": "code",
   "execution_count": 27,
   "metadata": {},
   "outputs": [
    {
     "name": "stderr",
     "output_type": "stream",
     "text": [
      "[I 2020-08-11 07:24:13,184] Finished trial#0 with value: 2.1579280444444446 with parameters: {'subsample': 0.6}. Best is trial#0 with value: 2.1579280444444446.\n",
      "[I 2020-08-11 07:30:33,642] Finished trial#1 with value: 2.073823422222222 with parameters: {'subsample': 1.0}. Best is trial#1 with value: 2.073823422222222.\n",
      "[I 2020-08-11 07:36:28,379] Finished trial#2 with value: 2.1112895333333332 with parameters: {'subsample': 0.7}. Best is trial#1 with value: 2.073823422222222.\n",
      "[I 2020-08-11 07:41:17,180] Finished trial#3 with value: 2.634213933333333 with parameters: {'subsample': 0.1}. Best is trial#1 with value: 2.073823422222222.\n",
      "[I 2020-08-11 07:46:37,768] Finished trial#4 with value: 2.324989577777778 with parameters: {'subsample': 0.3}. Best is trial#1 with value: 2.073823422222222.\n",
      "[I 2020-08-11 07:52:39,343] Finished trial#5 with value: 2.091571288888889 with parameters: {'subsample': 0.9}. Best is trial#1 with value: 2.073823422222222.\n",
      "[I 2020-08-11 07:58:19,480] Finished trial#6 with value: 2.2116010000000004 with parameters: {'subsample': 0.4}. Best is trial#1 with value: 2.073823422222222.\n",
      "[I 2020-08-11 08:03:32,009] Finished trial#7 with value: 2.447494422222222 with parameters: {'subsample': 0.2}. Best is trial#1 with value: 2.073823422222222.\n",
      "[I 2020-08-11 08:09:19,964] Finished trial#8 with value: 2.2300626222222215 with parameters: {'subsample': 0.5}. Best is trial#1 with value: 2.073823422222222.\n",
      "[I 2020-08-11 08:15:37,084] Finished trial#9 with value: 2.099624911111111 with parameters: {'subsample': 0.8}. Best is trial#1 with value: 2.073823422222222.\n"
     ]
    }
   ],
   "source": [
    "study = optuna.create_study(direction='minimize', sampler=GridSampler(search_space))\n",
    "study.optimize(objective, n_trials=len(param_list))\n",
    "res5 = study.trials_dataframe()"
   ]
  },
  {
   "cell_type": "code",
   "execution_count": 28,
   "metadata": {},
   "outputs": [],
   "source": [
    "res5.to_csv(\"qsar_results/xgb_subsample.csv\", index=False)"
   ]
  },
  {
   "cell_type": "markdown",
   "metadata": {},
   "source": [
    "### 6. max_depth"
   ]
  },
  {
   "cell_type": "code",
   "execution_count": 29,
   "metadata": {},
   "outputs": [
    {
     "name": "stdout",
     "output_type": "stream",
     "text": [
      "Number of points: 15\n"
     ]
    }
   ],
   "source": [
    "param_list = [*range(1,16)]\n",
    "def objective(trial):\n",
    "    mlist = []\n",
    "    param = {\n",
    "        \"booster\": \"gbtree\",\n",
    "        \"lambda\": 1,\n",
    "        \"alpha\": 0,\n",
    "        \"eta\": 0.3,\n",
    "        \"subsample\": 1,\n",
    "        \"max_depth\": trial.suggest_categorical(\"max_depth\", param_list),\n",
    "        \"min_child_weight\": 1,\n",
    "        \"colsample_bytree\": 1,\n",
    "        \"colsample_bylevel\": 1\n",
    "    }\n",
    "    n_boost = 10\n",
    "    # run xgboost.cv for each dataset\n",
    "    for i in range(num_datasets):\n",
    "        bst = xgb.cv(param, dmat_list[i], num_boost_round=n_boost, nfold=3, metrics='rmse', seed=123, shuffle=True)\n",
    "        mlist.append(bst.iloc[len(bst.index)-1, 2])\n",
    "    rmse_mean = sum(mlist)/len(mlist)\n",
    "    return rmse_mean\n",
    "search_space = {\"max_depth\": param_list}\n",
    "print(\"Number of points: {}\".format(len(param_list)))"
   ]
  },
  {
   "cell_type": "code",
   "execution_count": 30,
   "metadata": {},
   "outputs": [
    {
     "name": "stderr",
     "output_type": "stream",
     "text": [
      "[I 2020-08-11 08:23:22,406] Finished trial#0 with value: 2.074392155555556 with parameters: {'max_depth': 11}. Best is trial#0 with value: 2.074392155555556.\n",
      "[I 2020-08-11 08:30:06,595] Finished trial#1 with value: 2.073823422222222 with parameters: {'max_depth': 6}. Best is trial#1 with value: 2.073823422222222.\n",
      "[I 2020-08-11 08:37:34,053] Finished trial#2 with value: 2.0570772444444447 with parameters: {'max_depth': 10}. Best is trial#2 with value: 2.0570772444444447.\n",
      "[I 2020-08-11 08:41:25,356] Finished trial#3 with value: 2.289188977777778 with parameters: {'max_depth': 3}. Best is trial#2 with value: 2.0570772444444447.\n",
      "[I 2020-08-11 08:48:04,216] Finished trial#4 with value: 2.0582831555555554 with parameters: {'max_depth': 8}. Best is trial#2 with value: 2.0570772444444447.\n",
      "[I 2020-08-11 08:53:48,607] Finished trial#5 with value: 2.050471711111111 with parameters: {'max_depth': 7}. Best is trial#5 with value: 2.050471711111111.\n",
      "[I 2020-08-11 09:03:03,432] Finished trial#6 with value: 2.0676447555555555 with parameters: {'max_depth': 15}. Best is trial#5 with value: 2.050471711111111.\n",
      "[I 2020-08-11 09:08:18,958] Finished trial#7 with value: 2.1764861333333334 with parameters: {'max_depth': 4}. Best is trial#5 with value: 2.050471711111111.\n",
      "[I 2020-08-11 09:17:01,286] Finished trial#8 with value: 2.0753514444444447 with parameters: {'max_depth': 14}. Best is trial#5 with value: 2.050471711111111.\n",
      "[I 2020-08-11 09:24:06,186] Finished trial#9 with value: 2.0857478666666665 with parameters: {'max_depth': 9}. Best is trial#5 with value: 2.050471711111111.\n",
      "[I 2020-08-11 09:28:35,572] Finished trial#10 with value: 2.436128288888889 with parameters: {'max_depth': 2}. Best is trial#5 with value: 2.050471711111111.\n",
      "[I 2020-08-11 09:34:23,781] Finished trial#11 with value: 2.1037879333333334 with parameters: {'max_depth': 5}. Best is trial#5 with value: 2.050471711111111.\n",
      "[I 2020-08-11 09:42:39,339] Finished trial#12 with value: 2.0577857111111113 with parameters: {'max_depth': 13}. Best is trial#5 with value: 2.050471711111111.\n",
      "[I 2020-08-11 09:50:45,531] Finished trial#13 with value: 2.0535232666666667 with parameters: {'max_depth': 12}. Best is trial#5 with value: 2.050471711111111.\n",
      "[I 2020-08-11 09:54:23,236] Finished trial#14 with value: 2.6708012888888883 with parameters: {'max_depth': 1}. Best is trial#5 with value: 2.050471711111111.\n"
     ]
    }
   ],
   "source": [
    "study = optuna.create_study(direction='minimize', sampler=GridSampler(search_space))\n",
    "study.optimize(objective, n_trials=len(param_list))\n",
    "res6 = study.trials_dataframe()"
   ]
  },
  {
   "cell_type": "code",
   "execution_count": 31,
   "metadata": {},
   "outputs": [],
   "source": [
    "res6.to_csv(\"qsar_results/xgb_max_depth.csv\", index=False)"
   ]
  },
  {
   "cell_type": "markdown",
   "metadata": {},
   "source": [
    "### 7. min_child_weight"
   ]
  },
  {
   "cell_type": "code",
   "execution_count": 32,
   "metadata": {},
   "outputs": [
    {
     "name": "stdout",
     "output_type": "stream",
     "text": [
      "Number of points: 8\n"
     ]
    }
   ],
   "source": [
    "param_list = [2 ** i for i in range(0,8,1)]\n",
    "def objective(trial):\n",
    "    mlist = []\n",
    "    param = {\n",
    "        \"booster\": \"gbtree\",\n",
    "        \"lambda\": 1,\n",
    "        \"alpha\": 0,\n",
    "        \"eta\": 0.3,\n",
    "        \"subsample\": 1,\n",
    "        \"max_depth\": 6,\n",
    "        \"min_child_weight\": trial.suggest_categorical(\"min_child_weight\", param_list),\n",
    "        \"colsample_bytree\": 1,\n",
    "        \"colsample_bylevel\": 1\n",
    "    }\n",
    "    n_boost = 10\n",
    "    # run xgboost.cv for each dataset\n",
    "    for i in range(num_datasets):\n",
    "        bst = xgb.cv(param, dmat_list[i], num_boost_round=n_boost, nfold=3, metrics='rmse', seed=123, shuffle=True)\n",
    "        mlist.append(bst.iloc[len(bst.index)-1, 2])\n",
    "    rmse_mean = sum(mlist)/len(mlist)\n",
    "    return rmse_mean\n",
    "search_space = {\"min_child_weight\": param_list}\n",
    "print(\"Number of points: {}\".format(len(param_list)))"
   ]
  },
  {
   "cell_type": "code",
   "execution_count": 33,
   "metadata": {},
   "outputs": [
    {
     "name": "stderr",
     "output_type": "stream",
     "text": [
      "[I 2020-08-11 10:00:02,728] Finished trial#0 with value: 2.167804688888889 with parameters: {'min_child_weight': 64}. Best is trial#0 with value: 2.167804688888889.\n",
      "[I 2020-08-11 10:06:25,709] Finished trial#1 with value: 2.0599597111111114 with parameters: {'min_child_weight': 4}. Best is trial#1 with value: 2.0599597111111114.\n",
      "[I 2020-08-11 10:12:19,553] Finished trial#2 with value: 2.0824315777777778 with parameters: {'min_child_weight': 16}. Best is trial#1 with value: 2.0599597111111114.\n",
      "[I 2020-08-11 10:18:19,596] Finished trial#3 with value: 2.073823422222222 with parameters: {'min_child_weight': 1}. Best is trial#1 with value: 2.0599597111111114.\n",
      "[I 2020-08-11 10:24:13,568] Finished trial#4 with value: 2.0727983111111112 with parameters: {'min_child_weight': 2}. Best is trial#1 with value: 2.0599597111111114.\n",
      "[I 2020-08-11 10:30:58,542] Finished trial#5 with value: 2.0855710666666667 with parameters: {'min_child_weight': 8}. Best is trial#1 with value: 2.0599597111111114.\n",
      "[I 2020-08-11 10:36:53,031] Finished trial#6 with value: 2.2704103555555557 with parameters: {'min_child_weight': 128}. Best is trial#1 with value: 2.0599597111111114.\n",
      "[I 2020-08-11 10:42:59,094] Finished trial#7 with value: 2.122028 with parameters: {'min_child_weight': 32}. Best is trial#1 with value: 2.0599597111111114.\n"
     ]
    }
   ],
   "source": [
    "study = optuna.create_study(direction='minimize', sampler=GridSampler(search_space))\n",
    "study.optimize(objective, n_trials=len(param_list))\n",
    "res7 = study.trials_dataframe()"
   ]
  },
  {
   "cell_type": "code",
   "execution_count": 34,
   "metadata": {},
   "outputs": [],
   "source": [
    "res7.to_csv(\"qsar_results/xgb_min_child_weight.csv\", index=False)"
   ]
  },
  {
   "cell_type": "markdown",
   "metadata": {},
   "source": [
    "### 8. colsample_bytree"
   ]
  },
  {
   "cell_type": "code",
   "execution_count": 6,
   "metadata": {},
   "outputs": [
    {
     "name": "stdout",
     "output_type": "stream",
     "text": [
      "Number of points: 10\n"
     ]
    }
   ],
   "source": [
    "param_list = [i/10 for i in range(1,11)]\n",
    "def objective(trial):\n",
    "    mlist = []\n",
    "    param = {\n",
    "        \"booster\": \"gbtree\",\n",
    "        \"lambda\": 1,\n",
    "        \"alpha\": 0,\n",
    "        \"eta\": 0.3,\n",
    "        \"subsample\": 1,\n",
    "        \"max_depth\": 6,\n",
    "        \"min_child_weight\": 1,\n",
    "        \"colsample_bytree\": trial.suggest_categorical(\"colsample_bytree\", param_list),\n",
    "        \"colsample_bylevel\": 1\n",
    "    }\n",
    "    n_boost = 10\n",
    "    # run xgboost.cv for each dataset\n",
    "    for i in range(num_datasets):\n",
    "        bst = xgb.cv(param, dmat_list[i], num_boost_round=n_boost, nfold=3, metrics='rmse', seed=123, shuffle=True)\n",
    "        mlist.append(bst.iloc[len(bst.index)-1, 2])\n",
    "    rmse_mean = sum(mlist)/len(mlist)\n",
    "    return rmse_mean\n",
    "search_space = {\"colsample_bytree\": param_list}\n",
    "print(\"Number of points: {}\".format(len(param_list)))"
   ]
  },
  {
   "cell_type": "code",
   "execution_count": 7,
   "metadata": {},
   "outputs": [
    {
     "name": "stderr",
     "output_type": "stream",
     "text": [
      "/Users/seanhong/opt/anaconda3/lib/python3.7/site-packages/optuna/_experimental.py:83: ExperimentalWarning: GridSampler is experimental (supported from v1.2.0). The interface can change in the future.\n",
      "  ExperimentalWarning,\n",
      "[I 2020-08-11 12:58:26,171] Finished trial#0 with value: 2.096077688888889 with parameters: {'colsample_bytree': 0.5}. Best is trial#0 with value: 2.096077688888889.\n",
      "[I 2020-08-11 13:04:00,380] Finished trial#1 with value: 2.118594355555556 with parameters: {'colsample_bytree': 0.7}. Best is trial#0 with value: 2.096077688888889.\n",
      "[I 2020-08-11 13:09:46,001] Finished trial#2 with value: 2.0585763333333333 with parameters: {'colsample_bytree': 0.8}. Best is trial#2 with value: 2.0585763333333333.\n",
      "[I 2020-08-11 13:12:28,948] Finished trial#3 with value: 2.126945777777778 with parameters: {'colsample_bytree': 0.3}. Best is trial#2 with value: 2.0585763333333333.\n",
      "[I 2020-08-11 13:16:43,787] Finished trial#4 with value: 2.101339888888889 with parameters: {'colsample_bytree': 0.6}. Best is trial#2 with value: 2.0585763333333333.\n",
      "[I 2020-08-11 13:23:33,371] Finished trial#5 with value: 2.073823422222222 with parameters: {'colsample_bytree': 1.0}. Best is trial#2 with value: 2.0585763333333333.\n",
      "[I 2020-08-11 13:26:53,598] Finished trial#6 with value: 2.097784155555556 with parameters: {'colsample_bytree': 0.4}. Best is trial#2 with value: 2.0585763333333333.\n",
      "[I 2020-08-11 13:29:07,905] Finished trial#7 with value: 2.1294182 with parameters: {'colsample_bytree': 0.2}. Best is trial#2 with value: 2.0585763333333333.\n",
      "[I 2020-08-11 13:35:57,416] Finished trial#8 with value: 2.0659175111111114 with parameters: {'colsample_bytree': 0.9}. Best is trial#2 with value: 2.0585763333333333.\n",
      "[I 2020-08-11 13:37:47,816] Finished trial#9 with value: 2.165011911111111 with parameters: {'colsample_bytree': 0.1}. Best is trial#2 with value: 2.0585763333333333.\n"
     ]
    }
   ],
   "source": [
    "study = optuna.create_study(direction='minimize', sampler=GridSampler(search_space))\n",
    "study.optimize(objective, n_trials=len(param_list))\n",
    "res8 = study.trials_dataframe()"
   ]
  },
  {
   "cell_type": "code",
   "execution_count": 8,
   "metadata": {},
   "outputs": [],
   "source": [
    "res8.to_csv(\"qsar_results/xgb_colsample_bytree.csv\", index=False)"
   ]
  },
  {
   "cell_type": "markdown",
   "metadata": {},
   "source": [
    "### 9. colsample_bylevel"
   ]
  },
  {
   "cell_type": "code",
   "execution_count": 9,
   "metadata": {},
   "outputs": [
    {
     "name": "stdout",
     "output_type": "stream",
     "text": [
      "Number of points: 10\n"
     ]
    }
   ],
   "source": [
    "param_list = [i/10 for i in range(1,11)]\n",
    "def objective(trial):\n",
    "    mlist = []\n",
    "    param = {\n",
    "        \"booster\": \"gbtree\",\n",
    "        \"lambda\": 1,\n",
    "        \"alpha\": 0,\n",
    "        \"eta\": 0.3,\n",
    "        \"subsample\": 1,\n",
    "        \"max_depth\": 6,\n",
    "        \"min_child_weight\": 1,\n",
    "        \"colsample_bytree\": 1,\n",
    "        \"colsample_bylevel\": trial.suggest_categorical(\"colsample_bylevel\", param_list)\n",
    "    }\n",
    "    n_boost = 10\n",
    "    # run xgboost.cv for each dataset\n",
    "    for i in range(num_datasets):\n",
    "        bst = xgb.cv(param, dmat_list[i], num_boost_round=n_boost, nfold=3, metrics='rmse', seed=123, shuffle=True)\n",
    "        mlist.append(bst.iloc[len(bst.index)-1, 2])\n",
    "    rmse_mean = sum(mlist)/len(mlist)\n",
    "    return rmse_mean\n",
    "search_space = {\"colsample_bylevel\": param_list}\n",
    "print(\"Number of points: {}\".format(len(param_list)))"
   ]
  },
  {
   "cell_type": "code",
   "execution_count": 10,
   "metadata": {},
   "outputs": [
    {
     "name": "stderr",
     "output_type": "stream",
     "text": [
      "[I 2020-08-11 13:45:08,411] Finished trial#0 with value: 2.076728977777778 with parameters: {'colsample_bylevel': 0.9}. Best is trial#0 with value: 2.076728977777778.\n",
      "[I 2020-08-11 13:49:48,625] Finished trial#1 with value: 2.113456466666667 with parameters: {'colsample_bylevel': 0.3}. Best is trial#0 with value: 2.076728977777778.\n",
      "[I 2020-08-11 13:55:56,508] Finished trial#2 with value: 2.0778051333333334 with parameters: {'colsample_bylevel': 0.6}. Best is trial#0 with value: 2.076728977777778.\n",
      "[I 2020-08-11 14:01:48,200] Finished trial#3 with value: 2.0773363333333332 with parameters: {'colsample_bylevel': 0.5}. Best is trial#0 with value: 2.076728977777778.\n",
      "[I 2020-08-11 14:04:28,137] Finished trial#4 with value: 2.162110377777778 with parameters: {'colsample_bylevel': 0.1}. Best is trial#0 with value: 2.076728977777778.\n",
      "[I 2020-08-11 14:08:29,229] Finished trial#5 with value: 2.0989231777777775 with parameters: {'colsample_bylevel': 0.2}. Best is trial#0 with value: 2.076728977777778.\n",
      "[I 2020-08-11 14:14:37,219] Finished trial#6 with value: 2.071824933333333 with parameters: {'colsample_bylevel': 0.8}. Best is trial#6 with value: 2.071824933333333.\n",
      "[I 2020-08-11 14:20:54,935] Finished trial#7 with value: 2.073823422222222 with parameters: {'colsample_bylevel': 1.0}. Best is trial#6 with value: 2.071824933333333.\n",
      "[I 2020-08-11 14:26:36,034] Finished trial#8 with value: 2.1176998444444446 with parameters: {'colsample_bylevel': 0.4}. Best is trial#6 with value: 2.071824933333333.\n",
      "[I 2020-08-11 14:32:54,474] Finished trial#9 with value: 2.087853377777778 with parameters: {'colsample_bylevel': 0.7}. Best is trial#6 with value: 2.071824933333333.\n"
     ]
    }
   ],
   "source": [
    "study = optuna.create_study(direction='minimize', sampler=GridSampler(search_space))\n",
    "study.optimize(objective, n_trials=len(param_list))\n",
    "res9 = study.trials_dataframe()"
   ]
  },
  {
   "cell_type": "code",
   "execution_count": 11,
   "metadata": {},
   "outputs": [],
   "source": [
    "res9.to_csv(\"qsar_results/xgb_colsample_bylevel.csv\", index=False)"
   ]
  },
  {
   "cell_type": "markdown",
   "metadata": {},
   "source": [
    "# Grid Search"
   ]
  },
  {
   "cell_type": "markdown",
   "metadata": {},
   "source": [
    "## GS - Random Forest"
   ]
  },
  {
   "cell_type": "code",
   "execution_count": 97,
   "metadata": {},
   "outputs": [
    {
     "name": "stdout",
     "output_type": "stream",
     "text": [
      "Number of points in the search space: 144\n"
     ]
    }
   ],
   "source": [
    "nest = [10, 100, 300, 500, 700, 1000]\n",
    "boot = [True, False]\n",
    "maxsam = [0.1, 0.5, 0.99]\n",
    "maxfeat = [\"auto\", \"sqrt\"]\n",
    "minsam = [0.1, 0.3, 0.5]\n",
    "def objective(trial):\n",
    "    mlist = []\n",
    "    param = {\n",
    "        \"n_estimators\": trial.suggest_categorical(\"n_estimators\", nest),\n",
    "        \"bootstrap\": trial.suggest_categorical(\"bootstrap\", boot),\n",
    "        \"max_features\": trial.suggest_categorical(\"max_features\", maxfeat),\n",
    "        \"min_samples_leaf\": trial.suggest_categorical(\"min_samples_leaf\", minsam),\n",
    "        \"n_jobs\": -1}    \n",
    "    if param[\"bootstrap\"] == True:\n",
    "        param[\"max_samples\"] = trial.suggest_categorical(\"max_samples\", maxsam)\n",
    "    # fit rf to each dataset    \n",
    "    for i in range(num_datasets):\n",
    "        ncol = df_list[i].shape[1]\n",
    "        yvec = df_list[i].iloc[:,0:1].values.ravel()\n",
    "        mod = RandomForestRegressor(**param)\n",
    "        rmse = cross_val_score(mod, df_list[i].iloc[:,1:ncol], yvec, \n",
    "                               scoring=\"neg_root_mean_squared_error\", \n",
    "                               cv=KFold(n_splits=3, shuffle=True, random_state=123), \n",
    "                               n_jobs=-1)\n",
    "        mlist.append(abs(rmse).mean())\n",
    "    rmse_mean = sum(mlist)/len(mlist)   \n",
    "    return rmse_mean\n",
    "# Count how many points in the search space\n",
    "search_space = {\n",
    "    \"n_estimators\": nest,\n",
    "    \"bootstrap\": boot,\n",
    "    \"max_features\": maxfeat,\n",
    "    \"min_samples_leaf\": minsam,\n",
    "    \"max_samples\": maxsam\n",
    "}\n",
    "# calculate number of points in the search space\n",
    "num_points= len(nest) * len(maxfeat) * len(minsam) * (1 + len(maxsam))\n",
    "print(\"Number of points in the search space: {}\".format(num_points))"
   ]
  },
  {
   "cell_type": "code",
   "execution_count": 98,
   "metadata": {},
   "outputs": [
    {
     "name": "stderr",
     "output_type": "stream",
     "text": [
      "[I 2020-08-19 02:12:12,959] Finished trial#0 with value: 3.3023958628410326 with parameters: {'n_estimators': 700, 'bootstrap': True, 'max_features': 'sqrt', 'min_samples_leaf': 0.3, 'max_samples': 0.99}. Best is trial#0 with value: 3.3023958628410326.\n",
      "[I 2020-08-19 02:14:00,734] Finished trial#1 with value: 2.752100567190573 with parameters: {'n_estimators': 300, 'bootstrap': False, 'max_features': 'sqrt', 'min_samples_leaf': 0.1}. Best is trial#1 with value: 2.752100567190573.\n",
      "[I 2020-08-19 02:15:45,743] Finished trial#2 with value: 3.383802726825465 with parameters: {'n_estimators': 700, 'bootstrap': False, 'max_features': 'sqrt', 'min_samples_leaf': 0.5}. Best is trial#1 with value: 2.752100567190573.\n",
      "[I 2020-08-19 02:18:41,383] Finished trial#3 with value: 2.902746391328847 with parameters: {'n_estimators': 100, 'bootstrap': True, 'max_features': 'auto', 'min_samples_leaf': 0.1, 'max_samples': 0.5}. Best is trial#1 with value: 2.752100567190573.\n",
      "[I 2020-08-19 02:20:33,144] Finished trial#4 with value: 3.383778929529219 with parameters: {'n_estimators': 1000, 'bootstrap': False, 'max_features': 'sqrt', 'min_samples_leaf': 0.5}. Best is trial#1 with value: 2.752100567190573.\n",
      "[I 2020-08-19 02:22:20,357] Finished trial#5 with value: 3.1108726834475946 with parameters: {'n_estimators': 300, 'bootstrap': True, 'max_features': 'sqrt', 'min_samples_leaf': 0.1, 'max_samples': 0.5}. Best is trial#1 with value: 2.752100567190573.\n",
      "[I 2020-08-19 02:30:11,035] Finished trial#6 with value: 3.3752900987693826 with parameters: {'n_estimators': 1000, 'bootstrap': False, 'max_features': 'auto', 'min_samples_leaf': 0.5}. Best is trial#1 with value: 2.752100567190573.\n",
      "[I 2020-08-19 02:46:41,488] Finished trial#7 with value: 2.6289811068666125 with parameters: {'n_estimators': 300, 'bootstrap': False, 'max_features': 'auto', 'min_samples_leaf': 0.1}. Best is trial#7 with value: 2.6289811068666125.\n",
      "[I 2020-08-19 02:48:36,447] Finished trial#8 with value: 3.1628766455924935 with parameters: {'n_estimators': 700, 'bootstrap': False, 'max_features': 'sqrt', 'min_samples_leaf': 0.3}. Best is trial#7 with value: 2.6289811068666125.\n",
      "[I 2020-08-19 02:50:19,452] Finished trial#9 with value: 3.3840680848159566 with parameters: {'n_estimators': 300, 'bootstrap': True, 'max_features': 'sqrt', 'min_samples_leaf': 0.1, 'max_samples': 0.1}. Best is trial#7 with value: 2.6289811068666125.\n",
      "[I 2020-08-19 02:57:55,215] Finished trial#10 with value: 3.089315167354613 with parameters: {'n_estimators': 300, 'bootstrap': False, 'max_features': 'auto', 'min_samples_leaf': 0.3}. Best is trial#7 with value: 2.6289811068666125.\n",
      "[I 2020-08-19 02:59:45,729] Finished trial#11 with value: 3.384462934583026 with parameters: {'n_estimators': 700, 'bootstrap': True, 'max_features': 'sqrt', 'min_samples_leaf': 0.3, 'max_samples': 0.1}. Best is trial#7 with value: 2.6289811068666125.\n",
      "[I 2020-08-19 03:01:18,309] Finished trial#12 with value: 3.3840517953254072 with parameters: {'n_estimators': 100, 'bootstrap': True, 'max_features': 'auto', 'min_samples_leaf': 0.5, 'max_samples': 0.99}. Best is trial#7 with value: 2.6289811068666125.\n",
      "[I 2020-08-19 03:52:24,397] Finished trial#13 with value: 2.6289811068666133 with parameters: {'n_estimators': 1000, 'bootstrap': False, 'max_features': 'auto', 'min_samples_leaf': 0.1}. Best is trial#7 with value: 2.6289811068666125.\n",
      "[I 2020-08-19 03:54:13,658] Finished trial#14 with value: 3.384350353742401 with parameters: {'n_estimators': 1000, 'bootstrap': True, 'max_features': 'sqrt', 'min_samples_leaf': 0.5, 'max_samples': 0.5}. Best is trial#7 with value: 2.6289811068666125.\n",
      "[I 2020-08-19 03:55:54,016] Finished trial#15 with value: 2.7728974594273605 with parameters: {'n_estimators': 10, 'bootstrap': False, 'max_features': 'sqrt', 'min_samples_leaf': 0.1}. Best is trial#7 with value: 2.6289811068666125.\n",
      "[I 2020-08-19 03:57:35,385] Finished trial#16 with value: 3.3843193105873066 with parameters: {'n_estimators': 10, 'bootstrap': True, 'max_features': 'auto', 'min_samples_leaf': 0.5, 'max_samples': 0.5}. Best is trial#7 with value: 2.6289811068666125.\n",
      "[I 2020-08-19 03:59:16,301] Finished trial#17 with value: 2.93112779082701 with parameters: {'n_estimators': 100, 'bootstrap': True, 'max_features': 'sqrt', 'min_samples_leaf': 0.1, 'max_samples': 0.99}. Best is trial#7 with value: 2.6289811068666125.\n",
      "[I 2020-08-19 04:00:44,264] Finished trial#18 with value: 3.3855922196746726 with parameters: {'n_estimators': 10, 'bootstrap': True, 'max_features': 'auto', 'min_samples_leaf': 0.5, 'max_samples': 0.1}. Best is trial#7 with value: 2.6289811068666125.\n",
      "[I 2020-08-19 04:02:18,776] Finished trial#19 with value: 3.3837476322705173 with parameters: {'n_estimators': 100, 'bootstrap': True, 'max_features': 'sqrt', 'min_samples_leaf': 0.1, 'max_samples': 0.1}. Best is trial#7 with value: 2.6289811068666125.\n",
      "[I 2020-08-19 04:04:08,179] Finished trial#20 with value: 3.384232281359712 with parameters: {'n_estimators': 700, 'bootstrap': True, 'max_features': 'auto', 'min_samples_leaf': 0.3, 'max_samples': 0.5}. Best is trial#7 with value: 2.6289811068666125.\n",
      "[I 2020-08-19 04:07:31,453] Finished trial#21 with value: 3.375290098769382 with parameters: {'n_estimators': 300, 'bootstrap': False, 'max_features': 'auto', 'min_samples_leaf': 0.5}. Best is trial#7 with value: 2.6289811068666125.\n",
      "[I 2020-08-19 04:09:36,810] Finished trial#22 with value: 2.7534770044453882 with parameters: {'n_estimators': 500, 'bootstrap': False, 'max_features': 'sqrt', 'min_samples_leaf': 0.1}. Best is trial#7 with value: 2.6289811068666125.\n",
      "[I 2020-08-19 04:11:23,807] Finished trial#23 with value: 3.3842851202222195 with parameters: {'n_estimators': 300, 'bootstrap': True, 'max_features': 'sqrt', 'min_samples_leaf': 0.5, 'max_samples': 0.99}. Best is trial#7 with value: 2.6289811068666125.\n",
      "[I 2020-08-19 04:17:23,038] Finished trial#24 with value: 3.375290098769384 with parameters: {'n_estimators': 700, 'bootstrap': False, 'max_features': 'auto', 'min_samples_leaf': 0.5}. Best is trial#7 with value: 2.6289811068666125.\n",
      "[I 2020-08-19 04:19:05,163] Finished trial#25 with value: 3.38280921492323 with parameters: {'n_estimators': 10, 'bootstrap': True, 'max_features': 'sqrt', 'min_samples_leaf': 0.3, 'max_samples': 0.1}. Best is trial#7 with value: 2.6289811068666125.\n",
      "[I 2020-08-19 04:20:41,150] Finished trial#26 with value: 3.1643746744320467 with parameters: {'n_estimators': 100, 'bootstrap': False, 'max_features': 'sqrt', 'min_samples_leaf': 0.3}. Best is trial#7 with value: 2.6289811068666125.\n",
      "/Users/seanhong/opt/anaconda3/lib/python3.7/site-packages/joblib/externals/loky/process_executor.py:706: UserWarning: A worker stopped while some jobs were given to the executor. This can be caused by a too short worker timeout or by a memory leak.\n",
      "  \"timeout or by a memory leak.\", UserWarning\n",
      "[I 2020-08-19 04:32:20,277] Finished trial#27 with value: 3.089315167354614 with parameters: {'n_estimators': 500, 'bootstrap': False, 'max_features': 'auto', 'min_samples_leaf': 0.3}. Best is trial#7 with value: 2.6289811068666125.\n",
      "[I 2020-08-19 04:33:52,949] Finished trial#28 with value: 3.3834095843589678 with parameters: {'n_estimators': 10, 'bootstrap': True, 'max_features': 'auto', 'min_samples_leaf': 0.3, 'max_samples': 0.1}. Best is trial#7 with value: 2.6289811068666125.\n",
      "[I 2020-08-19 04:35:55,293] Finished trial#29 with value: 3.164020938192669 with parameters: {'n_estimators': 1000, 'bootstrap': False, 'max_features': 'sqrt', 'min_samples_leaf': 0.3}. Best is trial#7 with value: 2.6289811068666125.\n",
      "[I 2020-08-19 04:43:32,297] Finished trial#30 with value: 3.089315167354613 with parameters: {'n_estimators': 300, 'bootstrap': False, 'max_features': 'auto', 'min_samples_leaf': 0.3}. Best is trial#7 with value: 2.6289811068666125.\n",
      "[I 2020-08-19 05:11:26,377] Finished trial#31 with value: 2.5755661186751726 with parameters: {'n_estimators': 1000, 'bootstrap': True, 'max_features': 'auto', 'min_samples_leaf': 0.1, 'max_samples': 0.99}. Best is trial#31 with value: 2.5755661186751726.\n",
      "[I 2020-08-19 05:13:15,521] Finished trial#32 with value: 2.753831328039175 with parameters: {'n_estimators': 300, 'bootstrap': False, 'max_features': 'sqrt', 'min_samples_leaf': 0.1}. Best is trial#31 with value: 2.5755661186751726.\n",
      "[I 2020-08-19 05:15:08,727] Finished trial#33 with value: 2.5862455460528646 with parameters: {'n_estimators': 10, 'bootstrap': True, 'max_features': 'auto', 'min_samples_leaf': 0.1, 'max_samples': 0.99}. Best is trial#31 with value: 2.5755661186751726.\n",
      "[I 2020-08-19 05:16:45,475] Finished trial#34 with value: 3.3837849250977574 with parameters: {'n_estimators': 100, 'bootstrap': False, 'max_features': 'sqrt', 'min_samples_leaf': 0.5}. Best is trial#31 with value: 2.5755661186751726.\n",
      "[I 2020-08-19 05:18:19,756] Finished trial#35 with value: 3.3841450594201636 with parameters: {'n_estimators': 100, 'bootstrap': True, 'max_features': 'sqrt', 'min_samples_leaf': 0.5, 'max_samples': 0.1}. Best is trial#31 with value: 2.5755661186751726.\n",
      "[I 2020-08-19 05:35:01,879] Finished trial#36 with value: 2.6289811068666125 with parameters: {'n_estimators': 300, 'bootstrap': False, 'max_features': 'auto', 'min_samples_leaf': 0.1}. Best is trial#31 with value: 2.5755661186751726.\n",
      "[I 2020-08-19 05:36:38,754] Finished trial#37 with value: 2.7475494689602438 with parameters: {'n_estimators': 100, 'bootstrap': False, 'max_features': 'sqrt', 'min_samples_leaf': 0.1}. Best is trial#31 with value: 2.5755661186751726.\n",
      "[I 2020-08-19 05:38:41,853] Finished trial#38 with value: 2.925756624307703 with parameters: {'n_estimators': 700, 'bootstrap': True, 'max_features': 'sqrt', 'min_samples_leaf': 0.1, 'max_samples': 0.99}. Best is trial#31 with value: 2.5755661186751726.\n",
      "[I 2020-08-19 05:40:30,803] Finished trial#39 with value: 3.384314309097468 with parameters: {'n_estimators': 500, 'bootstrap': True, 'max_features': 'sqrt', 'min_samples_leaf': 0.5, 'max_samples': 0.5}. Best is trial#31 with value: 2.5755661186751726.\n",
      "[I 2020-08-19 05:42:07,788] Finished trial#40 with value: 3.382555970385878 with parameters: {'n_estimators': 10, 'bootstrap': True, 'max_features': 'sqrt', 'min_samples_leaf': 0.5, 'max_samples': 0.1}. Best is trial#31 with value: 2.5755661186751726.\n",
      "[I 2020-08-19 05:44:01,732] Finished trial#41 with value: 3.3843553820162855 with parameters: {'n_estimators': 1000, 'bootstrap': True, 'max_features': 'sqrt', 'min_samples_leaf': 0.5, 'max_samples': 0.1}. Best is trial#31 with value: 2.5755661186751726.\n",
      "[I 2020-08-19 05:45:55,118] Finished trial#42 with value: 3.3843217112033837 with parameters: {'n_estimators': 1000, 'bootstrap': True, 'max_features': 'auto', 'min_samples_leaf': 0.5, 'max_samples': 0.99}. Best is trial#31 with value: 2.5755661186751726.\n",
      "[I 2020-08-19 05:47:31,765] Finished trial#43 with value: 3.384156386979835 with parameters: {'n_estimators': 500, 'bootstrap': True, 'max_features': 'auto', 'min_samples_leaf': 0.3, 'max_samples': 0.1}. Best is trial#31 with value: 2.5755661186751726.\n",
      "[I 2020-08-19 05:49:12,942] Finished trial#44 with value: 3.3824628515446693 with parameters: {'n_estimators': 10, 'bootstrap': False, 'max_features': 'sqrt', 'min_samples_leaf': 0.5}. Best is trial#31 with value: 2.5755661186751726.\n",
      "[I 2020-08-19 05:50:55,506] Finished trial#45 with value: 3.3839043422975292 with parameters: {'n_estimators': 500, 'bootstrap': True, 'max_features': 'auto', 'min_samples_leaf': 0.3, 'max_samples': 0.5}. Best is trial#31 with value: 2.5755661186751726.\n",
      "[I 2020-08-19 06:05:57,183] Finished trial#46 with value: 2.576257587526621 with parameters: {'n_estimators': 500, 'bootstrap': True, 'max_features': 'auto', 'min_samples_leaf': 0.1, 'max_samples': 0.99}. Best is trial#31 with value: 2.5755661186751726.\n",
      "[I 2020-08-19 06:07:30,358] Finished trial#47 with value: 3.384777587506281 with parameters: {'n_estimators': 10, 'bootstrap': True, 'max_features': 'sqrt', 'min_samples_leaf': 0.3, 'max_samples': 0.5}. Best is trial#31 with value: 2.5755661186751726.\n",
      "[I 2020-08-19 06:09:26,032] Finished trial#48 with value: 3.3837005581931296 with parameters: {'n_estimators': 1000, 'bootstrap': False, 'max_features': 'sqrt', 'min_samples_leaf': 0.5}. Best is trial#31 with value: 2.5755661186751726.\n",
      "[I 2020-08-19 06:14:05,830] Finished trial#49 with value: 3.3752900987693835 with parameters: {'n_estimators': 500, 'bootstrap': False, 'max_features': 'auto', 'min_samples_leaf': 0.5}. Best is trial#31 with value: 2.5755661186751726.\n",
      "[I 2020-08-19 06:15:54,453] Finished trial#50 with value: 3.3841922726302096 with parameters: {'n_estimators': 1000, 'bootstrap': True, 'max_features': 'auto', 'min_samples_leaf': 0.1, 'max_samples': 0.1}. Best is trial#31 with value: 2.5755661186751726.\n",
      "[I 2020-08-19 06:31:33,551] Finished trial#51 with value: 3.0893151673546146 with parameters: {'n_estimators': 700, 'bootstrap': False, 'max_features': 'auto', 'min_samples_leaf': 0.3}. Best is trial#31 with value: 2.5755661186751726.\n",
      "[I 2020-08-19 06:33:13,802] Finished trial#52 with value: 3.1632996816850154 with parameters: {'n_estimators': 300, 'bootstrap': False, 'max_features': 'sqrt', 'min_samples_leaf': 0.3}. Best is trial#31 with value: 2.5755661186751726.\n",
      "[I 2020-08-19 06:48:49,015] Finished trial#53 with value: 3.0893151673546146 with parameters: {'n_estimators': 700, 'bootstrap': False, 'max_features': 'auto', 'min_samples_leaf': 0.3}. Best is trial#31 with value: 2.5755661186751726.\n",
      "[I 2020-08-19 07:10:13,062] Finished trial#54 with value: 3.0893151673546155 with parameters: {'n_estimators': 1000, 'bootstrap': False, 'max_features': 'auto', 'min_samples_leaf': 0.3}. Best is trial#31 with value: 2.5755661186751726.\n",
      "[I 2020-08-19 07:16:40,517] Finished trial#55 with value: 2.6289811068666133 with parameters: {'n_estimators': 100, 'bootstrap': False, 'max_features': 'auto', 'min_samples_leaf': 0.1}. Best is trial#31 with value: 2.5755661186751726.\n",
      "[I 2020-08-19 07:36:45,742] Finished trial#56 with value: 2.5751457430620905 with parameters: {'n_estimators': 700, 'bootstrap': True, 'max_features': 'auto', 'min_samples_leaf': 0.1, 'max_samples': 0.99}. Best is trial#56 with value: 2.5751457430620905.\n",
      "[I 2020-08-19 07:44:27,139] Finished trial#57 with value: 3.3752900987693826 with parameters: {'n_estimators': 1000, 'bootstrap': False, 'max_features': 'auto', 'min_samples_leaf': 0.5}. Best is trial#56 with value: 2.5751457430620905.\n",
      "[I 2020-08-19 07:46:07,631] Finished trial#58 with value: 2.748169693548017 with parameters: {'n_estimators': 100, 'bootstrap': False, 'max_features': 'sqrt', 'min_samples_leaf': 0.1}. Best is trial#56 with value: 2.5751457430620905.\n",
      "[I 2020-08-19 07:50:24,770] Finished trial#59 with value: 2.5844075471625265 with parameters: {'n_estimators': 100, 'bootstrap': True, 'max_features': 'auto', 'min_samples_leaf': 0.1, 'max_samples': 0.99}. Best is trial#56 with value: 2.5751457430620905.\n",
      "[I 2020-08-19 07:52:04,012] Finished trial#60 with value: 3.384253960435149 with parameters: {'n_estimators': 500, 'bootstrap': True, 'max_features': 'auto', 'min_samples_leaf': 0.5, 'max_samples': 0.99}. Best is trial#56 with value: 2.5751457430620905.\n",
      "[I 2020-08-19 07:55:38,372] Finished trial#61 with value: 3.0893151673546138 with parameters: {'n_estimators': 100, 'bootstrap': False, 'max_features': 'auto', 'min_samples_leaf': 0.3}. Best is trial#56 with value: 2.5751457430620905.\n",
      "[I 2020-08-19 07:57:36,009] Finished trial#62 with value: 3.3841495174904908 with parameters: {'n_estimators': 1000, 'bootstrap': True, 'max_features': 'auto', 'min_samples_leaf': 0.3, 'max_samples': 0.5}. Best is trial#56 with value: 2.5751457430620905.\n",
      "[I 2020-08-19 07:59:57,403] Finished trial#63 with value: 2.751648580998675 with parameters: {'n_estimators': 1000, 'bootstrap': False, 'max_features': 'sqrt', 'min_samples_leaf': 0.1}. Best is trial#56 with value: 2.5751457430620905.\n",
      "[I 2020-08-19 08:01:38,612] Finished trial#64 with value: 3.384150095135689 with parameters: {'n_estimators': 500, 'bootstrap': True, 'max_features': 'auto', 'min_samples_leaf': 0.5, 'max_samples': 0.5}. Best is trial#56 with value: 2.5751457430620905.\n"
     ]
    },
    {
     "name": "stderr",
     "output_type": "stream",
     "text": [
      "[I 2020-08-19 08:28:11,042] Finished trial#65 with value: 2.628981106866613 with parameters: {'n_estimators': 500, 'bootstrap': False, 'max_features': 'auto', 'min_samples_leaf': 0.1}. Best is trial#56 with value: 2.5751457430620905.\n",
      "[I 2020-08-19 08:29:52,914] Finished trial#66 with value: 3.165463774956901 with parameters: {'n_estimators': 300, 'bootstrap': False, 'max_features': 'sqrt', 'min_samples_leaf': 0.3}. Best is trial#56 with value: 2.5751457430620905.\n",
      "[I 2020-08-19 08:34:19,725] Finished trial#67 with value: 3.0629105400765315 with parameters: {'n_estimators': 300, 'bootstrap': True, 'max_features': 'auto', 'min_samples_leaf': 0.3, 'max_samples': 0.99}. Best is trial#56 with value: 2.5751457430620905.\n",
      "[I 2020-08-19 08:37:37,473] Finished trial#68 with value: 3.375290098769382 with parameters: {'n_estimators': 300, 'bootstrap': False, 'max_features': 'auto', 'min_samples_leaf': 0.5}. Best is trial#56 with value: 2.5751457430620905.\n",
      "[I 2020-08-19 09:13:52,186] Finished trial#69 with value: 2.628981106866614 with parameters: {'n_estimators': 700, 'bootstrap': False, 'max_features': 'auto', 'min_samples_leaf': 0.1}. Best is trial#56 with value: 2.5751457430620905.\n",
      "[I 2020-08-19 09:15:22,689] Finished trial#70 with value: 3.383784918684378 with parameters: {'n_estimators': 300, 'bootstrap': False, 'max_features': 'sqrt', 'min_samples_leaf': 0.5}. Best is trial#56 with value: 2.5751457430620905.\n",
      "[I 2020-08-19 09:17:12,017] Finished trial#71 with value: 3.0893151673546138 with parameters: {'n_estimators': 10, 'bootstrap': False, 'max_features': 'auto', 'min_samples_leaf': 0.3}. Best is trial#56 with value: 2.5751457430620905.\n",
      "[I 2020-08-19 10:08:26,940] Finished trial#72 with value: 2.6289811068666133 with parameters: {'n_estimators': 1000, 'bootstrap': False, 'max_features': 'auto', 'min_samples_leaf': 0.1}. Best is trial#56 with value: 2.5751457430620905.\n",
      "[I 2020-08-19 10:10:19,147] Finished trial#73 with value: 3.109199029064939 with parameters: {'n_estimators': 700, 'bootstrap': True, 'max_features': 'sqrt', 'min_samples_leaf': 0.1, 'max_samples': 0.5}. Best is trial#56 with value: 2.5751457430620905.\n",
      "[I 2020-08-19 10:11:57,424] Finished trial#74 with value: 3.3840265764902573 with parameters: {'n_estimators': 100, 'bootstrap': True, 'max_features': 'auto', 'min_samples_leaf': 0.3, 'max_samples': 0.5}. Best is trial#56 with value: 2.5751457430620905.\n",
      "[I 2020-08-19 10:14:08,422] Finished trial#75 with value: 2.9280104158298452 with parameters: {'n_estimators': 1000, 'bootstrap': True, 'max_features': 'sqrt', 'min_samples_leaf': 0.1, 'max_samples': 0.99}. Best is trial#56 with value: 2.5751457430620905.\n",
      "[I 2020-08-19 10:15:50,262] Finished trial#76 with value: 3.384129699172398 with parameters: {'n_estimators': 300, 'bootstrap': True, 'max_features': 'auto', 'min_samples_leaf': 0.5, 'max_samples': 0.1}. Best is trial#56 with value: 2.5751457430620905.\n",
      "[I 2020-08-19 10:17:51,911] Finished trial#77 with value: 3.1667859793065825 with parameters: {'n_estimators': 1000, 'bootstrap': False, 'max_features': 'sqrt', 'min_samples_leaf': 0.3}. Best is trial#56 with value: 2.5751457430620905.\n",
      "[I 2020-08-19 10:19:27,568] Finished trial#78 with value: 3.1852210995312347 with parameters: {'n_estimators': 10, 'bootstrap': False, 'max_features': 'sqrt', 'min_samples_leaf': 0.3}. Best is trial#56 with value: 2.5751457430620905.\n",
      "[I 2020-08-19 10:22:05,486] Finished trial#79 with value: 3.0662092976751576 with parameters: {'n_estimators': 100, 'bootstrap': True, 'max_features': 'auto', 'min_samples_leaf': 0.3, 'max_samples': 0.99}. Best is trial#56 with value: 2.5751457430620905.\n",
      "[I 2020-08-19 10:23:55,220] Finished trial#80 with value: 3.384227097953805 with parameters: {'n_estimators': 1000, 'bootstrap': True, 'max_features': 'auto', 'min_samples_leaf': 0.3, 'max_samples': 0.1}. Best is trial#56 with value: 2.5751457430620905.\n",
      "[I 2020-08-19 10:25:33,573] Finished trial#81 with value: 2.7817946058829937 with parameters: {'n_estimators': 10, 'bootstrap': False, 'max_features': 'sqrt', 'min_samples_leaf': 0.1}. Best is trial#56 with value: 2.5751457430620905.\n",
      "[I 2020-08-19 10:27:21,850] Finished trial#82 with value: 3.0893151673546138 with parameters: {'n_estimators': 10, 'bootstrap': False, 'max_features': 'auto', 'min_samples_leaf': 0.3}. Best is trial#56 with value: 2.5751457430620905.\n",
      "[I 2020-08-19 10:29:00,019] Finished trial#83 with value: 3.199047252126523 with parameters: {'n_estimators': 10, 'bootstrap': False, 'max_features': 'sqrt', 'min_samples_leaf': 0.3}. Best is trial#56 with value: 2.5751457430620905.\n",
      "[I 2020-08-19 10:39:50,822] Finished trial#84 with value: 2.902105394268188 with parameters: {'n_estimators': 700, 'bootstrap': True, 'max_features': 'auto', 'min_samples_leaf': 0.1, 'max_samples': 0.5}. Best is trial#56 with value: 2.5751457430620905.\n",
      "[I 2020-08-19 10:41:40,049] Finished trial#85 with value: 3.3845344137679794 with parameters: {'n_estimators': 500, 'bootstrap': True, 'max_features': 'auto', 'min_samples_leaf': 0.1, 'max_samples': 0.1}. Best is trial#56 with value: 2.5751457430620905.\n",
      "[I 2020-08-19 10:43:12,949] Finished trial#86 with value: 3.3842797097746677 with parameters: {'n_estimators': 10, 'bootstrap': True, 'max_features': 'auto', 'min_samples_leaf': 0.3, 'max_samples': 0.5}. Best is trial#56 with value: 2.5751457430620905.\n",
      "[I 2020-08-19 10:45:06,646] Finished trial#87 with value: 3.384437125172046 with parameters: {'n_estimators': 1000, 'bootstrap': True, 'max_features': 'auto', 'min_samples_leaf': 0.5, 'max_samples': 0.1}. Best is trial#56 with value: 2.5751457430620905.\n",
      "[I 2020-08-19 10:46:52,436] Finished trial#88 with value: 3.3837650217327395 with parameters: {'n_estimators': 700, 'bootstrap': False, 'max_features': 'sqrt', 'min_samples_leaf': 0.5}. Best is trial#56 with value: 2.5751457430620905.\n",
      "[I 2020-08-19 10:48:35,143] Finished trial#89 with value: 3.0893151673546138 with parameters: {'n_estimators': 10, 'bootstrap': False, 'max_features': 'auto', 'min_samples_leaf': 0.3}. Best is trial#56 with value: 2.5751457430620905.\n",
      "[I 2020-08-19 10:50:17,615] Finished trial#90 with value: 3.299594372210294 with parameters: {'n_estimators': 500, 'bootstrap': True, 'max_features': 'sqrt', 'min_samples_leaf': 0.3, 'max_samples': 0.99}. Best is trial#56 with value: 2.5751457430620905.\n",
      "[I 2020-08-19 10:52:09,790] Finished trial#91 with value: 3.384010789479213 with parameters: {'n_estimators': 700, 'bootstrap': True, 'max_features': 'auto', 'min_samples_leaf': 0.5, 'max_samples': 0.1}. Best is trial#56 with value: 2.5751457430620905.\n",
      "[I 2020-08-19 10:53:53,225] Finished trial#92 with value: 3.383854906019592 with parameters: {'n_estimators': 500, 'bootstrap': False, 'max_features': 'sqrt', 'min_samples_leaf': 0.5}. Best is trial#56 with value: 2.5751457430620905.\n",
      "[I 2020-08-19 10:55:35,087] Finished trial#93 with value: 3.385161550976436 with parameters: {'n_estimators': 10, 'bootstrap': True, 'max_features': 'sqrt', 'min_samples_leaf': 0.5, 'max_samples': 0.5}. Best is trial#56 with value: 2.5751457430620905.\n",
      "[I 2020-08-19 10:58:05,684] Finished trial#94 with value: 2.7508894915566264 with parameters: {'n_estimators': 1000, 'bootstrap': False, 'max_features': 'sqrt', 'min_samples_leaf': 0.1}. Best is trial#56 with value: 2.5751457430620905.\n",
      "[I 2020-08-19 11:05:43,083] Finished trial#95 with value: 3.089315167354613 with parameters: {'n_estimators': 300, 'bootstrap': False, 'max_features': 'auto', 'min_samples_leaf': 0.3}. Best is trial#56 with value: 2.5751457430620905.\n",
      "[I 2020-08-19 11:07:14,463] Finished trial#96 with value: 3.3824855297744727 with parameters: {'n_estimators': 10, 'bootstrap': False, 'max_features': 'sqrt', 'min_samples_leaf': 0.5}. Best is trial#56 with value: 2.5751457430620905.\n",
      "[I 2020-08-19 11:22:53,739] Finished trial#97 with value: 3.0893151673546146 with parameters: {'n_estimators': 700, 'bootstrap': False, 'max_features': 'auto', 'min_samples_leaf': 0.3}. Best is trial#56 with value: 2.5751457430620905.\n",
      "[I 2020-08-19 11:24:38,162] Finished trial#98 with value: 3.3842870207624816 with parameters: {'n_estimators': 700, 'bootstrap': True, 'max_features': 'auto', 'min_samples_leaf': 0.1, 'max_samples': 0.1}. Best is trial#56 with value: 2.5751457430620905.\n",
      "[I 2020-08-19 11:26:43,405] Finished trial#99 with value: 2.628981106866613 with parameters: {'n_estimators': 10, 'bootstrap': False, 'max_features': 'auto', 'min_samples_leaf': 0.1}. Best is trial#56 with value: 2.5751457430620905.\n",
      "[I 2020-08-19 11:28:26,665] Finished trial#100 with value: 3.16493246589633 with parameters: {'n_estimators': 100, 'bootstrap': False, 'max_features': 'sqrt', 'min_samples_leaf': 0.3}. Best is trial#56 with value: 2.5751457430620905.\n",
      "[I 2020-08-19 11:30:02,230] Finished trial#101 with value: 3.384283122519392 with parameters: {'n_estimators': 100, 'bootstrap': True, 'max_features': 'sqrt', 'min_samples_leaf': 0.5, 'max_samples': 0.99}. Best is trial#56 with value: 2.5751457430620905.\n",
      "[I 2020-08-19 11:34:40,277] Finished trial#102 with value: 3.3752900987693835 with parameters: {'n_estimators': 500, 'bootstrap': False, 'max_features': 'auto', 'min_samples_leaf': 0.5}. Best is trial#56 with value: 2.5751457430620905.\n",
      "[I 2020-08-19 11:36:21,097] Finished trial#103 with value: 3.384411948953209 with parameters: {'n_estimators': 300, 'bootstrap': True, 'max_features': 'auto', 'min_samples_leaf': 0.5, 'max_samples': 0.99}. Best is trial#56 with value: 2.5751457430620905.\n",
      "[I 2020-08-19 11:41:57,214] Finished trial#104 with value: 2.903208853715564 with parameters: {'n_estimators': 300, 'bootstrap': True, 'max_features': 'auto', 'min_samples_leaf': 0.1, 'max_samples': 0.5}. Best is trial#56 with value: 2.5751457430620905.\n",
      "[I 2020-08-19 11:43:36,762] Finished trial#105 with value: 3.383985311958151 with parameters: {'n_estimators': 300, 'bootstrap': True, 'max_features': 'sqrt', 'min_samples_leaf': 0.3, 'max_samples': 0.1}. Best is trial#56 with value: 2.5751457430620905.\n",
      "[I 2020-08-19 11:45:20,120] Finished trial#106 with value: 3.3836760057517075 with parameters: {'n_estimators': 500, 'bootstrap': False, 'max_features': 'sqrt', 'min_samples_leaf': 0.5}. Best is trial#56 with value: 2.5751457430620905.\n",
      "[I 2020-08-19 11:49:00,470] Finished trial#107 with value: 3.0893151673546138 with parameters: {'n_estimators': 100, 'bootstrap': False, 'max_features': 'auto', 'min_samples_leaf': 0.3}. Best is trial#56 with value: 2.5751457430620905.\n",
      "[I 2020-08-19 11:50:57,264] Finished trial#108 with value: 3.1661823435118714 with parameters: {'n_estimators': 1000, 'bootstrap': False, 'max_features': 'sqrt', 'min_samples_leaf': 0.3}. Best is trial#56 with value: 2.5751457430620905.\n",
      "[I 2020-08-19 12:05:44,950] Finished trial#109 with value: 2.8998335392019357 with parameters: {'n_estimators': 1000, 'bootstrap': True, 'max_features': 'auto', 'min_samples_leaf': 0.1, 'max_samples': 0.5}. Best is trial#56 with value: 2.5751457430620905.\n",
      "[I 2020-08-19 12:07:30,316] Finished trial#110 with value: 3.3839846684815544 with parameters: {'n_estimators': 700, 'bootstrap': True, 'max_features': 'sqrt', 'min_samples_leaf': 0.1, 'max_samples': 0.1}. Best is trial#56 with value: 2.5751457430620905.\n",
      "[I 2020-08-19 12:13:23,382] Finished trial#111 with value: 3.375290098769384 with parameters: {'n_estimators': 700, 'bootstrap': False, 'max_features': 'auto', 'min_samples_leaf': 0.5}. Best is trial#56 with value: 2.5751457430620905.\n",
      "[I 2020-08-19 12:15:28,219] Finished trial#112 with value: 2.628981106866613 with parameters: {'n_estimators': 10, 'bootstrap': False, 'max_features': 'auto', 'min_samples_leaf': 0.1}. Best is trial#56 with value: 2.5751457430620905.\n",
      "[I 2020-08-19 12:17:27,407] Finished trial#113 with value: 3.384290272950599 with parameters: {'n_estimators': 1000, 'bootstrap': True, 'max_features': 'sqrt', 'min_samples_leaf': 0.3, 'max_samples': 0.5}. Best is trial#56 with value: 2.5751457430620905.\n",
      "[I 2020-08-19 12:19:08,588] Finished trial#114 with value: 3.1128065990538065 with parameters: {'n_estimators': 100, 'bootstrap': True, 'max_features': 'sqrt', 'min_samples_leaf': 0.1, 'max_samples': 0.5}. Best is trial#56 with value: 2.5751457430620905.\n",
      "[I 2020-08-19 12:21:12,883] Finished trial#115 with value: 2.7596013628135103 with parameters: {'n_estimators': 500, 'bootstrap': False, 'max_features': 'sqrt', 'min_samples_leaf': 0.1}. Best is trial#56 with value: 2.5751457430620905.\n",
      "[I 2020-08-19 12:48:01,111] Finished trial#116 with value: 2.628981106866613 with parameters: {'n_estimators': 500, 'bootstrap': False, 'max_features': 'auto', 'min_samples_leaf': 0.1}. Best is trial#56 with value: 2.5751457430620905.\n",
      "[I 2020-08-19 12:49:51,062] Finished trial#117 with value: 3.384498140289288 with parameters: {'n_estimators': 1000, 'bootstrap': True, 'max_features': 'sqrt', 'min_samples_leaf': 0.1, 'max_samples': 0.1}. Best is trial#56 with value: 2.5751457430620905.\n",
      "[I 2020-08-19 12:51:51,821] Finished trial#118 with value: 3.3842599860178293 with parameters: {'n_estimators': 1000, 'bootstrap': True, 'max_features': 'sqrt', 'min_samples_leaf': 0.5, 'max_samples': 0.99}. Best is trial#56 with value: 2.5751457430620905.\n",
      "[I 2020-08-19 12:55:20,569] Finished trial#119 with value: 3.375290098769382 with parameters: {'n_estimators': 300, 'bootstrap': False, 'max_features': 'auto', 'min_samples_leaf': 0.5}. Best is trial#56 with value: 2.5751457430620905.\n",
      "[I 2020-08-19 12:57:13,029] Finished trial#120 with value: 3.163995245560189 with parameters: {'n_estimators': 500, 'bootstrap': False, 'max_features': 'sqrt', 'min_samples_leaf': 0.3}. Best is trial#56 with value: 2.5751457430620905.\n",
      "[I 2020-08-19 13:03:47,230] Finished trial#121 with value: 3.06229338981688 with parameters: {'n_estimators': 500, 'bootstrap': True, 'max_features': 'auto', 'min_samples_leaf': 0.3, 'max_samples': 0.99}. Best is trial#56 with value: 2.5751457430620905.\n",
      "[I 2020-08-19 13:15:16,243] Finished trial#122 with value: 3.062554064250843 with parameters: {'n_estimators': 1000, 'bootstrap': True, 'max_features': 'auto', 'min_samples_leaf': 0.3, 'max_samples': 0.99}. Best is trial#56 with value: 2.5751457430620905.\n",
      "[I 2020-08-19 13:17:09,855] Finished trial#123 with value: 3.16658319040522 with parameters: {'n_estimators': 700, 'bootstrap': False, 'max_features': 'sqrt', 'min_samples_leaf': 0.3}. Best is trial#56 with value: 2.5751457430620905.\n",
      "[I 2020-08-19 13:18:56,631] Finished trial#124 with value: 3.384437878286115 with parameters: {'n_estimators': 500, 'bootstrap': True, 'max_features': 'auto', 'min_samples_leaf': 0.5, 'max_samples': 0.1}. Best is trial#56 with value: 2.5751457430620905.\n",
      "[I 2020-08-19 13:20:45,557] Finished trial#125 with value: 3.3840499800158286 with parameters: {'n_estimators': 300, 'bootstrap': True, 'max_features': 'sqrt', 'min_samples_leaf': 0.5, 'max_samples': 0.5}. Best is trial#56 with value: 2.5751457430620905.\n",
      "[I 2020-08-19 13:22:34,485] Finished trial#126 with value: 3.384225141647884 with parameters: {'n_estimators': 700, 'bootstrap': True, 'max_features': 'auto', 'min_samples_leaf': 0.5, 'max_samples': 0.99}. Best is trial#56 with value: 2.5751457430620905.\n",
      "[I 2020-08-19 13:24:10,791] Finished trial#127 with value: 3.384482598659747 with parameters: {'n_estimators': 100, 'bootstrap': True, 'max_features': 'sqrt', 'min_samples_leaf': 0.3, 'max_samples': 0.1}. Best is trial#56 with value: 2.5751457430620905.\n",
      "[I 2020-08-19 13:25:46,349] Finished trial#128 with value: 3.2921641666794783 with parameters: {'n_estimators': 10, 'bootstrap': True, 'max_features': 'sqrt', 'min_samples_leaf': 0.3, 'max_samples': 0.99}. Best is trial#56 with value: 2.5751457430620905.\n",
      "[I 2020-08-19 13:33:45,669] Finished trial#129 with value: 3.3752900987693826 with parameters: {'n_estimators': 1000, 'bootstrap': False, 'max_features': 'auto', 'min_samples_leaf': 0.5}. Best is trial#56 with value: 2.5751457430620905.\n",
      "[I 2020-08-19 13:35:14,980] Finished trial#130 with value: 3.3840279069805472 with parameters: {'n_estimators': 10, 'bootstrap': False, 'max_features': 'sqrt', 'min_samples_leaf': 0.5}. Best is trial#56 with value: 2.5751457430620905.\n"
     ]
    },
    {
     "name": "stderr",
     "output_type": "stream",
     "text": [
      "[I 2020-08-19 13:36:48,533] Finished trial#131 with value: 3.3848792162815835 with parameters: {'n_estimators': 10, 'bootstrap': True, 'max_features': 'sqrt', 'min_samples_leaf': 0.1, 'max_samples': 0.1}. Best is trial#56 with value: 2.5751457430620905.\n",
      "[I 2020-08-19 13:38:26,038] Finished trial#132 with value: 2.7861778322132187 with parameters: {'n_estimators': 10, 'bootstrap': False, 'max_features': 'sqrt', 'min_samples_leaf': 0.1}. Best is trial#56 with value: 2.5751457430620905.\n",
      "[I 2020-08-19 13:40:02,458] Finished trial#133 with value: 3.3752900987693826 with parameters: {'n_estimators': 10, 'bootstrap': False, 'max_features': 'auto', 'min_samples_leaf': 0.5}. Best is trial#56 with value: 2.5751457430620905.\n",
      "[I 2020-08-19 13:48:40,612] Finished trial#134 with value: 3.061614526077297 with parameters: {'n_estimators': 700, 'bootstrap': True, 'max_features': 'auto', 'min_samples_leaf': 0.3, 'max_samples': 0.99}. Best is trial#56 with value: 2.5751457430620905.\n",
      "[I 2020-08-19 13:50:22,486] Finished trial#135 with value: 3.384153329743293 with parameters: {'n_estimators': 100, 'bootstrap': True, 'max_features': 'auto', 'min_samples_leaf': 0.5, 'max_samples': 0.5}. Best is trial#56 with value: 2.5751457430620905.\n",
      "[I 2020-08-19 13:52:07,691] Finished trial#136 with value: 3.384063883775296 with parameters: {'n_estimators': 500, 'bootstrap': True, 'max_features': 'sqrt', 'min_samples_leaf': 0.3, 'max_samples': 0.5}. Best is trial#56 with value: 2.5751457430620905.\n",
      "[I 2020-08-19 14:28:12,166] Finished trial#137 with value: 2.6289811068666133 with parameters: {'n_estimators': 700, 'bootstrap': False, 'max_features': 'auto', 'min_samples_leaf': 0.1}. Best is trial#56 with value: 2.5751457430620905.\n",
      "[I 2020-08-19 14:29:42,826] Finished trial#138 with value: 3.3847941445107947 with parameters: {'n_estimators': 10, 'bootstrap': True, 'max_features': 'auto', 'min_samples_leaf': 0.5, 'max_samples': 0.99}. Best is trial#56 with value: 2.5751457430620905.\n",
      "[I 2020-08-19 14:31:51,251] Finished trial#139 with value: 2.6289811068666133 with parameters: {'n_estimators': 10, 'bootstrap': False, 'max_features': 'auto', 'min_samples_leaf': 0.1}. Best is trial#56 with value: 2.5751457430620905.\n",
      "[I 2020-08-19 14:33:32,761] Finished trial#140 with value: 3.179350311495218 with parameters: {'n_estimators': 10, 'bootstrap': False, 'max_features': 'sqrt', 'min_samples_leaf': 0.3}. Best is trial#56 with value: 2.5751457430620905.\n",
      "[I 2020-08-19 14:35:13,216] Finished trial#141 with value: 3.1263353916676238 with parameters: {'n_estimators': 10, 'bootstrap': True, 'max_features': 'sqrt', 'min_samples_leaf': 0.1, 'max_samples': 0.5}. Best is trial#56 with value: 2.5751457430620905.\n",
      "[I 2020-08-19 14:37:20,612] Finished trial#142 with value: 3.3007304265204165 with parameters: {'n_estimators': 1000, 'bootstrap': True, 'max_features': 'sqrt', 'min_samples_leaf': 0.3, 'max_samples': 0.99}. Best is trial#56 with value: 2.5751457430620905.\n",
      "[I 2020-08-19 14:39:04,634] Finished trial#143 with value: 3.384360701467868 with parameters: {'n_estimators': 300, 'bootstrap': True, 'max_features': 'sqrt', 'min_samples_leaf': 0.3, 'max_samples': 0.5}. Best is trial#56 with value: 2.5751457430620905.\n"
     ]
    }
   ],
   "source": [
    "study = optuna.create_study(direction=\"minimize\", sampler=GridSampler(search_space))\n",
    "study.optimize(objective, n_trials=num_points)\n",
    "rf_gs_result = study.trials_dataframe()"
   ]
  },
  {
   "cell_type": "code",
   "execution_count": 99,
   "metadata": {},
   "outputs": [],
   "source": [
    "rf_gs_result.to_csv(\"qsar_results/rf_gs_result.csv\", index=False)"
   ]
  },
  {
   "cell_type": "markdown",
   "metadata": {},
   "source": [
    "## GS - XGBoost"
   ]
  },
  {
   "cell_type": "code",
   "execution_count": 101,
   "metadata": {},
   "outputs": [
    {
     "name": "stdout",
     "output_type": "stream",
     "text": [
      "Number of points in the search space: 108\n"
     ]
    }
   ],
   "source": [
    "eta_list = [i/10 for i in range(1,10)]\n",
    "maxdep_list = [6, 10, 15]\n",
    "min_list = [1, 16, 64, 128]\n",
    "\n",
    "def objective(trial):\n",
    "    mlist = []\n",
    "    param = {\n",
    "        \"booster\": \"gbtree\",\n",
    "        \"lambda\": 1,\n",
    "        \"alpha\": 0,\n",
    "        \"eta\": trial.suggest_discrete_uniform(\"eta\", 0.1, 0.9, 0.1),\n",
    "        \"subsample\": 1,\n",
    "        \"max_depth\": trial.suggest_categorical(\"max_depth\", maxdep_list),\n",
    "        \"min_child_weight\": trial.suggest_categorical(\"min_child_weight\", min_list),\n",
    "        \"colsample_bytree\": 1,\n",
    "        \"colsample_bylevel\": 1\n",
    "    }\n",
    "    # run xgboost.cv for each dataset\n",
    "    for i in range(num_datasets):\n",
    "        bst = xgb.cv(param, dmat_list[i], num_boost_round=10, nfold=3, metrics='rmse', seed=123, shuffle=True)\n",
    "        mlist.append(bst.iloc[len(bst.index)-1, 2])\n",
    "    rmse_mean = sum(mlist)/len(mlist)\n",
    "    return rmse_mean\n",
    "# determine points in the search space\n",
    "search_space = {\n",
    "    \"eta\": eta_list,\n",
    "    \"max_depth\": maxdep_list,\n",
    "    \"min_child_weight\": min_list\n",
    "}\n",
    "# calculate number of points in the search space\n",
    "num_points = 1\n",
    "keys = search_space.keys()\n",
    "for k in keys:\n",
    "    num_points = num_points * len(search_space[k])\n",
    "print(\"Number of points in the search space: {}\".format(num_points))"
   ]
  },
  {
   "cell_type": "code",
   "execution_count": 102,
   "metadata": {},
   "outputs": [
    {
     "name": "stderr",
     "output_type": "stream",
     "text": [
      "/Users/seanhong/opt/anaconda3/lib/python3.7/site-packages/optuna/_experimental.py:83: ExperimentalWarning: GridSampler is experimental (supported from v1.2.0). The interface can change in the future.\n",
      "  ExperimentalWarning,\n",
      "[I 2020-08-19 20:47:00,078] Finished trial#0 with value: 2.2764940000000005 with parameters: {'eta': 0.9, 'max_depth': 6, 'min_child_weight': 64}. Best is trial#0 with value: 2.2764940000000005.\n",
      "[I 2020-08-19 20:57:36,955] Finished trial#1 with value: 2.1286220444444446 with parameters: {'eta': 0.6, 'max_depth': 15, 'min_child_weight': 16}. Best is trial#1 with value: 2.1286220444444446.\n",
      "[I 2020-08-19 21:06:30,987] Finished trial#2 with value: 3.760398644444444 with parameters: {'eta': 0.1, 'max_depth': 15, 'min_child_weight': 128}. Best is trial#1 with value: 2.1286220444444446.\n",
      "[I 2020-08-19 21:17:06,043] Finished trial#3 with value: 2.283761288888889 with parameters: {'eta': 0.2, 'max_depth': 15, 'min_child_weight': 1}. Best is trial#1 with value: 2.1286220444444446.\n",
      "[I 2020-08-19 21:23:44,911] Finished trial#4 with value: 2.167804688888889 with parameters: {'eta': 0.3, 'max_depth': 6, 'min_child_weight': 64}. Best is trial#1 with value: 2.1286220444444446.\n",
      "[I 2020-08-19 22:05:27,741] Finished trial#5 with value: 2.2376374666666665 with parameters: {'eta': 0.9, 'max_depth': 10, 'min_child_weight': 64}. Best is trial#1 with value: 2.1286220444444446.\n",
      "[I 2020-08-19 22:15:26,464] Finished trial#6 with value: 2.3975952222222223 with parameters: {'eta': 0.8, 'max_depth': 15, 'min_child_weight': 1}. Best is trial#1 with value: 2.1286220444444446.\n",
      "[I 2020-08-19 22:21:46,442] Finished trial#7 with value: 2.3061481111111113 with parameters: {'eta': 0.2, 'max_depth': 6, 'min_child_weight': 1}. Best is trial#1 with value: 2.1286220444444446.\n",
      "[I 2020-08-19 22:28:38,051] Finished trial#8 with value: 2.1672179777777774 with parameters: {'eta': 0.7, 'max_depth': 6, 'min_child_weight': 16}. Best is trial#1 with value: 2.1286220444444446.\n",
      "[I 2020-08-19 22:37:02,345] Finished trial#9 with value: 2.1643574222222224 with parameters: {'eta': 0.5, 'max_depth': 10, 'min_child_weight': 1}. Best is trial#1 with value: 2.1286220444444446.\n",
      "[I 2020-08-19 22:47:00,271] Finished trial#10 with value: 2.495296 with parameters: {'eta': 0.9, 'max_depth': 15, 'min_child_weight': 1}. Best is trial#1 with value: 2.1286220444444446.\n",
      "[I 2020-08-19 22:55:02,341] Finished trial#11 with value: 3.7607333999999994 with parameters: {'eta': 0.1, 'max_depth': 10, 'min_child_weight': 128}. Best is trial#1 with value: 2.1286220444444446.\n",
      "[I 2020-08-19 23:04:35,252] Finished trial#12 with value: 2.2112552666666665 with parameters: {'eta': 0.6, 'max_depth': 15, 'min_child_weight': 128}. Best is trial#1 with value: 2.1286220444444446.\n",
      "[I 2020-08-19 23:13:55,904] Finished trial#13 with value: 2.1844698444444446 with parameters: {'eta': 0.7, 'max_depth': 15, 'min_child_weight': 16}. Best is trial#1 with value: 2.1286220444444446.\n",
      "[I 2020-08-19 23:20:22,227] Finished trial#14 with value: 2.0907076444444446 with parameters: {'eta': 0.5, 'max_depth': 6, 'min_child_weight': 16}. Best is trial#14 with value: 2.0907076444444446.\n",
      "[I 2020-08-19 23:27:44,968] Finished trial#15 with value: 3.5630722 with parameters: {'eta': 0.1, 'max_depth': 10, 'min_child_weight': 1}. Best is trial#14 with value: 2.0907076444444446.\n",
      "[I 2020-08-19 23:34:53,760] Finished trial#16 with value: 2.2170548222222224 with parameters: {'eta': 0.4, 'max_depth': 10, 'min_child_weight': 128}. Best is trial#14 with value: 2.0907076444444446.\n",
      "[I 2020-08-19 23:44:34,155] Finished trial#17 with value: 2.124024822222222 with parameters: {'eta': 0.4, 'max_depth': 15, 'min_child_weight': 1}. Best is trial#14 with value: 2.0907076444444446.\n",
      "[I 2020-08-19 23:53:15,840] Finished trial#18 with value: 2.154529466666667 with parameters: {'eta': 0.6, 'max_depth': 10, 'min_child_weight': 64}. Best is trial#14 with value: 2.0907076444444446.\n",
      "[I 2020-08-20 00:00:08,453] Finished trial#19 with value: 2.4177316444444443 with parameters: {'eta': 0.2, 'max_depth': 6, 'min_child_weight': 64}. Best is trial#14 with value: 2.0907076444444446.\n",
      "[I 2020-08-20 00:05:57,224] Finished trial#20 with value: 2.1437697555555553 with parameters: {'eta': 0.5, 'max_depth': 6, 'min_child_weight': 64}. Best is trial#14 with value: 2.0907076444444446.\n",
      "[I 2020-08-20 00:11:49,947] Finished trial#21 with value: 2.166283288888889 with parameters: {'eta': 0.7, 'max_depth': 6, 'min_child_weight': 64}. Best is trial#14 with value: 2.0907076444444446.\n",
      "[I 2020-08-20 00:20:42,616] Finished trial#22 with value: 2.2380392222222216 with parameters: {'eta': 0.9, 'max_depth': 15, 'min_child_weight': 64}. Best is trial#14 with value: 2.0907076444444446.\n",
      "[I 2020-08-20 00:26:50,191] Finished trial#23 with value: 2.051998355555556 with parameters: {'eta': 0.4, 'max_depth': 6, 'min_child_weight': 1}. Best is trial#23 with value: 2.051998355555556.\n",
      "[I 2020-08-20 00:34:47,328] Finished trial#24 with value: 2.2782132888888897 with parameters: {'eta': 0.7, 'max_depth': 10, 'min_child_weight': 1}. Best is trial#23 with value: 2.051998355555556.\n",
      "[I 2020-08-20 00:40:38,724] Finished trial#25 with value: 2.117379822222222 with parameters: {'eta': 0.6, 'max_depth': 6, 'min_child_weight': 16}. Best is trial#23 with value: 2.051998355555556.\n",
      "[I 2020-08-20 00:47:39,884] Finished trial#26 with value: 3.674353422222221 with parameters: {'eta': 0.1, 'max_depth': 10, 'min_child_weight': 64}. Best is trial#23 with value: 2.051998355555556.\n",
      "[I 2020-08-20 00:53:28,960] Finished trial#27 with value: 2.073823422222222 with parameters: {'eta': 0.3, 'max_depth': 6, 'min_child_weight': 1}. Best is trial#23 with value: 2.051998355555556.\n",
      "[I 2020-08-20 00:59:22,728] Finished trial#28 with value: 2.2704103555555557 with parameters: {'eta': 0.3, 'max_depth': 6, 'min_child_weight': 128}. Best is trial#23 with value: 2.051998355555556.\n",
      "[I 2020-08-20 01:06:36,276] Finished trial#29 with value: 2.2874986666666666 with parameters: {'eta': 0.9, 'max_depth': 10, 'min_child_weight': 128}. Best is trial#23 with value: 2.051998355555556.\n",
      "[I 2020-08-20 01:14:34,197] Finished trial#30 with value: 2.2527956000000002 with parameters: {'eta': 0.3, 'max_depth': 15, 'min_child_weight': 128}. Best is trial#23 with value: 2.051998355555556.\n",
      "[I 2020-08-20 01:23:23,942] Finished trial#31 with value: 2.1539989333333334 with parameters: {'eta': 0.7, 'max_depth': 15, 'min_child_weight': 64}. Best is trial#23 with value: 2.051998355555556.\n",
      "[I 2020-08-20 01:30:37,645] Finished trial#32 with value: 2.232319133333333 with parameters: {'eta': 0.7, 'max_depth': 10, 'min_child_weight': 128}. Best is trial#23 with value: 2.051998355555556.\n",
      "[I 2020-08-20 01:37:52,528] Finished trial#33 with value: 2.237157933333333 with parameters: {'eta': 0.8, 'max_depth': 10, 'min_child_weight': 64}. Best is trial#23 with value: 2.051998355555556.\n",
      "[I 2020-08-20 01:44:58,557] Finished trial#34 with value: 2.3881640444444447 with parameters: {'eta': 0.2, 'max_depth': 10, 'min_child_weight': 64}. Best is trial#23 with value: 2.051998355555556.\n",
      "[I 2020-08-20 01:54:09,284] Finished trial#35 with value: 2.152216711111111 with parameters: {'eta': 0.6, 'max_depth': 15, 'min_child_weight': 64}. Best is trial#23 with value: 2.051998355555556.\n",
      "[I 2020-08-20 02:00:01,203] Finished trial#36 with value: 3.609728866666667 with parameters: {'eta': 0.1, 'max_depth': 6, 'min_child_weight': 1}. Best is trial#23 with value: 2.051998355555556.\n",
      "[I 2020-08-20 02:08:03,566] Finished trial#37 with value: 3.6733998444444445 with parameters: {'eta': 0.1, 'max_depth': 15, 'min_child_weight': 64}. Best is trial#23 with value: 2.051998355555556.\n",
      "[I 2020-08-20 02:15:41,002] Finished trial#38 with value: 2.5323595333333335 with parameters: {'eta': 0.2, 'max_depth': 6, 'min_child_weight': 128}. Best is trial#23 with value: 2.051998355555556.\n",
      "[I 2020-08-20 02:24:57,447] Finished trial#39 with value: 2.1211573333333336 with parameters: {'eta': 0.5, 'max_depth': 10, 'min_child_weight': 64}. Best is trial#23 with value: 2.051998355555556.\n",
      "[I 2020-08-20 02:31:32,263] Finished trial#40 with value: 3.6303110666666667 with parameters: {'eta': 0.1, 'max_depth': 6, 'min_child_weight': 16}. Best is trial#23 with value: 2.051998355555556.\n",
      "[I 2020-08-20 02:37:38,888] Finished trial#41 with value: 2.242910533333333 with parameters: {'eta': 0.7, 'max_depth': 6, 'min_child_weight': 128}. Best is trial#23 with value: 2.051998355555556.\n",
      "[I 2020-08-20 02:46:35,623] Finished trial#42 with value: 2.2732387333333337 with parameters: {'eta': 0.2, 'max_depth': 10, 'min_child_weight': 1}. Best is trial#23 with value: 2.051998355555556.\n",
      "[I 2020-08-20 02:54:04,593] Finished trial#43 with value: 2.191839355555555 with parameters: {'eta': 0.7, 'max_depth': 6, 'min_child_weight': 1}. Best is trial#23 with value: 2.051998355555556.\n",
      "[I 2020-08-20 03:00:02,597] Finished trial#44 with value: 3.6829529111111112 with parameters: {'eta': 0.1, 'max_depth': 6, 'min_child_weight': 64}. Best is trial#23 with value: 2.051998355555556.\n",
      "[I 2020-08-20 03:07:26,124] Finished trial#45 with value: 2.1556809333333335 with parameters: {'eta': 0.7, 'max_depth': 10, 'min_child_weight': 64}. Best is trial#23 with value: 2.051998355555556.\n",
      "[I 2020-08-20 03:16:32,657] Finished trial#46 with value: 2.1557721555555553 with parameters: {'eta': 0.5, 'max_depth': 15, 'min_child_weight': 1}. Best is trial#23 with value: 2.051998355555556.\n",
      "[I 2020-08-20 03:25:32,710] Finished trial#47 with value: 2.241959822222222 with parameters: {'eta': 0.8, 'max_depth': 15, 'min_child_weight': 64}. Best is trial#23 with value: 2.051998355555556.\n",
      "[I 2020-08-20 03:34:14,112] Finished trial#48 with value: 3.5753596666666665 with parameters: {'eta': 0.1, 'max_depth': 15, 'min_child_weight': 1}. Best is trial#23 with value: 2.051998355555556.\n",
      "[I 2020-08-20 03:41:36,565] Finished trial#49 with value: 2.371655911111111 with parameters: {'eta': 0.9, 'max_depth': 10, 'min_child_weight': 16}. Best is trial#23 with value: 2.051998355555556.\n",
      "[I 2020-08-20 03:51:01,007] Finished trial#50 with value: 2.218125288888889 with parameters: {'eta': 0.5, 'max_depth': 15, 'min_child_weight': 128}. Best is trial#23 with value: 2.051998355555556.\n",
      "[I 2020-08-20 03:58:15,102] Finished trial#51 with value: 2.470396711111111 with parameters: {'eta': 0.9, 'max_depth': 10, 'min_child_weight': 1}. Best is trial#23 with value: 2.051998355555556.\n",
      "[I 2020-08-20 04:07:08,034] Finished trial#52 with value: 2.0676447555555555 with parameters: {'eta': 0.3, 'max_depth': 15, 'min_child_weight': 1}. Best is trial#23 with value: 2.051998355555556.\n",
      "[I 2020-08-20 04:15:38,522] Finished trial#53 with value: 2.2853622666666658 with parameters: {'eta': 0.2, 'max_depth': 15, 'min_child_weight': 16}. Best is trial#23 with value: 2.051998355555556.\n",
      "[I 2020-08-20 04:21:28,074] Finished trial#54 with value: 2.0605929555555553 with parameters: {'eta': 0.4, 'max_depth': 6, 'min_child_weight': 16}. Best is trial#23 with value: 2.051998355555556.\n",
      "[I 2020-08-20 04:27:17,571] Finished trial#55 with value: 2.119005088888889 with parameters: {'eta': 0.6, 'max_depth': 6, 'min_child_weight': 64}. Best is trial#23 with value: 2.051998355555556.\n",
      "[I 2020-08-20 04:35:32,392] Finished trial#56 with value: 2.2679235111111113 with parameters: {'eta': 0.8, 'max_depth': 15, 'min_child_weight': 128}. Best is trial#23 with value: 2.051998355555556.\n",
      "[I 2020-08-20 04:42:46,203] Finished trial#57 with value: 2.0644110666666666 with parameters: {'eta': 0.4, 'max_depth': 10, 'min_child_weight': 16}. Best is trial#23 with value: 2.051998355555556.\n",
      "[I 2020-08-20 04:48:31,976] Finished trial#58 with value: 2.3342544888888885 with parameters: {'eta': 0.2, 'max_depth': 6, 'min_child_weight': 16}. Best is trial#23 with value: 2.051998355555556.\n",
      "[I 2020-08-20 04:55:42,001] Finished trial#59 with value: 2.2548419777777777 with parameters: {'eta': 0.3, 'max_depth': 10, 'min_child_weight': 128}. Best is trial#23 with value: 2.051998355555556.\n",
      "[I 2020-08-20 05:04:54,461] Finished trial#60 with value: 2.331038822222223 with parameters: {'eta': 0.7, 'max_depth': 15, 'min_child_weight': 1}. Best is trial#23 with value: 2.051998355555556.\n",
      "[I 2020-08-20 05:10:58,274] Finished trial#61 with value: 2.2256468666666667 with parameters: {'eta': 0.6, 'max_depth': 6, 'min_child_weight': 128}. Best is trial#23 with value: 2.051998355555556.\n",
      "[I 2020-08-20 05:19:38,330] Finished trial#62 with value: 2.0367932 with parameters: {'eta': 0.3, 'max_depth': 15, 'min_child_weight': 16}. Best is trial#62 with value: 2.0367932.\n",
      "[I 2020-08-20 05:25:26,223] Finished trial#63 with value: 2.0824315777777778 with parameters: {'eta': 0.3, 'max_depth': 6, 'min_child_weight': 16}. Best is trial#62 with value: 2.0367932.\n",
      "[I 2020-08-20 05:31:24,770] Finished trial#64 with value: 2.3170490222222226 with parameters: {'eta': 0.9, 'max_depth': 6, 'min_child_weight': 1}. Best is trial#62 with value: 2.0367932.\n",
      "[I 2020-08-20 05:37:14,694] Finished trial#65 with value: 2.1443855111111105 with parameters: {'eta': 0.4, 'max_depth': 6, 'min_child_weight': 64}. Best is trial#62 with value: 2.0367932.\n",
      "[I 2020-08-20 05:43:52,020] Finished trial#66 with value: 2.2653044888888894 with parameters: {'eta': 0.8, 'max_depth': 10, 'min_child_weight': 16}. Best is trial#62 with value: 2.0367932.\n",
      "[I 2020-08-20 05:53:05,703] Finished trial#67 with value: 2.2339145111111107 with parameters: {'eta': 0.6, 'max_depth': 15, 'min_child_weight': 1}. Best is trial#62 with value: 2.0367932.\n",
      "[I 2020-08-20 06:00:36,648] Finished trial#68 with value: 2.1068288444444447 with parameters: {'eta': 0.4, 'max_depth': 10, 'min_child_weight': 64}. Best is trial#62 with value: 2.0367932.\n",
      "[I 2020-08-20 06:07:48,901] Finished trial#69 with value: 2.221433511111111 with parameters: {'eta': 0.5, 'max_depth': 10, 'min_child_weight': 128}. Best is trial#62 with value: 2.0367932.\n",
      "[I 2020-08-20 06:13:58,793] Finished trial#70 with value: 2.2305617333333334 with parameters: {'eta': 0.8, 'max_depth': 6, 'min_child_weight': 64}. Best is trial#62 with value: 2.0367932.\n",
      "[I 2020-08-20 06:21:18,051] Finished trial#71 with value: 2.0835158222222216 with parameters: {'eta': 0.4, 'max_depth': 10, 'min_child_weight': 1}. Best is trial#62 with value: 2.0367932.\n",
      "[I 2020-08-20 06:27:51,074] Finished trial#72 with value: 2.189911755555555 with parameters: {'eta': 0.7, 'max_depth': 10, 'min_child_weight': 16}. Best is trial#62 with value: 2.0367932.\n",
      "[I 2020-08-20 06:34:57,588] Finished trial#73 with value: 2.138752911111111 with parameters: {'eta': 0.3, 'max_depth': 10, 'min_child_weight': 64}. Best is trial#62 with value: 2.0367932.\n",
      "[I 2020-08-20 06:44:29,847] Finished trial#74 with value: 2.056092844444444 with parameters: {'eta': 0.4, 'max_depth': 15, 'min_child_weight': 16}. Best is trial#62 with value: 2.0367932.\n",
      "[I 2020-08-20 06:52:58,802] Finished trial#75 with value: 2.213111866666666 with parameters: {'eta': 0.4, 'max_depth': 15, 'min_child_weight': 128}. Best is trial#62 with value: 2.0367932.\n",
      "[I 2020-08-20 07:00:19,393] Finished trial#76 with value: 2.377450422222222 with parameters: {'eta': 0.8, 'max_depth': 10, 'min_child_weight': 1}. Best is trial#62 with value: 2.0367932.\n",
      "[I 2020-08-20 07:07:31,171] Finished trial#77 with value: 2.2677781111111113 with parameters: {'eta': 0.8, 'max_depth': 10, 'min_child_weight': 128}. Best is trial#62 with value: 2.0367932.\n",
      "[I 2020-08-20 07:12:45,201] Finished trial#78 with value: 2.261756288888889 with parameters: {'eta': 0.8, 'max_depth': 6, 'min_child_weight': 1}. Best is trial#62 with value: 2.0367932.\n",
      "[I 2020-08-20 07:18:47,820] Finished trial#79 with value: 2.0952612000000004 with parameters: {'eta': 0.5, 'max_depth': 6, 'min_child_weight': 1}. Best is trial#62 with value: 2.0367932.\n",
      "[I 2020-08-20 07:27:13,643] Finished trial#80 with value: 2.230315733333333 with parameters: {'eta': 0.7, 'max_depth': 15, 'min_child_weight': 128}. Best is trial#62 with value: 2.0367932.\n",
      "[I 2020-08-20 07:35:24,572] Finished trial#81 with value: 3.592484977777777 with parameters: {'eta': 0.1, 'max_depth': 15, 'min_child_weight': 16}. Best is trial#62 with value: 2.0367932.\n"
     ]
    },
    {
     "name": "stderr",
     "output_type": "stream",
     "text": [
      "[I 2020-08-20 07:43:13,110] Finished trial#82 with value: 2.223945644444444 with parameters: {'eta': 0.6, 'max_depth': 10, 'min_child_weight': 1}. Best is trial#62 with value: 2.0367932.\n",
      "[I 2020-08-20 07:50:21,210] Finished trial#83 with value: 3.5870043333333332 with parameters: {'eta': 0.1, 'max_depth': 10, 'min_child_weight': 16}. Best is trial#62 with value: 2.0367932.\n",
      "[I 2020-08-20 07:59:20,306] Finished trial#84 with value: 2.0939470666666664 with parameters: {'eta': 0.5, 'max_depth': 15, 'min_child_weight': 16}. Best is trial#62 with value: 2.0367932.\n",
      "[I 2020-08-20 08:05:15,393] Finished trial#85 with value: 2.3231407777777777 with parameters: {'eta': 0.9, 'max_depth': 6, 'min_child_weight': 16}. Best is trial#62 with value: 2.0367932.\n",
      "[I 2020-08-20 08:14:48,288] Finished trial#86 with value: 2.2853036888888885 with parameters: {'eta': 0.9, 'max_depth': 15, 'min_child_weight': 128}. Best is trial#62 with value: 2.0367932.\n",
      "[I 2020-08-20 08:23:51,615] Finished trial#87 with value: 2.404247355555555 with parameters: {'eta': 0.9, 'max_depth': 15, 'min_child_weight': 16}. Best is trial#62 with value: 2.0367932.\n",
      "[I 2020-08-20 08:29:18,336] Finished trial#88 with value: 2.2629276666666667 with parameters: {'eta': 0.8, 'max_depth': 6, 'min_child_weight': 16}. Best is trial#62 with value: 2.0367932.\n",
      "[I 2020-08-20 08:36:49,537] Finished trial#89 with value: 2.1318814444444443 with parameters: {'eta': 0.6, 'max_depth': 10, 'min_child_weight': 16}. Best is trial#62 with value: 2.0367932.\n",
      "[I 2020-08-20 08:43:54,975] Finished trial#90 with value: 2.0405075111111106 with parameters: {'eta': 0.3, 'max_depth': 10, 'min_child_weight': 16}. Best is trial#62 with value: 2.0367932.\n",
      "[I 2020-08-20 08:49:33,915] Finished trial#91 with value: 2.2351630222222223 with parameters: {'eta': 0.5, 'max_depth': 6, 'min_child_weight': 128}. Best is trial#62 with value: 2.0367932.\n",
      "[I 2020-08-20 08:58:41,325] Finished trial#92 with value: 2.296648155555555 with parameters: {'eta': 0.8, 'max_depth': 15, 'min_child_weight': 16}. Best is trial#62 with value: 2.0367932.\n",
      "[I 2020-08-20 09:06:08,606] Finished trial#93 with value: 2.288136288888888 with parameters: {'eta': 0.2, 'max_depth': 10, 'min_child_weight': 16}. Best is trial#62 with value: 2.0367932.\n",
      "[I 2020-08-20 09:11:59,511] Finished trial#94 with value: 2.0866513111111114 with parameters: {'eta': 0.6, 'max_depth': 6, 'min_child_weight': 1}. Best is trial#62 with value: 2.0367932.\n",
      "[I 2020-08-20 09:20:21,170] Finished trial#95 with value: 2.3848008000000003 with parameters: {'eta': 0.2, 'max_depth': 15, 'min_child_weight': 64}. Best is trial#62 with value: 2.0367932.\n",
      "[I 2020-08-20 09:27:44,905] Finished trial#96 with value: 2.0570772444444447 with parameters: {'eta': 0.3, 'max_depth': 10, 'min_child_weight': 1}. Best is trial#62 with value: 2.0367932.\n",
      "[I 2020-08-20 09:36:21,149] Finished trial#97 with value: 2.1153535555555556 with parameters: {'eta': 0.5, 'max_depth': 15, 'min_child_weight': 64}. Best is trial#62 with value: 2.0367932.\n",
      "[I 2020-08-20 09:43:20,294] Finished trial#98 with value: 2.520190288888889 with parameters: {'eta': 0.2, 'max_depth': 10, 'min_child_weight': 128}. Best is trial#62 with value: 2.0367932.\n",
      "[I 2020-08-20 09:49:01,997] Finished trial#99 with value: 3.7661028666666665 with parameters: {'eta': 0.1, 'max_depth': 6, 'min_child_weight': 128}. Best is trial#62 with value: 2.0367932.\n",
      "[I 2020-08-20 09:54:50,738] Finished trial#100 with value: 2.2315167111111114 with parameters: {'eta': 0.4, 'max_depth': 6, 'min_child_weight': 128}. Best is trial#62 with value: 2.0367932.\n",
      "[I 2020-08-20 10:02:04,656] Finished trial#101 with value: 2.2144706888888885 with parameters: {'eta': 0.6, 'max_depth': 10, 'min_child_weight': 128}. Best is trial#62 with value: 2.0367932.\n",
      "[I 2020-08-20 10:09:22,692] Finished trial#102 with value: 2.0862185555555555 with parameters: {'eta': 0.5, 'max_depth': 10, 'min_child_weight': 16}. Best is trial#62 with value: 2.0367932.\n",
      "[I 2020-08-20 10:17:51,338] Finished trial#103 with value: 2.0997172222222225 with parameters: {'eta': 0.4, 'max_depth': 15, 'min_child_weight': 64}. Best is trial#62 with value: 2.0367932.\n",
      "[I 2020-08-20 10:26:11,939] Finished trial#104 with value: 2.133455888888889 with parameters: {'eta': 0.3, 'max_depth': 15, 'min_child_weight': 64}. Best is trial#62 with value: 2.0367932.\n",
      "[I 2020-08-20 10:31:55,302] Finished trial#105 with value: 2.273660888888889 with parameters: {'eta': 0.8, 'max_depth': 6, 'min_child_weight': 128}. Best is trial#62 with value: 2.0367932.\n",
      "[I 2020-08-20 10:37:44,498] Finished trial#106 with value: 2.2934916444444444 with parameters: {'eta': 0.9, 'max_depth': 6, 'min_child_weight': 128}. Best is trial#62 with value: 2.0367932.\n",
      "[I 2020-08-20 10:45:33,255] Finished trial#107 with value: 2.5188150444444446 with parameters: {'eta': 0.2, 'max_depth': 15, 'min_child_weight': 128}. Best is trial#62 with value: 2.0367932.\n"
     ]
    }
   ],
   "source": [
    "study = optuna.create_study(direction='minimize', sampler=optuna.samplers.GridSampler(search_space))\n",
    "study.optimize(objective, n_trials=num_points)\n",
    "xgb_gs_result = study.trials_dataframe()"
   ]
  },
  {
   "cell_type": "code",
   "execution_count": 103,
   "metadata": {},
   "outputs": [],
   "source": [
    "xgb_gs_result.to_csv(\"qsar_results/xgb_gs_result.csv\", index=False)"
   ]
  },
  {
   "cell_type": "markdown",
   "metadata": {},
   "source": [
    "# Bayesian Optimization"
   ]
  },
  {
   "cell_type": "markdown",
   "metadata": {},
   "source": [
    "## BO - Random Forest"
   ]
  },
  {
   "cell_type": "code",
   "execution_count": 33,
   "metadata": {},
   "outputs": [
    {
     "name": "stdout",
     "output_type": "stream",
     "text": [
      "Number of points in the search space: 6655\n"
     ]
    }
   ],
   "source": [
    "nest = [10, *range(100,1001,100)]\n",
    "boot = [True, False]\n",
    "maxsam = [i/10 for i in range(1,10)]\n",
    "maxsam.append(0.99)\n",
    "maxfeat = [i/10 for i in range(1,10)]\n",
    "maxfeat.append(\"auto\")\n",
    "maxfeat.append(\"sqrt\")\n",
    "minsam = [0.1, 0.2, 0.3, 0.4, 0.5]\n",
    "def objective(trial):\n",
    "    mlist = []\n",
    "    param = {\n",
    "        \"n_estimators\": trial.suggest_categorical(\"n_estimators\", nest),\n",
    "        \"bootstrap\": trial.suggest_categorical(\"bootstrap\", boot),\n",
    "        \"max_features\": trial.suggest_categorical(\"max_features\", maxfeat),\n",
    "        \"min_samples_leaf\": trial.suggest_categorical(\"min_samples_leaf\", minsam),\n",
    "        \"n_jobs\": -1}    \n",
    "    if param[\"bootstrap\"] == True:\n",
    "        param[\"max_samples\"] = trial.suggest_categorical(\"max_samples\", maxsam)\n",
    "    # fit rf to each dataset    \n",
    "    for i in range(num_datasets):\n",
    "        ncol = df_list[i].shape[1]\n",
    "        yvec = df_list[i].iloc[:,0:1].values.ravel()\n",
    "        mod = RandomForestRegressor(**param)\n",
    "        rmse = cross_val_score(mod, df_list[i].iloc[:,1:ncol], yvec, \n",
    "                               scoring=\"neg_root_mean_squared_error\", \n",
    "                               cv=KFold(n_splits=3, shuffle=True, random_state=123), \n",
    "                               n_jobs=-1)\n",
    "        mlist.append(abs(rmse).mean())\n",
    "    rmse_mean = sum(mlist)/len(mlist)   \n",
    "    return rmse_mean\n",
    "# count how many point in the grid\n",
    "search_space = {\n",
    "    \"n_estimators\": nest,\n",
    "    \"bootstrap\": boot,\n",
    "    \"max_features\": maxfeat,\n",
    "    \"min_samples_leaf\": minsam,\n",
    "    \"max_samples\": maxsam\n",
    "}\n",
    "# calculate number of points in the search space\n",
    "num_points= len(nest) * len(maxfeat) * len(minsam) * (1 + len(maxsam))\n",
    "print(\"Number of points in the search space: {}\".format(num_points))"
   ]
  },
  {
   "cell_type": "code",
   "execution_count": 34,
   "metadata": {},
   "outputs": [
    {
     "name": "stderr",
     "output_type": "stream",
     "text": [
      "[I 2020-08-14 18:25:09,665] Finished trial#0 with value: 3.384145183257039 with parameters: {'n_estimators': 500, 'bootstrap': True, 'max_features': 0.6, 'min_samples_leaf': 0.5, 'max_samples': 0.9}. Best is trial#0 with value: 3.384145183257039.\n",
      "[I 2020-08-14 18:27:12,417] Finished trial#1 with value: 3.0673866154558795 with parameters: {'n_estimators': 300, 'bootstrap': True, 'max_features': 0.2, 'min_samples_leaf': 0.2, 'max_samples': 0.6}. Best is trial#1 with value: 3.0673866154558795.\n",
      "[I 2020-08-14 18:29:32,694] Finished trial#2 with value: 2.7846095932787756 with parameters: {'n_estimators': 100, 'bootstrap': False, 'max_features': 0.2, 'min_samples_leaf': 0.2}. Best is trial#2 with value: 2.7846095932787756.\n",
      "[I 2020-08-14 18:31:22,004] Finished trial#3 with value: 3.38439419855127 with parameters: {'n_estimators': 500, 'bootstrap': True, 'max_features': 'auto', 'min_samples_leaf': 0.2, 'max_samples': 0.3}. Best is trial#2 with value: 2.7846095932787756.\n",
      "[I 2020-08-14 18:33:07,771] Finished trial#4 with value: 3.3841334940320524 with parameters: {'n_estimators': 500, 'bootstrap': True, 'max_features': 0.1, 'min_samples_leaf': 0.3, 'max_samples': 0.7}. Best is trial#2 with value: 2.7846095932787756.\n",
      "[I 2020-08-14 18:53:11,932] Finished trial#5 with value: 2.888599267440333 with parameters: {'n_estimators': 600, 'bootstrap': False, 'max_features': 0.9, 'min_samples_leaf': 0.2}. Best is trial#2 with value: 2.7846095932787756.\n",
      "[I 2020-08-14 19:00:21,695] Finished trial#6 with value: 2.6939778387959703 with parameters: {'n_estimators': 400, 'bootstrap': True, 'max_features': 0.6, 'min_samples_leaf': 0.1, 'max_samples': 0.8}. Best is trial#6 with value: 2.6939778387959703.\n",
      "[I 2020-08-14 19:02:02,391] Finished trial#7 with value: 3.3842501630494306 with parameters: {'n_estimators': 100, 'bootstrap': True, 'max_features': 'sqrt', 'min_samples_leaf': 0.5, 'max_samples': 0.6}. Best is trial#6 with value: 2.6939778387959703.\n",
      "[I 2020-08-14 19:03:53,860] Finished trial#8 with value: 3.3840076105785624 with parameters: {'n_estimators': 700, 'bootstrap': True, 'max_features': 0.5, 'min_samples_leaf': 0.4, 'max_samples': 0.1}. Best is trial#6 with value: 2.6939778387959703.\n",
      "[I 2020-08-14 19:05:39,294] Finished trial#9 with value: 3.3837634411103212 with parameters: {'n_estimators': 700, 'bootstrap': False, 'max_features': 'sqrt', 'min_samples_leaf': 0.5}. Best is trial#6 with value: 2.6939778387959703.\n",
      "[I 2020-08-14 19:14:19,083] Finished trial#10 with value: 2.6848868882356527 with parameters: {'n_estimators': 400, 'bootstrap': True, 'max_features': 0.8, 'min_samples_leaf': 0.1, 'max_samples': 0.8}. Best is trial#10 with value: 2.6848868882356527.\n",
      "[I 2020-08-14 19:22:48,434] Finished trial#11 with value: 2.684583724260244 with parameters: {'n_estimators': 400, 'bootstrap': True, 'max_features': 0.8, 'min_samples_leaf': 0.1, 'max_samples': 0.8}. Best is trial#11 with value: 2.684583724260244.\n",
      "[I 2020-08-14 19:31:07,525] Finished trial#12 with value: 2.6855810160259073 with parameters: {'n_estimators': 400, 'bootstrap': True, 'max_features': 0.8, 'min_samples_leaf': 0.1, 'max_samples': 0.8}. Best is trial#11 with value: 2.684583724260244.\n",
      "[I 2020-08-14 19:36:06,345] Finished trial#13 with value: 2.9733223547616165 with parameters: {'n_estimators': 400, 'bootstrap': True, 'max_features': 0.8, 'min_samples_leaf': 0.1, 'max_samples': 0.4}. Best is trial#11 with value: 2.684583724260244.\n",
      "[I 2020-08-14 19:55:06,305] Finished trial#14 with value: 2.687531580474872 with parameters: {'n_estimators': 1000, 'bootstrap': True, 'max_features': 0.8, 'min_samples_leaf': 0.1, 'max_samples': 0.8}. Best is trial#11 with value: 2.684583724260244.\n",
      "[I 2020-08-14 19:56:47,225] Finished trial#15 with value: 3.3862919670326392 with parameters: {'n_estimators': 10, 'bootstrap': True, 'max_features': 0.4, 'min_samples_leaf': 0.1, 'max_samples': 0.2}. Best is trial#11 with value: 2.684583724260244.\n",
      "[I 2020-08-14 19:58:28,101] Finished trial#16 with value: 3.384288660897754 with parameters: {'n_estimators': 200, 'bootstrap': True, 'max_features': 0.7, 'min_samples_leaf': 0.4, 'max_samples': 0.99}. Best is trial#11 with value: 2.684583724260244.\n",
      "[I 2020-08-14 20:15:24,007] Finished trial#17 with value: 2.4858355546491295 with parameters: {'n_estimators': 900, 'bootstrap': False, 'max_features': 0.3, 'min_samples_leaf': 0.1}. Best is trial#17 with value: 2.4858355546491295.\n",
      "[I 2020-08-14 20:22:57,850] Finished trial#18 with value: 3.0027218144902696 with parameters: {'n_estimators': 900, 'bootstrap': False, 'max_features': 0.3, 'min_samples_leaf': 0.3}. Best is trial#17 with value: 2.4858355546491295.\n",
      "[I 2020-08-14 20:39:49,317] Finished trial#19 with value: 2.48627073535437 with parameters: {'n_estimators': 900, 'bootstrap': False, 'max_features': 0.3, 'min_samples_leaf': 0.1}. Best is trial#17 with value: 2.4858355546491295.\n",
      "[I 2020-08-14 20:56:28,523] Finished trial#20 with value: 2.4855964869945786 with parameters: {'n_estimators': 900, 'bootstrap': False, 'max_features': 0.3, 'min_samples_leaf': 0.1}. Best is trial#20 with value: 2.4855964869945786.\n",
      "[I 2020-08-14 21:13:08,491] Finished trial#21 with value: 2.4850374448846275 with parameters: {'n_estimators': 900, 'bootstrap': False, 'max_features': 0.3, 'min_samples_leaf': 0.1}. Best is trial#21 with value: 2.4850374448846275.\n",
      "[I 2020-08-14 21:30:02,912] Finished trial#22 with value: 2.485570626759755 with parameters: {'n_estimators': 900, 'bootstrap': False, 'max_features': 0.3, 'min_samples_leaf': 0.1}. Best is trial#21 with value: 2.4850374448846275.\n",
      "[I 2020-08-14 21:45:10,974] Finished trial#23 with value: 2.485661533884198 with parameters: {'n_estimators': 800, 'bootstrap': False, 'max_features': 0.3, 'min_samples_leaf': 0.1}. Best is trial#21 with value: 2.4850374448846275.\n",
      "[I 2020-08-14 22:02:02,813] Finished trial#24 with value: 2.486450948587518 with parameters: {'n_estimators': 900, 'bootstrap': False, 'max_features': 0.3, 'min_samples_leaf': 0.1}. Best is trial#21 with value: 2.4850374448846275.\n",
      "[I 2020-08-14 22:08:00,736] Finished trial#25 with value: 3.0561780060810917 with parameters: {'n_estimators': 900, 'bootstrap': False, 'max_features': 0.3, 'min_samples_leaf': 0.4}. Best is trial#21 with value: 2.4850374448846275.\n",
      "[I 2020-08-14 22:15:42,161] Finished trial#26 with value: 3.0010211357179633 with parameters: {'n_estimators': 900, 'bootstrap': False, 'max_features': 0.3, 'min_samples_leaf': 0.3}. Best is trial#21 with value: 2.4850374448846275.\n",
      "[I 2020-08-14 23:05:37,499] Finished trial#27 with value: 2.6289811068666133 with parameters: {'n_estimators': 900, 'bootstrap': False, 'max_features': 'auto', 'min_samples_leaf': 0.1}. Best is trial#21 with value: 2.4850374448846275.\n",
      "[I 2020-08-14 23:07:30,106] Finished trial#28 with value: 2.5210490312886447 with parameters: {'n_estimators': 10, 'bootstrap': False, 'max_features': 0.3, 'min_samples_leaf': 0.1}. Best is trial#21 with value: 2.4850374448846275.\n",
      "[I 2020-08-14 23:09:49,331] Finished trial#29 with value: 3.3813242188864407 with parameters: {'n_estimators': 1000, 'bootstrap': False, 'max_features': 0.1, 'min_samples_leaf': 0.5}. Best is trial#21 with value: 2.4850374448846275.\n",
      "[I 2020-08-14 23:45:36,469] Finished trial#30 with value: 2.5251686151995894 with parameters: {'n_estimators': 900, 'bootstrap': False, 'max_features': 0.7, 'min_samples_leaf': 0.1}. Best is trial#21 with value: 2.4850374448846275.\n",
      "[I 2020-08-15 00:00:39,340] Finished trial#31 with value: 2.4854657545128815 with parameters: {'n_estimators': 800, 'bootstrap': False, 'max_features': 0.3, 'min_samples_leaf': 0.1}. Best is trial#21 with value: 2.4850374448846275.\n",
      "[I 2020-08-15 00:15:36,815] Finished trial#32 with value: 2.486613165262841 with parameters: {'n_estimators': 800, 'bootstrap': False, 'max_features': 0.3, 'min_samples_leaf': 0.1}. Best is trial#21 with value: 2.4850374448846275.\n",
      "[I 2020-08-15 00:23:40,022] Finished trial#33 with value: 2.4894017218846685 with parameters: {'n_estimators': 300, 'bootstrap': False, 'max_features': 0.4, 'min_samples_leaf': 0.1}. Best is trial#21 with value: 2.4850374448846275.\n",
      "[I 2020-08-15 00:34:17,608] Finished trial#34 with value: 2.493196941382698 with parameters: {'n_estimators': 800, 'bootstrap': False, 'max_features': 0.2, 'min_samples_leaf': 0.1}. Best is trial#21 with value: 2.4850374448846275.\n",
      "[I 2020-08-15 00:58:03,955] Finished trial#35 with value: 2.8927624231124254 with parameters: {'n_estimators': 800, 'bootstrap': False, 'max_features': 0.9, 'min_samples_leaf': 0.2}. Best is trial#21 with value: 2.4850374448846275.\n",
      "[I 2020-08-15 01:16:22,528] Finished trial#36 with value: 2.496987300523526 with parameters: {'n_estimators': 600, 'bootstrap': False, 'max_features': 0.5, 'min_samples_leaf': 0.1}. Best is trial#21 with value: 2.4850374448846275.\n",
      "[I 2020-08-15 01:20:28,359] Finished trial#37 with value: 3.020698561048481 with parameters: {'n_estimators': 200, 'bootstrap': False, 'max_features': 0.6, 'min_samples_leaf': 0.3}. Best is trial#21 with value: 2.4850374448846275.\n",
      "[I 2020-08-15 01:26:56,507] Finished trial#38 with value: 2.7693834479576522 with parameters: {'n_estimators': 500, 'bootstrap': False, 'max_features': 0.3, 'min_samples_leaf': 0.2}. Best is trial#21 with value: 2.4850374448846275.\n",
      "[I 2020-08-15 01:30:05,776] Finished trial#39 with value: 2.4902735193052545 with parameters: {'n_estimators': 100, 'bootstrap': False, 'max_features': 0.3, 'min_samples_leaf': 0.1}. Best is trial#21 with value: 2.4850374448846275.\n",
      "[I 2020-08-15 01:33:31,023] Finished trial#40 with value: 3.375290098769382 with parameters: {'n_estimators': 300, 'bootstrap': False, 'max_features': 'auto', 'min_samples_leaf': 0.5}. Best is trial#21 with value: 2.4850374448846275.\n",
      "[I 2020-08-15 01:48:26,245] Finished trial#41 with value: 2.4863522602594954 with parameters: {'n_estimators': 800, 'bootstrap': False, 'max_features': 0.3, 'min_samples_leaf': 0.1}. Best is trial#21 with value: 2.4850374448846275.\n",
      "[I 2020-08-15 02:03:19,398] Finished trial#42 with value: 2.485045851306209 with parameters: {'n_estimators': 800, 'bootstrap': False, 'max_features': 0.3, 'min_samples_leaf': 0.1}. Best is trial#21 with value: 2.4850374448846275.\n",
      "[I 2020-08-15 02:18:03,471] Finished trial#43 with value: 2.4851739654134075 with parameters: {'n_estimators': 800, 'bootstrap': False, 'max_features': 0.3, 'min_samples_leaf': 0.1}. Best is trial#21 with value: 2.4850374448846275.\n",
      "[I 2020-08-15 02:20:08,129] Finished trial#44 with value: 2.7549589389520492 with parameters: {'n_estimators': 800, 'bootstrap': False, 'max_features': 'sqrt', 'min_samples_leaf': 0.1}. Best is trial#21 with value: 2.4850374448846275.\n",
      "[I 2020-08-15 02:25:28,220] Finished trial#45 with value: 3.0564272571253595 with parameters: {'n_estimators': 800, 'bootstrap': False, 'max_features': 0.3, 'min_samples_leaf': 0.4}. Best is trial#21 with value: 2.4850374448846275.\n",
      "[I 2020-08-15 02:36:04,139] Finished trial#46 with value: 2.4930605200612113 with parameters: {'n_estimators': 800, 'bootstrap': False, 'max_features': 0.2, 'min_samples_leaf': 0.1}. Best is trial#21 with value: 2.4850374448846275.\n",
      "[I 2020-08-15 02:41:30,286] Finished trial#47 with value: 2.5238442079381076 with parameters: {'n_estimators': 700, 'bootstrap': False, 'max_features': 0.1, 'min_samples_leaf': 0.1}. Best is trial#21 with value: 2.4850374448846275.\n",
      "[I 2020-08-15 02:58:33,352] Finished trial#48 with value: 2.7818117922738765 with parameters: {'n_estimators': 800, 'bootstrap': False, 'max_features': 0.6, 'min_samples_leaf': 0.2}. Best is trial#21 with value: 2.4850374448846275.\n",
      "[I 2020-08-15 03:16:25,020] Finished trial#49 with value: 2.494472030510131 with parameters: {'n_estimators': 600, 'bootstrap': False, 'max_features': 0.5, 'min_samples_leaf': 0.1}. Best is trial#21 with value: 2.4850374448846275.\n"
     ]
    }
   ],
   "source": [
    "study = optuna.create_study(direction='minimize', sampler=TPESampler())\n",
    "study.optimize(objective, n_trials=50)\n",
    "rf_bo_result = study.trials_dataframe()"
   ]
  },
  {
   "cell_type": "code",
   "execution_count": 35,
   "metadata": {},
   "outputs": [],
   "source": [
    "rf_bo_result.to_csv(\"qsar_results/rf_bo_result.csv\", index=False)"
   ]
  },
  {
   "cell_type": "markdown",
   "metadata": {},
   "source": [
    "## BO - XGBoost"
   ]
  },
  {
   "cell_type": "code",
   "execution_count": 63,
   "metadata": {},
   "outputs": [
    {
     "name": "stdout",
     "output_type": "stream",
     "text": [
      "Number of points in the search space: 5821200000\n"
     ]
    }
   ],
   "source": [
    "greek_list = [2**(-9) * 2 ** i for i in range(len(range(-9,11,1)))]\n",
    "greek_list.append(0)\n",
    "eta_list = [i/10 for i in range(1, 11)]\n",
    "subsam_list = [i/10 for i in range(1,11)]\n",
    "maxdep_list = [*range(1,16)]\n",
    "min_list = [2 ** i for i in range(0,8,1)]\n",
    "colsam_list = [i/10 for i in range(1,11)]\n",
    "nboost_list = [1, *range(10,110,10)]\n",
    "\n",
    "def objective(trial):\n",
    "    mlist = []\n",
    "    param = {\n",
    "        \"booster\": \"gbtree\",\n",
    "        \"lambda\": trial.suggest_categorical(\"lambda\", greek_list),\n",
    "        \"alpha\": trial.suggest_categorical(\"alpha\", greek_list),\n",
    "        \"eta\": trial.suggest_discrete_uniform(\"eta\", 0.1, 1, 0.1),\n",
    "        \"subsample\": trial.suggest_discrete_uniform(\"subsample\", 0.1, 1, 0.1),\n",
    "        \"max_depth\": trial.suggest_int(\"max_depth\", 1, 15),\n",
    "        \"min_child_weight\": trial.suggest_categorical(\"min_child_weight\", min_list),\n",
    "        \"colsample_bytree\": trial.suggest_discrete_uniform(\"colsample_bytree\", 0.1, 1, 0.1),\n",
    "        \"colsample_bylevel\": trial.suggest_discrete_uniform('colsample_bylevel', 0.1, 1, 0.1)\n",
    "    }\n",
    "    n_boost = trial.suggest_categorical(\"num_boost_round\", nboost_list)\n",
    "    # run xgboost.cv for each dataset\n",
    "    for i in range(num_datasets):\n",
    "        bst = xgb.cv(param, dmat_list[i], num_boost_round=n_boost, nfold=3, metrics='rmse', seed=123, shuffle=True)\n",
    "        mlist.append(bst.iloc[len(bst.index)-1, 2])\n",
    "    rmse_mean = sum(mlist)/len(mlist)\n",
    "    return rmse_mean\n",
    "# determine points in the search space\n",
    "search_space = {\n",
    "    \"lambda\": greek_list,\n",
    "    \"alpha\": greek_list,\n",
    "    \"eta\": eta_list,\n",
    "    \"subsample\": subsam_list,\n",
    "    \"max_depth\": maxdep_list,\n",
    "    \"min_child_weight\": min_list,\n",
    "    \"colsample_bytree\": colsam_list,\n",
    "    \"colsample_bylevel\": colsam_list,\n",
    "    \"num_boost_round\": nboost_list\n",
    "}\n",
    "# calculate number of points in the search space\n",
    "num_points = 1\n",
    "keys = search_space.keys()\n",
    "for k in keys:\n",
    "    num_points = num_points * len(search_space[k])\n",
    "print(\"Number of points in the search space: {}\".format(num_points))"
   ]
  },
  {
   "cell_type": "code",
   "execution_count": 64,
   "metadata": {},
   "outputs": [
    {
     "name": "stderr",
     "output_type": "stream",
     "text": [
      "[I 2020-08-17 00:33:36,348] Finished trial#0 with value: 3.2217637777777783 with parameters: {'lambda': 0.0625, 'alpha': 0.25, 'eta': 0.8, 'subsample': 0.4, 'max_depth': 9, 'min_child_weight': 4, 'colsample_bytree': 0.9, 'colsample_bylevel': 0.8, 'num_boost_round': 1}. Best is trial#0 with value: 3.2217637777777783.\n",
      "[I 2020-08-17 00:38:55,304] Finished trial#1 with value: 2.490325777777777 with parameters: {'lambda': 512.0, 'alpha': 32.0, 'eta': 0.4, 'subsample': 0.2, 'max_depth': 2, 'min_child_weight': 32, 'colsample_bytree': 0.5, 'colsample_bylevel': 0.2, 'num_boost_round': 80}. Best is trial#1 with value: 2.490325777777777.\n",
      "[I 2020-08-17 00:43:59,750] Finished trial#2 with value: 2.322697888888889 with parameters: {'lambda': 4.0, 'alpha': 0.001953125, 'eta': 0.8, 'subsample': 0.7000000000000001, 'max_depth': 5, 'min_child_weight': 16, 'colsample_bytree': 0.30000000000000004, 'colsample_bylevel': 0.5, 'num_boost_round': 40}. Best is trial#2 with value: 2.322697888888889.\n",
      "[I 2020-08-17 00:46:32,085] Finished trial#3 with value: 3.4194181333333327 with parameters: {'lambda': 0.0078125, 'alpha': 1024.0, 'eta': 0.8, 'subsample': 0.2, 'max_depth': 12, 'min_child_weight': 8, 'colsample_bytree': 0.8, 'colsample_bylevel': 0.1, 'num_boost_round': 30}. Best is trial#2 with value: 2.322697888888889.\n",
      "[I 2020-08-17 01:04:58,069] Finished trial#4 with value: 2.8166342444444443 with parameters: {'lambda': 4.0, 'alpha': 8.0, 'eta': 0.30000000000000004, 'subsample': 0.1, 'max_depth': 10, 'min_child_weight': 4, 'colsample_bytree': 0.4, 'colsample_bylevel': 1.0, 'num_boost_round': 100}. Best is trial#2 with value: 2.322697888888889.\n",
      "[I 2020-08-17 01:08:10,973] Finished trial#5 with value: 2.7537406888888887 with parameters: {'lambda': 0.0625, 'alpha': 64.0, 'eta': 0.9, 'subsample': 0.4, 'max_depth': 14, 'min_child_weight': 32, 'colsample_bytree': 0.5, 'colsample_bylevel': 0.8, 'num_boost_round': 10}. Best is trial#2 with value: 2.322697888888889.\n",
      "[I 2020-08-17 01:28:03,961] Finished trial#6 with value: 2.4069359777777777 with parameters: {'lambda': 32.0, 'alpha': 128.0, 'eta': 0.30000000000000004, 'subsample': 0.30000000000000004, 'max_depth': 2, 'min_child_weight': 16, 'colsample_bytree': 1.0, 'colsample_bylevel': 1.0, 'num_boost_round': 40}. Best is trial#2 with value: 2.322697888888889.\n",
      "[I 2020-08-17 01:51:24,341] Finished trial#7 with value: 2.4130942222222216 with parameters: {'lambda': 0.125, 'alpha': 16.0, 'eta': 0.7000000000000001, 'subsample': 0.7000000000000001, 'max_depth': 14, 'min_child_weight': 16, 'colsample_bytree': 1.0, 'colsample_bylevel': 0.4, 'num_boost_round': 40}. Best is trial#2 with value: 2.322697888888889.\n",
      "[I 2020-08-17 02:17:00,846] Finished trial#8 with value: 2.2780026 with parameters: {'lambda': 0.125, 'alpha': 0, 'eta': 0.5, 'subsample': 0.7000000000000001, 'max_depth': 9, 'min_child_weight': 1, 'colsample_bytree': 0.8, 'colsample_bylevel': 0.30000000000000004, 'num_boost_round': 70}. Best is trial#8 with value: 2.2780026.\n",
      "[I 2020-08-17 02:31:36,547] Finished trial#9 with value: 2.464496311111111 with parameters: {'lambda': 0.015625, 'alpha': 512.0, 'eta': 0.8, 'subsample': 0.7000000000000001, 'max_depth': 13, 'min_child_weight': 2, 'colsample_bytree': 0.7000000000000001, 'colsample_bylevel': 0.6, 'num_boost_round': 90}. Best is trial#8 with value: 2.2780026.\n",
      "[I 2020-08-17 02:35:44,508] Finished trial#10 with value: 2.5595779555555556 with parameters: {'lambda': 1024.0, 'alpha': 0, 'eta': 0.1, 'subsample': 1.0, 'max_depth': 6, 'min_child_weight': 1, 'colsample_bytree': 0.1, 'colsample_bylevel': 0.30000000000000004, 'num_boost_round': 70}. Best is trial#8 with value: 2.2780026.\n",
      "[I 2020-08-17 02:41:47,751] Finished trial#11 with value: 2.1417730888888893 with parameters: {'lambda': 0.5, 'alpha': 0.001953125, 'eta': 0.6, 'subsample': 0.9, 'max_depth': 6, 'min_child_weight': 64, 'colsample_bytree': 0.2, 'colsample_bylevel': 0.5, 'num_boost_round': 70}. Best is trial#11 with value: 2.1417730888888893.\n",
      "[I 2020-08-17 02:46:09,745] Finished trial#12 with value: 2.1327607777777775 with parameters: {'lambda': 0.5, 'alpha': 0, 'eta': 0.5, 'subsample': 1.0, 'max_depth': 6, 'min_child_weight': 64, 'colsample_bytree': 0.1, 'colsample_bylevel': 0.6, 'num_boost_round': 70}. Best is trial#12 with value: 2.1327607777777775.\n",
      "[I 2020-08-17 02:50:30,109] Finished trial#13 with value: 2.1582720666666666 with parameters: {'lambda': 0.5, 'alpha': 0.125, 'eta': 0.6, 'subsample': 1.0, 'max_depth': 5, 'min_child_weight': 64, 'colsample_bytree': 0.1, 'colsample_bylevel': 0.7000000000000001, 'num_boost_round': 70}. Best is trial#12 with value: 2.1327607777777775.\n",
      "[I 2020-08-17 02:52:56,871] Finished trial#14 with value: 2.1629226222222218 with parameters: {'lambda': 0.5, 'alpha': 2.0, 'eta': 0.5, 'subsample': 0.9, 'max_depth': 6, 'min_child_weight': 64, 'colsample_bytree': 0.2, 'colsample_bylevel': 0.5, 'num_boost_round': 20}. Best is trial#12 with value: 2.1327607777777775.\n",
      "[I 2020-08-17 02:57:25,315] Finished trial#15 with value: 2.353904333333333 with parameters: {'lambda': 0.03125, 'alpha': 256.0, 'eta': 0.1, 'subsample': 0.9, 'max_depth': 3, 'min_child_weight': 128, 'colsample_bytree': 0.2, 'colsample_bylevel': 0.7000000000000001, 'num_boost_round': 60}. Best is trial#12 with value: 2.1327607777777775.\n",
      "[I 2020-08-17 03:03:54,711] Finished trial#16 with value: 2.1359688888888892 with parameters: {'lambda': 0.5, 'alpha': 0.001953125, 'eta': 0.6, 'subsample': 0.9, 'max_depth': 7, 'min_child_weight': 64, 'colsample_bytree': 0.30000000000000004, 'colsample_bylevel': 0.6, 'num_boost_round': 50}. Best is trial#12 with value: 2.1327607777777775.\n",
      "[I 2020-08-17 03:07:46,235] Finished trial#17 with value: 2.5016338222222227 with parameters: {'lambda': 0, 'alpha': 4.0, 'eta': 1.0, 'subsample': 0.8, 'max_depth': 8, 'min_child_weight': 64, 'colsample_bytree': 0.30000000000000004, 'colsample_bylevel': 0.8, 'num_boost_round': 20}. Best is trial#12 with value: 2.1327607777777775.\n",
      "[I 2020-08-17 03:15:07,890] Finished trial#18 with value: 2.0570474888888888 with parameters: {'lambda': 8.0, 'alpha': 0.0078125, 'eta': 0.30000000000000004, 'subsample': 1.0, 'max_depth': 4, 'min_child_weight': 64, 'colsample_bytree': 0.4, 'colsample_bylevel': 0.6, 'num_boost_round': 50}. Best is trial#18 with value: 2.0570474888888888.\n",
      "[I 2020-08-17 03:27:10,128] Finished trial#19 with value: 2.115285933333333 with parameters: {'lambda': 8.0, 'alpha': 0.0078125, 'eta': 0.2, 'subsample': 0.5, 'max_depth': 3, 'min_child_weight': 2, 'colsample_bytree': 0.6, 'colsample_bylevel': 0.9, 'num_boost_round': 50}. Best is trial#18 with value: 2.0570474888888888.\n",
      "[I 2020-08-17 03:35:21,663] Finished trial#20 with value: 2.406054488888889 with parameters: {'lambda': 8.0, 'alpha': 0.015625, 'eta': 0.2, 'subsample': 0.5, 'max_depth': 1, 'min_child_weight': 2, 'colsample_bytree': 0.6, 'colsample_bylevel': 0.9, 'num_boost_round': 50}. Best is trial#18 with value: 2.0570474888888888.\n",
      "[I 2020-08-17 03:47:18,762] Finished trial#21 with value: 2.0717344222222223 with parameters: {'lambda': 8.0, 'alpha': 0.0078125, 'eta': 0.30000000000000004, 'subsample': 0.5, 'max_depth': 4, 'min_child_weight': 2, 'colsample_bytree': 0.6, 'colsample_bylevel': 0.7000000000000001, 'num_boost_round': 50}. Best is trial#18 with value: 2.0570474888888888.\n",
      "[I 2020-08-17 04:00:20,594] Finished trial#22 with value: 2.051618755555556 with parameters: {'lambda': 8.0, 'alpha': 0.0078125, 'eta': 0.2, 'subsample': 0.5, 'max_depth': 4, 'min_child_weight': 2, 'colsample_bytree': 0.6, 'colsample_bylevel': 0.9, 'num_boost_round': 50}. Best is trial#22 with value: 2.051618755555556.\n",
      "[I 2020-08-17 04:15:03,435] Finished trial#23 with value: 2.0414948444444443 with parameters: {'lambda': 8.0, 'alpha': 0.0078125, 'eta': 0.30000000000000004, 'subsample': 0.6, 'max_depth': 4, 'min_child_weight': 2, 'colsample_bytree': 0.7000000000000001, 'colsample_bylevel': 0.7000000000000001, 'num_boost_round': 50}. Best is trial#23 with value: 2.0414948444444443.\n",
      "[I 2020-08-17 04:26:25,232] Finished trial#24 with value: 2.3882295111111116 with parameters: {'lambda': 2.0, 'alpha': 0.0078125, 'eta': 0.2, 'subsample': 0.6, 'max_depth': 1, 'min_child_weight': 2, 'colsample_bytree': 0.7000000000000001, 'colsample_bylevel': 0.9, 'num_boost_round': 50}. Best is trial#23 with value: 2.0414948444444443.\n",
      "[I 2020-08-17 04:34:20,845] Finished trial#25 with value: 2.245931022222223 with parameters: {'lambda': 8.0, 'alpha': 0.0078125, 'eta': 0.4, 'subsample': 0.6, 'max_depth': 4, 'min_child_weight': 128, 'colsample_bytree': 0.4, 'colsample_bylevel': 0.7000000000000001, 'num_boost_round': 50}. Best is trial#23 with value: 2.0414948444444443.\n",
      "[I 2020-08-17 04:49:54,657] Finished trial#26 with value: 2.1766102444444444 with parameters: {'lambda': 0.00390625, 'alpha': 1.0, 'eta': 0.1, 'subsample': 0.4, 'max_depth': 3, 'min_child_weight': 2, 'colsample_bytree': 0.7000000000000001, 'colsample_bylevel': 0.8, 'num_boost_round': 50}. Best is trial#23 with value: 2.0414948444444443.\n",
      "[I 2020-08-17 04:51:09,177] Finished trial#27 with value: 5.849466777777778 with parameters: {'lambda': 64.0, 'alpha': 0.00390625, 'eta': 0.4, 'subsample': 0.30000000000000004, 'max_depth': 4, 'min_child_weight': 8, 'colsample_bytree': 0.5, 'colsample_bylevel': 1.0, 'num_boost_round': 1}. Best is trial#23 with value: 2.0414948444444443.\n",
      "[I 2020-08-17 05:00:41,253] Finished trial#28 with value: 2.320776888888889 with parameters: {'lambda': 256.0, 'alpha': 0.0625, 'eta': 0.2, 'subsample': 0.6, 'max_depth': 2, 'min_child_weight': 2, 'colsample_bytree': 0.8, 'colsample_bylevel': 0.4, 'num_boost_round': 60}. Best is trial#23 with value: 2.0414948444444443.\n",
      "[I 2020-08-17 05:52:02,225] Finished trial#29 with value: 2.039082288888889 with parameters: {'lambda': 0.001953125, 'alpha': 0.5, 'eta': 0.30000000000000004, 'subsample': 0.8, 'max_depth': 8, 'min_child_weight': 4, 'colsample_bytree': 0.9, 'colsample_bylevel': 0.9, 'num_boost_round': 80}. Best is trial#29 with value: 2.039082288888889.\n",
      "[I 2020-08-17 06:40:17,730] Finished trial#30 with value: 2.111448111111111 with parameters: {'lambda': 0.001953125, 'alpha': 0.5, 'eta': 0.4, 'subsample': 0.8, 'max_depth': 10, 'min_child_weight': 4, 'colsample_bytree': 0.9, 'colsample_bylevel': 0.9, 'num_boost_round': 80}. Best is trial#29 with value: 2.039082288888889.\n",
      "[I 2020-08-17 07:21:20,187] Finished trial#31 with value: 2.0369067999999997 with parameters: {'lambda': 0.25, 'alpha': 0.03125, 'eta': 0.30000000000000004, 'subsample': 0.8, 'max_depth': 8, 'min_child_weight': 4, 'colsample_bytree': 0.9, 'colsample_bylevel': 0.8, 'num_boost_round': 80}. Best is trial#31 with value: 2.0369067999999997.\n",
      "[I 2020-08-17 08:09:50,681] Finished trial#32 with value: 2.0369067999999997 with parameters: {'lambda': 0.25, 'alpha': 0.03125, 'eta': 0.30000000000000004, 'subsample': 0.8, 'max_depth': 8, 'min_child_weight': 4, 'colsample_bytree': 0.9, 'colsample_bylevel': 0.8, 'num_boost_round': 80}. Best is trial#31 with value: 2.0369067999999997.\n",
      "[I 2020-08-17 08:50:47,308] Finished trial#33 with value: 2.124129266666666 with parameters: {'lambda': 0.25, 'alpha': 0.03125, 'eta': 0.4, 'subsample': 0.8, 'max_depth': 8, 'min_child_weight': 4, 'colsample_bytree': 0.9, 'colsample_bylevel': 0.8, 'num_boost_round': 80}. Best is trial#31 with value: 2.0369067999999997.\n",
      "[I 2020-08-17 09:49:59,014] Finished trial#34 with value: 1.9971118 with parameters: {'lambda': 0.25, 'alpha': 0.03125, 'eta': 0.30000000000000004, 'subsample': 0.8, 'max_depth': 10, 'min_child_weight': 4, 'colsample_bytree': 1.0, 'colsample_bylevel': 0.8, 'num_boost_round': 80}. Best is trial#34 with value: 1.9971118.\n",
      "[I 2020-08-17 10:51:18,111] Finished trial#35 with value: 2.0952826 with parameters: {'lambda': 0.25, 'alpha': 0.03125, 'eta': 0.4, 'subsample': 0.8, 'max_depth': 11, 'min_child_weight': 4, 'colsample_bytree': 1.0, 'colsample_bylevel': 0.8, 'num_boost_round': 80}. Best is trial#34 with value: 1.9971118.\n",
      "[I 2020-08-17 12:14:47,509] Finished trial#36 with value: 2.042379511111111 with parameters: {'lambda': 0.25, 'alpha': 0.03125, 'eta': 0.30000000000000004, 'subsample': 0.8, 'max_depth': 9, 'min_child_weight': 4, 'colsample_bytree': 0.9, 'colsample_bylevel': 1.0, 'num_boost_round': 80}. Best is trial#34 with value: 1.9971118.\n",
      "[I 2020-08-17 13:09:08,463] Finished trial#37 with value: 1.9726410222222224 with parameters: {'lambda': 16.0, 'alpha': 0.03125, 'eta': 0.2, 'subsample': 0.7000000000000001, 'max_depth': 10, 'min_child_weight': 4, 'colsample_bytree': 0.9, 'colsample_bylevel': 0.8, 'num_boost_round': 80}. Best is trial#37 with value: 1.9726410222222224.\n",
      "[I 2020-08-17 14:11:51,777] Finished trial#38 with value: 1.9090083555555555 with parameters: {'lambda': 16.0, 'alpha': 0.03125, 'eta': 0.1, 'subsample': 0.7000000000000001, 'max_depth': 11, 'min_child_weight': 4, 'colsample_bytree': 1.0, 'colsample_bylevel': 0.8, 'num_boost_round': 80}. Best is trial#38 with value: 1.9090083555555555.\n",
      "[I 2020-08-17 14:34:09,255] Finished trial#39 with value: 2.1053457333333325 with parameters: {'lambda': 16.0, 'alpha': 0.03125, 'eta': 0.1, 'subsample': 0.7000000000000001, 'max_depth': 12, 'min_child_weight': 4, 'colsample_bytree': 1.0, 'colsample_bylevel': 0.7000000000000001, 'num_boost_round': 30}. Best is trial#38 with value: 1.9090083555555555.\n",
      "[I 2020-08-17 15:23:00,242] Finished trial#40 with value: 1.9700648222222223 with parameters: {'lambda': 16.0, 'alpha': 0.25, 'eta': 0.1, 'subsample': 0.7000000000000001, 'max_depth': 10, 'min_child_weight': 32, 'colsample_bytree': 0.8, 'colsample_bylevel': 0.8, 'num_boost_round': 80}. Best is trial#38 with value: 1.9090083555555555.\n",
      "[I 2020-08-17 16:11:19,574] Finished trial#41 with value: 1.9700648222222223 with parameters: {'lambda': 16.0, 'alpha': 0.25, 'eta': 0.1, 'subsample': 0.7000000000000001, 'max_depth': 10, 'min_child_weight': 32, 'colsample_bytree': 0.8, 'colsample_bylevel': 0.8, 'num_boost_round': 80}. Best is trial#38 with value: 1.9090083555555555.\n",
      "[I 2020-08-17 17:01:55,637] Finished trial#42 with value: 1.9651983777777777 with parameters: {'lambda': 16.0, 'alpha': 0.25, 'eta': 0.1, 'subsample': 0.7000000000000001, 'max_depth': 11, 'min_child_weight': 32, 'colsample_bytree': 0.8, 'colsample_bylevel': 0.9, 'num_boost_round': 80}. Best is trial#38 with value: 1.9090083555555555.\n",
      "[I 2020-08-17 17:07:40,976] Finished trial#43 with value: 3.8830451333333333 with parameters: {'lambda': 16.0, 'alpha': 0.25, 'eta': 0.1, 'subsample': 0.7000000000000001, 'max_depth': 11, 'min_child_weight': 32, 'colsample_bytree': 0.8, 'colsample_bylevel': 1.0, 'num_boost_round': 10}. Best is trial#38 with value: 1.9090083555555555.\n",
      "[I 2020-08-17 18:18:45,703] Finished trial#44 with value: 1.9422693111111113 with parameters: {'lambda': 16.0, 'alpha': 0.25, 'eta': 0.1, 'subsample': 0.7000000000000001, 'max_depth': 12, 'min_child_weight': 32, 'colsample_bytree': 0.8, 'colsample_bylevel': 0.9, 'num_boost_round': 100}. Best is trial#38 with value: 1.9090083555555555.\n",
      "[I 2020-08-17 19:33:53,557] Finished trial#45 with value: 1.9415517333333334 with parameters: {'lambda': 16.0, 'alpha': 0.25, 'eta': 0.1, 'subsample': 0.7000000000000001, 'max_depth': 13, 'min_child_weight': 32, 'colsample_bytree': 0.8, 'colsample_bylevel': 1.0, 'num_boost_round': 100}. Best is trial#38 with value: 1.9090083555555555.\n",
      "[I 2020-08-17 20:47:13,154] Finished trial#46 with value: 1.9500908222222224 with parameters: {'lambda': 16.0, 'alpha': 0.25, 'eta': 0.1, 'subsample': 0.6, 'max_depth': 13, 'min_child_weight': 32, 'colsample_bytree': 0.8, 'colsample_bylevel': 1.0, 'num_boost_round': 100}. Best is trial#38 with value: 1.9090083555555555.\n",
      "[I 2020-08-17 22:01:29,961] Finished trial#47 with value: 2.0814365999999995 with parameters: {'lambda': 128.0, 'alpha': 0.25, 'eta': 0.1, 'subsample': 0.6, 'max_depth': 15, 'min_child_weight': 32, 'colsample_bytree': 0.8, 'colsample_bylevel': 1.0, 'num_boost_round': 100}. Best is trial#38 with value: 1.9090083555555555.\n"
     ]
    },
    {
     "name": "stderr",
     "output_type": "stream",
     "text": [
      "[I 2020-08-17 23:00:13,204] Finished trial#48 with value: 1.9633064222222218 with parameters: {'lambda': 16.0, 'alpha': 0.25, 'eta': 0.2, 'subsample': 0.6, 'max_depth': 13, 'min_child_weight': 32, 'colsample_bytree': 0.7000000000000001, 'colsample_bylevel': 1.0, 'num_boost_round': 100}. Best is trial#38 with value: 1.9090083555555555.\n",
      "[I 2020-08-18 00:00:21,059] Finished trial#49 with value: 1.9779249333333333 with parameters: {'lambda': 1.0, 'alpha': 0.25, 'eta': 0.2, 'subsample': 0.6, 'max_depth': 13, 'min_child_weight': 32, 'colsample_bytree': 0.7000000000000001, 'colsample_bylevel': 1.0, 'num_boost_round': 100}. Best is trial#38 with value: 1.9090083555555555.\n"
     ]
    }
   ],
   "source": [
    "study = optuna.create_study(direction='minimize', sampler=TPESampler())\n",
    "study.optimize(objective, n_trials=50)\n",
    "xgb_bo_result = study.trials_dataframe()"
   ]
  },
  {
   "cell_type": "code",
   "execution_count": 65,
   "metadata": {},
   "outputs": [],
   "source": [
    "xgb_bo_result.to_csv(\"qsar_results/xgb_bo_result3.csv\", index=False)"
   ]
  },
  {
   "cell_type": "markdown",
   "metadata": {},
   "source": [
    "# Random Search"
   ]
  },
  {
   "cell_type": "markdown",
   "metadata": {},
   "source": [
    "## RS - Ramdon Forest"
   ]
  },
  {
   "cell_type": "code",
   "execution_count": 36,
   "metadata": {},
   "outputs": [
    {
     "name": "stdout",
     "output_type": "stream",
     "text": [
      "Number of points in the search space: 6655\n"
     ]
    }
   ],
   "source": [
    "nest = [10, *range(100,1001,100)]\n",
    "boot = [True, False]\n",
    "maxsam = [i/10 for i in range(1,10)]\n",
    "maxsam.append(0.99)\n",
    "maxfeat = [i/10 for i in range(1,10)]\n",
    "maxfeat.append(\"auto\")\n",
    "maxfeat.append(\"sqrt\")\n",
    "minsam = [0.1, 0.2, 0.3, 0.4, 0.5]\n",
    "def objective(trial):\n",
    "    mlist = []\n",
    "    param = {\n",
    "        \"n_estimators\": trial.suggest_categorical(\"n_estimators\", nest),\n",
    "        \"bootstrap\": trial.suggest_categorical(\"bootstrap\", boot),\n",
    "        \"max_features\": trial.suggest_categorical(\"max_features\", maxfeat),\n",
    "        \"min_samples_leaf\": trial.suggest_categorical(\"min_samples_leaf\", minsam),\n",
    "        \"n_jobs\": -1}    \n",
    "    if param[\"bootstrap\"] == True:\n",
    "        param[\"max_samples\"] = trial.suggest_categorical(\"max_samples\", maxsam)\n",
    "    # fit rf to each dataset    \n",
    "    for i in range(num_datasets):\n",
    "        ncol = df_list[i].shape[1]\n",
    "        yvec = df_list[i].iloc[:,0:1].values.ravel()\n",
    "        mod = RandomForestRegressor(**param)\n",
    "        rmse = cross_val_score(mod, df_list[i].iloc[:,1:ncol], yvec, \n",
    "                               scoring=\"neg_root_mean_squared_error\", \n",
    "                               cv=KFold(n_splits=3, shuffle=True, random_state=123), \n",
    "                               n_jobs=-1)\n",
    "        mlist.append(abs(rmse).mean())\n",
    "    rmse_mean = sum(mlist)/len(mlist)   \n",
    "    return rmse_mean\n",
    "# count how many point in the grid\n",
    "search_space = {\n",
    "    \"n_estimators\": nest,\n",
    "    \"bootstrap\": boot,\n",
    "    \"max_features\": maxfeat,\n",
    "    \"min_samples_leaf\": minsam,\n",
    "    \"max_samples\": maxsam\n",
    "}\n",
    "# calculate number of points in the search space\n",
    "num_points= len(nest) * len(maxfeat) * len(minsam) * (1 + len(maxsam))\n",
    "print(\"Number of points in the search space: {}\".format(num_points))"
   ]
  },
  {
   "cell_type": "code",
   "execution_count": 37,
   "metadata": {},
   "outputs": [
    {
     "name": "stderr",
     "output_type": "stream",
     "text": [
      "[I 2020-08-15 03:18:03,852] Finished trial#0 with value: 3.384412111477476 with parameters: {'n_estimators': 200, 'bootstrap': True, 'max_features': 0.3, 'min_samples_leaf': 0.2, 'max_samples': 0.4}. Best is trial#0 with value: 3.384412111477476.\n",
      "[I 2020-08-15 03:49:53,627] Finished trial#1 with value: 2.951359544609858 with parameters: {'n_estimators': 1000, 'bootstrap': False, 'max_features': 'auto', 'min_samples_leaf': 0.2}. Best is trial#1 with value: 2.951359544609858.\n",
      "[I 2020-08-15 03:51:53,451] Finished trial#2 with value: 2.6289811068666133 with parameters: {'n_estimators': 10, 'bootstrap': False, 'max_features': 'auto', 'min_samples_leaf': 0.1}. Best is trial#2 with value: 2.6289811068666133.\n",
      "[I 2020-08-15 03:53:47,280] Finished trial#3 with value: 3.1124542257459136 with parameters: {'n_estimators': 10, 'bootstrap': False, 'max_features': 'auto', 'min_samples_leaf': 0.4}. Best is trial#2 with value: 2.6289811068666133.\n",
      "[I 2020-08-15 03:55:40,840] Finished trial#4 with value: 3.3841594837702873 with parameters: {'n_estimators': 400, 'bootstrap': True, 'max_features': 0.1, 'min_samples_leaf': 0.5, 'max_samples': 0.2}. Best is trial#2 with value: 2.6289811068666133.\n",
      "[I 2020-08-15 03:58:37,915] Finished trial#5 with value: 3.3773341204542984 with parameters: {'n_estimators': 700, 'bootstrap': False, 'max_features': 0.3, 'min_samples_leaf': 0.5}. Best is trial#2 with value: 2.6289811068666133.\n",
      "[I 2020-08-15 04:00:27,537] Finished trial#6 with value: 3.3842308529654432 with parameters: {'n_estimators': 700, 'bootstrap': True, 'max_features': 0.5, 'min_samples_leaf': 0.1, 'max_samples': 0.1}. Best is trial#2 with value: 2.6289811068666133.\n",
      "[I 2020-08-15 04:03:50,628] Finished trial#7 with value: 3.3760817912566354 with parameters: {'n_estimators': 700, 'bootstrap': False, 'max_features': 0.4, 'min_samples_leaf': 0.5}. Best is trial#2 with value: 2.6289811068666133.\n",
      "[I 2020-08-15 04:05:30,497] Finished trial#8 with value: 3.3844777191202056 with parameters: {'n_estimators': 400, 'bootstrap': True, 'max_features': 0.2, 'min_samples_leaf': 0.4, 'max_samples': 0.3}. Best is trial#2 with value: 2.6289811068666133.\n",
      "[I 2020-08-15 04:07:07,618] Finished trial#9 with value: 3.384007663250878 with parameters: {'n_estimators': 100, 'bootstrap': True, 'max_features': 0.9, 'min_samples_leaf': 0.4, 'max_samples': 0.6}. Best is trial#2 with value: 2.6289811068666133.\n",
      "[I 2020-08-15 04:08:48,385] Finished trial#10 with value: 3.021457543067676 with parameters: {'n_estimators': 10, 'bootstrap': False, 'max_features': 0.3, 'min_samples_leaf': 0.3}. Best is trial#2 with value: 2.6289811068666133.\n",
      "[I 2020-08-15 04:10:45,854] Finished trial#11 with value: 3.3843338184986447 with parameters: {'n_estimators': 1000, 'bootstrap': True, 'max_features': 0.3, 'min_samples_leaf': 0.5, 'max_samples': 0.5}. Best is trial#2 with value: 2.6289811068666133.\n",
      "[I 2020-08-15 04:17:47,870] Finished trial#12 with value: 3.0051082046639768 with parameters: {'n_estimators': 600, 'bootstrap': False, 'max_features': 0.4, 'min_samples_leaf': 0.3}. Best is trial#2 with value: 2.6289811068666133.\n",
      "[I 2020-08-15 04:19:24,892] Finished trial#13 with value: 3.3847560860721564 with parameters: {'n_estimators': 10, 'bootstrap': True, 'max_features': 0.5, 'min_samples_leaf': 0.4, 'max_samples': 0.7}. Best is trial#2 with value: 2.6289811068666133.\n",
      "[I 2020-08-15 04:21:25,784] Finished trial#14 with value: 3.0288262462657025 with parameters: {'n_estimators': 700, 'bootstrap': False, 'max_features': 'sqrt', 'min_samples_leaf': 0.2}. Best is trial#2 with value: 2.6289811068666133.\n",
      "[I 2020-08-15 04:23:04,833] Finished trial#15 with value: 3.384457345935157 with parameters: {'n_estimators': 200, 'bootstrap': True, 'max_features': 0.9, 'min_samples_leaf': 0.2, 'max_samples': 0.3}. Best is trial#2 with value: 2.6289811068666133.\n",
      "[I 2020-08-15 04:24:58,084] Finished trial#16 with value: 3.3762432461300267 with parameters: {'n_estimators': 100, 'bootstrap': False, 'max_features': 0.4, 'min_samples_leaf': 0.5}. Best is trial#2 with value: 2.6289811068666133.\n",
      "[I 2020-08-15 04:29:30,823] Finished trial#17 with value: 2.528025614254782 with parameters: {'n_estimators': 500, 'bootstrap': False, 'max_features': 0.1, 'min_samples_leaf': 0.1}. Best is trial#17 with value: 2.528025614254782.\n",
      "[I 2020-08-15 04:31:04,574] Finished trial#18 with value: 3.384212171765702 with parameters: {'n_estimators': 100, 'bootstrap': True, 'max_features': 0.4, 'min_samples_leaf': 0.4, 'max_samples': 0.6}. Best is trial#17 with value: 2.528025614254782.\n",
      "[I 2020-08-15 04:51:54,210] Finished trial#19 with value: 3.0893151673546155 with parameters: {'n_estimators': 900, 'bootstrap': False, 'max_features': 'auto', 'min_samples_leaf': 0.3}. Best is trial#17 with value: 2.528025614254782.\n",
      "[I 2020-08-15 04:55:10,143] Finished trial#20 with value: 3.056724701108378 with parameters: {'n_estimators': 300, 'bootstrap': False, 'max_features': 0.4, 'min_samples_leaf': 0.4}. Best is trial#17 with value: 2.528025614254782.\n",
      "[I 2020-08-15 05:02:04,020] Finished trial#21 with value: 3.0263577859499313 with parameters: {'n_estimators': 800, 'bootstrap': True, 'max_features': 0.7, 'min_samples_leaf': 0.2, 'max_samples': 0.8}. Best is trial#17 with value: 2.528025614254782.\n",
      "[I 2020-08-15 05:07:24,051] Finished trial#22 with value: 3.3752900987693835 with parameters: {'n_estimators': 600, 'bootstrap': False, 'max_features': 'auto', 'min_samples_leaf': 0.5}. Best is trial#17 with value: 2.528025614254782.\n",
      "[I 2020-08-15 05:22:18,888] Finished trial#23 with value: 2.7997998601809626 with parameters: {'n_estimators': 600, 'bootstrap': False, 'max_features': 0.7, 'min_samples_leaf': 0.2}. Best is trial#17 with value: 2.528025614254782.\n",
      "[I 2020-08-15 05:31:46,622] Finished trial#24 with value: 3.0592629553115858 with parameters: {'n_estimators': 1000, 'bootstrap': False, 'max_features': 0.5, 'min_samples_leaf': 0.4}. Best is trial#17 with value: 2.528025614254782.\n",
      "[I 2020-08-15 05:33:53,035] Finished trial#25 with value: 2.524870771297527 with parameters: {'n_estimators': 100, 'bootstrap': False, 'max_features': 0.1, 'min_samples_leaf': 0.1}. Best is trial#25 with value: 2.524870771297527.\n",
      "[I 2020-08-15 05:35:38,729] Finished trial#26 with value: 3.3842167988370804 with parameters: {'n_estimators': 600, 'bootstrap': True, 'max_features': 0.9, 'min_samples_leaf': 0.2, 'max_samples': 0.2}. Best is trial#25 with value: 2.524870771297527.\n",
      "[I 2020-08-15 05:37:11,841] Finished trial#27 with value: 3.069163294252765 with parameters: {'n_estimators': 10, 'bootstrap': False, 'max_features': 0.2, 'min_samples_leaf': 0.4}. Best is trial#25 with value: 2.524870771297527.\n",
      "[I 2020-08-15 05:38:50,511] Finished trial#28 with value: 3.384309841143735 with parameters: {'n_estimators': 400, 'bootstrap': True, 'max_features': 0.8, 'min_samples_leaf': 0.5, 'max_samples': 0.2}. Best is trial#25 with value: 2.524870771297527.\n",
      "[I 2020-08-15 05:40:34,987] Finished trial#29 with value: 3.3839585369679663 with parameters: {'n_estimators': 400, 'bootstrap': True, 'max_features': 0.4, 'min_samples_leaf': 0.5, 'max_samples': 0.4}. Best is trial#25 with value: 2.524870771297527.\n",
      "[I 2020-08-15 05:42:24,022] Finished trial#30 with value: 3.3843656984847987 with parameters: {'n_estimators': 700, 'bootstrap': True, 'max_features': 0.9, 'min_samples_leaf': 0.5, 'max_samples': 0.5}. Best is trial#25 with value: 2.524870771297527.\n",
      "[I 2020-08-15 05:46:22,032] Finished trial#31 with value: 2.521893830915904 with parameters: {'n_estimators': 400, 'bootstrap': False, 'max_features': 0.1, 'min_samples_leaf': 0.1}. Best is trial#31 with value: 2.521893830915904.\n",
      "[I 2020-08-15 05:48:16,090] Finished trial#32 with value: 3.3844335433749686 with parameters: {'n_estimators': 900, 'bootstrap': True, 'max_features': 0.9, 'min_samples_leaf': 0.5, 'max_samples': 0.9}. Best is trial#31 with value: 2.521893830915904.\n",
      "[I 2020-08-15 06:12:26,191] Finished trial#33 with value: 2.5244739311915656 with parameters: {'n_estimators': 600, 'bootstrap': False, 'max_features': 0.7, 'min_samples_leaf': 0.1}. Best is trial#31 with value: 2.521893830915904.\n",
      "[I 2020-08-15 06:14:14,276] Finished trial#34 with value: 3.384171554683927 with parameters: {'n_estimators': 700, 'bootstrap': True, 'max_features': 'auto', 'min_samples_leaf': 0.3, 'max_samples': 0.2}. Best is trial#31 with value: 2.521893830915904.\n",
      "[I 2020-08-15 06:20:26,331] Finished trial#35 with value: 2.782995163887064 with parameters: {'n_estimators': 700, 'bootstrap': False, 'max_features': 0.2, 'min_samples_leaf': 0.2}. Best is trial#31 with value: 2.521893830915904.\n",
      "[I 2020-08-15 06:24:29,288] Finished trial#36 with value: 3.0632536163118016 with parameters: {'n_estimators': 800, 'bootstrap': False, 'max_features': 0.2, 'min_samples_leaf': 0.4}. Best is trial#31 with value: 2.521893830915904.\n",
      "[I 2020-08-15 06:26:02,016] Finished trial#37 with value: 3.384108750868789 with parameters: {'n_estimators': 100, 'bootstrap': True, 'max_features': 0.8, 'min_samples_leaf': 0.2, 'max_samples': 0.3}. Best is trial#31 with value: 2.521893830915904.\n",
      "[I 2020-08-15 06:27:52,013] Finished trial#38 with value: 3.3844703564412937 with parameters: {'n_estimators': 500, 'bootstrap': True, 'max_features': 0.3, 'min_samples_leaf': 0.2, 'max_samples': 0.4}. Best is trial#31 with value: 2.521893830915904.\n",
      "[I 2020-08-15 06:33:48,818] Finished trial#39 with value: 2.8102371901763092 with parameters: {'n_estimators': 200, 'bootstrap': False, 'max_features': 0.7, 'min_samples_leaf': 0.2}. Best is trial#31 with value: 2.521893830915904.\n",
      "[I 2020-08-15 06:35:27,134] Finished trial#40 with value: 3.3841795881754098 with parameters: {'n_estimators': 100, 'bootstrap': True, 'max_features': 0.4, 'min_samples_leaf': 0.4, 'max_samples': 0.9}. Best is trial#31 with value: 2.521893830915904.\n",
      "[I 2020-08-15 06:37:27,209] Finished trial#41 with value: 3.1642797139978946 with parameters: {'n_estimators': 1000, 'bootstrap': False, 'max_features': 'sqrt', 'min_samples_leaf': 0.3}. Best is trial#31 with value: 2.521893830915904.\n",
      "[I 2020-08-15 06:50:06,835] Finished trial#42 with value: 3.1124542257459145 with parameters: {'n_estimators': 700, 'bootstrap': False, 'max_features': 'auto', 'min_samples_leaf': 0.4}. Best is trial#31 with value: 2.521893830915904.\n",
      "[I 2020-08-15 06:54:23,873] Finished trial#43 with value: 3.0625922144573536 with parameters: {'n_estimators': 300, 'bootstrap': False, 'max_features': 0.6, 'min_samples_leaf': 0.4}. Best is trial#31 with value: 2.521893830915904.\n",
      "[I 2020-08-15 06:56:06,344] Finished trial#44 with value: 3.3843887816505474 with parameters: {'n_estimators': 600, 'bootstrap': True, 'max_features': 0.9, 'min_samples_leaf': 0.5, 'max_samples': 0.5}. Best is trial#31 with value: 2.521893830915904.\n",
      "[I 2020-08-15 06:57:56,921] Finished trial#45 with value: 3.3841629686444765 with parameters: {'n_estimators': 500, 'bootstrap': True, 'max_features': 0.9, 'min_samples_leaf': 0.5, 'max_samples': 0.99}. Best is trial#31 with value: 2.521893830915904.\n",
      "[I 2020-08-15 06:59:46,055] Finished trial#46 with value: 3.3792600221058082 with parameters: {'n_estimators': 200, 'bootstrap': False, 'max_features': 0.2, 'min_samples_leaf': 0.5}. Best is trial#31 with value: 2.521893830915904.\n",
      "[I 2020-08-15 07:07:19,001] Finished trial#47 with value: 3.0016054561594414 with parameters: {'n_estimators': 900, 'bootstrap': False, 'max_features': 0.3, 'min_samples_leaf': 0.3}. Best is trial#31 with value: 2.521893830915904.\n",
      "[I 2020-08-15 07:09:21,617] Finished trial#48 with value: 3.085503268483131 with parameters: {'n_estimators': 400, 'bootstrap': False, 'max_features': 0.1, 'min_samples_leaf': 0.4}. Best is trial#31 with value: 2.521893830915904.\n",
      "[I 2020-08-15 07:22:45,973] Finished trial#49 with value: 3.048404635718959 with parameters: {'n_estimators': 700, 'bootstrap': False, 'max_features': 0.8, 'min_samples_leaf': 0.3}. Best is trial#31 with value: 2.521893830915904.\n",
      "[I 2020-08-15 07:36:31,854] Finished trial#50 with value: 2.840048967923587 with parameters: {'n_estimators': 500, 'bootstrap': False, 'max_features': 0.8, 'min_samples_leaf': 0.2}. Best is trial#31 with value: 2.521893830915904.\n",
      "[I 2020-08-15 07:38:08,653] Finished trial#51 with value: 3.3477724684008114 with parameters: {'n_estimators': 100, 'bootstrap': True, 'max_features': 0.3, 'min_samples_leaf': 0.3, 'max_samples': 0.9}. Best is trial#31 with value: 2.521893830915904.\n",
      "[I 2020-08-15 07:39:58,473] Finished trial#52 with value: 3.3843668174628374 with parameters: {'n_estimators': 500, 'bootstrap': True, 'max_features': 'auto', 'min_samples_leaf': 0.4, 'max_samples': 0.4}. Best is trial#31 with value: 2.521893830915904.\n",
      "[I 2020-08-15 07:45:20,167] Finished trial#53 with value: 3.081333909963284 with parameters: {'n_estimators': 300, 'bootstrap': False, 'max_features': 0.8, 'min_samples_leaf': 0.4}. Best is trial#31 with value: 2.521893830915904.\n",
      "[I 2020-08-15 07:47:00,503] Finished trial#54 with value: 3.377300497780049 with parameters: {'n_estimators': 100, 'bootstrap': False, 'max_features': 0.3, 'min_samples_leaf': 0.5}. Best is trial#31 with value: 2.521893830915904.\n",
      "[I 2020-08-15 08:20:05,114] Finished trial#55 with value: 2.6289811068666133 with parameters: {'n_estimators': 600, 'bootstrap': False, 'max_features': 'auto', 'min_samples_leaf': 0.1}. Best is trial#31 with value: 2.521893830915904.\n",
      "[I 2020-08-15 08:22:05,947] Finished trial#56 with value: 3.063566414050257 with parameters: {'n_estimators': 900, 'bootstrap': True, 'max_features': 'sqrt', 'min_samples_leaf': 0.1, 'max_samples': 0.6}. Best is trial#31 with value: 2.521893830915904.\n",
      "[I 2020-08-15 08:23:59,020] Finished trial#57 with value: 3.3842559382372297 with parameters: {'n_estimators': 900, 'bootstrap': True, 'max_features': 0.5, 'min_samples_leaf': 0.5, 'max_samples': 0.4}. Best is trial#31 with value: 2.521893830915904.\n",
      "[I 2020-08-15 08:26:57,790] Finished trial#58 with value: 3.374098843428429 with parameters: {'n_estimators': 300, 'bootstrap': False, 'max_features': 0.8, 'min_samples_leaf': 0.5}. Best is trial#31 with value: 2.521893830915904.\n",
      "[I 2020-08-15 08:32:38,779] Finished trial#59 with value: 3.37386134944641 with parameters: {'n_estimators': 800, 'bootstrap': False, 'max_features': 0.8, 'min_samples_leaf': 0.5}. Best is trial#31 with value: 2.521893830915904.\n",
      "[I 2020-08-15 08:34:26,950] Finished trial#60 with value: 3.3846107723474748 with parameters: {'n_estimators': 500, 'bootstrap': True, 'max_features': 0.1, 'min_samples_leaf': 0.1, 'max_samples': 0.2}. Best is trial#31 with value: 2.521893830915904.\n",
      "[I 2020-08-15 08:36:09,334] Finished trial#61 with value: 3.062109856490335 with parameters: {'n_estimators': 10, 'bootstrap': False, 'max_features': 0.5, 'min_samples_leaf': 0.4}. Best is trial#31 with value: 2.521893830915904.\n",
      "[I 2020-08-15 09:04:26,052] Finished trial#62 with value: 2.4958330223611167 with parameters: {'n_estimators': 1000, 'bootstrap': False, 'max_features': 0.5, 'min_samples_leaf': 0.1}. Best is trial#62 with value: 2.4958330223611167.\n",
      "[I 2020-08-15 09:10:22,571] Finished trial#63 with value: 3.0019489745698684 with parameters: {'n_estimators': 700, 'bootstrap': False, 'max_features': 0.3, 'min_samples_leaf': 0.3}. Best is trial#62 with value: 2.4958330223611167.\n",
      "[I 2020-08-15 09:12:04,483] Finished trial#64 with value: 3.2255790728083023 with parameters: {'n_estimators': 200, 'bootstrap': False, 'max_features': 'sqrt', 'min_samples_leaf': 0.4}. Best is trial#62 with value: 2.4958330223611167.\n",
      "[I 2020-08-15 09:16:41,241] Finished trial#65 with value: 2.9293507493330653 with parameters: {'n_estimators': 1000, 'bootstrap': True, 'max_features': 0.2, 'min_samples_leaf': 0.1, 'max_samples': 0.5}. Best is trial#62 with value: 2.4958330223611167.\n",
      "[I 2020-08-15 09:20:20,082] Finished trial#66 with value: 2.804321830485173 with parameters: {'n_estimators': 100, 'bootstrap': False, 'max_features': 0.7, 'min_samples_leaf': 0.2}. Best is trial#62 with value: 2.4958330223611167.\n",
      "[I 2020-08-15 09:23:31,362] Finished trial#67 with value: 3.0847554769791725 with parameters: {'n_estimators': 1000, 'bootstrap': False, 'max_features': 0.1, 'min_samples_leaf': 0.4}. Best is trial#62 with value: 2.4958330223611167.\n"
     ]
    },
    {
     "name": "stderr",
     "output_type": "stream",
     "text": [
      "[I 2020-08-15 09:26:09,553] Finished trial#68 with value: 3.0825463605826666 with parameters: {'n_estimators': 100, 'bootstrap': False, 'max_features': 0.8, 'min_samples_leaf': 0.4}. Best is trial#62 with value: 2.4958330223611167.\n",
      "[I 2020-08-15 09:29:49,992] Finished trial#69 with value: 3.050076852572498 with parameters: {'n_estimators': 600, 'bootstrap': True, 'max_features': 0.4, 'min_samples_leaf': 0.2, 'max_samples': 0.6}. Best is trial#62 with value: 2.4958330223611167.\n",
      "[I 2020-08-15 09:42:50,243] Finished trial#70 with value: 2.767073847036059 with parameters: {'n_estimators': 900, 'bootstrap': False, 'max_features': 0.4, 'min_samples_leaf': 0.2}. Best is trial#62 with value: 2.4958330223611167.\n",
      "[I 2020-08-15 09:45:50,292] Finished trial#71 with value: 3.038611074532905 with parameters: {'n_estimators': 100, 'bootstrap': False, 'max_features': 0.7, 'min_samples_leaf': 0.3}. Best is trial#62 with value: 2.4958330223611167.\n",
      "[I 2020-08-15 09:48:01,435] Finished trial#72 with value: 2.52324158846546 with parameters: {'n_estimators': 100, 'bootstrap': False, 'max_features': 0.1, 'min_samples_leaf': 0.1}. Best is trial#62 with value: 2.4958330223611167.\n",
      "[I 2020-08-15 09:50:19,052] Finished trial#73 with value: 3.3815467526300913 with parameters: {'n_estimators': 1000, 'bootstrap': False, 'max_features': 0.1, 'min_samples_leaf': 0.5}. Best is trial#62 with value: 2.4958330223611167.\n",
      "[I 2020-08-15 09:52:09,340] Finished trial#74 with value: 3.3840445944387243 with parameters: {'n_estimators': 600, 'bootstrap': True, 'max_features': 0.8, 'min_samples_leaf': 0.3, 'max_samples': 0.6}. Best is trial#62 with value: 2.4958330223611167.\n",
      "[I 2020-08-15 09:53:52,673] Finished trial#75 with value: 3.3841598956299976 with parameters: {'n_estimators': 100, 'bootstrap': True, 'max_features': 0.1, 'min_samples_leaf': 0.3, 'max_samples': 0.7}. Best is trial#62 with value: 2.4958330223611167.\n",
      "[I 2020-08-15 10:10:20,386] Finished trial#76 with value: 2.951359544609859 with parameters: {'n_estimators': 500, 'bootstrap': False, 'max_features': 'auto', 'min_samples_leaf': 0.2}. Best is trial#62 with value: 2.4958330223611167.\n",
      "[I 2020-08-15 10:12:02,211] Finished trial#77 with value: 3.384238057580976 with parameters: {'n_estimators': 500, 'bootstrap': True, 'max_features': 0.4, 'min_samples_leaf': 0.3, 'max_samples': 0.7}. Best is trial#62 with value: 2.4958330223611167.\n",
      "[I 2020-08-15 10:16:27,916] Finished trial#78 with value: 3.0373155386241746 with parameters: {'n_estimators': 400, 'bootstrap': True, 'max_features': 0.8, 'min_samples_leaf': 0.2, 'max_samples': 0.7}. Best is trial#62 with value: 2.4958330223611167.\n",
      "[I 2020-08-15 10:17:58,940] Finished trial#79 with value: 3.07386442184461 with parameters: {'n_estimators': 10, 'bootstrap': False, 'max_features': 0.2, 'min_samples_leaf': 0.4}. Best is trial#62 with value: 2.4958330223611167.\n",
      "[I 2020-08-15 10:19:37,766] Finished trial#80 with value: 3.340548777957298 with parameters: {'n_estimators': 10, 'bootstrap': True, 'max_features': 0.6, 'min_samples_leaf': 0.2, 'max_samples': 0.5}. Best is trial#62 with value: 2.4958330223611167.\n",
      "[I 2020-08-15 10:21:53,446] Finished trial#81 with value: 3.034589104580318 with parameters: {'n_estimators': 300, 'bootstrap': True, 'max_features': 0.3, 'min_samples_leaf': 0.1, 'max_samples': 0.3}. Best is trial#62 with value: 2.4958330223611167.\n",
      "[I 2020-08-15 10:23:53,224] Finished trial#82 with value: 3.3841678821111407 with parameters: {'n_estimators': 1000, 'bootstrap': True, 'max_features': 0.1, 'min_samples_leaf': 0.3, 'max_samples': 0.8}. Best is trial#62 with value: 2.4958330223611167.\n",
      "[I 2020-08-15 10:29:13,703] Finished trial#83 with value: 3.027961399564445 with parameters: {'n_estimators': 900, 'bootstrap': True, 'max_features': 0.4, 'min_samples_leaf': 0.2, 'max_samples': 0.8}. Best is trial#62 with value: 2.4958330223611167.\n",
      "[I 2020-08-15 10:30:50,626] Finished trial#84 with value: 3.3856010059351194 with parameters: {'n_estimators': 10, 'bootstrap': True, 'max_features': 0.6, 'min_samples_leaf': 0.4, 'max_samples': 0.5}. Best is trial#62 with value: 2.4958330223611167.\n",
      "[I 2020-08-15 10:44:23,269] Finished trial#85 with value: 2.6099726133221917 with parameters: {'n_estimators': 600, 'bootstrap': True, 'max_features': 0.8, 'min_samples_leaf': 0.1, 'max_samples': 0.9}. Best is trial#62 with value: 2.4958330223611167.\n",
      "[I 2020-08-15 10:46:05,617] Finished trial#86 with value: 3.202519329216002 with parameters: {'n_estimators': 100, 'bootstrap': True, 'max_features': 'sqrt', 'min_samples_leaf': 0.2, 'max_samples': 0.8}. Best is trial#62 with value: 2.4958330223611167.\n",
      "[I 2020-08-15 10:47:58,363] Finished trial#87 with value: 3.381330350178288 with parameters: {'n_estimators': 500, 'bootstrap': False, 'max_features': 0.1, 'min_samples_leaf': 0.5}. Best is trial#62 with value: 2.4958330223611167.\n",
      "[I 2020-08-15 10:49:49,409] Finished trial#88 with value: 3.3842978482666535 with parameters: {'n_estimators': 800, 'bootstrap': True, 'max_features': 'auto', 'min_samples_leaf': 0.4, 'max_samples': 0.6}. Best is trial#62 with value: 2.4958330223611167.\n",
      "[I 2020-08-15 10:53:58,512] Finished trial#89 with value: 2.5758084294442605 with parameters: {'n_estimators': 100, 'bootstrap': True, 'max_features': 0.9, 'min_samples_leaf': 0.1, 'max_samples': 0.99}. Best is trial#62 with value: 2.4958330223611167.\n",
      "[I 2020-08-15 11:00:13,765] Finished trial#90 with value: 2.5825435476951824 with parameters: {'n_estimators': 100, 'bootstrap': False, 'max_features': 0.9, 'min_samples_leaf': 0.1}. Best is trial#62 with value: 2.4958330223611167.\n",
      "[I 2020-08-15 11:02:00,063] Finished trial#91 with value: 3.3844378454538213 with parameters: {'n_estimators': 400, 'bootstrap': True, 'max_features': 0.9, 'min_samples_leaf': 0.4, 'max_samples': 0.8}. Best is trial#62 with value: 2.4958330223611167.\n",
      "[I 2020-08-15 11:18:16,566] Finished trial#92 with value: 2.4862186722033894 with parameters: {'n_estimators': 900, 'bootstrap': False, 'max_features': 0.3, 'min_samples_leaf': 0.1}. Best is trial#92 with value: 2.4862186722033894.\n",
      "[I 2020-08-15 11:19:57,491] Finished trial#93 with value: 3.3752900987693826 with parameters: {'n_estimators': 10, 'bootstrap': False, 'max_features': 'auto', 'min_samples_leaf': 0.5}. Best is trial#92 with value: 2.4862186722033894.\n",
      "[I 2020-08-15 11:30:03,872] Finished trial#94 with value: 3.0039993099585685 with parameters: {'n_estimators': 1000, 'bootstrap': False, 'max_features': 0.4, 'min_samples_leaf': 0.3}. Best is trial#92 with value: 2.4862186722033894.\n",
      "[I 2020-08-15 11:31:42,233] Finished trial#95 with value: 3.3838073344515585 with parameters: {'n_estimators': 200, 'bootstrap': True, 'max_features': 0.8, 'min_samples_leaf': 0.4, 'max_samples': 0.2}. Best is trial#92 with value: 2.4862186722033894.\n",
      "[I 2020-08-15 11:37:53,012] Finished trial#96 with value: 3.1124542257459127 with parameters: {'n_estimators': 300, 'bootstrap': False, 'max_features': 'auto', 'min_samples_leaf': 0.4}. Best is trial#92 with value: 2.4862186722033894.\n",
      "[I 2020-08-15 11:39:47,426] Finished trial#97 with value: 3.3844943917616996 with parameters: {'n_estimators': 600, 'bootstrap': True, 'max_features': 0.3, 'min_samples_leaf': 0.4, 'max_samples': 0.2}. Best is trial#92 with value: 2.4862186722033894.\n",
      "[I 2020-08-15 12:25:36,739] Finished trial#98 with value: 2.5791469433812724 with parameters: {'n_estimators': 900, 'bootstrap': False, 'max_features': 0.9, 'min_samples_leaf': 0.1}. Best is trial#92 with value: 2.4862186722033894.\n",
      "[I 2020-08-15 12:30:27,541] Finished trial#99 with value: 3.047033158700924 with parameters: {'n_estimators': 200, 'bootstrap': False, 'max_features': 0.8, 'min_samples_leaf': 0.3}. Best is trial#92 with value: 2.4862186722033894.\n"
     ]
    }
   ],
   "source": [
    "study = optuna.create_study(direction='minimize', sampler=RandomSampler(seed=123))\n",
    "study.optimize(objective, n_trials=100)\n",
    "rf_rs_result = study.trials_dataframe()"
   ]
  },
  {
   "cell_type": "code",
   "execution_count": 38,
   "metadata": {},
   "outputs": [],
   "source": [
    "rf_rs_result.to_csv(\"qsar_results/rf_rs_result.csv\", index=False)"
   ]
  },
  {
   "cell_type": "markdown",
   "metadata": {},
   "source": [
    "## RS - XGBoost"
   ]
  },
  {
   "cell_type": "code",
   "execution_count": 66,
   "metadata": {},
   "outputs": [
    {
     "name": "stdout",
     "output_type": "stream",
     "text": [
      "Number of points in the search space: 5821200000\n"
     ]
    }
   ],
   "source": [
    "greek_list = [2**(-9) * 2 ** i for i in range(len(range(-9,11,1)))]\n",
    "greek_list.append(0)\n",
    "eta_list = [i/10 for i in range(1, 11)]\n",
    "subsam_list = [i/10 for i in range(1,11)]\n",
    "maxdep_list = [*range(1,16)]\n",
    "min_list = [2 ** i for i in range(0,8,1)]\n",
    "colsam_list = [i/10 for i in range(1,11)]\n",
    "nboost_list = [1, *range(10,110,10)]\n",
    "\n",
    "def objective(trial):\n",
    "    mlist = []\n",
    "    param = {\n",
    "        \"booster\": \"gbtree\",\n",
    "        \"lambda\": trial.suggest_categorical(\"lambda\", greek_list),\n",
    "        \"alpha\": trial.suggest_categorical(\"alpha\", greek_list),\n",
    "        \"eta\": trial.suggest_discrete_uniform(\"eta\", 0.1, 1, 0.1),\n",
    "        \"subsample\": trial.suggest_discrete_uniform(\"subsample\", 0.1, 1, 0.1),\n",
    "        \"max_depth\": trial.suggest_int(\"max_depth\", 1, 15),\n",
    "        \"min_child_weight\": trial.suggest_categorical(\"min_child_weight\", min_list),\n",
    "        \"colsample_bytree\": trial.suggest_discrete_uniform(\"colsample_bytree\", 0.1, 1, 0.1),\n",
    "        \"colsample_bylevel\": trial.suggest_discrete_uniform('colsample_bylevel', 0.1, 1, 0.1)\n",
    "    }\n",
    "    n_boost = trial.suggest_categorical(\"num_boost_round\", nboost_list)\n",
    "    # run xgboost.cv for each dataset\n",
    "    for i in range(num_datasets):\n",
    "        bst = xgb.cv(param, dmat_list[i], num_boost_round=n_boost, nfold=3, metrics='rmse', seed=123, shuffle=True)\n",
    "        mlist.append(bst.iloc[len(bst.index)-1, 2])\n",
    "    rmse_mean = sum(mlist)/len(mlist)\n",
    "    return rmse_mean\n",
    "# determine points in the search space\n",
    "search_space = {\n",
    "    \"lambda\": greek_list,\n",
    "    \"alpha\": greek_list,\n",
    "    \"eta\": eta_list,\n",
    "    \"subsample\": subsam_list,\n",
    "    \"max_depth\": maxdep_list,\n",
    "    \"min_child_weight\": min_list,\n",
    "    \"colsample_bytree\": colsam_list,\n",
    "    \"colsample_bylevel\": colsam_list,\n",
    "    \"num_boost_round\": nboost_list\n",
    "}\n",
    "# calculate number of points in the search space\n",
    "num_points = 1\n",
    "keys = search_space.keys()\n",
    "for k in keys:\n",
    "    num_points = num_points * len(search_space[k])\n",
    "print(\"Number of points in the search space: {}\".format(num_points))"
   ]
  },
  {
   "cell_type": "code",
   "execution_count": 67,
   "metadata": {},
   "outputs": [
    {
     "name": "stderr",
     "output_type": "stream",
     "text": [
      "[I 2020-08-18 02:25:55,300] Finished trial#0 with value: 6.158900000000001 with parameters: {'lambda': 16.0, 'alpha': 0.0078125, 'eta': 0.30000000000000004, 'subsample': 0.6, 'max_depth': 4, 'min_child_weight': 4, 'colsample_bytree': 0.5, 'colsample_bylevel': 1.0, 'num_boost_round': 1}. Best is trial#0 with value: 6.158900000000001.\n",
      "[I 2020-08-18 02:27:13,791] Finished trial#1 with value: 6.190845622222222 with parameters: {'lambda': 256.0, 'alpha': 64.0, 'eta': 0.4, 'subsample': 0.4, 'max_depth': 10, 'min_child_weight': 8, 'colsample_bytree': 0.30000000000000004, 'colsample_bylevel': 0.7000000000000001, 'num_boost_round': 1}. Best is trial#0 with value: 6.158900000000001.\n",
      "[I 2020-08-18 02:28:31,332] Finished trial#2 with value: 6.8879734444444445 with parameters: {'lambda': 0.03125, 'alpha': 256.0, 'eta': 0.2, 'subsample': 0.2, 'max_depth': 8, 'min_child_weight': 4, 'colsample_bytree': 0.6, 'colsample_bylevel': 0.7000000000000001, 'num_boost_round': 1}. Best is trial#0 with value: 6.158900000000001.\n",
      "[I 2020-08-18 02:36:36,918] Finished trial#3 with value: 3.3623613999999997 with parameters: {'lambda': 0.25, 'alpha': 1.0, 'eta': 0.8, 'subsample': 0.4, 'max_depth': 7, 'min_child_weight': 2, 'colsample_bytree': 0.7000000000000001, 'colsample_bylevel': 0.4, 'num_boost_round': 20}. Best is trial#3 with value: 3.3623613999999997.\n",
      "[I 2020-08-18 02:39:56,118] Finished trial#4 with value: 2.9286664666666664 with parameters: {'lambda': 0.00390625, 'alpha': 8.0, 'eta': 0.7000000000000001, 'subsample': 0.1, 'max_depth': 1, 'min_child_weight': 8, 'colsample_bytree': 0.5, 'colsample_bylevel': 0.5, 'num_boost_round': 20}. Best is trial#4 with value: 2.9286664666666664.\n",
      "[I 2020-08-18 02:41:18,677] Finished trial#5 with value: 4.720584422222221 with parameters: {'lambda': 0.03125, 'alpha': 64.0, 'eta': 0.5, 'subsample': 0.9, 'max_depth': 15, 'min_child_weight': 16, 'colsample_bytree': 0.6, 'colsample_bylevel': 0.7000000000000001, 'num_boost_round': 1}. Best is trial#4 with value: 2.9286664666666664.\n",
      "[I 2020-08-18 02:50:22,709] Finished trial#6 with value: 2.2245036 with parameters: {'lambda': 0.125, 'alpha': 32.0, 'eta': 0.5, 'subsample': 0.7000000000000001, 'max_depth': 7, 'min_child_weight': 128, 'colsample_bytree': 0.2, 'colsample_bylevel': 0.5, 'num_boost_round': 70}. Best is trial#6 with value: 2.2245036.\n",
      "[I 2020-08-18 02:51:41,174] Finished trial#7 with value: 4.802338777777778 with parameters: {'lambda': 512.0, 'alpha': 0, 'eta': 0.8, 'subsample': 0.5, 'max_depth': 2, 'min_child_weight': 2, 'colsample_bytree': 0.30000000000000004, 'colsample_bylevel': 0.5, 'num_boost_round': 1}. Best is trial#6 with value: 2.2245036.\n",
      "[I 2020-08-18 09:13:29,509] Finished trial#8 with value: 2.2621430000000005 with parameters: {'lambda': 256.0, 'alpha': 0.015625, 'eta': 0.9, 'subsample': 0.30000000000000004, 'max_depth': 8, 'min_child_weight': 2, 'colsample_bytree': 0.30000000000000004, 'colsample_bylevel': 0.9, 'num_boost_round': 30}. Best is trial#6 with value: 2.2245036.\n",
      "[I 2020-08-18 14:44:10,985] Finished trial#9 with value: 3.767122911111111 with parameters: {'lambda': 0.125, 'alpha': 1.0, 'eta': 0.1, 'subsample': 0.8, 'max_depth': 10, 'min_child_weight': 64, 'colsample_bytree': 0.2, 'colsample_bylevel': 0.6, 'num_boost_round': 10}. Best is trial#6 with value: 2.2245036.\n",
      "[I 2020-08-18 14:59:51,153] Finished trial#10 with value: 2.2762818888888887 with parameters: {'lambda': 32.0, 'alpha': 2.0, 'eta': 0.7000000000000001, 'subsample': 0.8, 'max_depth': 14, 'min_child_weight': 1, 'colsample_bytree': 0.4, 'colsample_bylevel': 0.6, 'num_boost_round': 80}. Best is trial#6 with value: 2.2245036.\n",
      "[I 2020-08-18 15:03:38,415] Finished trial#11 with value: 2.452350733333333 with parameters: {'lambda': 16.0, 'alpha': 256.0, 'eta': 0.7000000000000001, 'subsample': 0.6, 'max_depth': 4, 'min_child_weight': 16, 'colsample_bytree': 1.0, 'colsample_bylevel': 0.9, 'num_boost_round': 10}. Best is trial#6 with value: 2.2245036.\n",
      "[I 2020-08-18 15:06:32,933] Finished trial#12 with value: 2.136775044444444 with parameters: {'lambda': 0, 'alpha': 8.0, 'eta': 0.4, 'subsample': 0.6, 'max_depth': 7, 'min_child_weight': 1, 'colsample_bytree': 0.1, 'colsample_bylevel': 0.7000000000000001, 'num_boost_round': 40}. Best is trial#12 with value: 2.136775044444444.\n",
      "[I 2020-08-18 15:13:00,224] Finished trial#13 with value: 2.1501235333333333 with parameters: {'lambda': 0.03125, 'alpha': 128.0, 'eta': 0.2, 'subsample': 0.4, 'max_depth': 5, 'min_child_weight': 4, 'colsample_bytree': 0.4, 'colsample_bylevel': 0.6, 'num_boost_round': 80}. Best is trial#12 with value: 2.136775044444444.\n",
      "[I 2020-08-18 15:14:35,581] Finished trial#14 with value: 2.2435444444444443 with parameters: {'lambda': 32.0, 'alpha': 0.125, 'eta': 0.30000000000000004, 'subsample': 0.9, 'max_depth': 8, 'min_child_weight': 4, 'colsample_bytree': 0.2, 'colsample_bylevel': 0.30000000000000004, 'num_boost_round': 10}. Best is trial#12 with value: 2.136775044444444.\n",
      "[I 2020-08-18 15:17:19,029] Finished trial#15 with value: 2.1803976666666665 with parameters: {'lambda': 0.25, 'alpha': 16.0, 'eta': 0.7000000000000001, 'subsample': 0.9, 'max_depth': 10, 'min_child_weight': 64, 'colsample_bytree': 0.5, 'colsample_bylevel': 0.1, 'num_boost_round': 30}. Best is trial#12 with value: 2.136775044444444.\n",
      "[I 2020-08-18 15:22:09,484] Finished trial#16 with value: 2.2441491999999994 with parameters: {'lambda': 256.0, 'alpha': 32.0, 'eta': 0.6, 'subsample': 0.4, 'max_depth': 6, 'min_child_weight': 4, 'colsample_bytree': 0.7000000000000001, 'colsample_bylevel': 0.4, 'num_boost_round': 30}. Best is trial#12 with value: 2.136775044444444.\n",
      "[I 2020-08-18 15:50:33,088] Finished trial#17 with value: 2.1785621111111113 with parameters: {'lambda': 512.0, 'alpha': 32.0, 'eta': 0.30000000000000004, 'subsample': 0.30000000000000004, 'max_depth': 15, 'min_child_weight': 8, 'colsample_bytree': 0.8, 'colsample_bylevel': 0.6, 'num_boost_round': 100}. Best is trial#12 with value: 2.136775044444444.\n",
      "[I 2020-08-18 15:55:25,038] Finished trial#18 with value: 10.372841222222226 with parameters: {'lambda': 0.015625, 'alpha': 16.0, 'eta': 0.9, 'subsample': 0.2, 'max_depth': 10, 'min_child_weight': 8, 'colsample_bytree': 0.4, 'colsample_bylevel': 0.9, 'num_boost_round': 30}. Best is trial#12 with value: 2.136775044444444.\n",
      "[I 2020-08-18 15:58:41,779] Finished trial#19 with value: 2.744177933333334 with parameters: {'lambda': 32.0, 'alpha': 128.0, 'eta': 1.0, 'subsample': 0.2, 'max_depth': 5, 'min_child_weight': 32, 'colsample_bytree': 0.9, 'colsample_bylevel': 0.30000000000000004, 'num_boost_round': 20}. Best is trial#12 with value: 2.136775044444444.\n",
      "[I 2020-08-18 16:00:09,518] Finished trial#20 with value: 2.9448262222222223 with parameters: {'lambda': 0.0625, 'alpha': 0.00390625, 'eta': 0.8, 'subsample': 0.8, 'max_depth': 12, 'min_child_weight': 16, 'colsample_bytree': 0.8, 'colsample_bylevel': 0.9, 'num_boost_round': 1}. Best is trial#12 with value: 2.136775044444444.\n",
      "[I 2020-08-18 16:29:44,283] Finished trial#21 with value: 2.159832733333333 with parameters: {'lambda': 0.015625, 'alpha': 0.0078125, 'eta': 0.4, 'subsample': 0.7000000000000001, 'max_depth': 10, 'min_child_weight': 2, 'colsample_bytree': 0.7000000000000001, 'colsample_bylevel': 0.9, 'num_boost_round': 80}. Best is trial#12 with value: 2.136775044444444.\n",
      "[I 2020-08-18 16:53:03,436] Finished trial#22 with value: 1.9517619111111109 with parameters: {'lambda': 0.001953125, 'alpha': 0.015625, 'eta': 0.1, 'subsample': 0.7000000000000001, 'max_depth': 7, 'min_child_weight': 8, 'colsample_bytree': 0.9, 'colsample_bylevel': 0.6, 'num_boost_round': 60}. Best is trial#22 with value: 1.9517619111111109.\n",
      "[I 2020-08-18 16:57:07,819] Finished trial#23 with value: 2.9182049111111112 with parameters: {'lambda': 0.0625, 'alpha': 1.0, 'eta': 1.0, 'subsample': 0.8, 'max_depth': 8, 'min_child_weight': 1, 'colsample_bytree': 0.8, 'colsample_bylevel': 0.1, 'num_boost_round': 30}. Best is trial#22 with value: 1.9517619111111109.\n",
      "[I 2020-08-18 17:01:37,314] Finished trial#24 with value: 3.225229422222222 with parameters: {'lambda': 1024.0, 'alpha': 256.0, 'eta': 1.0, 'subsample': 0.1, 'max_depth': 9, 'min_child_weight': 32, 'colsample_bytree': 0.7000000000000001, 'colsample_bylevel': 0.1, 'num_boost_round': 70}. Best is trial#22 with value: 1.9517619111111109.\n",
      "[I 2020-08-18 17:30:01,102] Finished trial#25 with value: 2.303560222222222 with parameters: {'lambda': 128.0, 'alpha': 128.0, 'eta': 0.5, 'subsample': 0.4, 'max_depth': 2, 'min_child_weight': 1, 'colsample_bytree': 0.9, 'colsample_bylevel': 0.7000000000000001, 'num_boost_round': 100}. Best is trial#22 with value: 1.9517619111111109.\n",
      "[I 2020-08-18 17:33:42,159] Finished trial#26 with value: 2.6566164444444444 with parameters: {'lambda': 0.03125, 'alpha': 0.001953125, 'eta': 0.8, 'subsample': 0.4, 'max_depth': 3, 'min_child_weight': 128, 'colsample_bytree': 0.1, 'colsample_bylevel': 0.7000000000000001, 'num_boost_round': 60}. Best is trial#22 with value: 1.9517619111111109.\n",
      "[I 2020-08-18 17:36:00,434] Finished trial#27 with value: 2.116245222222222 with parameters: {'lambda': 0.00390625, 'alpha': 0.5, 'eta': 0.4, 'subsample': 0.8, 'max_depth': 15, 'min_child_weight': 32, 'colsample_bytree': 0.1, 'colsample_bylevel': 0.1, 'num_boost_round': 30}. Best is trial#22 with value: 1.9517619111111109.\n",
      "[I 2020-08-18 17:44:50,176] Finished trial#28 with value: 2.5806308888888894 with parameters: {'lambda': 256.0, 'alpha': 1024.0, 'eta': 0.8, 'subsample': 0.6, 'max_depth': 6, 'min_child_weight': 8, 'colsample_bytree': 0.7000000000000001, 'colsample_bylevel': 0.7000000000000001, 'num_boost_round': 50}. Best is trial#22 with value: 1.9517619111111109.\n",
      "[I 2020-08-18 17:46:55,920] Finished trial#29 with value: 2.349547955555556 with parameters: {'lambda': 0.00390625, 'alpha': 0.0625, 'eta': 0.2, 'subsample': 0.4, 'max_depth': 10, 'min_child_weight': 2, 'colsample_bytree': 0.7000000000000001, 'colsample_bylevel': 0.1, 'num_boost_round': 10}. Best is trial#22 with value: 1.9517619111111109.\n",
      "[I 2020-08-18 17:51:03,963] Finished trial#30 with value: 2.581712777777778 with parameters: {'lambda': 128.0, 'alpha': 128.0, 'eta': 0.2, 'subsample': 0.5, 'max_depth': 1, 'min_child_weight': 16, 'colsample_bytree': 0.30000000000000004, 'colsample_bylevel': 1.0, 'num_boost_round': 50}. Best is trial#22 with value: 1.9517619111111109.\n",
      "[I 2020-08-18 17:59:20,187] Finished trial#31 with value: 2.5819004444444436 with parameters: {'lambda': 32.0, 'alpha': 256.0, 'eta': 0.7000000000000001, 'subsample': 0.4, 'max_depth': 6, 'min_child_weight': 128, 'colsample_bytree': 0.9, 'colsample_bylevel': 0.2, 'num_boost_round': 90}. Best is trial#22 with value: 1.9517619111111109.\n",
      "[I 2020-08-18 18:06:18,016] Finished trial#32 with value: 2.4234047111111114 with parameters: {'lambda': 256.0, 'alpha': 0.0625, 'eta': 0.1, 'subsample': 0.4, 'max_depth': 5, 'min_child_weight': 4, 'colsample_bytree': 0.4, 'colsample_bylevel': 0.4, 'num_boost_round': 60}. Best is trial#22 with value: 1.9517619111111109.\n",
      "[I 2020-08-18 18:10:42,419] Finished trial#33 with value: 4.423047911111111 with parameters: {'lambda': 0.001953125, 'alpha': 1024.0, 'eta': 0.7000000000000001, 'subsample': 0.1, 'max_depth': 15, 'min_child_weight': 64, 'colsample_bytree': 1.0, 'colsample_bylevel': 0.4, 'num_boost_round': 40}. Best is trial#22 with value: 1.9517619111111109.\n",
      "[I 2020-08-18 18:12:50,395] Finished trial#34 with value: 2.6464686444444445 with parameters: {'lambda': 1024.0, 'alpha': 0.0078125, 'eta': 0.6, 'subsample': 0.5, 'max_depth': 3, 'min_child_weight': 8, 'colsample_bytree': 0.1, 'colsample_bylevel': 0.6, 'num_boost_round': 20}. Best is trial#22 with value: 1.9517619111111109.\n",
      "[I 2020-08-18 18:15:42,149] Finished trial#35 with value: 2.556845444444444 with parameters: {'lambda': 0.001953125, 'alpha': 0.015625, 'eta': 0.9, 'subsample': 0.6, 'max_depth': 1, 'min_child_weight': 4, 'colsample_bytree': 0.9, 'colsample_bylevel': 0.1, 'num_boost_round': 40}. Best is trial#22 with value: 1.9517619111111109.\n",
      "[I 2020-08-18 18:17:27,476] Finished trial#36 with value: 2.922082355555555 with parameters: {'lambda': 0.125, 'alpha': 0.001953125, 'eta': 1.0, 'subsample': 0.30000000000000004, 'max_depth': 9, 'min_child_weight': 128, 'colsample_bytree': 0.30000000000000004, 'colsample_bylevel': 0.2, 'num_boost_round': 10}. Best is trial#22 with value: 1.9517619111111109.\n",
      "[I 2020-08-18 18:38:46,727] Finished trial#37 with value: 2.1776992444444447 with parameters: {'lambda': 0.25, 'alpha': 0.0625, 'eta': 0.5, 'subsample': 0.8, 'max_depth': 5, 'min_child_weight': 1, 'colsample_bytree': 0.8, 'colsample_bylevel': 1.0, 'num_boost_round': 50}. Best is trial#22 with value: 1.9517619111111109.\n",
      "[I 2020-08-18 18:43:07,804] Finished trial#38 with value: 2.3338727777777777 with parameters: {'lambda': 256.0, 'alpha': 32.0, 'eta': 0.2, 'subsample': 0.6, 'max_depth': 2, 'min_child_weight': 32, 'colsample_bytree': 0.7000000000000001, 'colsample_bylevel': 0.1, 'num_boost_round': 80}. Best is trial#22 with value: 1.9517619111111109.\n",
      "[I 2020-08-18 19:35:50,142] Finished trial#39 with value: 2.395551444444445 with parameters: {'lambda': 0, 'alpha': 32.0, 'eta': 0.9, 'subsample': 0.8, 'max_depth': 14, 'min_child_weight': 16, 'colsample_bytree': 0.8, 'colsample_bylevel': 0.9, 'num_boost_round': 90}. Best is trial#22 with value: 1.9517619111111109.\n",
      "[I 2020-08-18 19:37:38,928] Finished trial#40 with value: 2.2306231999999997 with parameters: {'lambda': 1.0, 'alpha': 8.0, 'eta': 0.5, 'subsample': 0.9, 'max_depth': 6, 'min_child_weight': 4, 'colsample_bytree': 0.1, 'colsample_bylevel': 1.0, 'num_boost_round': 10}. Best is trial#22 with value: 1.9517619111111109.\n",
      "[I 2020-08-18 19:39:44,833] Finished trial#41 with value: 2.949871044444445 with parameters: {'lambda': 1024.0, 'alpha': 1.0, 'eta': 0.2, 'subsample': 0.9, 'max_depth': 4, 'min_child_weight': 2, 'colsample_bytree': 0.6, 'colsample_bylevel': 0.1, 'num_boost_round': 20}. Best is trial#22 with value: 1.9517619111111109.\n",
      "[I 2020-08-18 19:58:04,099] Finished trial#42 with value: 2.0790605777777778 with parameters: {'lambda': 0.015625, 'alpha': 0.25, 'eta': 0.30000000000000004, 'subsample': 0.9, 'max_depth': 3, 'min_child_weight': 128, 'colsample_bytree': 0.6, 'colsample_bylevel': 0.6, 'num_boost_round': 100}. Best is trial#22 with value: 1.9517619111111109.\n",
      "[I 2020-08-18 20:10:39,060] Finished trial#43 with value: 2.4648529555555556 with parameters: {'lambda': 0, 'alpha': 16.0, 'eta': 0.30000000000000004, 'subsample': 0.30000000000000004, 'max_depth': 14, 'min_child_weight': 128, 'colsample_bytree': 0.9, 'colsample_bylevel': 0.1, 'num_boost_round': 80}. Best is trial#22 with value: 1.9517619111111109.\n",
      "[I 2020-08-18 20:27:18,945] Finished trial#44 with value: 2.1947227333333332 with parameters: {'lambda': 128.0, 'alpha': 0.0078125, 'eta': 0.6, 'subsample': 0.6, 'max_depth': 4, 'min_child_weight': 128, 'colsample_bytree': 0.5, 'colsample_bylevel': 1.0, 'num_boost_round': 80}. Best is trial#22 with value: 1.9517619111111109.\n",
      "[I 2020-08-18 20:30:14,038] Finished trial#45 with value: 2.3357764 with parameters: {'lambda': 0.125, 'alpha': 64.0, 'eta': 0.5, 'subsample': 0.4, 'max_depth': 13, 'min_child_weight': 32, 'colsample_bytree': 0.1, 'colsample_bylevel': 1.0, 'num_boost_round': 30}. Best is trial#22 with value: 1.9517619111111109.\n",
      "[I 2020-08-18 20:35:40,040] Finished trial#46 with value: 2.387853933333333 with parameters: {'lambda': 1024.0, 'alpha': 1.0, 'eta': 0.6, 'subsample': 0.6, 'max_depth': 2, 'min_child_weight': 64, 'colsample_bytree': 0.4, 'colsample_bylevel': 1.0, 'num_boost_round': 40}. Best is trial#22 with value: 1.9517619111111109.\n",
      "[I 2020-08-18 20:57:20,168] Finished trial#47 with value: 2.0717996 with parameters: {'lambda': 1024.0, 'alpha': 0, 'eta': 1.0, 'subsample': 1.0, 'max_depth': 8, 'min_child_weight': 128, 'colsample_bytree': 0.7000000000000001, 'colsample_bylevel': 0.30000000000000004, 'num_boost_round': 100}. Best is trial#22 with value: 1.9517619111111109.\n"
     ]
    },
    {
     "name": "stderr",
     "output_type": "stream",
     "text": [
      "[I 2020-08-18 21:08:57,304] Finished trial#48 with value: 2.103173111111111 with parameters: {'lambda': 0.25, 'alpha': 0.03125, 'eta': 0.4, 'subsample': 0.9, 'max_depth': 14, 'min_child_weight': 4, 'colsample_bytree': 0.5, 'colsample_bylevel': 0.6, 'num_boost_round': 40}. Best is trial#22 with value: 1.9517619111111109.\n",
      "[I 2020-08-18 21:16:17,990] Finished trial#49 with value: 2.072056622222222 with parameters: {'lambda': 256.0, 'alpha': 0.00390625, 'eta': 0.2, 'subsample': 0.4, 'max_depth': 13, 'min_child_weight': 4, 'colsample_bytree': 0.1, 'colsample_bylevel': 0.7000000000000001, 'num_boost_round': 100}. Best is trial#22 with value: 1.9517619111111109.\n"
     ]
    }
   ],
   "source": [
    "study = optuna.create_study(direction='minimize', sampler=RandomSampler(seed=123))\n",
    "study.optimize(objective, n_trials=50)\n",
    "xgb_rs_result = study.trials_dataframe()"
   ]
  },
  {
   "cell_type": "code",
   "execution_count": 68,
   "metadata": {},
   "outputs": [],
   "source": [
    "xgb_rs_result.to_csv(\"qsar_results/xgb_rs_result.csv\", index=False)"
   ]
  },
  {
   "cell_type": "markdown",
   "metadata": {},
   "source": [
    "# Test"
   ]
  },
  {
   "cell_type": "code",
   "execution_count": 13,
   "metadata": {},
   "outputs": [],
   "source": [
    "# Define the parameter search space\n",
    "start = timeit.default_timer()\n",
    "dval = {\n",
    "    'n_estimators': 500, # \"num.trees\": 500 / \"n_estimators\": 100\n",
    "    'criterion': 'mse',\n",
    "    'bootstrap': True, # replace\n",
    "    'max_samples': None, # sample.fraction\n",
    "    'max_features': 'auto', ### \"mtry\": \"sqrt\" / \"max_features\": \"auto\" ###\n",
    "    'min_samples_leaf': 0.1, # \"min.node.size\" default: 5 / \"min_samples_leaf\": 1\n",
    "    'n_jobs': -1}\n",
    "# Fit the model to each dataset\n",
    "def_result = pd.DataFrame(columns=['rf_rmse'])\n",
    "mlist = []\n",
    "mod = RandomForestRegressor(**dval)\n",
    "for i in range(num_datasets):\n",
    "    num_col = df_list[i].shape[1]\n",
    "    yvec = df_list[i].iloc[:,0:1].values.ravel()\n",
    "    rmse = cross_val_score(mod, df_list[i].iloc[:,1:num_col], yvec, scoring=\"neg_root_mean_squared_error\", \n",
    "                           cv=KFold(n_splits=3, shuffle=True, random_state=123), n_jobs=-1)\n",
    "    mlist.append(abs(rmse).mean())\n",
    "mlist\n",
    "stop = timeit.default_timer()"
   ]
  },
  {
   "cell_type": "code",
   "execution_count": 14,
   "metadata": {},
   "outputs": [
    {
     "name": "stdout",
     "output_type": "stream",
     "text": [
      "Time:  967.6611760390006\n"
     ]
    }
   ],
   "source": [
    "print(\"Time: \", stop-start)"
   ]
  },
  {
   "cell_type": "code",
   "execution_count": 15,
   "metadata": {},
   "outputs": [
    {
     "data": {
      "text/plain": [
       "2.5749039184711418"
      ]
     },
     "execution_count": 15,
     "metadata": {},
     "output_type": "execute_result"
    }
   ],
   "source": [
    "sum(mlist)/len(mlist)"
   ]
  },
  {
   "cell_type": "code",
   "execution_count": 95,
   "metadata": {},
   "outputs": [],
   "source": [
    "maxfeat = [\"auto\", \"sqrt\"]\n",
    "def objective(trial):\n",
    "    mlist = []\n",
    "    param = {\n",
    "        \"n_estimators\": 100,\n",
    "        \"bootstrap\": True,\n",
    "        \"max_features\": trial.suggest_categorical(\"max_features\", maxfeat),\n",
    "        \"min_samples_leaf\": 0.1,\n",
    "        \"n_jobs\": -1}    \n",
    "    if param[\"bootstrap\"] == True:\n",
    "        param[\"max_samples\"] = 0.9999\n",
    "    # fit rf to each dataset    \n",
    "    for i in range(num_datasets):\n",
    "        ncol = df_list[i].shape[1]\n",
    "        yvec = df_list[i].iloc[:,0:1].values.ravel()\n",
    "        mod = RandomForestRegressor(**param)\n",
    "        rmse = cross_val_score(mod, df_list[i].iloc[:,1:ncol], yvec, \n",
    "                               scoring=\"neg_root_mean_squared_error\", \n",
    "                               cv=KFold(n_splits=3, shuffle=True, random_state=123), \n",
    "                               n_jobs=-1)\n",
    "        mlist.append(abs(rmse).mean())\n",
    "    rmse_mean = sum(mlist)/len(mlist)   \n",
    "    return rmse_mean\n",
    "# Count how many points in the search space\n",
    "search_space = {\n",
    "    \"max_features\": maxfeat\n",
    "}"
   ]
  },
  {
   "cell_type": "code",
   "execution_count": 96,
   "metadata": {},
   "outputs": [
    {
     "name": "stderr",
     "output_type": "stream",
     "text": [
      "/Users/seanhong/opt/anaconda3/lib/python3.7/site-packages/optuna/_experimental.py:83: ExperimentalWarning: GridSampler is experimental (supported from v1.2.0). The interface can change in the future.\n",
      "  ExperimentalWarning,\n"
     ]
    },
    {
     "ename": "KeyboardInterrupt",
     "evalue": "",
     "output_type": "error",
     "traceback": [
      "\u001b[0;31m---------------------------------------------------------------------------\u001b[0m",
      "\u001b[0;31mKeyboardInterrupt\u001b[0m                         Traceback (most recent call last)",
      "\u001b[0;32m<ipython-input-96-739aa8efc5c6>\u001b[0m in \u001b[0;36m<module>\u001b[0;34m\u001b[0m\n\u001b[1;32m      1\u001b[0m \u001b[0mstudy\u001b[0m \u001b[0;34m=\u001b[0m \u001b[0moptuna\u001b[0m\u001b[0;34m.\u001b[0m\u001b[0mcreate_study\u001b[0m\u001b[0;34m(\u001b[0m\u001b[0mdirection\u001b[0m\u001b[0;34m=\u001b[0m\u001b[0;34m'minimize'\u001b[0m\u001b[0;34m,\u001b[0m \u001b[0msampler\u001b[0m\u001b[0;34m=\u001b[0m\u001b[0mGridSampler\u001b[0m\u001b[0;34m(\u001b[0m\u001b[0msearch_space\u001b[0m\u001b[0;34m)\u001b[0m\u001b[0;34m)\u001b[0m\u001b[0;34m\u001b[0m\u001b[0;34m\u001b[0m\u001b[0m\n\u001b[0;32m----> 2\u001b[0;31m \u001b[0mstudy\u001b[0m\u001b[0;34m.\u001b[0m\u001b[0moptimize\u001b[0m\u001b[0;34m(\u001b[0m\u001b[0mobjective\u001b[0m\u001b[0;34m,\u001b[0m \u001b[0mn_trials\u001b[0m\u001b[0;34m=\u001b[0m\u001b[0mlen\u001b[0m\u001b[0;34m(\u001b[0m\u001b[0mmaxfeat\u001b[0m\u001b[0;34m)\u001b[0m\u001b[0;34m)\u001b[0m\u001b[0;34m\u001b[0m\u001b[0;34m\u001b[0m\u001b[0m\n\u001b[0m\u001b[1;32m      3\u001b[0m \u001b[0mtest_maxfeat\u001b[0m \u001b[0;34m=\u001b[0m \u001b[0mstudy\u001b[0m\u001b[0;34m.\u001b[0m\u001b[0mtrials_dataframe\u001b[0m\u001b[0;34m(\u001b[0m\u001b[0;34m)\u001b[0m\u001b[0;34m\u001b[0m\u001b[0;34m\u001b[0m\u001b[0m\n",
      "\u001b[0;32m~/opt/anaconda3/lib/python3.7/site-packages/optuna/study.py\u001b[0m in \u001b[0;36moptimize\u001b[0;34m(self, func, n_trials, timeout, n_jobs, catch, callbacks, gc_after_trial, show_progress_bar)\u001b[0m\n\u001b[1;32m    337\u001b[0m             \u001b[0;32mif\u001b[0m \u001b[0mn_jobs\u001b[0m \u001b[0;34m==\u001b[0m \u001b[0;36m1\u001b[0m\u001b[0;34m:\u001b[0m\u001b[0;34m\u001b[0m\u001b[0;34m\u001b[0m\u001b[0m\n\u001b[1;32m    338\u001b[0m                 self._optimize_sequential(\n\u001b[0;32m--> 339\u001b[0;31m                     \u001b[0mfunc\u001b[0m\u001b[0;34m,\u001b[0m \u001b[0mn_trials\u001b[0m\u001b[0;34m,\u001b[0m \u001b[0mtimeout\u001b[0m\u001b[0;34m,\u001b[0m \u001b[0mcatch\u001b[0m\u001b[0;34m,\u001b[0m \u001b[0mcallbacks\u001b[0m\u001b[0;34m,\u001b[0m \u001b[0mgc_after_trial\u001b[0m\u001b[0;34m,\u001b[0m \u001b[0;32mNone\u001b[0m\u001b[0;34m\u001b[0m\u001b[0;34m\u001b[0m\u001b[0m\n\u001b[0m\u001b[1;32m    340\u001b[0m                 )\n\u001b[1;32m    341\u001b[0m             \u001b[0;32melse\u001b[0m\u001b[0;34m:\u001b[0m\u001b[0;34m\u001b[0m\u001b[0;34m\u001b[0m\u001b[0m\n",
      "\u001b[0;32m~/opt/anaconda3/lib/python3.7/site-packages/optuna/study.py\u001b[0m in \u001b[0;36m_optimize_sequential\u001b[0;34m(self, func, n_trials, timeout, catch, callbacks, gc_after_trial, time_start)\u001b[0m\n\u001b[1;32m    680\u001b[0m                     \u001b[0;32mbreak\u001b[0m\u001b[0;34m\u001b[0m\u001b[0;34m\u001b[0m\u001b[0m\n\u001b[1;32m    681\u001b[0m \u001b[0;34m\u001b[0m\u001b[0m\n\u001b[0;32m--> 682\u001b[0;31m             \u001b[0mself\u001b[0m\u001b[0;34m.\u001b[0m\u001b[0m_run_trial_and_callbacks\u001b[0m\u001b[0;34m(\u001b[0m\u001b[0mfunc\u001b[0m\u001b[0;34m,\u001b[0m \u001b[0mcatch\u001b[0m\u001b[0;34m,\u001b[0m \u001b[0mcallbacks\u001b[0m\u001b[0;34m,\u001b[0m \u001b[0mgc_after_trial\u001b[0m\u001b[0;34m)\u001b[0m\u001b[0;34m\u001b[0m\u001b[0;34m\u001b[0m\u001b[0m\n\u001b[0m\u001b[1;32m    683\u001b[0m \u001b[0;34m\u001b[0m\u001b[0m\n\u001b[1;32m    684\u001b[0m             \u001b[0mself\u001b[0m\u001b[0;34m.\u001b[0m\u001b[0m_progress_bar\u001b[0m\u001b[0;34m.\u001b[0m\u001b[0mupdate\u001b[0m\u001b[0;34m(\u001b[0m\u001b[0;34m(\u001b[0m\u001b[0mdatetime\u001b[0m\u001b[0;34m.\u001b[0m\u001b[0mdatetime\u001b[0m\u001b[0;34m.\u001b[0m\u001b[0mnow\u001b[0m\u001b[0;34m(\u001b[0m\u001b[0;34m)\u001b[0m \u001b[0;34m-\u001b[0m \u001b[0mtime_start\u001b[0m\u001b[0;34m)\u001b[0m\u001b[0;34m.\u001b[0m\u001b[0mtotal_seconds\u001b[0m\u001b[0;34m(\u001b[0m\u001b[0;34m)\u001b[0m\u001b[0;34m)\u001b[0m\u001b[0;34m\u001b[0m\u001b[0;34m\u001b[0m\u001b[0m\n",
      "\u001b[0;32m~/opt/anaconda3/lib/python3.7/site-packages/optuna/study.py\u001b[0m in \u001b[0;36m_run_trial_and_callbacks\u001b[0;34m(self, func, catch, callbacks, gc_after_trial)\u001b[0m\n\u001b[1;32m    711\u001b[0m         \u001b[0;31m# type: (...) -> None\u001b[0m\u001b[0;34m\u001b[0m\u001b[0;34m\u001b[0m\u001b[0;34m\u001b[0m\u001b[0m\n\u001b[1;32m    712\u001b[0m \u001b[0;34m\u001b[0m\u001b[0m\n\u001b[0;32m--> 713\u001b[0;31m         \u001b[0mtrial\u001b[0m \u001b[0;34m=\u001b[0m \u001b[0mself\u001b[0m\u001b[0;34m.\u001b[0m\u001b[0m_run_trial\u001b[0m\u001b[0;34m(\u001b[0m\u001b[0mfunc\u001b[0m\u001b[0;34m,\u001b[0m \u001b[0mcatch\u001b[0m\u001b[0;34m,\u001b[0m \u001b[0mgc_after_trial\u001b[0m\u001b[0;34m)\u001b[0m\u001b[0;34m\u001b[0m\u001b[0;34m\u001b[0m\u001b[0m\n\u001b[0m\u001b[1;32m    714\u001b[0m         \u001b[0;32mif\u001b[0m \u001b[0mcallbacks\u001b[0m \u001b[0;32mis\u001b[0m \u001b[0;32mnot\u001b[0m \u001b[0;32mNone\u001b[0m\u001b[0;34m:\u001b[0m\u001b[0;34m\u001b[0m\u001b[0;34m\u001b[0m\u001b[0m\n\u001b[1;32m    715\u001b[0m             \u001b[0mfrozen_trial\u001b[0m \u001b[0;34m=\u001b[0m \u001b[0mcopy\u001b[0m\u001b[0;34m.\u001b[0m\u001b[0mdeepcopy\u001b[0m\u001b[0;34m(\u001b[0m\u001b[0mself\u001b[0m\u001b[0;34m.\u001b[0m\u001b[0m_storage\u001b[0m\u001b[0;34m.\u001b[0m\u001b[0mget_trial\u001b[0m\u001b[0;34m(\u001b[0m\u001b[0mtrial\u001b[0m\u001b[0;34m.\u001b[0m\u001b[0m_trial_id\u001b[0m\u001b[0;34m)\u001b[0m\u001b[0;34m)\u001b[0m\u001b[0;34m\u001b[0m\u001b[0;34m\u001b[0m\u001b[0m\n",
      "\u001b[0;32m~/opt/anaconda3/lib/python3.7/site-packages/optuna/study.py\u001b[0m in \u001b[0;36m_run_trial\u001b[0;34m(self, func, catch, gc_after_trial)\u001b[0m\n\u001b[1;32m    732\u001b[0m \u001b[0;34m\u001b[0m\u001b[0m\n\u001b[1;32m    733\u001b[0m         \u001b[0;32mtry\u001b[0m\u001b[0;34m:\u001b[0m\u001b[0;34m\u001b[0m\u001b[0;34m\u001b[0m\u001b[0m\n\u001b[0;32m--> 734\u001b[0;31m             \u001b[0mresult\u001b[0m \u001b[0;34m=\u001b[0m \u001b[0mfunc\u001b[0m\u001b[0;34m(\u001b[0m\u001b[0mtrial\u001b[0m\u001b[0;34m)\u001b[0m\u001b[0;34m\u001b[0m\u001b[0;34m\u001b[0m\u001b[0m\n\u001b[0m\u001b[1;32m    735\u001b[0m         \u001b[0;32mexcept\u001b[0m \u001b[0mexceptions\u001b[0m\u001b[0;34m.\u001b[0m\u001b[0mTrialPruned\u001b[0m \u001b[0;32mas\u001b[0m \u001b[0me\u001b[0m\u001b[0;34m:\u001b[0m\u001b[0;34m\u001b[0m\u001b[0;34m\u001b[0m\u001b[0m\n\u001b[1;32m    736\u001b[0m             message = \"Setting status of trial#{} as {}. {}\".format(\n",
      "\u001b[0;32m<ipython-input-95-290c86756864>\u001b[0m in \u001b[0;36mobjective\u001b[0;34m(trial)\u001b[0m\n\u001b[1;32m     18\u001b[0m                                \u001b[0mscoring\u001b[0m\u001b[0;34m=\u001b[0m\u001b[0;34m\"neg_root_mean_squared_error\"\u001b[0m\u001b[0;34m,\u001b[0m\u001b[0;34m\u001b[0m\u001b[0;34m\u001b[0m\u001b[0m\n\u001b[1;32m     19\u001b[0m                                \u001b[0mcv\u001b[0m\u001b[0;34m=\u001b[0m\u001b[0mKFold\u001b[0m\u001b[0;34m(\u001b[0m\u001b[0mn_splits\u001b[0m\u001b[0;34m=\u001b[0m\u001b[0;36m3\u001b[0m\u001b[0;34m,\u001b[0m \u001b[0mshuffle\u001b[0m\u001b[0;34m=\u001b[0m\u001b[0;32mTrue\u001b[0m\u001b[0;34m,\u001b[0m \u001b[0mrandom_state\u001b[0m\u001b[0;34m=\u001b[0m\u001b[0;36m123\u001b[0m\u001b[0;34m)\u001b[0m\u001b[0;34m,\u001b[0m\u001b[0;34m\u001b[0m\u001b[0;34m\u001b[0m\u001b[0m\n\u001b[0;32m---> 20\u001b[0;31m                                n_jobs=-1)\n\u001b[0m\u001b[1;32m     21\u001b[0m         \u001b[0mmlist\u001b[0m\u001b[0;34m.\u001b[0m\u001b[0mappend\u001b[0m\u001b[0;34m(\u001b[0m\u001b[0mabs\u001b[0m\u001b[0;34m(\u001b[0m\u001b[0mrmse\u001b[0m\u001b[0;34m)\u001b[0m\u001b[0;34m.\u001b[0m\u001b[0mmean\u001b[0m\u001b[0;34m(\u001b[0m\u001b[0;34m)\u001b[0m\u001b[0;34m)\u001b[0m\u001b[0;34m\u001b[0m\u001b[0;34m\u001b[0m\u001b[0m\n\u001b[1;32m     22\u001b[0m     \u001b[0mrmse_mean\u001b[0m \u001b[0;34m=\u001b[0m \u001b[0msum\u001b[0m\u001b[0;34m(\u001b[0m\u001b[0mmlist\u001b[0m\u001b[0;34m)\u001b[0m\u001b[0;34m/\u001b[0m\u001b[0mlen\u001b[0m\u001b[0;34m(\u001b[0m\u001b[0mmlist\u001b[0m\u001b[0;34m)\u001b[0m\u001b[0;34m\u001b[0m\u001b[0;34m\u001b[0m\u001b[0m\n",
      "\u001b[0;32m~/opt/anaconda3/lib/python3.7/site-packages/sklearn/utils/validation.py\u001b[0m in \u001b[0;36minner_f\u001b[0;34m(*args, **kwargs)\u001b[0m\n\u001b[1;32m     71\u001b[0m                           FutureWarning)\n\u001b[1;32m     72\u001b[0m         \u001b[0mkwargs\u001b[0m\u001b[0;34m.\u001b[0m\u001b[0mupdate\u001b[0m\u001b[0;34m(\u001b[0m\u001b[0;34m{\u001b[0m\u001b[0mk\u001b[0m\u001b[0;34m:\u001b[0m \u001b[0marg\u001b[0m \u001b[0;32mfor\u001b[0m \u001b[0mk\u001b[0m\u001b[0;34m,\u001b[0m \u001b[0marg\u001b[0m \u001b[0;32min\u001b[0m \u001b[0mzip\u001b[0m\u001b[0;34m(\u001b[0m\u001b[0msig\u001b[0m\u001b[0;34m.\u001b[0m\u001b[0mparameters\u001b[0m\u001b[0;34m,\u001b[0m \u001b[0margs\u001b[0m\u001b[0;34m)\u001b[0m\u001b[0;34m}\u001b[0m\u001b[0;34m)\u001b[0m\u001b[0;34m\u001b[0m\u001b[0;34m\u001b[0m\u001b[0m\n\u001b[0;32m---> 73\u001b[0;31m         \u001b[0;32mreturn\u001b[0m \u001b[0mf\u001b[0m\u001b[0;34m(\u001b[0m\u001b[0;34m**\u001b[0m\u001b[0mkwargs\u001b[0m\u001b[0;34m)\u001b[0m\u001b[0;34m\u001b[0m\u001b[0;34m\u001b[0m\u001b[0m\n\u001b[0m\u001b[1;32m     74\u001b[0m     \u001b[0;32mreturn\u001b[0m \u001b[0minner_f\u001b[0m\u001b[0;34m\u001b[0m\u001b[0;34m\u001b[0m\u001b[0m\n\u001b[1;32m     75\u001b[0m \u001b[0;34m\u001b[0m\u001b[0m\n",
      "\u001b[0;32m~/opt/anaconda3/lib/python3.7/site-packages/sklearn/model_selection/_validation.py\u001b[0m in \u001b[0;36mcross_val_score\u001b[0;34m(estimator, X, y, groups, scoring, cv, n_jobs, verbose, fit_params, pre_dispatch, error_score)\u001b[0m\n\u001b[1;32m    404\u001b[0m                                 \u001b[0mfit_params\u001b[0m\u001b[0;34m=\u001b[0m\u001b[0mfit_params\u001b[0m\u001b[0;34m,\u001b[0m\u001b[0;34m\u001b[0m\u001b[0;34m\u001b[0m\u001b[0m\n\u001b[1;32m    405\u001b[0m                                 \u001b[0mpre_dispatch\u001b[0m\u001b[0;34m=\u001b[0m\u001b[0mpre_dispatch\u001b[0m\u001b[0;34m,\u001b[0m\u001b[0;34m\u001b[0m\u001b[0;34m\u001b[0m\u001b[0m\n\u001b[0;32m--> 406\u001b[0;31m                                 error_score=error_score)\n\u001b[0m\u001b[1;32m    407\u001b[0m     \u001b[0;32mreturn\u001b[0m \u001b[0mcv_results\u001b[0m\u001b[0;34m[\u001b[0m\u001b[0;34m'test_score'\u001b[0m\u001b[0;34m]\u001b[0m\u001b[0;34m\u001b[0m\u001b[0;34m\u001b[0m\u001b[0m\n\u001b[1;32m    408\u001b[0m \u001b[0;34m\u001b[0m\u001b[0m\n",
      "\u001b[0;32m~/opt/anaconda3/lib/python3.7/site-packages/sklearn/utils/validation.py\u001b[0m in \u001b[0;36minner_f\u001b[0;34m(*args, **kwargs)\u001b[0m\n\u001b[1;32m     71\u001b[0m                           FutureWarning)\n\u001b[1;32m     72\u001b[0m         \u001b[0mkwargs\u001b[0m\u001b[0;34m.\u001b[0m\u001b[0mupdate\u001b[0m\u001b[0;34m(\u001b[0m\u001b[0;34m{\u001b[0m\u001b[0mk\u001b[0m\u001b[0;34m:\u001b[0m \u001b[0marg\u001b[0m \u001b[0;32mfor\u001b[0m \u001b[0mk\u001b[0m\u001b[0;34m,\u001b[0m \u001b[0marg\u001b[0m \u001b[0;32min\u001b[0m \u001b[0mzip\u001b[0m\u001b[0;34m(\u001b[0m\u001b[0msig\u001b[0m\u001b[0;34m.\u001b[0m\u001b[0mparameters\u001b[0m\u001b[0;34m,\u001b[0m \u001b[0margs\u001b[0m\u001b[0;34m)\u001b[0m\u001b[0;34m}\u001b[0m\u001b[0;34m)\u001b[0m\u001b[0;34m\u001b[0m\u001b[0;34m\u001b[0m\u001b[0m\n\u001b[0;32m---> 73\u001b[0;31m         \u001b[0;32mreturn\u001b[0m \u001b[0mf\u001b[0m\u001b[0;34m(\u001b[0m\u001b[0;34m**\u001b[0m\u001b[0mkwargs\u001b[0m\u001b[0;34m)\u001b[0m\u001b[0;34m\u001b[0m\u001b[0;34m\u001b[0m\u001b[0m\n\u001b[0m\u001b[1;32m     74\u001b[0m     \u001b[0;32mreturn\u001b[0m \u001b[0minner_f\u001b[0m\u001b[0;34m\u001b[0m\u001b[0;34m\u001b[0m\u001b[0m\n\u001b[1;32m     75\u001b[0m \u001b[0;34m\u001b[0m\u001b[0m\n",
      "\u001b[0;32m~/opt/anaconda3/lib/python3.7/site-packages/sklearn/model_selection/_validation.py\u001b[0m in \u001b[0;36mcross_validate\u001b[0;34m(estimator, X, y, groups, scoring, cv, n_jobs, verbose, fit_params, pre_dispatch, return_train_score, return_estimator, error_score)\u001b[0m\n\u001b[1;32m    246\u001b[0m             \u001b[0mreturn_times\u001b[0m\u001b[0;34m=\u001b[0m\u001b[0;32mTrue\u001b[0m\u001b[0;34m,\u001b[0m \u001b[0mreturn_estimator\u001b[0m\u001b[0;34m=\u001b[0m\u001b[0mreturn_estimator\u001b[0m\u001b[0;34m,\u001b[0m\u001b[0;34m\u001b[0m\u001b[0;34m\u001b[0m\u001b[0m\n\u001b[1;32m    247\u001b[0m             error_score=error_score)\n\u001b[0;32m--> 248\u001b[0;31m         for train, test in cv.split(X, y, groups))\n\u001b[0m\u001b[1;32m    249\u001b[0m \u001b[0;34m\u001b[0m\u001b[0m\n\u001b[1;32m    250\u001b[0m     \u001b[0mzipped_scores\u001b[0m \u001b[0;34m=\u001b[0m \u001b[0mlist\u001b[0m\u001b[0;34m(\u001b[0m\u001b[0mzip\u001b[0m\u001b[0;34m(\u001b[0m\u001b[0;34m*\u001b[0m\u001b[0mscores\u001b[0m\u001b[0;34m)\u001b[0m\u001b[0;34m)\u001b[0m\u001b[0;34m\u001b[0m\u001b[0;34m\u001b[0m\u001b[0m\n",
      "\u001b[0;32m~/opt/anaconda3/lib/python3.7/site-packages/joblib/parallel.py\u001b[0m in \u001b[0;36m__call__\u001b[0;34m(self, iterable)\u001b[0m\n\u001b[1;32m   1015\u001b[0m \u001b[0;34m\u001b[0m\u001b[0m\n\u001b[1;32m   1016\u001b[0m             \u001b[0;32mwith\u001b[0m \u001b[0mself\u001b[0m\u001b[0;34m.\u001b[0m\u001b[0m_backend\u001b[0m\u001b[0;34m.\u001b[0m\u001b[0mretrieval_context\u001b[0m\u001b[0;34m(\u001b[0m\u001b[0;34m)\u001b[0m\u001b[0;34m:\u001b[0m\u001b[0;34m\u001b[0m\u001b[0;34m\u001b[0m\u001b[0m\n\u001b[0;32m-> 1017\u001b[0;31m                 \u001b[0mself\u001b[0m\u001b[0;34m.\u001b[0m\u001b[0mretrieve\u001b[0m\u001b[0;34m(\u001b[0m\u001b[0;34m)\u001b[0m\u001b[0;34m\u001b[0m\u001b[0;34m\u001b[0m\u001b[0m\n\u001b[0m\u001b[1;32m   1018\u001b[0m             \u001b[0;31m# Make sure that we get a last message telling us we are done\u001b[0m\u001b[0;34m\u001b[0m\u001b[0;34m\u001b[0m\u001b[0;34m\u001b[0m\u001b[0m\n\u001b[1;32m   1019\u001b[0m             \u001b[0melapsed_time\u001b[0m \u001b[0;34m=\u001b[0m \u001b[0mtime\u001b[0m\u001b[0;34m.\u001b[0m\u001b[0mtime\u001b[0m\u001b[0;34m(\u001b[0m\u001b[0;34m)\u001b[0m \u001b[0;34m-\u001b[0m \u001b[0mself\u001b[0m\u001b[0;34m.\u001b[0m\u001b[0m_start_time\u001b[0m\u001b[0;34m\u001b[0m\u001b[0;34m\u001b[0m\u001b[0m\n",
      "\u001b[0;32m~/opt/anaconda3/lib/python3.7/site-packages/joblib/parallel.py\u001b[0m in \u001b[0;36mretrieve\u001b[0;34m(self)\u001b[0m\n\u001b[1;32m    907\u001b[0m             \u001b[0;32mtry\u001b[0m\u001b[0;34m:\u001b[0m\u001b[0;34m\u001b[0m\u001b[0;34m\u001b[0m\u001b[0m\n\u001b[1;32m    908\u001b[0m                 \u001b[0;32mif\u001b[0m \u001b[0mgetattr\u001b[0m\u001b[0;34m(\u001b[0m\u001b[0mself\u001b[0m\u001b[0;34m.\u001b[0m\u001b[0m_backend\u001b[0m\u001b[0;34m,\u001b[0m \u001b[0;34m'supports_timeout'\u001b[0m\u001b[0;34m,\u001b[0m \u001b[0;32mFalse\u001b[0m\u001b[0;34m)\u001b[0m\u001b[0;34m:\u001b[0m\u001b[0;34m\u001b[0m\u001b[0;34m\u001b[0m\u001b[0m\n\u001b[0;32m--> 909\u001b[0;31m                     \u001b[0mself\u001b[0m\u001b[0;34m.\u001b[0m\u001b[0m_output\u001b[0m\u001b[0;34m.\u001b[0m\u001b[0mextend\u001b[0m\u001b[0;34m(\u001b[0m\u001b[0mjob\u001b[0m\u001b[0;34m.\u001b[0m\u001b[0mget\u001b[0m\u001b[0;34m(\u001b[0m\u001b[0mtimeout\u001b[0m\u001b[0;34m=\u001b[0m\u001b[0mself\u001b[0m\u001b[0;34m.\u001b[0m\u001b[0mtimeout\u001b[0m\u001b[0;34m)\u001b[0m\u001b[0;34m)\u001b[0m\u001b[0;34m\u001b[0m\u001b[0;34m\u001b[0m\u001b[0m\n\u001b[0m\u001b[1;32m    910\u001b[0m                 \u001b[0;32melse\u001b[0m\u001b[0;34m:\u001b[0m\u001b[0;34m\u001b[0m\u001b[0;34m\u001b[0m\u001b[0m\n\u001b[1;32m    911\u001b[0m                     \u001b[0mself\u001b[0m\u001b[0;34m.\u001b[0m\u001b[0m_output\u001b[0m\u001b[0;34m.\u001b[0m\u001b[0mextend\u001b[0m\u001b[0;34m(\u001b[0m\u001b[0mjob\u001b[0m\u001b[0;34m.\u001b[0m\u001b[0mget\u001b[0m\u001b[0;34m(\u001b[0m\u001b[0;34m)\u001b[0m\u001b[0;34m)\u001b[0m\u001b[0;34m\u001b[0m\u001b[0;34m\u001b[0m\u001b[0m\n",
      "\u001b[0;32m~/opt/anaconda3/lib/python3.7/site-packages/joblib/_parallel_backends.py\u001b[0m in \u001b[0;36mwrap_future_result\u001b[0;34m(future, timeout)\u001b[0m\n\u001b[1;32m    560\u001b[0m         AsyncResults.get from multiprocessing.\"\"\"\n\u001b[1;32m    561\u001b[0m         \u001b[0;32mtry\u001b[0m\u001b[0;34m:\u001b[0m\u001b[0;34m\u001b[0m\u001b[0;34m\u001b[0m\u001b[0m\n\u001b[0;32m--> 562\u001b[0;31m             \u001b[0;32mreturn\u001b[0m \u001b[0mfuture\u001b[0m\u001b[0;34m.\u001b[0m\u001b[0mresult\u001b[0m\u001b[0;34m(\u001b[0m\u001b[0mtimeout\u001b[0m\u001b[0;34m=\u001b[0m\u001b[0mtimeout\u001b[0m\u001b[0;34m)\u001b[0m\u001b[0;34m\u001b[0m\u001b[0;34m\u001b[0m\u001b[0m\n\u001b[0m\u001b[1;32m    563\u001b[0m         \u001b[0;32mexcept\u001b[0m \u001b[0mLokyTimeoutError\u001b[0m\u001b[0;34m:\u001b[0m\u001b[0;34m\u001b[0m\u001b[0;34m\u001b[0m\u001b[0m\n\u001b[1;32m    564\u001b[0m             \u001b[0;32mraise\u001b[0m \u001b[0mTimeoutError\u001b[0m\u001b[0;34m(\u001b[0m\u001b[0;34m)\u001b[0m\u001b[0;34m\u001b[0m\u001b[0;34m\u001b[0m\u001b[0m\n",
      "\u001b[0;32m~/opt/anaconda3/lib/python3.7/concurrent/futures/_base.py\u001b[0m in \u001b[0;36mresult\u001b[0;34m(self, timeout)\u001b[0m\n\u001b[1;32m    428\u001b[0m                 \u001b[0;32mreturn\u001b[0m \u001b[0mself\u001b[0m\u001b[0;34m.\u001b[0m\u001b[0m__get_result\u001b[0m\u001b[0;34m(\u001b[0m\u001b[0;34m)\u001b[0m\u001b[0;34m\u001b[0m\u001b[0;34m\u001b[0m\u001b[0m\n\u001b[1;32m    429\u001b[0m \u001b[0;34m\u001b[0m\u001b[0m\n\u001b[0;32m--> 430\u001b[0;31m             \u001b[0mself\u001b[0m\u001b[0;34m.\u001b[0m\u001b[0m_condition\u001b[0m\u001b[0;34m.\u001b[0m\u001b[0mwait\u001b[0m\u001b[0;34m(\u001b[0m\u001b[0mtimeout\u001b[0m\u001b[0;34m)\u001b[0m\u001b[0;34m\u001b[0m\u001b[0;34m\u001b[0m\u001b[0m\n\u001b[0m\u001b[1;32m    431\u001b[0m \u001b[0;34m\u001b[0m\u001b[0m\n\u001b[1;32m    432\u001b[0m             \u001b[0;32mif\u001b[0m \u001b[0mself\u001b[0m\u001b[0;34m.\u001b[0m\u001b[0m_state\u001b[0m \u001b[0;32min\u001b[0m \u001b[0;34m[\u001b[0m\u001b[0mCANCELLED\u001b[0m\u001b[0;34m,\u001b[0m \u001b[0mCANCELLED_AND_NOTIFIED\u001b[0m\u001b[0;34m]\u001b[0m\u001b[0;34m:\u001b[0m\u001b[0;34m\u001b[0m\u001b[0;34m\u001b[0m\u001b[0m\n",
      "\u001b[0;32m~/opt/anaconda3/lib/python3.7/threading.py\u001b[0m in \u001b[0;36mwait\u001b[0;34m(self, timeout)\u001b[0m\n\u001b[1;32m    294\u001b[0m         \u001b[0;32mtry\u001b[0m\u001b[0;34m:\u001b[0m    \u001b[0;31m# restore state no matter what (e.g., KeyboardInterrupt)\u001b[0m\u001b[0;34m\u001b[0m\u001b[0;34m\u001b[0m\u001b[0m\n\u001b[1;32m    295\u001b[0m             \u001b[0;32mif\u001b[0m \u001b[0mtimeout\u001b[0m \u001b[0;32mis\u001b[0m \u001b[0;32mNone\u001b[0m\u001b[0;34m:\u001b[0m\u001b[0;34m\u001b[0m\u001b[0;34m\u001b[0m\u001b[0m\n\u001b[0;32m--> 296\u001b[0;31m                 \u001b[0mwaiter\u001b[0m\u001b[0;34m.\u001b[0m\u001b[0macquire\u001b[0m\u001b[0;34m(\u001b[0m\u001b[0;34m)\u001b[0m\u001b[0;34m\u001b[0m\u001b[0;34m\u001b[0m\u001b[0m\n\u001b[0m\u001b[1;32m    297\u001b[0m                 \u001b[0mgotit\u001b[0m \u001b[0;34m=\u001b[0m \u001b[0;32mTrue\u001b[0m\u001b[0;34m\u001b[0m\u001b[0;34m\u001b[0m\u001b[0m\n\u001b[1;32m    298\u001b[0m             \u001b[0;32melse\u001b[0m\u001b[0;34m:\u001b[0m\u001b[0;34m\u001b[0m\u001b[0;34m\u001b[0m\u001b[0m\n",
      "\u001b[0;31mKeyboardInterrupt\u001b[0m: "
     ]
    }
   ],
   "source": [
    "study = optuna.create_study(direction='minimize', sampler=GridSampler(search_space))\n",
    "study.optimize(objective, n_trials=len(maxfeat))\n",
    "test_maxfeat = study.trials_dataframe()"
   ]
  },
  {
   "cell_type": "code",
   "execution_count": null,
   "metadata": {},
   "outputs": [],
   "source": []
  },
  {
   "cell_type": "markdown",
   "metadata": {},
   "source": [
    "## Test xgb"
   ]
  },
  {
   "cell_type": "code",
   "execution_count": 39,
   "metadata": {},
   "outputs": [],
   "source": [
    "# Define the parameter search space\n",
    "start = timeit.default_timer()\n",
    "# Define the parameter search space\n",
    "dval = {\n",
    "    \"booster\": \"gbtree\",\n",
    "    \"lambda\": 1,\n",
    "    \"alpha\": 0,\n",
    "    \"eta\": 0.3,\n",
    "    \"subsample\": 1,\n",
    "    \"max_depth\": 6,\n",
    "    \"min_child_weight\": 1,\n",
    "    \"colsample_bytree\": 1,\n",
    "    \"colsample_bylevel\": 1\n",
    "}\n",
    "n_boost = 100\n",
    "# Fit the model to each dataset\n",
    "mlist = []\n",
    "for i in range(num_datasets):\n",
    "    bst = xgb.cv(dval, dmat_list[i], num_boost_round=n_boost, nfold=3, metrics='rmse', seed=123, shuffle=True)\n",
    "    mlist.append(bst.iloc[len(bst.index)-1, 2])\n",
    "stop = timeit.default_timer()"
   ]
  },
  {
   "cell_type": "code",
   "execution_count": 40,
   "metadata": {},
   "outputs": [
    {
     "name": "stdout",
     "output_type": "stream",
     "text": [
      "Time:  408.46654528299405\n"
     ]
    }
   ],
   "source": [
    "print(\"Time: \", stop-start)"
   ]
  },
  {
   "cell_type": "code",
   "execution_count": 41,
   "metadata": {},
   "outputs": [
    {
     "data": {
      "text/plain": [
       "2.073823422222222"
      ]
     },
     "execution_count": 41,
     "metadata": {},
     "output_type": "execute_result"
    }
   ],
   "source": [
    "sum(mlist)/len(mlist)"
   ]
  },
  {
   "cell_type": "code",
   "execution_count": 48,
   "metadata": {},
   "outputs": [
    {
     "ename": "KeyboardInterrupt",
     "evalue": "",
     "output_type": "error",
     "traceback": [
      "\u001b[0;31m---------------------------------------------------------------------------\u001b[0m",
      "\u001b[0;31mKeyboardInterrupt\u001b[0m                         Traceback (most recent call last)",
      "\u001b[0;32m<ipython-input-48-3898bf2721b1>\u001b[0m in \u001b[0;36m<module>\u001b[0;34m\u001b[0m\n\u001b[1;32m     22\u001b[0m     \u001b[0myvec\u001b[0m \u001b[0;34m=\u001b[0m \u001b[0mdf_list\u001b[0m\u001b[0;34m[\u001b[0m\u001b[0mi\u001b[0m\u001b[0;34m]\u001b[0m\u001b[0;34m.\u001b[0m\u001b[0miloc\u001b[0m\u001b[0;34m[\u001b[0m\u001b[0;34m:\u001b[0m\u001b[0;34m,\u001b[0m\u001b[0;36m0\u001b[0m\u001b[0;34m:\u001b[0m\u001b[0;36m1\u001b[0m\u001b[0;34m]\u001b[0m\u001b[0;34m.\u001b[0m\u001b[0mvalues\u001b[0m\u001b[0;34m.\u001b[0m\u001b[0mravel\u001b[0m\u001b[0;34m(\u001b[0m\u001b[0;34m)\u001b[0m\u001b[0;34m\u001b[0m\u001b[0;34m\u001b[0m\u001b[0m\n\u001b[1;32m     23\u001b[0m     rmse = cross_val_score(mod, df_list[i].iloc[:,1:num_col], yvec, scoring=\"neg_root_mean_squared_error\", \n\u001b[0;32m---> 24\u001b[0;31m                            cv=KFold(n_splits=3, shuffle=True, random_state=123), n_jobs=-1)\n\u001b[0m\u001b[1;32m     25\u001b[0m     \u001b[0mmlist\u001b[0m\u001b[0;34m.\u001b[0m\u001b[0mappend\u001b[0m\u001b[0;34m(\u001b[0m\u001b[0mabs\u001b[0m\u001b[0;34m(\u001b[0m\u001b[0mrmse\u001b[0m\u001b[0;34m)\u001b[0m\u001b[0;34m.\u001b[0m\u001b[0mmean\u001b[0m\u001b[0;34m(\u001b[0m\u001b[0;34m)\u001b[0m\u001b[0;34m)\u001b[0m\u001b[0;34m\u001b[0m\u001b[0;34m\u001b[0m\u001b[0m\n\u001b[1;32m     26\u001b[0m \u001b[0mmlist\u001b[0m\u001b[0;34m\u001b[0m\u001b[0;34m\u001b[0m\u001b[0m\n",
      "\u001b[0;32m~/opt/anaconda3/lib/python3.7/site-packages/sklearn/utils/validation.py\u001b[0m in \u001b[0;36minner_f\u001b[0;34m(*args, **kwargs)\u001b[0m\n\u001b[1;32m     71\u001b[0m                           FutureWarning)\n\u001b[1;32m     72\u001b[0m         \u001b[0mkwargs\u001b[0m\u001b[0;34m.\u001b[0m\u001b[0mupdate\u001b[0m\u001b[0;34m(\u001b[0m\u001b[0;34m{\u001b[0m\u001b[0mk\u001b[0m\u001b[0;34m:\u001b[0m \u001b[0marg\u001b[0m \u001b[0;32mfor\u001b[0m \u001b[0mk\u001b[0m\u001b[0;34m,\u001b[0m \u001b[0marg\u001b[0m \u001b[0;32min\u001b[0m \u001b[0mzip\u001b[0m\u001b[0;34m(\u001b[0m\u001b[0msig\u001b[0m\u001b[0;34m.\u001b[0m\u001b[0mparameters\u001b[0m\u001b[0;34m,\u001b[0m \u001b[0margs\u001b[0m\u001b[0;34m)\u001b[0m\u001b[0;34m}\u001b[0m\u001b[0;34m)\u001b[0m\u001b[0;34m\u001b[0m\u001b[0;34m\u001b[0m\u001b[0m\n\u001b[0;32m---> 73\u001b[0;31m         \u001b[0;32mreturn\u001b[0m \u001b[0mf\u001b[0m\u001b[0;34m(\u001b[0m\u001b[0;34m**\u001b[0m\u001b[0mkwargs\u001b[0m\u001b[0;34m)\u001b[0m\u001b[0;34m\u001b[0m\u001b[0;34m\u001b[0m\u001b[0m\n\u001b[0m\u001b[1;32m     74\u001b[0m     \u001b[0;32mreturn\u001b[0m \u001b[0minner_f\u001b[0m\u001b[0;34m\u001b[0m\u001b[0;34m\u001b[0m\u001b[0m\n\u001b[1;32m     75\u001b[0m \u001b[0;34m\u001b[0m\u001b[0m\n",
      "\u001b[0;32m~/opt/anaconda3/lib/python3.7/site-packages/sklearn/model_selection/_validation.py\u001b[0m in \u001b[0;36mcross_val_score\u001b[0;34m(estimator, X, y, groups, scoring, cv, n_jobs, verbose, fit_params, pre_dispatch, error_score)\u001b[0m\n\u001b[1;32m    404\u001b[0m                                 \u001b[0mfit_params\u001b[0m\u001b[0;34m=\u001b[0m\u001b[0mfit_params\u001b[0m\u001b[0;34m,\u001b[0m\u001b[0;34m\u001b[0m\u001b[0;34m\u001b[0m\u001b[0m\n\u001b[1;32m    405\u001b[0m                                 \u001b[0mpre_dispatch\u001b[0m\u001b[0;34m=\u001b[0m\u001b[0mpre_dispatch\u001b[0m\u001b[0;34m,\u001b[0m\u001b[0;34m\u001b[0m\u001b[0;34m\u001b[0m\u001b[0m\n\u001b[0;32m--> 406\u001b[0;31m                                 error_score=error_score)\n\u001b[0m\u001b[1;32m    407\u001b[0m     \u001b[0;32mreturn\u001b[0m \u001b[0mcv_results\u001b[0m\u001b[0;34m[\u001b[0m\u001b[0;34m'test_score'\u001b[0m\u001b[0;34m]\u001b[0m\u001b[0;34m\u001b[0m\u001b[0;34m\u001b[0m\u001b[0m\n\u001b[1;32m    408\u001b[0m \u001b[0;34m\u001b[0m\u001b[0m\n",
      "\u001b[0;32m~/opt/anaconda3/lib/python3.7/site-packages/sklearn/utils/validation.py\u001b[0m in \u001b[0;36minner_f\u001b[0;34m(*args, **kwargs)\u001b[0m\n\u001b[1;32m     71\u001b[0m                           FutureWarning)\n\u001b[1;32m     72\u001b[0m         \u001b[0mkwargs\u001b[0m\u001b[0;34m.\u001b[0m\u001b[0mupdate\u001b[0m\u001b[0;34m(\u001b[0m\u001b[0;34m{\u001b[0m\u001b[0mk\u001b[0m\u001b[0;34m:\u001b[0m \u001b[0marg\u001b[0m \u001b[0;32mfor\u001b[0m \u001b[0mk\u001b[0m\u001b[0;34m,\u001b[0m \u001b[0marg\u001b[0m \u001b[0;32min\u001b[0m \u001b[0mzip\u001b[0m\u001b[0;34m(\u001b[0m\u001b[0msig\u001b[0m\u001b[0;34m.\u001b[0m\u001b[0mparameters\u001b[0m\u001b[0;34m,\u001b[0m \u001b[0margs\u001b[0m\u001b[0;34m)\u001b[0m\u001b[0;34m}\u001b[0m\u001b[0;34m)\u001b[0m\u001b[0;34m\u001b[0m\u001b[0;34m\u001b[0m\u001b[0m\n\u001b[0;32m---> 73\u001b[0;31m         \u001b[0;32mreturn\u001b[0m \u001b[0mf\u001b[0m\u001b[0;34m(\u001b[0m\u001b[0;34m**\u001b[0m\u001b[0mkwargs\u001b[0m\u001b[0;34m)\u001b[0m\u001b[0;34m\u001b[0m\u001b[0;34m\u001b[0m\u001b[0m\n\u001b[0m\u001b[1;32m     74\u001b[0m     \u001b[0;32mreturn\u001b[0m \u001b[0minner_f\u001b[0m\u001b[0;34m\u001b[0m\u001b[0;34m\u001b[0m\u001b[0m\n\u001b[1;32m     75\u001b[0m \u001b[0;34m\u001b[0m\u001b[0m\n",
      "\u001b[0;32m~/opt/anaconda3/lib/python3.7/site-packages/sklearn/model_selection/_validation.py\u001b[0m in \u001b[0;36mcross_validate\u001b[0;34m(estimator, X, y, groups, scoring, cv, n_jobs, verbose, fit_params, pre_dispatch, return_train_score, return_estimator, error_score)\u001b[0m\n\u001b[1;32m    246\u001b[0m             \u001b[0mreturn_times\u001b[0m\u001b[0;34m=\u001b[0m\u001b[0;32mTrue\u001b[0m\u001b[0;34m,\u001b[0m \u001b[0mreturn_estimator\u001b[0m\u001b[0;34m=\u001b[0m\u001b[0mreturn_estimator\u001b[0m\u001b[0;34m,\u001b[0m\u001b[0;34m\u001b[0m\u001b[0;34m\u001b[0m\u001b[0m\n\u001b[1;32m    247\u001b[0m             error_score=error_score)\n\u001b[0;32m--> 248\u001b[0;31m         for train, test in cv.split(X, y, groups))\n\u001b[0m\u001b[1;32m    249\u001b[0m \u001b[0;34m\u001b[0m\u001b[0m\n\u001b[1;32m    250\u001b[0m     \u001b[0mzipped_scores\u001b[0m \u001b[0;34m=\u001b[0m \u001b[0mlist\u001b[0m\u001b[0;34m(\u001b[0m\u001b[0mzip\u001b[0m\u001b[0;34m(\u001b[0m\u001b[0;34m*\u001b[0m\u001b[0mscores\u001b[0m\u001b[0;34m)\u001b[0m\u001b[0;34m)\u001b[0m\u001b[0;34m\u001b[0m\u001b[0;34m\u001b[0m\u001b[0m\n",
      "\u001b[0;32m~/opt/anaconda3/lib/python3.7/site-packages/joblib/parallel.py\u001b[0m in \u001b[0;36m__call__\u001b[0;34m(self, iterable)\u001b[0m\n\u001b[1;32m   1015\u001b[0m \u001b[0;34m\u001b[0m\u001b[0m\n\u001b[1;32m   1016\u001b[0m             \u001b[0;32mwith\u001b[0m \u001b[0mself\u001b[0m\u001b[0;34m.\u001b[0m\u001b[0m_backend\u001b[0m\u001b[0;34m.\u001b[0m\u001b[0mretrieval_context\u001b[0m\u001b[0;34m(\u001b[0m\u001b[0;34m)\u001b[0m\u001b[0;34m:\u001b[0m\u001b[0;34m\u001b[0m\u001b[0;34m\u001b[0m\u001b[0m\n\u001b[0;32m-> 1017\u001b[0;31m                 \u001b[0mself\u001b[0m\u001b[0;34m.\u001b[0m\u001b[0mretrieve\u001b[0m\u001b[0;34m(\u001b[0m\u001b[0;34m)\u001b[0m\u001b[0;34m\u001b[0m\u001b[0;34m\u001b[0m\u001b[0m\n\u001b[0m\u001b[1;32m   1018\u001b[0m             \u001b[0;31m# Make sure that we get a last message telling us we are done\u001b[0m\u001b[0;34m\u001b[0m\u001b[0;34m\u001b[0m\u001b[0;34m\u001b[0m\u001b[0m\n\u001b[1;32m   1019\u001b[0m             \u001b[0melapsed_time\u001b[0m \u001b[0;34m=\u001b[0m \u001b[0mtime\u001b[0m\u001b[0;34m.\u001b[0m\u001b[0mtime\u001b[0m\u001b[0;34m(\u001b[0m\u001b[0;34m)\u001b[0m \u001b[0;34m-\u001b[0m \u001b[0mself\u001b[0m\u001b[0;34m.\u001b[0m\u001b[0m_start_time\u001b[0m\u001b[0;34m\u001b[0m\u001b[0;34m\u001b[0m\u001b[0m\n",
      "\u001b[0;32m~/opt/anaconda3/lib/python3.7/site-packages/joblib/parallel.py\u001b[0m in \u001b[0;36mretrieve\u001b[0;34m(self)\u001b[0m\n\u001b[1;32m    907\u001b[0m             \u001b[0;32mtry\u001b[0m\u001b[0;34m:\u001b[0m\u001b[0;34m\u001b[0m\u001b[0;34m\u001b[0m\u001b[0m\n\u001b[1;32m    908\u001b[0m                 \u001b[0;32mif\u001b[0m \u001b[0mgetattr\u001b[0m\u001b[0;34m(\u001b[0m\u001b[0mself\u001b[0m\u001b[0;34m.\u001b[0m\u001b[0m_backend\u001b[0m\u001b[0;34m,\u001b[0m \u001b[0;34m'supports_timeout'\u001b[0m\u001b[0;34m,\u001b[0m \u001b[0;32mFalse\u001b[0m\u001b[0;34m)\u001b[0m\u001b[0;34m:\u001b[0m\u001b[0;34m\u001b[0m\u001b[0;34m\u001b[0m\u001b[0m\n\u001b[0;32m--> 909\u001b[0;31m                     \u001b[0mself\u001b[0m\u001b[0;34m.\u001b[0m\u001b[0m_output\u001b[0m\u001b[0;34m.\u001b[0m\u001b[0mextend\u001b[0m\u001b[0;34m(\u001b[0m\u001b[0mjob\u001b[0m\u001b[0;34m.\u001b[0m\u001b[0mget\u001b[0m\u001b[0;34m(\u001b[0m\u001b[0mtimeout\u001b[0m\u001b[0;34m=\u001b[0m\u001b[0mself\u001b[0m\u001b[0;34m.\u001b[0m\u001b[0mtimeout\u001b[0m\u001b[0;34m)\u001b[0m\u001b[0;34m)\u001b[0m\u001b[0;34m\u001b[0m\u001b[0;34m\u001b[0m\u001b[0m\n\u001b[0m\u001b[1;32m    910\u001b[0m                 \u001b[0;32melse\u001b[0m\u001b[0;34m:\u001b[0m\u001b[0;34m\u001b[0m\u001b[0;34m\u001b[0m\u001b[0m\n\u001b[1;32m    911\u001b[0m                     \u001b[0mself\u001b[0m\u001b[0;34m.\u001b[0m\u001b[0m_output\u001b[0m\u001b[0;34m.\u001b[0m\u001b[0mextend\u001b[0m\u001b[0;34m(\u001b[0m\u001b[0mjob\u001b[0m\u001b[0;34m.\u001b[0m\u001b[0mget\u001b[0m\u001b[0;34m(\u001b[0m\u001b[0;34m)\u001b[0m\u001b[0;34m)\u001b[0m\u001b[0;34m\u001b[0m\u001b[0;34m\u001b[0m\u001b[0m\n",
      "\u001b[0;32m~/opt/anaconda3/lib/python3.7/site-packages/joblib/_parallel_backends.py\u001b[0m in \u001b[0;36mwrap_future_result\u001b[0;34m(future, timeout)\u001b[0m\n\u001b[1;32m    560\u001b[0m         AsyncResults.get from multiprocessing.\"\"\"\n\u001b[1;32m    561\u001b[0m         \u001b[0;32mtry\u001b[0m\u001b[0;34m:\u001b[0m\u001b[0;34m\u001b[0m\u001b[0;34m\u001b[0m\u001b[0m\n\u001b[0;32m--> 562\u001b[0;31m             \u001b[0;32mreturn\u001b[0m \u001b[0mfuture\u001b[0m\u001b[0;34m.\u001b[0m\u001b[0mresult\u001b[0m\u001b[0;34m(\u001b[0m\u001b[0mtimeout\u001b[0m\u001b[0;34m=\u001b[0m\u001b[0mtimeout\u001b[0m\u001b[0;34m)\u001b[0m\u001b[0;34m\u001b[0m\u001b[0;34m\u001b[0m\u001b[0m\n\u001b[0m\u001b[1;32m    563\u001b[0m         \u001b[0;32mexcept\u001b[0m \u001b[0mLokyTimeoutError\u001b[0m\u001b[0;34m:\u001b[0m\u001b[0;34m\u001b[0m\u001b[0;34m\u001b[0m\u001b[0m\n\u001b[1;32m    564\u001b[0m             \u001b[0;32mraise\u001b[0m \u001b[0mTimeoutError\u001b[0m\u001b[0;34m(\u001b[0m\u001b[0;34m)\u001b[0m\u001b[0;34m\u001b[0m\u001b[0;34m\u001b[0m\u001b[0m\n",
      "\u001b[0;32m~/opt/anaconda3/lib/python3.7/concurrent/futures/_base.py\u001b[0m in \u001b[0;36mresult\u001b[0;34m(self, timeout)\u001b[0m\n\u001b[1;32m    428\u001b[0m                 \u001b[0;32mreturn\u001b[0m \u001b[0mself\u001b[0m\u001b[0;34m.\u001b[0m\u001b[0m__get_result\u001b[0m\u001b[0;34m(\u001b[0m\u001b[0;34m)\u001b[0m\u001b[0;34m\u001b[0m\u001b[0;34m\u001b[0m\u001b[0m\n\u001b[1;32m    429\u001b[0m \u001b[0;34m\u001b[0m\u001b[0m\n\u001b[0;32m--> 430\u001b[0;31m             \u001b[0mself\u001b[0m\u001b[0;34m.\u001b[0m\u001b[0m_condition\u001b[0m\u001b[0;34m.\u001b[0m\u001b[0mwait\u001b[0m\u001b[0;34m(\u001b[0m\u001b[0mtimeout\u001b[0m\u001b[0;34m)\u001b[0m\u001b[0;34m\u001b[0m\u001b[0;34m\u001b[0m\u001b[0m\n\u001b[0m\u001b[1;32m    431\u001b[0m \u001b[0;34m\u001b[0m\u001b[0m\n\u001b[1;32m    432\u001b[0m             \u001b[0;32mif\u001b[0m \u001b[0mself\u001b[0m\u001b[0;34m.\u001b[0m\u001b[0m_state\u001b[0m \u001b[0;32min\u001b[0m \u001b[0;34m[\u001b[0m\u001b[0mCANCELLED\u001b[0m\u001b[0;34m,\u001b[0m \u001b[0mCANCELLED_AND_NOTIFIED\u001b[0m\u001b[0;34m]\u001b[0m\u001b[0;34m:\u001b[0m\u001b[0;34m\u001b[0m\u001b[0;34m\u001b[0m\u001b[0m\n",
      "\u001b[0;32m~/opt/anaconda3/lib/python3.7/threading.py\u001b[0m in \u001b[0;36mwait\u001b[0;34m(self, timeout)\u001b[0m\n\u001b[1;32m    294\u001b[0m         \u001b[0;32mtry\u001b[0m\u001b[0;34m:\u001b[0m    \u001b[0;31m# restore state no matter what (e.g., KeyboardInterrupt)\u001b[0m\u001b[0;34m\u001b[0m\u001b[0;34m\u001b[0m\u001b[0m\n\u001b[1;32m    295\u001b[0m             \u001b[0;32mif\u001b[0m \u001b[0mtimeout\u001b[0m \u001b[0;32mis\u001b[0m \u001b[0;32mNone\u001b[0m\u001b[0;34m:\u001b[0m\u001b[0;34m\u001b[0m\u001b[0;34m\u001b[0m\u001b[0m\n\u001b[0;32m--> 296\u001b[0;31m                 \u001b[0mwaiter\u001b[0m\u001b[0;34m.\u001b[0m\u001b[0macquire\u001b[0m\u001b[0;34m(\u001b[0m\u001b[0;34m)\u001b[0m\u001b[0;34m\u001b[0m\u001b[0;34m\u001b[0m\u001b[0m\n\u001b[0m\u001b[1;32m    297\u001b[0m                 \u001b[0mgotit\u001b[0m \u001b[0;34m=\u001b[0m \u001b[0;32mTrue\u001b[0m\u001b[0;34m\u001b[0m\u001b[0;34m\u001b[0m\u001b[0m\n\u001b[1;32m    298\u001b[0m             \u001b[0;32melse\u001b[0m\u001b[0;34m:\u001b[0m\u001b[0;34m\u001b[0m\u001b[0;34m\u001b[0m\u001b[0m\n",
      "\u001b[0;31mKeyboardInterrupt\u001b[0m: "
     ]
    }
   ],
   "source": [
    "# Define the parameter search space\n",
    "start = timeit.default_timer()\n",
    "# Define the parameter search space\n",
    "dval = {\n",
    "    \"n_estimators\": 100,\n",
    "    \"booster\": \"gbtree\",\n",
    "    \"lambda\": 1,\n",
    "    \"alpha\": 0,\n",
    "    \"eta\": 0.3,\n",
    "    \"subsample\": 1,\n",
    "    \"max_depth\": 6,\n",
    "    \"min_child_weight\": 1,\n",
    "    \"colsample_bytree\": 1,\n",
    "    \"colsample_bylevel\": 1,\n",
    "    \"n_jobs\": -1\n",
    "}\n",
    "# Fit the model to each dataset\n",
    "mlist = []\n",
    "mod = xgb.XGBRegressor(**dval)\n",
    "for i in range(num_datasets):\n",
    "    num_col = df_list[i].shape[1]\n",
    "    yvec = df_list[i].iloc[:,0:1].values.ravel()\n",
    "    rmse = cross_val_score(mod, df_list[i].iloc[:,1:num_col], yvec, scoring=\"neg_root_mean_squared_error\", \n",
    "                           cv=KFold(n_splits=3, shuffle=True, random_state=123), n_jobs=-1)\n",
    "    mlist.append(abs(rmse).mean())\n",
    "mlist\n",
    "stop = timeit.default_timer()"
   ]
  },
  {
   "cell_type": "code",
   "execution_count": null,
   "metadata": {},
   "outputs": [],
   "source": [
    "print(\"Time: \", stop-start)"
   ]
  },
  {
   "cell_type": "code",
   "execution_count": null,
   "metadata": {},
   "outputs": [],
   "source": [
    "sum(mlist)/len(mlist)"
   ]
  },
  {
   "cell_type": "markdown",
   "metadata": {},
   "source": []
  }
 ],
 "metadata": {
  "kernelspec": {
   "display_name": "Python 3",
   "language": "python",
   "name": "python3"
  },
  "language_info": {
   "codemirror_mode": {
    "name": "ipython",
    "version": 3
   },
   "file_extension": ".py",
   "mimetype": "text/x-python",
   "name": "python",
   "nbconvert_exporter": "python",
   "pygments_lexer": "ipython3",
   "version": "3.7.9"
  }
 },
 "nbformat": 4,
 "nbformat_minor": 4
}
